{
 "cells": [
  {
   "cell_type": "markdown",
   "id": "cafefe0a-af2d-4cdc-8059-9bfef23ad30a",
   "metadata": {},
   "source": [
    "# Exploration and Comparison of Transformers for Image Classification"
   ]
  },
  {
   "cell_type": "markdown",
   "id": "03456e77-a85d-4920-8857-80dacf12a3b5",
   "metadata": {},
   "source": [
    "Run this notebook to install all necessary packages for experiments."
   ]
  },
  {
   "cell_type": "markdown",
   "id": "8fcfa5a6-d7a8-4104-98e2-95a1d6f8cb2c",
   "metadata": {},
   "source": [
    "## Install required packages"
   ]
  },
  {
   "cell_type": "code",
   "execution_count": null,
   "id": "4efeda0f-8d2f-458d-bc6e-dcf960723423",
   "metadata": {},
   "outputs": [],
   "source": [
    "%pip install -r ../../requirements.txt"
   ]
  }
 ],
 "metadata": {
  "kernelspec": {
   "display_name": "Python 3 (ipykernel)",
   "language": "python",
   "name": "python3"
  },
  "language_info": {
   "codemirror_mode": {
    "name": "ipython",
    "version": 3
   },
   "file_extension": ".py",
   "mimetype": "text/x-python",
   "name": "python",
   "nbconvert_exporter": "python",
   "pygments_lexer": "ipython3",
   "version": "3.10.12"
  }
 },
 "nbformat": 4,
 "nbformat_minor": 5
}
