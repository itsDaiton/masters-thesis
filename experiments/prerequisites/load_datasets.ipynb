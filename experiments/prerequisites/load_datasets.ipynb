{
 "cells": [
  {
   "cell_type": "markdown",
   "id": "1f103252-be94-4e4a-a359-b804cc701a69",
   "metadata": {},
   "source": [
    "# Exploration and Comparison of Transformers for Image Classification"
   ]
  },
  {
   "cell_type": "markdown",
   "id": "1cf389f6-3eb8-4f32-ae60-4afd2b78db0f",
   "metadata": {},
   "source": [
    "Run this notebook to pre-load all the available datasets. Alternatively, you can run individual cells to download specific datasets."
   ]
  },
  {
   "cell_type": "markdown",
   "id": "43c66e8e-4f86-4ef0-a888-76848fa242fe",
   "metadata": {},
   "source": [
    "## Download datasets"
   ]
  },
  {
   "cell_type": "code",
   "execution_count": 2,
   "id": "4450e39d-d33f-4fa2-b161-8d6bef25093c",
   "metadata": {},
   "outputs": [],
   "source": [
    "from datasets import load_dataset"
   ]
  },
  {
   "cell_type": "markdown",
   "id": "0c2822a5-2e09-48e1-bc46-67e96781bc6b",
   "metadata": {},
   "source": [
    "### RESISC45"
   ]
  },
  {
   "cell_type": "code",
   "execution_count": 3,
   "id": "62d0308e-e623-4448-913c-2f1db5d96e33",
   "metadata": {},
   "outputs": [
    {
     "data": {
      "text/plain": [
       "DatasetDict({\n",
       "    train: Dataset({\n",
       "        features: ['image', 'label', 'image_id'],\n",
       "        num_rows: 18900\n",
       "    })\n",
       "    validation: Dataset({\n",
       "        features: ['image', 'label', 'image_id'],\n",
       "        num_rows: 6300\n",
       "    })\n",
       "    test: Dataset({\n",
       "        features: ['image', 'label', 'image_id'],\n",
       "        num_rows: 6300\n",
       "    })\n",
       "})"
      ]
     },
     "execution_count": 3,
     "metadata": {},
     "output_type": "execute_result"
    }
   ],
   "source": [
    "load_dataset('timm/resisc45')"
   ]
  },
  {
   "cell_type": "markdown",
   "id": "aa52822c-51c0-47ad-b9f3-db7f1e493392",
   "metadata": {},
   "source": [
    "### Food-101"
   ]
  },
  {
   "cell_type": "code",
   "execution_count": 4,
   "id": "9c158dce-3c20-4b0b-8528-1d108cf989d9",
   "metadata": {},
   "outputs": [
    {
     "data": {
      "text/plain": [
       "DatasetDict({\n",
       "    train: Dataset({\n",
       "        features: ['image', 'label'],\n",
       "        num_rows: 75750\n",
       "    })\n",
       "    validation: Dataset({\n",
       "        features: ['image', 'label'],\n",
       "        num_rows: 25250\n",
       "    })\n",
       "})"
      ]
     },
     "execution_count": 4,
     "metadata": {},
     "output_type": "execute_result"
    }
   ],
   "source": [
    "load_dataset('ethz/food101')"
   ]
  },
  {
   "cell_type": "markdown",
   "id": "bda047ee-0b22-4e73-80c0-20ce9a2c7970",
   "metadata": {},
   "source": [
    "### FER2013"
   ]
  },
  {
   "cell_type": "code",
   "execution_count": 5,
   "id": "e39a82d9-458a-4738-a6b2-d9d09db59378",
   "metadata": {},
   "outputs": [
    {
     "data": {
      "text/plain": [
       "DatasetDict({\n",
       "    train: Dataset({\n",
       "        features: ['label', 'image'],\n",
       "        num_rows: 28709\n",
       "    })\n",
       "    valid: Dataset({\n",
       "        features: ['label', 'image'],\n",
       "        num_rows: 3589\n",
       "    })\n",
       "    test: Dataset({\n",
       "        features: ['label', 'image'],\n",
       "        num_rows: 3589\n",
       "    })\n",
       "})"
      ]
     },
     "execution_count": 5,
     "metadata": {},
     "output_type": "execute_result"
    }
   ],
   "source": [
    "load_dataset('AutumnQiu/fer2013')"
   ]
  },
  {
   "cell_type": "markdown",
   "id": "96fd0618-c849-43d5-b771-12da84c3817d",
   "metadata": {},
   "source": [
    "### PatchCamelyon"
   ]
  },
  {
   "cell_type": "code",
   "execution_count": 6,
   "id": "d243c3b7-979d-4a94-9fd9-211e93afee4e",
   "metadata": {},
   "outputs": [
    {
     "data": {
      "text/plain": [
       "DatasetDict({\n",
       "    train: Dataset({\n",
       "        features: ['image', 'label'],\n",
       "        num_rows: 262144\n",
       "    })\n",
       "    validation: Dataset({\n",
       "        features: ['image', 'label'],\n",
       "        num_rows: 32768\n",
       "    })\n",
       "    test: Dataset({\n",
       "        features: ['image', 'label'],\n",
       "        num_rows: 32768\n",
       "    })\n",
       "})"
      ]
     },
     "execution_count": 6,
     "metadata": {},
     "output_type": "execute_result"
    }
   ],
   "source": [
    "load_dataset('zacharielegault/PatchCamelyon')"
   ]
  },
  {
   "cell_type": "markdown",
   "id": "53dcaff5-3a4f-457a-a8b6-f103cb0dde43",
   "metadata": {},
   "source": [
    "### SUN397"
   ]
  },
  {
   "cell_type": "code",
   "execution_count": 7,
   "id": "e63b7360-c7d5-4f5a-831d-205bdc505981",
   "metadata": {},
   "outputs": [
    {
     "data": {
      "text/plain": [
       "DatasetDict({\n",
       "    train: Dataset({\n",
       "        features: ['image', 'label'],\n",
       "        num_rows: 76127\n",
       "    })\n",
       "    test: Dataset({\n",
       "        features: ['image', 'label'],\n",
       "        num_rows: 21750\n",
       "    })\n",
       "    validation: Dataset({\n",
       "        features: ['image', 'label'],\n",
       "        num_rows: 10875\n",
       "    })\n",
       "})"
      ]
     },
     "execution_count": 7,
     "metadata": {},
     "output_type": "execute_result"
    }
   ],
   "source": [
    "load_dataset('dpdl-benchmark/sun397')"
   ]
  },
  {
   "cell_type": "markdown",
   "id": "9a54dcc6-126d-4c50-abe4-59b494855186",
   "metadata": {},
   "source": [
    "### DTD"
   ]
  },
  {
   "cell_type": "code",
   "execution_count": 8,
   "id": "61e6da7d-5f62-4f15-b359-5aa5cf9ff794",
   "metadata": {},
   "outputs": [
    {
     "data": {
      "text/plain": [
       "DatasetDict({\n",
       "    train: Dataset({\n",
       "        features: ['image', 'label'],\n",
       "        num_rows: 3760\n",
       "    })\n",
       "    test: Dataset({\n",
       "        features: ['image', 'label'],\n",
       "        num_rows: 1880\n",
       "    })\n",
       "})"
      ]
     },
     "execution_count": 8,
     "metadata": {},
     "output_type": "execute_result"
    }
   ],
   "source": [
    "load_dataset('tanganke/dtd')"
   ]
  }
 ],
 "metadata": {
  "kernelspec": {
   "display_name": "Python 3 (ipykernel)",
   "language": "python",
   "name": "python3"
  },
  "language_info": {
   "codemirror_mode": {
    "name": "ipython",
    "version": 3
   },
   "file_extension": ".py",
   "mimetype": "text/x-python",
   "name": "python",
   "nbconvert_exporter": "python",
   "pygments_lexer": "ipython3",
   "version": "3.10.12"
  }
 },
 "nbformat": 4,
 "nbformat_minor": 5
}
