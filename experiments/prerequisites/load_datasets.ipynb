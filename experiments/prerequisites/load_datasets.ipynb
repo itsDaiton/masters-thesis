{
 "cells": [
  {
   "cell_type": "markdown",
   "id": "1f103252-be94-4e4a-a359-b804cc701a69",
   "metadata": {},
   "source": [
    "# Exploration and Comparison of Transformers for Image Classification"
   ]
  },
  {
   "cell_type": "markdown",
   "id": "1cf389f6-3eb8-4f32-ae60-4afd2b78db0f",
   "metadata": {},
   "source": [
    "Run this notebook to pre-load all the available datasets. Alternatively, you can run individual cells to download specific datasets."
   ]
  },
  {
   "cell_type": "markdown",
   "id": "43c66e8e-4f86-4ef0-a888-76848fa242fe",
   "metadata": {},
   "source": [
    "## Download datasets"
   ]
  },
  {
   "cell_type": "code",
   "execution_count": 1,
   "id": "4450e39d-d33f-4fa2-b161-8d6bef25093c",
   "metadata": {},
   "outputs": [],
   "source": [
    "from datasets import load_dataset, concatenate_datasets"
   ]
  },
  {
   "cell_type": "markdown",
   "id": "0c2822a5-2e09-48e1-bc46-67e96781bc6b",
   "metadata": {},
   "source": [
    "### RESISC45"
   ]
  },
  {
   "cell_type": "code",
   "execution_count": 2,
   "id": "62d0308e-e623-4448-913c-2f1db5d96e33",
   "metadata": {},
   "outputs": [
    {
     "data": {
      "application/vnd.jupyter.widget-view+json": {
       "model_id": "da202009f96d42479b6220b55a4b6834",
       "version_major": 2,
       "version_minor": 0
      },
      "text/plain": [
       "README.md:   0%|          | 0.00/3.11k [00:00<?, ?B/s]"
      ]
     },
     "metadata": {},
     "output_type": "display_data"
    },
    {
     "data": {
      "application/vnd.jupyter.widget-view+json": {
       "model_id": "ea5a9e2e07f0433c95ff5b87b38bd402",
       "version_major": 2,
       "version_minor": 0
      },
      "text/plain": [
       "train-00000-of-00001.parquet:   0%|          | 0.00/255M [00:00<?, ?B/s]"
      ]
     },
     "metadata": {},
     "output_type": "display_data"
    },
    {
     "data": {
      "application/vnd.jupyter.widget-view+json": {
       "model_id": "328c8c6f9e5f4767871d66e8e71c2737",
       "version_major": 2,
       "version_minor": 0
      },
      "text/plain": [
       "validation-00000-of-00001.parquet:   0%|          | 0.00/85.1M [00:00<?, ?B/s]"
      ]
     },
     "metadata": {},
     "output_type": "display_data"
    },
    {
     "data": {
      "application/vnd.jupyter.widget-view+json": {
       "model_id": "0de91b445c2e4dd299508dee685e8336",
       "version_major": 2,
       "version_minor": 0
      },
      "text/plain": [
       "test-00000-of-00001.parquet:   0%|          | 0.00/85.2M [00:00<?, ?B/s]"
      ]
     },
     "metadata": {},
     "output_type": "display_data"
    },
    {
     "data": {
      "application/vnd.jupyter.widget-view+json": {
       "model_id": "d7e50d14d7a043efbe94f85eb3812998",
       "version_major": 2,
       "version_minor": 0
      },
      "text/plain": [
       "Generating train split:   0%|          | 0/18900 [00:00<?, ? examples/s]"
      ]
     },
     "metadata": {},
     "output_type": "display_data"
    },
    {
     "data": {
      "application/vnd.jupyter.widget-view+json": {
       "model_id": "50ca9c68ac464d9bb01b5bdb00540c87",
       "version_major": 2,
       "version_minor": 0
      },
      "text/plain": [
       "Generating validation split:   0%|          | 0/6300 [00:00<?, ? examples/s]"
      ]
     },
     "metadata": {},
     "output_type": "display_data"
    },
    {
     "data": {
      "application/vnd.jupyter.widget-view+json": {
       "model_id": "5e155203fd6a441ca5e228004ae8eaf1",
       "version_major": 2,
       "version_minor": 0
      },
      "text/plain": [
       "Generating test split:   0%|          | 0/6300 [00:00<?, ? examples/s]"
      ]
     },
     "metadata": {},
     "output_type": "display_data"
    }
   ],
   "source": [
    "load_dataset('timm/resisc45');"
   ]
  },
  {
   "cell_type": "markdown",
   "id": "aa52822c-51c0-47ad-b9f3-db7f1e493392",
   "metadata": {},
   "source": [
    "### Food-101"
   ]
  },
  {
   "cell_type": "code",
   "execution_count": 3,
   "id": "9c158dce-3c20-4b0b-8528-1d108cf989d9",
   "metadata": {},
   "outputs": [
    {
     "data": {
      "application/vnd.jupyter.widget-view+json": {
       "model_id": "698325094cbe42ac818538018524f4f1",
       "version_major": 2,
       "version_minor": 0
      },
      "text/plain": [
       "README.md:   0%|          | 0.00/10.5k [00:00<?, ?B/s]"
      ]
     },
     "metadata": {},
     "output_type": "display_data"
    },
    {
     "data": {
      "application/vnd.jupyter.widget-view+json": {
       "model_id": "813020e1f6344f57822b394b249e88d9",
       "version_major": 2,
       "version_minor": 0
      },
      "text/plain": [
       "train-00000-of-00008.parquet:   0%|          | 0.00/490M [00:00<?, ?B/s]"
      ]
     },
     "metadata": {},
     "output_type": "display_data"
    },
    {
     "data": {
      "application/vnd.jupyter.widget-view+json": {
       "model_id": "20a94b5f596f4ab3ab970ae839193eb8",
       "version_major": 2,
       "version_minor": 0
      },
      "text/plain": [
       "train-00001-of-00008.parquet:   0%|          | 0.00/464M [00:00<?, ?B/s]"
      ]
     },
     "metadata": {},
     "output_type": "display_data"
    },
    {
     "data": {
      "application/vnd.jupyter.widget-view+json": {
       "model_id": "42d4cd640cd4482bba1cb1cdebd8508a",
       "version_major": 2,
       "version_minor": 0
      },
      "text/plain": [
       "train-00002-of-00008.parquet:   0%|          | 0.00/472M [00:00<?, ?B/s]"
      ]
     },
     "metadata": {},
     "output_type": "display_data"
    },
    {
     "data": {
      "application/vnd.jupyter.widget-view+json": {
       "model_id": "fd5da901e7f84d1c8afcb569853fd2bf",
       "version_major": 2,
       "version_minor": 0
      },
      "text/plain": [
       "train-00003-of-00008.parquet:   0%|          | 0.00/464M [00:00<?, ?B/s]"
      ]
     },
     "metadata": {},
     "output_type": "display_data"
    },
    {
     "data": {
      "application/vnd.jupyter.widget-view+json": {
       "model_id": "4a493028c9714d43be066016d42116ec",
       "version_major": 2,
       "version_minor": 0
      },
      "text/plain": [
       "train-00004-of-00008.parquet:   0%|          | 0.00/475M [00:00<?, ?B/s]"
      ]
     },
     "metadata": {},
     "output_type": "display_data"
    },
    {
     "data": {
      "application/vnd.jupyter.widget-view+json": {
       "model_id": "5d03e20195c04a03b0c7bf17fadb05a4",
       "version_major": 2,
       "version_minor": 0
      },
      "text/plain": [
       "train-00005-of-00008.parquet:   0%|          | 0.00/470M [00:00<?, ?B/s]"
      ]
     },
     "metadata": {},
     "output_type": "display_data"
    },
    {
     "data": {
      "application/vnd.jupyter.widget-view+json": {
       "model_id": "f32e1b2af5624a39b793e750ce75f16d",
       "version_major": 2,
       "version_minor": 0
      },
      "text/plain": [
       "train-00006-of-00008.parquet:   0%|          | 0.00/478M [00:00<?, ?B/s]"
      ]
     },
     "metadata": {},
     "output_type": "display_data"
    },
    {
     "data": {
      "application/vnd.jupyter.widget-view+json": {
       "model_id": "7c70f6e83c204f02834dde89db05bdb1",
       "version_major": 2,
       "version_minor": 0
      },
      "text/plain": [
       "train-00007-of-00008.parquet:   0%|          | 0.00/486M [00:00<?, ?B/s]"
      ]
     },
     "metadata": {},
     "output_type": "display_data"
    },
    {
     "data": {
      "application/vnd.jupyter.widget-view+json": {
       "model_id": "8ab6eedec7b043beb889091ab774a4bb",
       "version_major": 2,
       "version_minor": 0
      },
      "text/plain": [
       "validation-00000-of-00003.parquet:   0%|          | 0.00/423M [00:00<?, ?B/s]"
      ]
     },
     "metadata": {},
     "output_type": "display_data"
    },
    {
     "data": {
      "application/vnd.jupyter.widget-view+json": {
       "model_id": "920839d386bf40dfa5d38631fca9425e",
       "version_major": 2,
       "version_minor": 0
      },
      "text/plain": [
       "validation-00001-of-00003.parquet:   0%|          | 0.00/413M [00:00<?, ?B/s]"
      ]
     },
     "metadata": {},
     "output_type": "display_data"
    },
    {
     "data": {
      "application/vnd.jupyter.widget-view+json": {
       "model_id": "5ddc0daff0dc49f1ab1055314901d1d1",
       "version_major": 2,
       "version_minor": 0
      },
      "text/plain": [
       "validation-00002-of-00003.parquet:   0%|          | 0.00/426M [00:00<?, ?B/s]"
      ]
     },
     "metadata": {},
     "output_type": "display_data"
    },
    {
     "data": {
      "application/vnd.jupyter.widget-view+json": {
       "model_id": "2eba028fb57543319ee4f8f61da46738",
       "version_major": 2,
       "version_minor": 0
      },
      "text/plain": [
       "Generating train split:   0%|          | 0/75750 [00:00<?, ? examples/s]"
      ]
     },
     "metadata": {},
     "output_type": "display_data"
    },
    {
     "data": {
      "application/vnd.jupyter.widget-view+json": {
       "model_id": "b8669c04f91840d5b8f01bd51cdcec15",
       "version_major": 2,
       "version_minor": 0
      },
      "text/plain": [
       "Generating validation split:   0%|          | 0/25250 [00:00<?, ? examples/s]"
      ]
     },
     "metadata": {},
     "output_type": "display_data"
    }
   ],
   "source": [
    "load_dataset('ethz/food101');"
   ]
  },
  {
   "cell_type": "markdown",
   "id": "bda047ee-0b22-4e73-80c0-20ce9a2c7970",
   "metadata": {},
   "source": [
    "### FER2013"
   ]
  },
  {
   "cell_type": "code",
   "execution_count": 4,
   "id": "e39a82d9-458a-4738-a6b2-d9d09db59378",
   "metadata": {},
   "outputs": [
    {
     "data": {
      "application/vnd.jupyter.widget-view+json": {
       "model_id": "ccd8592edb9f497eaafb3d875b5a632f",
       "version_major": 2,
       "version_minor": 0
      },
      "text/plain": [
       "README.md:   0%|          | 0.00/712 [00:00<?, ?B/s]"
      ]
     },
     "metadata": {},
     "output_type": "display_data"
    },
    {
     "data": {
      "application/vnd.jupyter.widget-view+json": {
       "model_id": "22c5b0cd5773445598ff27c562990276",
       "version_major": 2,
       "version_minor": 0
      },
      "text/plain": [
       "train-00000-of-00001.parquet:   0%|          | 0.00/109M [00:00<?, ?B/s]"
      ]
     },
     "metadata": {},
     "output_type": "display_data"
    },
    {
     "data": {
      "application/vnd.jupyter.widget-view+json": {
       "model_id": "b50431f9e050456e8d1aa277b171e1fb",
       "version_major": 2,
       "version_minor": 0
      },
      "text/plain": [
       "valid-00000-of-00001.parquet:   0%|          | 0.00/13.6M [00:00<?, ?B/s]"
      ]
     },
     "metadata": {},
     "output_type": "display_data"
    },
    {
     "data": {
      "application/vnd.jupyter.widget-view+json": {
       "model_id": "3189a44b1ed244b8b868d9b325554726",
       "version_major": 2,
       "version_minor": 0
      },
      "text/plain": [
       "test-00000-of-00001.parquet:   0%|          | 0.00/13.6M [00:00<?, ?B/s]"
      ]
     },
     "metadata": {},
     "output_type": "display_data"
    },
    {
     "data": {
      "application/vnd.jupyter.widget-view+json": {
       "model_id": "fa03bc99cd2b471e84cef2d0d586de90",
       "version_major": 2,
       "version_minor": 0
      },
      "text/plain": [
       "Generating train split:   0%|          | 0/28709 [00:00<?, ? examples/s]"
      ]
     },
     "metadata": {},
     "output_type": "display_data"
    },
    {
     "data": {
      "application/vnd.jupyter.widget-view+json": {
       "model_id": "f5e7e7327f0741bb8900a11e7b439306",
       "version_major": 2,
       "version_minor": 0
      },
      "text/plain": [
       "Generating valid split:   0%|          | 0/3589 [00:00<?, ? examples/s]"
      ]
     },
     "metadata": {},
     "output_type": "display_data"
    },
    {
     "data": {
      "application/vnd.jupyter.widget-view+json": {
       "model_id": "65a5f361b3d845cdb3a325191cd598ea",
       "version_major": 2,
       "version_minor": 0
      },
      "text/plain": [
       "Generating test split:   0%|          | 0/3589 [00:00<?, ? examples/s]"
      ]
     },
     "metadata": {},
     "output_type": "display_data"
    }
   ],
   "source": [
    "load_dataset('AutumnQiu/fer2013');"
   ]
  },
  {
   "cell_type": "markdown",
   "id": "96fd0618-c849-43d5-b771-12da84c3817d",
   "metadata": {},
   "source": [
    "### PatchCamelyon"
   ]
  },
  {
   "cell_type": "code",
   "execution_count": 5,
   "id": "d243c3b7-979d-4a94-9fd9-211e93afee4e",
   "metadata": {},
   "outputs": [
    {
     "data": {
      "application/vnd.jupyter.widget-view+json": {
       "model_id": "7f6b73cf4b2b451c9d0ef408c7506c35",
       "version_major": 2,
       "version_minor": 0
      },
      "text/plain": [
       "README.md:   0%|          | 0.00/1.92k [00:00<?, ?B/s]"
      ]
     },
     "metadata": {},
     "output_type": "display_data"
    },
    {
     "data": {
      "application/vnd.jupyter.widget-view+json": {
       "model_id": "19ab36ad3579441c8e59056653710a48",
       "version_major": 2,
       "version_minor": 0
      },
      "text/plain": [
       "train-00000-of-00003.parquet:   0%|          | 0.00/356M [00:00<?, ?B/s]"
      ]
     },
     "metadata": {},
     "output_type": "display_data"
    },
    {
     "data": {
      "application/vnd.jupyter.widget-view+json": {
       "model_id": "2a5f047aeed64a68ac509994b4d7632a",
       "version_major": 2,
       "version_minor": 0
      },
      "text/plain": [
       "train-00001-of-00003.parquet:   0%|          | 0.00/370M [00:00<?, ?B/s]"
      ]
     },
     "metadata": {},
     "output_type": "display_data"
    },
    {
     "data": {
      "application/vnd.jupyter.widget-view+json": {
       "model_id": "fda545e2ce674f73bced8fb652049717",
       "version_major": 2,
       "version_minor": 0
      },
      "text/plain": [
       "train-00002-of-00003.parquet:   0%|          | 0.00/385M [00:00<?, ?B/s]"
      ]
     },
     "metadata": {},
     "output_type": "display_data"
    },
    {
     "data": {
      "application/vnd.jupyter.widget-view+json": {
       "model_id": "35cb9dd65e4642abb082b58f37b60c93",
       "version_major": 2,
       "version_minor": 0
      },
      "text/plain": [
       "validation-00000-of-00001.parquet:   0%|          | 0.00/140M [00:00<?, ?B/s]"
      ]
     },
     "metadata": {},
     "output_type": "display_data"
    },
    {
     "data": {
      "application/vnd.jupyter.widget-view+json": {
       "model_id": "372c679838124e149dd17184cf9849a0",
       "version_major": 2,
       "version_minor": 0
      },
      "text/plain": [
       "test-00000-of-00001.parquet:   0%|          | 0.00/136M [00:00<?, ?B/s]"
      ]
     },
     "metadata": {},
     "output_type": "display_data"
    },
    {
     "data": {
      "application/vnd.jupyter.widget-view+json": {
       "model_id": "867e3f3d3390494da2909839310bb236",
       "version_major": 2,
       "version_minor": 0
      },
      "text/plain": [
       "Generating train split:   0%|          | 0/262144 [00:00<?, ? examples/s]"
      ]
     },
     "metadata": {},
     "output_type": "display_data"
    },
    {
     "data": {
      "application/vnd.jupyter.widget-view+json": {
       "model_id": "032e537bbad4435d83a3d5595ee10eb4",
       "version_major": 2,
       "version_minor": 0
      },
      "text/plain": [
       "Generating validation split:   0%|          | 0/32768 [00:00<?, ? examples/s]"
      ]
     },
     "metadata": {},
     "output_type": "display_data"
    },
    {
     "data": {
      "application/vnd.jupyter.widget-view+json": {
       "model_id": "6f6579e3e2204055aba4fcf08392547d",
       "version_major": 2,
       "version_minor": 0
      },
      "text/plain": [
       "Generating test split:   0%|          | 0/32768 [00:00<?, ? examples/s]"
      ]
     },
     "metadata": {},
     "output_type": "display_data"
    }
   ],
   "source": [
    "load_dataset('zacharielegault/PatchCamelyon');"
   ]
  },
  {
   "cell_type": "markdown",
   "id": "53dcaff5-3a4f-457a-a8b6-f103cb0dde43",
   "metadata": {},
   "source": [
    "### SUN397"
   ]
  },
  {
   "cell_type": "code",
   "execution_count": 6,
   "id": "e63b7360-c7d5-4f5a-831d-205bdc505981",
   "metadata": {},
   "outputs": [
    {
     "data": {
      "application/vnd.jupyter.widget-view+json": {
       "model_id": "8d2bc943ded7452ca5250de0c91d8aa2",
       "version_major": 2,
       "version_minor": 0
      },
      "text/plain": [
       "README.md:   0%|          | 0.00/13.5k [00:00<?, ?B/s]"
      ]
     },
     "metadata": {},
     "output_type": "display_data"
    },
    {
     "data": {
      "application/vnd.jupyter.widget-view+json": {
       "model_id": "05841ac7784744a9954febc7f6e75fe9",
       "version_major": 2,
       "version_minor": 0
      },
      "text/plain": [
       "Resolving data files:   0%|          | 0/28 [00:00<?, ?it/s]"
      ]
     },
     "metadata": {},
     "output_type": "display_data"
    },
    {
     "data": {
      "application/vnd.jupyter.widget-view+json": {
       "model_id": "0e6486b089e1401288f85bd450a7bd07",
       "version_major": 2,
       "version_minor": 0
      },
      "text/plain": [
       "Resolving data files:   0%|          | 0/28 [00:00<?, ?it/s]"
      ]
     },
     "metadata": {},
     "output_type": "display_data"
    },
    {
     "data": {
      "application/vnd.jupyter.widget-view+json": {
       "model_id": "5df9ac7c5ef64b65b76cb8adbbd27afd",
       "version_major": 2,
       "version_minor": 0
      },
      "text/plain": [
       "Downloading data:   0%|          | 0/28 [00:00<?, ?files/s]"
      ]
     },
     "metadata": {},
     "output_type": "display_data"
    },
    {
     "data": {
      "application/vnd.jupyter.widget-view+json": {
       "model_id": "bc61afc3d58e4da78eb3ac130263453b",
       "version_major": 2,
       "version_minor": 0
      },
      "text/plain": [
       "train-00000-of-00028.parquet:   0%|          | 0.00/485M [00:00<?, ?B/s]"
      ]
     },
     "metadata": {},
     "output_type": "display_data"
    },
    {
     "data": {
      "application/vnd.jupyter.widget-view+json": {
       "model_id": "442714c81fdc482f82e659ce157aa010",
       "version_major": 2,
       "version_minor": 0
      },
      "text/plain": [
       "train-00001-of-00028.parquet:   0%|          | 0.00/485M [00:00<?, ?B/s]"
      ]
     },
     "metadata": {},
     "output_type": "display_data"
    },
    {
     "data": {
      "application/vnd.jupyter.widget-view+json": {
       "model_id": "92d63d99c4ea49a6969625f467686f98",
       "version_major": 2,
       "version_minor": 0
      },
      "text/plain": [
       "train-00002-of-00028.parquet:   0%|          | 0.00/483M [00:00<?, ?B/s]"
      ]
     },
     "metadata": {},
     "output_type": "display_data"
    },
    {
     "data": {
      "application/vnd.jupyter.widget-view+json": {
       "model_id": "de9a7ef931e74b3aab83ae6034e40841",
       "version_major": 2,
       "version_minor": 0
      },
      "text/plain": [
       "train-00003-of-00028.parquet:   0%|          | 0.00/486M [00:00<?, ?B/s]"
      ]
     },
     "metadata": {},
     "output_type": "display_data"
    },
    {
     "data": {
      "application/vnd.jupyter.widget-view+json": {
       "model_id": "afc8ff9311264a5a9774a99f4c51d947",
       "version_major": 2,
       "version_minor": 0
      },
      "text/plain": [
       "train-00004-of-00028.parquet:   0%|          | 0.00/485M [00:00<?, ?B/s]"
      ]
     },
     "metadata": {},
     "output_type": "display_data"
    },
    {
     "data": {
      "application/vnd.jupyter.widget-view+json": {
       "model_id": "ba62931eb8754f6c9c9effe43eb16232",
       "version_major": 2,
       "version_minor": 0
      },
      "text/plain": [
       "train-00005-of-00028.parquet:   0%|          | 0.00/493M [00:00<?, ?B/s]"
      ]
     },
     "metadata": {},
     "output_type": "display_data"
    },
    {
     "data": {
      "application/vnd.jupyter.widget-view+json": {
       "model_id": "75ec77a69ff94d52ac37e029a3aca48b",
       "version_major": 2,
       "version_minor": 0
      },
      "text/plain": [
       "train-00006-of-00028.parquet:   0%|          | 0.00/484M [00:00<?, ?B/s]"
      ]
     },
     "metadata": {},
     "output_type": "display_data"
    },
    {
     "data": {
      "application/vnd.jupyter.widget-view+json": {
       "model_id": "6bd2694f770c4ab7b42d564ea73c917b",
       "version_major": 2,
       "version_minor": 0
      },
      "text/plain": [
       "train-00007-of-00028.parquet:   0%|          | 0.00/487M [00:00<?, ?B/s]"
      ]
     },
     "metadata": {},
     "output_type": "display_data"
    },
    {
     "data": {
      "application/vnd.jupyter.widget-view+json": {
       "model_id": "475572eafe83456a98c46bf7e200cef4",
       "version_major": 2,
       "version_minor": 0
      },
      "text/plain": [
       "train-00008-of-00028.parquet:   0%|          | 0.00/491M [00:00<?, ?B/s]"
      ]
     },
     "metadata": {},
     "output_type": "display_data"
    },
    {
     "data": {
      "application/vnd.jupyter.widget-view+json": {
       "model_id": "4a51f8cecbca4eac9442787170fe6ce1",
       "version_major": 2,
       "version_minor": 0
      },
      "text/plain": [
       "train-00009-of-00028.parquet:   0%|          | 0.00/490M [00:00<?, ?B/s]"
      ]
     },
     "metadata": {},
     "output_type": "display_data"
    },
    {
     "data": {
      "application/vnd.jupyter.widget-view+json": {
       "model_id": "1685a5000aa14e8dae20dbda069e5a1c",
       "version_major": 2,
       "version_minor": 0
      },
      "text/plain": [
       "train-00010-of-00028.parquet:   0%|          | 0.00/485M [00:00<?, ?B/s]"
      ]
     },
     "metadata": {},
     "output_type": "display_data"
    },
    {
     "data": {
      "application/vnd.jupyter.widget-view+json": {
       "model_id": "8eb4cd74d2334a4f9ecb3a81c8738eed",
       "version_major": 2,
       "version_minor": 0
      },
      "text/plain": [
       "train-00011-of-00028.parquet:   0%|          | 0.00/489M [00:00<?, ?B/s]"
      ]
     },
     "metadata": {},
     "output_type": "display_data"
    },
    {
     "data": {
      "application/vnd.jupyter.widget-view+json": {
       "model_id": "b62bcaa255b9486a817afa1dc09e58ab",
       "version_major": 2,
       "version_minor": 0
      },
      "text/plain": [
       "train-00012-of-00028.parquet:   0%|          | 0.00/488M [00:00<?, ?B/s]"
      ]
     },
     "metadata": {},
     "output_type": "display_data"
    },
    {
     "data": {
      "application/vnd.jupyter.widget-view+json": {
       "model_id": "2908d10be4ee41899b4806641cc54c5f",
       "version_major": 2,
       "version_minor": 0
      },
      "text/plain": [
       "train-00013-of-00028.parquet:   0%|          | 0.00/487M [00:00<?, ?B/s]"
      ]
     },
     "metadata": {},
     "output_type": "display_data"
    },
    {
     "data": {
      "application/vnd.jupyter.widget-view+json": {
       "model_id": "8bd0535b2d9a485b8e27598de365b799",
       "version_major": 2,
       "version_minor": 0
      },
      "text/plain": [
       "train-00014-of-00028.parquet:   0%|          | 0.00/492M [00:00<?, ?B/s]"
      ]
     },
     "metadata": {},
     "output_type": "display_data"
    },
    {
     "data": {
      "application/vnd.jupyter.widget-view+json": {
       "model_id": "3e2b611a18d74b41815ce7d954fa9343",
       "version_major": 2,
       "version_minor": 0
      },
      "text/plain": [
       "train-00015-of-00028.parquet:   0%|          | 0.00/488M [00:00<?, ?B/s]"
      ]
     },
     "metadata": {},
     "output_type": "display_data"
    },
    {
     "data": {
      "application/vnd.jupyter.widget-view+json": {
       "model_id": "8370118e305848048dab7d684627bdb5",
       "version_major": 2,
       "version_minor": 0
      },
      "text/plain": [
       "train-00016-of-00028.parquet:   0%|          | 0.00/484M [00:00<?, ?B/s]"
      ]
     },
     "metadata": {},
     "output_type": "display_data"
    },
    {
     "data": {
      "application/vnd.jupyter.widget-view+json": {
       "model_id": "9af7d44f90ad40179717f81db10d9ff5",
       "version_major": 2,
       "version_minor": 0
      },
      "text/plain": [
       "train-00017-of-00028.parquet:   0%|          | 0.00/487M [00:00<?, ?B/s]"
      ]
     },
     "metadata": {},
     "output_type": "display_data"
    },
    {
     "data": {
      "application/vnd.jupyter.widget-view+json": {
       "model_id": "b7d5b56661b949a19296944434418697",
       "version_major": 2,
       "version_minor": 0
      },
      "text/plain": [
       "train-00018-of-00028.parquet:   0%|          | 0.00/486M [00:00<?, ?B/s]"
      ]
     },
     "metadata": {},
     "output_type": "display_data"
    },
    {
     "data": {
      "application/vnd.jupyter.widget-view+json": {
       "model_id": "5d87a41f8b784554a477d68fb28f3f32",
       "version_major": 2,
       "version_minor": 0
      },
      "text/plain": [
       "train-00019-of-00028.parquet:   0%|          | 0.00/493M [00:00<?, ?B/s]"
      ]
     },
     "metadata": {},
     "output_type": "display_data"
    },
    {
     "data": {
      "application/vnd.jupyter.widget-view+json": {
       "model_id": "06bdfdff61734525a96d087f5079e37a",
       "version_major": 2,
       "version_minor": 0
      },
      "text/plain": [
       "train-00020-of-00028.parquet:   0%|          | 0.00/489M [00:00<?, ?B/s]"
      ]
     },
     "metadata": {},
     "output_type": "display_data"
    },
    {
     "data": {
      "application/vnd.jupyter.widget-view+json": {
       "model_id": "b8ab7c048e744efcbc7416e93d759f36",
       "version_major": 2,
       "version_minor": 0
      },
      "text/plain": [
       "train-00021-of-00028.parquet:   0%|          | 0.00/487M [00:00<?, ?B/s]"
      ]
     },
     "metadata": {},
     "output_type": "display_data"
    },
    {
     "data": {
      "application/vnd.jupyter.widget-view+json": {
       "model_id": "a5ea6e759d014171bf256a74cf2cb0a0",
       "version_major": 2,
       "version_minor": 0
      },
      "text/plain": [
       "train-00022-of-00028.parquet:   0%|          | 0.00/482M [00:00<?, ?B/s]"
      ]
     },
     "metadata": {},
     "output_type": "display_data"
    },
    {
     "data": {
      "application/vnd.jupyter.widget-view+json": {
       "model_id": "01049711c2d24439bc91412055cc23df",
       "version_major": 2,
       "version_minor": 0
      },
      "text/plain": [
       "train-00023-of-00028.parquet:   0%|          | 0.00/491M [00:00<?, ?B/s]"
      ]
     },
     "metadata": {},
     "output_type": "display_data"
    },
    {
     "data": {
      "application/vnd.jupyter.widget-view+json": {
       "model_id": "4aaf3e8f2de6464781213b3ad05889dd",
       "version_major": 2,
       "version_minor": 0
      },
      "text/plain": [
       "train-00024-of-00028.parquet:   0%|          | 0.00/485M [00:00<?, ?B/s]"
      ]
     },
     "metadata": {},
     "output_type": "display_data"
    },
    {
     "data": {
      "application/vnd.jupyter.widget-view+json": {
       "model_id": "c6b91f68baa2401087fa8207956ec7c5",
       "version_major": 2,
       "version_minor": 0
      },
      "text/plain": [
       "train-00025-of-00028.parquet:   0%|          | 0.00/486M [00:00<?, ?B/s]"
      ]
     },
     "metadata": {},
     "output_type": "display_data"
    },
    {
     "data": {
      "application/vnd.jupyter.widget-view+json": {
       "model_id": "6c59e2da7fd44298a98c9c166315b7c6",
       "version_major": 2,
       "version_minor": 0
      },
      "text/plain": [
       "train-00026-of-00028.parquet:   0%|          | 0.00/491M [00:00<?, ?B/s]"
      ]
     },
     "metadata": {},
     "output_type": "display_data"
    },
    {
     "data": {
      "application/vnd.jupyter.widget-view+json": {
       "model_id": "18d071d4dc1b41b68c920a15fa3ad055",
       "version_major": 2,
       "version_minor": 0
      },
      "text/plain": [
       "train-00027-of-00028.parquet:   0%|          | 0.00/485M [00:00<?, ?B/s]"
      ]
     },
     "metadata": {},
     "output_type": "display_data"
    },
    {
     "data": {
      "application/vnd.jupyter.widget-view+json": {
       "model_id": "a6f6c4d9cd4e4059a7381885aa8c260a",
       "version_major": 2,
       "version_minor": 0
      },
      "text/plain": [
       "test-00000-of-00008.parquet:   0%|          | 0.00/487M [00:00<?, ?B/s]"
      ]
     },
     "metadata": {},
     "output_type": "display_data"
    },
    {
     "data": {
      "application/vnd.jupyter.widget-view+json": {
       "model_id": "0485f04b73d545e5ab66c6e7f88931e8",
       "version_major": 2,
       "version_minor": 0
      },
      "text/plain": [
       "test-00001-of-00008.parquet:   0%|          | 0.00/487M [00:00<?, ?B/s]"
      ]
     },
     "metadata": {},
     "output_type": "display_data"
    },
    {
     "data": {
      "application/vnd.jupyter.widget-view+json": {
       "model_id": "9b254c5d23104dc496ba72b471dec0c6",
       "version_major": 2,
       "version_minor": 0
      },
      "text/plain": [
       "test-00002-of-00008.parquet:   0%|          | 0.00/489M [00:00<?, ?B/s]"
      ]
     },
     "metadata": {},
     "output_type": "display_data"
    },
    {
     "data": {
      "application/vnd.jupyter.widget-view+json": {
       "model_id": "cd68613638ab4e62bc9435bd75a48c1d",
       "version_major": 2,
       "version_minor": 0
      },
      "text/plain": [
       "test-00003-of-00008.parquet:   0%|          | 0.00/488M [00:00<?, ?B/s]"
      ]
     },
     "metadata": {},
     "output_type": "display_data"
    },
    {
     "data": {
      "application/vnd.jupyter.widget-view+json": {
       "model_id": "e5dcf17b6d3d4c4b9eac264b112c8ef1",
       "version_major": 2,
       "version_minor": 0
      },
      "text/plain": [
       "test-00004-of-00008.parquet:   0%|          | 0.00/485M [00:00<?, ?B/s]"
      ]
     },
     "metadata": {},
     "output_type": "display_data"
    },
    {
     "data": {
      "application/vnd.jupyter.widget-view+json": {
       "model_id": "d457d72fee554a96a33379dde2323211",
       "version_major": 2,
       "version_minor": 0
      },
      "text/plain": [
       "test-00005-of-00008.parquet:   0%|          | 0.00/492M [00:00<?, ?B/s]"
      ]
     },
     "metadata": {},
     "output_type": "display_data"
    },
    {
     "data": {
      "application/vnd.jupyter.widget-view+json": {
       "model_id": "065a2b94cca8406fbbef005c98c32cf1",
       "version_major": 2,
       "version_minor": 0
      },
      "text/plain": [
       "test-00006-of-00008.parquet:   0%|          | 0.00/491M [00:00<?, ?B/s]"
      ]
     },
     "metadata": {},
     "output_type": "display_data"
    },
    {
     "data": {
      "application/vnd.jupyter.widget-view+json": {
       "model_id": "99de05bc1a9b4668a8749da130a7dd23",
       "version_major": 2,
       "version_minor": 0
      },
      "text/plain": [
       "test-00007-of-00008.parquet:   0%|          | 0.00/487M [00:00<?, ?B/s]"
      ]
     },
     "metadata": {},
     "output_type": "display_data"
    },
    {
     "data": {
      "application/vnd.jupyter.widget-view+json": {
       "model_id": "a82075efb1fd42d8b58dfaf18fbe0608",
       "version_major": 2,
       "version_minor": 0
      },
      "text/plain": [
       "validation-00000-of-00004.parquet:   0%|          | 0.00/487M [00:00<?, ?B/s]"
      ]
     },
     "metadata": {},
     "output_type": "display_data"
    },
    {
     "data": {
      "application/vnd.jupyter.widget-view+json": {
       "model_id": "0070a731517c47b0acc88efdb68bc722",
       "version_major": 2,
       "version_minor": 0
      },
      "text/plain": [
       "validation-00001-of-00004.parquet:   0%|          | 0.00/486M [00:00<?, ?B/s]"
      ]
     },
     "metadata": {},
     "output_type": "display_data"
    },
    {
     "data": {
      "application/vnd.jupyter.widget-view+json": {
       "model_id": "02230f4204d74975ae41015ba47b6571",
       "version_major": 2,
       "version_minor": 0
      },
      "text/plain": [
       "validation-00002-of-00004.parquet:   0%|          | 0.00/491M [00:00<?, ?B/s]"
      ]
     },
     "metadata": {},
     "output_type": "display_data"
    },
    {
     "data": {
      "application/vnd.jupyter.widget-view+json": {
       "model_id": "a57d736993d442318c598b362aa3bccf",
       "version_major": 2,
       "version_minor": 0
      },
      "text/plain": [
       "validation-00003-of-00004.parquet:   0%|          | 0.00/483M [00:00<?, ?B/s]"
      ]
     },
     "metadata": {},
     "output_type": "display_data"
    },
    {
     "data": {
      "application/vnd.jupyter.widget-view+json": {
       "model_id": "813d2e363529421bb8456e2f0e24efe2",
       "version_major": 2,
       "version_minor": 0
      },
      "text/plain": [
       "Generating train split:   0%|          | 0/76127 [00:00<?, ? examples/s]"
      ]
     },
     "metadata": {},
     "output_type": "display_data"
    },
    {
     "data": {
      "application/vnd.jupyter.widget-view+json": {
       "model_id": "045c4aa236f94af09404937847782b47",
       "version_major": 2,
       "version_minor": 0
      },
      "text/plain": [
       "Generating test split:   0%|          | 0/21750 [00:00<?, ? examples/s]"
      ]
     },
     "metadata": {},
     "output_type": "display_data"
    },
    {
     "data": {
      "application/vnd.jupyter.widget-view+json": {
       "model_id": "5bde782d3649493f869911535809f800",
       "version_major": 2,
       "version_minor": 0
      },
      "text/plain": [
       "Generating validation split:   0%|          | 0/10875 [00:00<?, ? examples/s]"
      ]
     },
     "metadata": {},
     "output_type": "display_data"
    },
    {
     "data": {
      "application/vnd.jupyter.widget-view+json": {
       "model_id": "57fe15ed27534a01a5c796ca53db4dd5",
       "version_major": 2,
       "version_minor": 0
      },
      "text/plain": [
       "Loading dataset shards:   0%|          | 0/28 [00:00<?, ?it/s]"
      ]
     },
     "metadata": {},
     "output_type": "display_data"
    }
   ],
   "source": [
    "load_dataset('dpdl-benchmark/sun397');"
   ]
  },
  {
   "cell_type": "markdown",
   "id": "9a54dcc6-126d-4c50-abe4-59b494855186",
   "metadata": {},
   "source": [
    "### DTD"
   ]
  },
  {
   "cell_type": "code",
   "execution_count": 8,
   "id": "61e6da7d-5f62-4f15-b359-5aa5cf9ff794",
   "metadata": {},
   "outputs": [
    {
     "data": {
      "application/vnd.jupyter.widget-view+json": {
       "model_id": "8a227c1f1b4b4d78a40844e90fa17b26",
       "version_major": 2,
       "version_minor": 0
      },
      "text/plain": [
       "README.md:   0%|          | 0.00/2.85k [00:00<?, ?B/s]"
      ]
     },
     "metadata": {},
     "output_type": "display_data"
    },
    {
     "data": {
      "application/vnd.jupyter.widget-view+json": {
       "model_id": "a04510dee6b84226963b2c6dea9f8949",
       "version_major": 2,
       "version_minor": 0
      },
      "text/plain": [
       "train-00000-of-00001.parquet:   0%|          | 0.00/450M [00:00<?, ?B/s]"
      ]
     },
     "metadata": {},
     "output_type": "display_data"
    },
    {
     "data": {
      "application/vnd.jupyter.widget-view+json": {
       "model_id": "12c3340d283644e9b055614cec8472f7",
       "version_major": 2,
       "version_minor": 0
      },
      "text/plain": [
       "test-00000-of-00001.parquet:   0%|          | 0.00/179M [00:00<?, ?B/s]"
      ]
     },
     "metadata": {},
     "output_type": "display_data"
    },
    {
     "data": {
      "application/vnd.jupyter.widget-view+json": {
       "model_id": "557d9823517e499a8848312d702c8ad7",
       "version_major": 2,
       "version_minor": 0
      },
      "text/plain": [
       "Generating train split:   0%|          | 0/3760 [00:00<?, ? examples/s]"
      ]
     },
     "metadata": {},
     "output_type": "display_data"
    },
    {
     "data": {
      "application/vnd.jupyter.widget-view+json": {
       "model_id": "d89d6f38ad8b44d0b6420a450a84f3d3",
       "version_major": 2,
       "version_minor": 0
      },
      "text/plain": [
       "Generating test split:   0%|          | 0/1880 [00:00<?, ? examples/s]"
      ]
     },
     "metadata": {},
     "output_type": "display_data"
    }
   ],
   "source": [
    "load_dataset('tanganke/dtd');"
   ]
  }
 ],
 "metadata": {
  "kernelspec": {
   "display_name": "Python [conda env:base] *",
   "language": "python",
   "name": "conda-base-py"
  },
  "language_info": {
   "codemirror_mode": {
    "name": "ipython",
    "version": 3
   },
   "file_extension": ".py",
   "mimetype": "text/x-python",
   "name": "python",
   "nbconvert_exporter": "python",
   "pygments_lexer": "ipython3",
   "version": "3.11.6"
  }
 },
 "nbformat": 4,
 "nbformat_minor": 5
}
