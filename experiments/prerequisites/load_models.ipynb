{
 "cells": [
  {
   "cell_type": "markdown",
   "id": "74156794-7c10-4d34-859f-6d81d03b8f0f",
   "metadata": {},
   "source": [
    "# Exploration and Comparison of Transformers for Image Classification"
   ]
  },
  {
   "cell_type": "markdown",
   "id": "c507020a-bbc5-489e-ba5c-59053cfd0d28",
   "metadata": {},
   "source": [
    "Run this notebook to pre-load all the available models and their processors. Alternatively, you can run individual cells to load specific models."
   ]
  },
  {
   "cell_type": "markdown",
   "id": "07ff204e-fc61-4c9c-84ca-a70ca00deb9a",
   "metadata": {},
   "source": [
    "## Download models + processors"
   ]
  },
  {
   "cell_type": "code",
   "execution_count": 7,
   "id": "443c1197-ae57-44a3-952f-b7e1bad577ec",
   "metadata": {},
   "outputs": [],
   "source": [
    "from transformers import AutoModelForImageClassification, AutoModelForZeroShotImageClassification, AutoImageProcessor, AutoTokenizer"
   ]
  },
  {
   "cell_type": "markdown",
   "id": "ffa21d5f-8562-436b-a446-76a8e289fbd1",
   "metadata": {},
   "source": [
    "### ViT"
   ]
  },
  {
   "cell_type": "code",
   "execution_count": 2,
   "id": "b62c619e-e2f5-400f-95a9-a61341bf9807",
   "metadata": {},
   "outputs": [
    {
     "data": {
      "application/vnd.jupyter.widget-view+json": {
       "model_id": "052875d2c7dd469b9bbccde0dd627834",
       "version_major": 2,
       "version_minor": 0
      },
      "text/plain": [
       "config.json:   0%|          | 0.00/69.6k [00:00<?, ?B/s]"
      ]
     },
     "metadata": {},
     "output_type": "display_data"
    },
    {
     "data": {
      "application/vnd.jupyter.widget-view+json": {
       "model_id": "a3eb976e67d4436a98fad059ebc8b30f",
       "version_major": 2,
       "version_minor": 0
      },
      "text/plain": [
       "pytorch_model.bin:   0%|          | 0.00/88.3M [00:00<?, ?B/s]"
      ]
     },
     "metadata": {},
     "output_type": "display_data"
    },
    {
     "data": {
      "application/vnd.jupyter.widget-view+json": {
       "model_id": "13ff2c4e4af24ec6aa4197979ba9c692",
       "version_major": 2,
       "version_minor": 0
      },
      "text/plain": [
       "preprocessor_config.json:   0%|          | 0.00/160 [00:00<?, ?B/s]"
      ]
     },
     "metadata": {},
     "output_type": "display_data"
    }
   ],
   "source": [
    "model = 'facebook/deit-small-patch16-224'\n",
    "\n",
    "AutoModelForImageClassification.from_pretrained(model);\n",
    "AutoImageProcessor.from_pretrained(model, use_fast=True);"
   ]
  },
  {
   "cell_type": "markdown",
   "id": "c99d3565-3cde-41c7-b5a1-66fe9523e6a6",
   "metadata": {},
   "source": [
    "### DeiT"
   ]
  },
  {
   "cell_type": "code",
   "execution_count": 3,
   "id": "a5caac02-489e-4fa6-9f29-f8745324d384",
   "metadata": {},
   "outputs": [
    {
     "data": {
      "application/vnd.jupyter.widget-view+json": {
       "model_id": "8b45766367f94dcf90e7a9e9d992e20b",
       "version_major": 2,
       "version_minor": 0
      },
      "text/plain": [
       "config.json:   0%|          | 0.00/69.6k [00:00<?, ?B/s]"
      ]
     },
     "metadata": {},
     "output_type": "display_data"
    },
    {
     "data": {
      "application/vnd.jupyter.widget-view+json": {
       "model_id": "c72de35842c74715a7ece55edea2c39c",
       "version_major": 2,
       "version_minor": 0
      },
      "text/plain": [
       "pytorch_model.bin:   0%|          | 0.00/89.8M [00:00<?, ?B/s]"
      ]
     },
     "metadata": {},
     "output_type": "display_data"
    },
    {
     "data": {
      "application/vnd.jupyter.widget-view+json": {
       "model_id": "a8022606d4e9478c86720d11343149e7",
       "version_major": 2,
       "version_minor": 0
      },
      "text/plain": [
       "preprocessor_config.json:   0%|          | 0.00/287 [00:00<?, ?B/s]"
      ]
     },
     "metadata": {},
     "output_type": "display_data"
    }
   ],
   "source": [
    "model = 'facebook/deit-small-distilled-patch16-224'\n",
    "\n",
    "AutoModelForImageClassification.from_pretrained(model);\n",
    "AutoImageProcessor.from_pretrained(model);"
   ]
  },
  {
   "cell_type": "markdown",
   "id": "8c5d335f-1a40-4c65-a160-ce460b4869d5",
   "metadata": {},
   "source": [
    "### Swin"
   ]
  },
  {
   "cell_type": "code",
   "execution_count": 4,
   "id": "e85885e9-8eae-4829-bca0-a1919b2af54d",
   "metadata": {},
   "outputs": [
    {
     "data": {
      "application/vnd.jupyter.widget-view+json": {
       "model_id": "a8fa7f85f58b482da9fa068b86bb057c",
       "version_major": 2,
       "version_minor": 0
      },
      "text/plain": [
       "config.json:   0%|          | 0.00/71.8k [00:00<?, ?B/s]"
      ]
     },
     "metadata": {},
     "output_type": "display_data"
    },
    {
     "data": {
      "application/vnd.jupyter.widget-view+json": {
       "model_id": "6937dd271c0044a29866308ae7b2ed8f",
       "version_major": 2,
       "version_minor": 0
      },
      "text/plain": [
       "model.safetensors:   0%|          | 0.00/113M [00:00<?, ?B/s]"
      ]
     },
     "metadata": {},
     "output_type": "display_data"
    },
    {
     "data": {
      "application/vnd.jupyter.widget-view+json": {
       "model_id": "2e6e368c7c9549119b553fe19fdedf27",
       "version_major": 2,
       "version_minor": 0
      },
      "text/plain": [
       "preprocessor_config.json:   0%|          | 0.00/255 [00:00<?, ?B/s]"
      ]
     },
     "metadata": {},
     "output_type": "display_data"
    }
   ],
   "source": [
    "model = 'microsoft/swin-tiny-patch4-window7-224'\n",
    "\n",
    "AutoModelForImageClassification.from_pretrained(model);\n",
    "AutoImageProcessor.from_pretrained(model);"
   ]
  },
  {
   "cell_type": "markdown",
   "id": "386473c6-1387-430c-95d5-dbe47af0d945",
   "metadata": {},
   "source": [
    "### RegNet"
   ]
  },
  {
   "cell_type": "code",
   "execution_count": 5,
   "id": "9578ebfb-6ec2-4ce8-b5a3-0d4534a5d3dd",
   "metadata": {},
   "outputs": [
    {
     "data": {
      "application/vnd.jupyter.widget-view+json": {
       "model_id": "5a373c0bcbe740ea8c53d972f8013c35",
       "version_major": 2,
       "version_minor": 0
      },
      "text/plain": [
       "config.json:   0%|          | 0.00/69.6k [00:00<?, ?B/s]"
      ]
     },
     "metadata": {},
     "output_type": "display_data"
    },
    {
     "data": {
      "application/vnd.jupyter.widget-view+json": {
       "model_id": "7b6bb87fbaf24b8dac5acc59e9650522",
       "version_major": 2,
       "version_minor": 0
      },
      "text/plain": [
       "pytorch_model.bin:   0%|          | 0.00/89.0M [00:00<?, ?B/s]"
      ]
     },
     "metadata": {},
     "output_type": "display_data"
    }
   ],
   "source": [
    "model = 'facebook/regnet-x-040'\n",
    "\n",
    "AutoModelForImageClassification.from_pretrained(model);"
   ]
  },
  {
   "cell_type": "markdown",
   "id": "1baeab82-9937-4fb5-9ed2-f925d5fdb1a1",
   "metadata": {},
   "source": [
    "### CLIP"
   ]
  },
  {
   "cell_type": "code",
   "execution_count": 6,
   "id": "18a7fab5-961d-4e45-8925-10d2e96ed98e",
   "metadata": {},
   "outputs": [
    {
     "data": {
      "application/vnd.jupyter.widget-view+json": {
       "model_id": "89403425934b42608c8b703be177ac64",
       "version_major": 2,
       "version_minor": 0
      },
      "text/plain": [
       "config.json:   0%|          | 0.00/4.10k [00:00<?, ?B/s]"
      ]
     },
     "metadata": {},
     "output_type": "display_data"
    },
    {
     "data": {
      "application/vnd.jupyter.widget-view+json": {
       "model_id": "55f63bdac49e461d8f9a787caae5a420",
       "version_major": 2,
       "version_minor": 0
      },
      "text/plain": [
       "pytorch_model.bin:   0%|          | 0.00/599M [00:00<?, ?B/s]"
      ]
     },
     "metadata": {},
     "output_type": "display_data"
    },
    {
     "data": {
      "application/vnd.jupyter.widget-view+json": {
       "model_id": "ebfcecde18bd4e30a4110bd8b165bc74",
       "version_major": 2,
       "version_minor": 0
      },
      "text/plain": [
       "preprocessor_config.json:   0%|          | 0.00/316 [00:00<?, ?B/s]"
      ]
     },
     "metadata": {},
     "output_type": "display_data"
    },
    {
     "data": {
      "application/vnd.jupyter.widget-view+json": {
       "model_id": "5b8ef1d3da7b4d1886314c2245cb6dda",
       "version_major": 2,
       "version_minor": 0
      },
      "text/plain": [
       "tokenizer_config.json:   0%|          | 0.00/905 [00:00<?, ?B/s]"
      ]
     },
     "metadata": {},
     "output_type": "display_data"
    },
    {
     "data": {
      "application/vnd.jupyter.widget-view+json": {
       "model_id": "0de237f9bc064553bbe610992babb3aa",
       "version_major": 2,
       "version_minor": 0
      },
      "text/plain": [
       "vocab.json:   0%|          | 0.00/961k [00:00<?, ?B/s]"
      ]
     },
     "metadata": {},
     "output_type": "display_data"
    },
    {
     "data": {
      "application/vnd.jupyter.widget-view+json": {
       "model_id": "e7f235e6eb9043559953883de2822723",
       "version_major": 2,
       "version_minor": 0
      },
      "text/plain": [
       "merges.txt:   0%|          | 0.00/525k [00:00<?, ?B/s]"
      ]
     },
     "metadata": {},
     "output_type": "display_data"
    },
    {
     "data": {
      "application/vnd.jupyter.widget-view+json": {
       "model_id": "f76325f187664a27a4d35735d2f2f8c4",
       "version_major": 2,
       "version_minor": 0
      },
      "text/plain": [
       "tokenizer.json:   0%|          | 0.00/2.22M [00:00<?, ?B/s]"
      ]
     },
     "metadata": {},
     "output_type": "display_data"
    },
    {
     "data": {
      "application/vnd.jupyter.widget-view+json": {
       "model_id": "d30a74bf85874205b1b488cb127518f0",
       "version_major": 2,
       "version_minor": 0
      },
      "text/plain": [
       "special_tokens_map.json:   0%|          | 0.00/389 [00:00<?, ?B/s]"
      ]
     },
     "metadata": {},
     "output_type": "display_data"
    },
    {
     "name": "stderr",
     "output_type": "stream",
     "text": [
      "/opt/conda/lib/python3.11/site-packages/transformers/tokenization_utils_base.py:1617: FutureWarning: `clean_up_tokenization_spaces` was not set. It will be set to `True` by default. This behavior will be deprecated in transformers v4.45, and will be then set to `False` by default. For more details check this issue: https://github.com/huggingface/transformers/issues/31884\n",
      "  warnings.warn(\n"
     ]
    }
   ],
   "source": [
    "model = 'openai/clip-vit-base-patch16'\n",
    "\n",
    "AutoModelForZeroShotImageClassification.from_pretrained(model);\n",
    "AutoImageProcessor.from_pretrained(model);\n",
    "AutoTokenizer.from_pretrained(model);"
   ]
  }
 ],
 "metadata": {
  "kernelspec": {
   "display_name": "Python [conda env:base] *",
   "language": "python",
   "name": "conda-base-py"
  },
  "language_info": {
   "codemirror_mode": {
    "name": "ipython",
    "version": 3
   },
   "file_extension": ".py",
   "mimetype": "text/x-python",
   "name": "python",
   "nbconvert_exporter": "python",
   "pygments_lexer": "ipython3",
   "version": "3.11.6"
  }
 },
 "nbformat": 4,
 "nbformat_minor": 5
}
