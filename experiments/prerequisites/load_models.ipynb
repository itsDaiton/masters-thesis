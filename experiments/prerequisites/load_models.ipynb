{
 "cells": [
  {
   "cell_type": "markdown",
   "id": "74156794-7c10-4d34-859f-6d81d03b8f0f",
   "metadata": {},
   "source": [
    "# Exploration and Comparison of Transformers for Image Classification"
   ]
  },
  {
   "cell_type": "markdown",
   "id": "c507020a-bbc5-489e-ba5c-59053cfd0d28",
   "metadata": {},
   "source": [
    "Run this notebook to pre-load all the available models and their processors. Alternatively, you can run individual cells to load specific models."
   ]
  },
  {
   "cell_type": "markdown",
   "id": "07ff204e-fc61-4c9c-84ca-a70ca00deb9a",
   "metadata": {},
   "source": [
    "## Download models + processors"
   ]
  },
  {
   "cell_type": "code",
   "execution_count": 2,
   "id": "443c1197-ae57-44a3-952f-b7e1bad577ec",
   "metadata": {},
   "outputs": [],
   "source": [
    "from transformers import AutoModelForImageClassification, AutoModelForZeroShotImageClassification, AutoImageProcessor, AutoTokenizer\n",
    "\n",
    "import os\n",
    "os.chdir('../../')\n",
    "\n",
    "from utils.models_utils import *"
   ]
  },
  {
   "cell_type": "markdown",
   "id": "ffa21d5f-8562-436b-a446-76a8e289fbd1",
   "metadata": {},
   "source": [
    "### ViT"
   ]
  },
  {
   "cell_type": "code",
   "execution_count": 3,
   "id": "b62c619e-e2f5-400f-95a9-a61341bf9807",
   "metadata": {},
   "outputs": [
    {
     "data": {
      "application/vnd.jupyter.widget-view+json": {
       "model_id": "aa17bd04a1a644e5b10003c4b01ceeb9",
       "version_major": 2,
       "version_minor": 0
      },
      "text/plain": [
       "config.json:   0%|          | 0.00/69.7k [00:00<?, ?B/s]"
      ]
     },
     "metadata": {},
     "output_type": "display_data"
    },
    {
     "data": {
      "application/vnd.jupyter.widget-view+json": {
       "model_id": "5a0dbebf5538425caebc3409cfe573d8",
       "version_major": 2,
       "version_minor": 0
      },
      "text/plain": [
       "model.safetensors:   0%|          | 0.00/346M [00:00<?, ?B/s]"
      ]
     },
     "metadata": {},
     "output_type": "display_data"
    },
    {
     "data": {
      "application/vnd.jupyter.widget-view+json": {
       "model_id": "9cdf1c5d437542738e705fe4571cc0a6",
       "version_major": 2,
       "version_minor": 0
      },
      "text/plain": [
       "preprocessor_config.json:   0%|          | 0.00/160 [00:00<?, ?B/s]"
      ]
     },
     "metadata": {},
     "output_type": "display_data"
    }
   ],
   "source": [
    "model = model_names['ViT']\n",
    "\n",
    "AutoModelForImageClassification.from_pretrained(model);\n",
    "AutoImageProcessor.from_pretrained(model, use_fast=True);"
   ]
  },
  {
   "cell_type": "markdown",
   "id": "c99d3565-3cde-41c7-b5a1-66fe9523e6a6",
   "metadata": {},
   "source": [
    "### DeiT"
   ]
  },
  {
   "cell_type": "code",
   "execution_count": 4,
   "id": "a5caac02-489e-4fa6-9f29-f8745324d384",
   "metadata": {},
   "outputs": [
    {
     "data": {
      "application/vnd.jupyter.widget-view+json": {
       "model_id": "c57099c4902e404fa9b4001a248031b6",
       "version_major": 2,
       "version_minor": 0
      },
      "text/plain": [
       "config.json:   0%|          | 0.00/69.6k [00:00<?, ?B/s]"
      ]
     },
     "metadata": {},
     "output_type": "display_data"
    },
    {
     "data": {
      "application/vnd.jupyter.widget-view+json": {
       "model_id": "1b7d31655b8b4c3582c684bc88ab51af",
       "version_major": 2,
       "version_minor": 0
      },
      "text/plain": [
       "pytorch_model.bin:   0%|          | 0.00/349M [00:00<?, ?B/s]"
      ]
     },
     "metadata": {},
     "output_type": "display_data"
    },
    {
     "data": {
      "application/vnd.jupyter.widget-view+json": {
       "model_id": "b3f19630062345ec8e45e1b602e09768",
       "version_major": 2,
       "version_minor": 0
      },
      "text/plain": [
       "preprocessor_config.json:   0%|          | 0.00/287 [00:00<?, ?B/s]"
      ]
     },
     "metadata": {},
     "output_type": "display_data"
    },
    {
     "data": {
      "application/vnd.jupyter.widget-view+json": {
       "model_id": "f39122ca0a35490cbed89959e0663831",
       "version_major": 2,
       "version_minor": 0
      },
      "text/plain": [
       "model.safetensors:   0%|          | 0.00/349M [00:00<?, ?B/s]"
      ]
     },
     "metadata": {},
     "output_type": "display_data"
    }
   ],
   "source": [
    "model = model_names['DeiT']\n",
    "\n",
    "AutoModelForImageClassification.from_pretrained(model);\n",
    "AutoImageProcessor.from_pretrained(model);"
   ]
  },
  {
   "cell_type": "markdown",
   "id": "8c5d335f-1a40-4c65-a160-ce460b4869d5",
   "metadata": {},
   "source": [
    "### Swin"
   ]
  },
  {
   "cell_type": "code",
   "execution_count": 5,
   "id": "e85885e9-8eae-4829-bca0-a1919b2af54d",
   "metadata": {},
   "outputs": [
    {
     "data": {
      "application/vnd.jupyter.widget-view+json": {
       "model_id": "e2729841afd547b3b0d28344dddd397c",
       "version_major": 2,
       "version_minor": 0
      },
      "text/plain": [
       "config.json:   0%|          | 0.00/71.8k [00:00<?, ?B/s]"
      ]
     },
     "metadata": {},
     "output_type": "display_data"
    },
    {
     "data": {
      "application/vnd.jupyter.widget-view+json": {
       "model_id": "a6dc499583d24a69921c1dda8f07b877",
       "version_major": 2,
       "version_minor": 0
      },
      "text/plain": [
       "model.safetensors:   0%|          | 0.00/352M [00:00<?, ?B/s]"
      ]
     },
     "metadata": {},
     "output_type": "display_data"
    },
    {
     "data": {
      "application/vnd.jupyter.widget-view+json": {
       "model_id": "6daacaa903a9476f88931cd10a4452a8",
       "version_major": 2,
       "version_minor": 0
      },
      "text/plain": [
       "preprocessor_config.json:   0%|          | 0.00/255 [00:00<?, ?B/s]"
      ]
     },
     "metadata": {},
     "output_type": "display_data"
    }
   ],
   "source": [
    "model = model_names['Swin']\n",
    "\n",
    "AutoModelForImageClassification.from_pretrained(model);\n",
    "AutoImageProcessor.from_pretrained(model);"
   ]
  },
  {
   "cell_type": "markdown",
   "id": "386473c6-1387-430c-95d5-dbe47af0d945",
   "metadata": {},
   "source": [
    "### RegNet"
   ]
  },
  {
   "cell_type": "code",
   "execution_count": 6,
   "id": "9578ebfb-6ec2-4ce8-b5a3-0d4534a5d3dd",
   "metadata": {},
   "outputs": [
    {
     "data": {
      "application/vnd.jupyter.widget-view+json": {
       "model_id": "543f182f625849839ccdcb242c9a0b88",
       "version_major": 2,
       "version_minor": 0
      },
      "text/plain": [
       "config.json:   0%|          | 0.00/69.6k [00:00<?, ?B/s]"
      ]
     },
     "metadata": {},
     "output_type": "display_data"
    },
    {
     "data": {
      "application/vnd.jupyter.widget-view+json": {
       "model_id": "5dc8a22be0414291b37217b4edaa8ed5",
       "version_major": 2,
       "version_minor": 0
      },
      "text/plain": [
       "pytorch_model.bin:   0%|          | 0.00/335M [00:00<?, ?B/s]"
      ]
     },
     "metadata": {},
     "output_type": "display_data"
    },
    {
     "data": {
      "application/vnd.jupyter.widget-view+json": {
       "model_id": "0d1fb0499be04fa692079c99458744f3",
       "version_major": 2,
       "version_minor": 0
      },
      "text/plain": [
       "model.safetensors:   0%|          | 0.00/335M [00:00<?, ?B/s]"
      ]
     },
     "metadata": {},
     "output_type": "display_data"
    }
   ],
   "source": [
    "model = model_names['RegNet']\n",
    "\n",
    "AutoModelForImageClassification.from_pretrained(model);"
   ]
  },
  {
   "cell_type": "markdown",
   "id": "1baeab82-9937-4fb5-9ed2-f925d5fdb1a1",
   "metadata": {},
   "source": [
    "### CLIP"
   ]
  },
  {
   "cell_type": "code",
   "execution_count": 7,
   "id": "18a7fab5-961d-4e45-8925-10d2e96ed98e",
   "metadata": {},
   "outputs": [
    {
     "data": {
      "application/vnd.jupyter.widget-view+json": {
       "model_id": "2c105be5d9204f1791e5c2abc24eb7dc",
       "version_major": 2,
       "version_minor": 0
      },
      "text/plain": [
       "config.json:   0%|          | 0.00/4.10k [00:00<?, ?B/s]"
      ]
     },
     "metadata": {},
     "output_type": "display_data"
    },
    {
     "data": {
      "application/vnd.jupyter.widget-view+json": {
       "model_id": "a7e585a163cc4f1cb3ff51a193dc6824",
       "version_major": 2,
       "version_minor": 0
      },
      "text/plain": [
       "pytorch_model.bin:   0%|          | 0.00/599M [00:00<?, ?B/s]"
      ]
     },
     "metadata": {},
     "output_type": "display_data"
    },
    {
     "data": {
      "application/vnd.jupyter.widget-view+json": {
       "model_id": "2f99dacfc2b9437ea2c556460374b030",
       "version_major": 2,
       "version_minor": 0
      },
      "text/plain": [
       "preprocessor_config.json:   0%|          | 0.00/316 [00:00<?, ?B/s]"
      ]
     },
     "metadata": {},
     "output_type": "display_data"
    },
    {
     "data": {
      "application/vnd.jupyter.widget-view+json": {
       "model_id": "61182076aa6c4f7e867702e0ac30fd48",
       "version_major": 2,
       "version_minor": 0
      },
      "text/plain": [
       "tokenizer_config.json:   0%|          | 0.00/905 [00:00<?, ?B/s]"
      ]
     },
     "metadata": {},
     "output_type": "display_data"
    },
    {
     "data": {
      "application/vnd.jupyter.widget-view+json": {
       "model_id": "5d08f5a94abb4ea7ae360dbcfce7598b",
       "version_major": 2,
       "version_minor": 0
      },
      "text/plain": [
       "vocab.json:   0%|          | 0.00/961k [00:00<?, ?B/s]"
      ]
     },
     "metadata": {},
     "output_type": "display_data"
    },
    {
     "data": {
      "application/vnd.jupyter.widget-view+json": {
       "model_id": "69baf3e3e8ac400989d4929dc566d3ec",
       "version_major": 2,
       "version_minor": 0
      },
      "text/plain": [
       "merges.txt:   0%|          | 0.00/525k [00:00<?, ?B/s]"
      ]
     },
     "metadata": {},
     "output_type": "display_data"
    },
    {
     "data": {
      "application/vnd.jupyter.widget-view+json": {
       "model_id": "1a1e2a816d02425bbfba73bf143c52c8",
       "version_major": 2,
       "version_minor": 0
      },
      "text/plain": [
       "tokenizer.json:   0%|          | 0.00/2.22M [00:00<?, ?B/s]"
      ]
     },
     "metadata": {},
     "output_type": "display_data"
    },
    {
     "data": {
      "application/vnd.jupyter.widget-view+json": {
       "model_id": "2ecf7bdd19af45018c2f3cf84b92b885",
       "version_major": 2,
       "version_minor": 0
      },
      "text/plain": [
       "special_tokens_map.json:   0%|          | 0.00/389 [00:00<?, ?B/s]"
      ]
     },
     "metadata": {},
     "output_type": "display_data"
    },
    {
     "data": {
      "application/vnd.jupyter.widget-view+json": {
       "model_id": "bb00f4e6d102407bb82a31583453cfcb",
       "version_major": 2,
       "version_minor": 0
      },
      "text/plain": [
       "model.safetensors:   0%|          | 0.00/599M [00:00<?, ?B/s]"
      ]
     },
     "metadata": {},
     "output_type": "display_data"
    }
   ],
   "source": [
    "model = model_names['CLIP']\n",
    "\n",
    "AutoModelForZeroShotImageClassification.from_pretrained(model);\n",
    "AutoImageProcessor.from_pretrained(model);\n",
    "AutoTokenizer.from_pretrained(model);"
   ]
  }
 ],
 "metadata": {
  "kernelspec": {
   "display_name": "Python [conda env:base] *",
   "language": "python",
   "name": "conda-base-py"
  },
  "language_info": {
   "codemirror_mode": {
    "name": "ipython",
    "version": 3
   },
   "file_extension": ".py",
   "mimetype": "text/x-python",
   "name": "python",
   "nbconvert_exporter": "python",
   "pygments_lexer": "ipython3",
   "version": "3.11.6"
  }
 },
 "nbformat": 4,
 "nbformat_minor": 5
}
