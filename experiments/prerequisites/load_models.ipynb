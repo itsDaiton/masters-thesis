{
 "cells": [
  {
   "cell_type": "markdown",
   "id": "74156794-7c10-4d34-859f-6d81d03b8f0f",
   "metadata": {},
   "source": [
    "# Exploration and Comparison of Transformers for Image Classification"
   ]
  },
  {
   "cell_type": "markdown",
   "id": "c507020a-bbc5-489e-ba5c-59053cfd0d28",
   "metadata": {},
   "source": [
    "Run this notebook to pre-load all the available models and their processors. Alternatively, you can run individual cells to load specific models."
   ]
  },
  {
   "cell_type": "markdown",
   "id": "07ff204e-fc61-4c9c-84ca-a70ca00deb9a",
   "metadata": {},
   "source": [
    "## Download models + processors"
   ]
  },
  {
   "cell_type": "code",
   "execution_count": 2,
   "id": "443c1197-ae57-44a3-952f-b7e1bad577ec",
   "metadata": {},
   "outputs": [],
   "source": [
    "from transformers import (\n",
    "    AutoModelForImageClassification, \n",
    "    AutoModelForZeroShotImageClassification, \n",
    "    AutoImageProcessor,\n",
    "    AutoTokenizer,\n",
    ")\n",
    "import os\n",
    "os.chdir('../../')\n",
    "\n",
    "from utils.models_utils import *"
   ]
  },
  {
   "cell_type": "markdown",
   "id": "ffa21d5f-8562-436b-a446-76a8e289fbd1",
   "metadata": {},
   "source": [
    "### ViT"
   ]
  },
  {
   "cell_type": "code",
   "execution_count": 4,
   "id": "b62c619e-e2f5-400f-95a9-a61341bf9807",
   "metadata": {},
   "outputs": [],
   "source": [
    "model = model_names['ViT']\n",
    "\n",
    "AutoModelForImageClassification.from_pretrained(model)\n",
    "AutoImageProcessor.from_pretrained(model, use_fast=True);"
   ]
  },
  {
   "cell_type": "markdown",
   "id": "c99d3565-3cde-41c7-b5a1-66fe9523e6a6",
   "metadata": {},
   "source": [
    "### DeiT"
   ]
  },
  {
   "cell_type": "code",
   "execution_count": 6,
   "id": "a5caac02-489e-4fa6-9f29-f8745324d384",
   "metadata": {},
   "outputs": [],
   "source": [
    "model = model_names['DeiT']\n",
    "\n",
    "AutoModelForImageClassification.from_pretrained(model)\n",
    "AutoImageProcessor.from_pretrained(model);"
   ]
  },
  {
   "cell_type": "markdown",
   "id": "8c5d335f-1a40-4c65-a160-ce460b4869d5",
   "metadata": {},
   "source": [
    "### Swin"
   ]
  },
  {
   "cell_type": "code",
   "execution_count": 7,
   "id": "e85885e9-8eae-4829-bca0-a1919b2af54d",
   "metadata": {},
   "outputs": [],
   "source": [
    "model = model_names['Swin']\n",
    "\n",
    "AutoModelForImageClassification.from_pretrained(model)\n",
    "AutoImageProcessor.from_pretrained(model);"
   ]
  },
  {
   "cell_type": "markdown",
   "id": "386473c6-1387-430c-95d5-dbe47af0d945",
   "metadata": {},
   "source": [
    "### RegNet"
   ]
  },
  {
   "cell_type": "code",
   "execution_count": 8,
   "id": "9578ebfb-6ec2-4ce8-b5a3-0d4534a5d3dd",
   "metadata": {},
   "outputs": [],
   "source": [
    "model = model_names['RegNet']\n",
    "\n",
    "AutoModelForImageClassification.from_pretrained(model);"
   ]
  },
  {
   "cell_type": "markdown",
   "id": "1baeab82-9937-4fb5-9ed2-f925d5fdb1a1",
   "metadata": {},
   "source": [
    "### CLIP"
   ]
  },
  {
   "cell_type": "code",
   "execution_count": 9,
   "id": "18a7fab5-961d-4e45-8925-10d2e96ed98e",
   "metadata": {},
   "outputs": [],
   "source": [
    "model = model_names['CLIP']\n",
    "\n",
    "AutoModelForZeroShotImageClassification.from_pretrained(model)\n",
    "AutoImageProcessor.from_pretrained(model);\n",
    "AutoTokenizer.from_pretrained(model);"
   ]
  }
 ],
 "metadata": {
  "kernelspec": {
   "display_name": "Python 3 (ipykernel)",
   "language": "python",
   "name": "python3"
  },
  "language_info": {
   "codemirror_mode": {
    "name": "ipython",
    "version": 3
   },
   "file_extension": ".py",
   "mimetype": "text/x-python",
   "name": "python",
   "nbconvert_exporter": "python",
   "pygments_lexer": "ipython3",
   "version": "3.10.12"
  }
 },
 "nbformat": 4,
 "nbformat_minor": 5
}
