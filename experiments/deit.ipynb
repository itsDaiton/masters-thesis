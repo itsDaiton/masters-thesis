{
 "cells": [
  {
   "cell_type": "markdown",
   "id": "7ea5a682-d599-477b-8841-80da6b64066a",
   "metadata": {},
   "source": [
    "# Exploration and Comparison of Transformers for Image Classification"
   ]
  },
  {
   "cell_type": "markdown",
   "id": "85c3b461-dd77-4dbd-a258-f0494d8cce0d",
   "metadata": {},
   "source": [
    "## DeiT (Data efficient image Transformer)\n"
   ]
  },
  {
   "cell_type": "markdown",
   "id": "5a03d49f-fa8f-45f7-a3e9-c44ab91558b1",
   "metadata": {},
   "source": [
    "### Prerequisites"
   ]
  },
  {
   "cell_type": "code",
   "execution_count": 2,
   "id": "5837d13d-1f53-4b5c-988c-542522cb27fe",
   "metadata": {},
   "outputs": [],
   "source": [
    "import os\n",
    "os.chdir('..')\n",
    "\n",
    "import torch\n",
    "import torch.nn as nn\n",
    "\n",
    "from transformers import AutoImageProcessor, DeiTImageProcessor\n",
    "from datasets import load_dataset, concatenate_datasets\n",
    "\n",
    "from src.dataset_builder import ImageDataset\n",
    "from src.models import Backbone\n",
    "from src.train import train_model, evaluate_model\n",
    "\n",
    "from utils.config import Config\n",
    "from utils.train_utils import *\n",
    "from utils.models_utils import *"
   ]
  },
  {
   "cell_type": "markdown",
   "id": "b909af79-10ae-42b6-b378-5487b372ba7c",
   "metadata": {},
   "source": [
    "### GPU"
   ]
  },
  {
   "cell_type": "code",
   "execution_count": 3,
   "id": "f2e00e91-8620-4579-81e0-2cae9b2f9786",
   "metadata": {},
   "outputs": [
    {
     "name": "stdout",
     "output_type": "stream",
     "text": [
      "GPU 0: NVIDIA A100 80GB PCIe MIG 1g.10gb\n",
      "  VRAM: 9.50 GB\n"
     ]
    }
   ],
   "source": [
    "if torch.cuda.is_available():\n",
    "    for i in range(torch.cuda.device_count()):\n",
    "        print(f\"GPU {i}: {torch.cuda.get_device_name(i)}\")\n",
    "        vram = torch.cuda.get_device_properties(i).total_memory / (1024 ** 3)\n",
    "        print(f\"  VRAM: {vram:.2f} GB\")\n",
    "else:\n",
    "    print(\"CUDA is not available.\")"
   ]
  },
  {
   "cell_type": "markdown",
   "id": "85d10b39-2131-41b3-a035-86748609e34f",
   "metadata": {},
   "source": [
    "#### Data preparation"
   ]
  },
  {
   "cell_type": "code",
   "execution_count": 4,
   "id": "588a0414-f8e2-4e49-bdb5-dbd5209f27a4",
   "metadata": {},
   "outputs": [],
   "source": [
    "train, val, test = load_dataset('timm/resisc45', split=['train', 'validation', 'test'])"
   ]
  },
  {
   "cell_type": "code",
   "execution_count": 10,
   "id": "c32ff2e4-c9ed-497f-898c-bbca9b94ce90",
   "metadata": {},
   "outputs": [],
   "source": [
    "processor = AutoImageProcessor.from_pretrained(model_names['DeiT'])"
   ]
  },
  {
   "cell_type": "code",
   "execution_count": 11,
   "id": "27bb8b51-1e41-40e4-b818-b4bb25044632",
   "metadata": {},
   "outputs": [],
   "source": [
    "train_split = ImageDataset(dataset=train, processor=processor)\n",
    "val_split = ImageDataset(dataset=val, processor=processor)\n",
    "test_split = ImageDataset(dataset=test, processor=processor)"
   ]
  },
  {
   "cell_type": "code",
   "execution_count": 12,
   "id": "af47c9d6-9e30-4a0e-a6e8-a720f3ffc7c5",
   "metadata": {},
   "outputs": [],
   "source": [
    "num_classes = train_split.get_num_classes()"
   ]
  },
  {
   "cell_type": "markdown",
   "id": "eae66942-80d1-454e-9177-d68bb8e530a0",
   "metadata": {},
   "source": [
    "### Model"
   ]
  },
  {
   "cell_type": "code",
   "execution_count": 13,
   "id": "b9584329-7a11-49ab-b3cb-23d66193e5cb",
   "metadata": {},
   "outputs": [
    {
     "data": {
      "application/vnd.jupyter.widget-view+json": {
       "model_id": "3d191576026f4a9fa5e6138067c1c4b9",
       "version_major": 2,
       "version_minor": 0
      },
      "text/plain": [
       "config.json:   0%|          | 0.00/69.6k [00:00<?, ?B/s]"
      ]
     },
     "metadata": {},
     "output_type": "display_data"
    },
    {
     "data": {
      "application/vnd.jupyter.widget-view+json": {
       "model_id": "f4350717c58d4e4e9b6bb3dc75efb46d",
       "version_major": 2,
       "version_minor": 0
      },
      "text/plain": [
       "pytorch_model.bin:   0%|          | 0.00/89.8M [00:00<?, ?B/s]"
      ]
     },
     "metadata": {},
     "output_type": "display_data"
    },
    {
     "name": "stderr",
     "output_type": "stream",
     "text": [
      "Some weights of DeiTForImageClassificationWithTeacher were not initialized from the model checkpoint at facebook/deit-small-distilled-patch16-224 and are newly initialized because the shapes did not match:\n",
      "- cls_classifier.weight: found shape torch.Size([1000, 384]) in the checkpoint and torch.Size([45, 384]) in the model instantiated\n",
      "- cls_classifier.bias: found shape torch.Size([1000]) in the checkpoint and torch.Size([45]) in the model instantiated\n",
      "- distillation_classifier.weight: found shape torch.Size([1000, 384]) in the checkpoint and torch.Size([45, 384]) in the model instantiated\n",
      "- distillation_classifier.bias: found shape torch.Size([1000]) in the checkpoint and torch.Size([45]) in the model instantiated\n",
      "You should probably TRAIN this model on a down-stream task to be able to use it for predictions and inference.\n"
     ]
    },
    {
     "data": {
      "application/vnd.jupyter.widget-view+json": {
       "model_id": "36cbdbfa4cc3496b98086ed52d6d5c0a",
       "version_major": 2,
       "version_minor": 0
      },
      "text/plain": [
       "config.json:   0%|          | 0.00/69.6k [00:00<?, ?B/s]"
      ]
     },
     "metadata": {},
     "output_type": "display_data"
    },
    {
     "data": {
      "application/vnd.jupyter.widget-view+json": {
       "model_id": "c94df9b9d34a46e2b4beb0b731a31c71",
       "version_major": 2,
       "version_minor": 0
      },
      "text/plain": [
       "pytorch_model.bin:   0%|          | 0.00/89.0M [00:00<?, ?B/s]"
      ]
     },
     "metadata": {},
     "output_type": "display_data"
    },
    {
     "name": "stderr",
     "output_type": "stream",
     "text": [
      "Some weights of RegNetForImageClassification were not initialized from the model checkpoint at facebook/regnet-x-040 and are newly initialized because the shapes did not match:\n",
      "- classifier.1.weight: found shape torch.Size([1000, 1360]) in the checkpoint and torch.Size([45, 1360]) in the model instantiated\n",
      "- classifier.1.bias: found shape torch.Size([1000]) in the checkpoint and torch.Size([45]) in the model instantiated\n",
      "You should probably TRAIN this model on a down-stream task to be able to use it for predictions and inference.\n"
     ]
    }
   ],
   "source": [
    "config = Config()\n",
    "student = Backbone(model_name=model_names['DeiT'], num_classes=num_classes)\n",
    "teacher = Backbone(model_name=model_names['RegNet'], num_classes=num_classes)"
   ]
  },
  {
   "cell_type": "code",
   "execution_count": 14,
   "id": "90b52ffc-600e-47c3-ac16-a0ca373465e2",
   "metadata": {},
   "outputs": [
    {
     "name": "stdout",
     "output_type": "stream",
     "text": [
      "Parameters: 21.70M\n",
      "Parameters: 20.82M\n"
     ]
    }
   ],
   "source": [
    "get_model_params(student)\n",
    "get_model_params(teacher)"
   ]
  },
  {
   "cell_type": "markdown",
   "id": "6c0bdfef-fd01-42bc-a824-57c76adf450e",
   "metadata": {},
   "source": [
    "### Fine tuning #1 - Teacher"
   ]
  },
  {
   "cell_type": "code",
   "execution_count": 15,
   "id": "175c123c-65d2-4271-9d14-a4ce19b2d9e9",
   "metadata": {},
   "outputs": [
    {
     "name": "stderr",
     "output_type": "stream",
     "text": [
      "Train: 100%|██████████| 2363/2363 [06:21<00:00,  6.19it/s]\n",
      "Val: 100%|██████████| 788/788 [00:48<00:00, 16.16it/s]\n"
     ]
    },
    {
     "name": "stdout",
     "output_type": "stream",
     "text": [
      "Epochs: 1/2 | train_loss: 1.0008 | train_acc: 0.7732 | val_loss: 0.2507 | val_acc: 0.9267\n"
     ]
    },
    {
     "name": "stderr",
     "output_type": "stream",
     "text": [
      "Train: 100%|██████████| 2363/2363 [06:19<00:00,  6.22it/s]\n",
      "Val: 100%|██████████| 788/788 [00:45<00:00, 17.31it/s]"
     ]
    },
    {
     "name": "stdout",
     "output_type": "stream",
     "text": [
      "Epochs: 2/2 | train_loss: 0.2914 | train_acc: 0.9233 | val_loss: 0.1859 | val_acc: 0.9475\n"
     ]
    },
    {
     "name": "stderr",
     "output_type": "stream",
     "text": [
      "\n"
     ]
    }
   ],
   "source": [
    "train_model(\n",
    "    teacher,\n",
    "    train_split,\n",
    "    val_split,\n",
    "    config,\n",
    "    architecture='regnet',\n",
    "    fine_tune=True,\n",
    ")"
   ]
  },
  {
   "cell_type": "markdown",
   "id": "93dd68c2-760b-47d5-99b3-51f256fc8b3f",
   "metadata": {},
   "source": [
    "### Evaluation # 1 - Teacher"
   ]
  },
  {
   "cell_type": "code",
   "execution_count": 16,
   "id": "cde182a7-7b29-47d5-bbb2-1620366fc86b",
   "metadata": {},
   "outputs": [
    {
     "name": "stderr",
     "output_type": "stream",
     "text": [
      "Test: 100%|██████████| 788/788 [00:46<00:00, 17.10it/s]"
     ]
    },
    {
     "name": "stdout",
     "output_type": "stream",
     "text": [
      "test_loss: 0.2087 | test_acc: 0.9405\n"
     ]
    },
    {
     "name": "stderr",
     "output_type": "stream",
     "text": [
      "\n"
     ]
    }
   ],
   "source": [
    "evaluate_model(\n",
    "    teacher,\n",
    "    test_split,\n",
    "    config,\n",
    ")"
   ]
  },
  {
   "cell_type": "markdown",
   "id": "87aa0747-1824-4272-b770-7bfc881fa664",
   "metadata": {},
   "source": [
    "### Fine tuning #2 - DeiT with RegNet teacher"
   ]
  },
  {
   "cell_type": "code",
   "execution_count": 21,
   "id": "3e191238-d0fa-4cf2-99b6-adead444a17a",
   "metadata": {},
   "outputs": [
    {
     "name": "stderr",
     "output_type": "stream",
     "text": [
      "Train: 100%|██████████| 2363/2363 [07:29<00:00,  5.26it/s]\n",
      "Val: 100%|██████████| 788/788 [01:20<00:00,  9.78it/s]\n"
     ]
    },
    {
     "name": "stdout",
     "output_type": "stream",
     "text": [
      "Epochs: 1/2 | train_loss: 0.5964 | train_acc: 0.8470 | val_loss: 0.2798 | val_acc: 0.9200\n"
     ]
    },
    {
     "name": "stderr",
     "output_type": "stream",
     "text": [
      "Train: 100%|██████████| 2363/2363 [07:37<00:00,  5.16it/s]\n",
      "Val: 100%|██████████| 788/788 [01:23<00:00,  9.47it/s]"
     ]
    },
    {
     "name": "stdout",
     "output_type": "stream",
     "text": [
      "Epochs: 2/2 | train_loss: 0.1572 | train_acc: 0.9529 | val_loss: 0.2475 | val_acc: 0.9243\n"
     ]
    },
    {
     "name": "stderr",
     "output_type": "stream",
     "text": [
      "\n"
     ]
    }
   ],
   "source": [
    "train_model(\n",
    "    student,\n",
    "    train_split,\n",
    "    val_split,\n",
    "    config,\n",
    "    architecture='deit',\n",
    "    fine_tune=True,\n",
    "    with_distillation=True,\n",
    "    teacher=teacher,\n",
    ")"
   ]
  },
  {
   "cell_type": "markdown",
   "id": "7f1a122e-b889-415c-93fa-875f3e6b6869",
   "metadata": {},
   "source": [
    "### Evaluation # 2 - DeiT with RegNet teacher"
   ]
  },
  {
   "cell_type": "code",
   "execution_count": 22,
   "id": "a771b0d3-7f93-4841-afc5-997010902990",
   "metadata": {},
   "outputs": [
    {
     "name": "stderr",
     "output_type": "stream",
     "text": [
      "Test: 100%|██████████| 788/788 [00:49<00:00, 15.76it/s]"
     ]
    },
    {
     "name": "stdout",
     "output_type": "stream",
     "text": [
      "test_loss: 0.2745 | test_acc: 0.9183\n"
     ]
    },
    {
     "name": "stderr",
     "output_type": "stream",
     "text": [
      "\n"
     ]
    }
   ],
   "source": [
    "evaluate_model(\n",
    "    student,\n",
    "    test_split,\n",
    "    config,\n",
    ")"
   ]
  }
 ],
 "metadata": {
  "kernelspec": {
   "display_name": "Python 3 (ipykernel)",
   "language": "python",
   "name": "python3"
  },
  "language_info": {
   "codemirror_mode": {
    "name": "ipython",
    "version": 3
   },
   "file_extension": ".py",
   "mimetype": "text/x-python",
   "name": "python",
   "nbconvert_exporter": "python",
   "pygments_lexer": "ipython3",
   "version": "3.11.6"
  }
 },
 "nbformat": 4,
 "nbformat_minor": 5
}
