{
 "cells": [
  {
   "cell_type": "markdown",
   "id": "22029240-8173-476f-a935-e793e203ab43",
   "metadata": {},
   "source": [
    "# Exploration and Comparison of Transformers for Image Classification"
   ]
  },
  {
   "cell_type": "markdown",
   "id": "fcb7fc41-efc8-4ee0-925e-8130dae98c05",
   "metadata": {},
   "source": [
    "## Fine-tuning using Vision Transformer (ViT)"
   ]
  },
  {
   "cell_type": "markdown",
   "id": "2c4f1ce3-2e5f-458c-982e-cda4186420d4",
   "metadata": {},
   "source": [
    "Fine-tuning is an experiment that involves training the entire model on the new task. All of model's parameters are end-to-end fine-tuned on the provided dataset.\n",
    "\n",
    "The resulting model's performance is the measured on the test split with accuracy metric."
   ]
  },
  {
   "cell_type": "markdown",
   "id": "79bec6d7-e956-496a-8e41-53df1fa80b7f",
   "metadata": {},
   "source": [
    "### Vision Transformer (ViT)"
   ]
  },
  {
   "cell_type": "markdown",
   "id": "fc620fc6-8239-44cd-ae99-54c6a1098ffe",
   "metadata": {},
   "source": [
    "Vision Transformer (ViT) model pre-trained on ImageNet-21k (14 million images, 21,843 classes) at resolution 224x224, and fine-tuned on ImageNet 2012 (1 million images, 1,000 classes) at resolution 224x224. It was introduced in the paper *An Image is Worth 16x16 Words: Transformers for Image Recognition at Scale by Dosovitskiy et al.*\n",
    "\n",
    "https://arxiv.org/abs/2010.11929"
   ]
  },
  {
   "cell_type": "markdown",
   "id": "771d783b-308b-401d-8742-76c1179c49b4",
   "metadata": {
    "jp-MarkdownHeadingCollapsed": true
   },
   "source": [
    "### Prerequisites"
   ]
  },
  {
   "cell_type": "markdown",
   "id": "8cfe4de0-ba8d-40a9-a85f-6cb41dd0d335",
   "metadata": {},
   "source": [
    "Load necessary packages."
   ]
  },
  {
   "cell_type": "code",
   "execution_count": 2,
   "id": "2497e5e7-475e-4fd7-913a-36cbbd3e8b74",
   "metadata": {},
   "outputs": [],
   "source": [
    "import os\n",
    "os.chdir('..')\n",
    "\n",
    "import torch\n",
    "\n",
    "import pandas as pd\n",
    "\n",
    "from datasets import load_dataset\n",
    "\n",
    "from src.dataset_builder import ImageDataset\n",
    "from src.models import *\n",
    "from src.train import *\n",
    "\n",
    "from utils.config import Config\n",
    "from utils.train_utils import *\n",
    "from utils.models_utils import *\n",
    "from utils.visualization_utils import *\n",
    "from utils.data_utils import *"
   ]
  },
  {
   "cell_type": "markdown",
   "id": "5ebe117a-bd72-4302-acb8-2af9e338ba5d",
   "metadata": {},
   "source": [
    "Check if there is GPU available."
   ]
  },
  {
   "cell_type": "code",
   "execution_count": 3,
   "id": "e9b14f94-5537-485e-abe1-128c433f6737",
   "metadata": {},
   "outputs": [
    {
     "name": "stdout",
     "output_type": "stream",
     "text": [
      "GPU 0: NVIDIA A100 80GB PCIe MIG 2g.20gb\n",
      "VRAM: 19.50 GB\n"
     ]
    }
   ],
   "source": [
    "get_gpu_info()"
   ]
  },
  {
   "cell_type": "markdown",
   "id": "cc7df4b1-71e8-4264-a131-0013d8ced64b",
   "metadata": {},
   "source": [
    "Set manual seed for reproducibility."
   ]
  },
  {
   "cell_type": "code",
   "execution_count": 4,
   "id": "1b512368-db51-46aa-bc7d-ef5c22fb1e8b",
   "metadata": {},
   "outputs": [
    {
     "data": {
      "text/plain": [
       "<torch._C.Generator at 0x7f814b348430>"
      ]
     },
     "execution_count": 4,
     "metadata": {},
     "output_type": "execute_result"
    }
   ],
   "source": [
    "id = 10\n",
    "torch.manual_seed(10)"
   ]
  },
  {
   "cell_type": "markdown",
   "id": "1409290d-376b-4eb0-b926-bb533d21364f",
   "metadata": {},
   "source": [
    "Load ViT image processor used for image pre-processing."
   ]
  },
  {
   "cell_type": "code",
   "execution_count": 5,
   "id": "137faca7-e691-48ff-97e1-8a0f4211c80e",
   "metadata": {},
   "outputs": [],
   "source": [
    "processor = get_backbone_processor(model_names['ViT'])"
   ]
  },
  {
   "cell_type": "markdown",
   "id": "e1e47d96-cd90-4227-806b-3cdb2e604a50",
   "metadata": {},
   "source": [
    "Print the pre-processing operations done by the processor."
   ]
  },
  {
   "cell_type": "code",
   "execution_count": 6,
   "id": "2f200acb-631a-4502-ae46-8cf476c02713",
   "metadata": {},
   "outputs": [
    {
     "data": {
      "text/plain": [
       "ViTImageProcessorFast {\n",
       "  \"do_convert_rgb\": null,\n",
       "  \"do_normalize\": true,\n",
       "  \"do_rescale\": true,\n",
       "  \"do_resize\": true,\n",
       "  \"image_mean\": [\n",
       "    0.5,\n",
       "    0.5,\n",
       "    0.5\n",
       "  ],\n",
       "  \"image_processor_type\": \"ViTImageProcessorFast\",\n",
       "  \"image_std\": [\n",
       "    0.5,\n",
       "    0.5,\n",
       "    0.5\n",
       "  ],\n",
       "  \"resample\": 2,\n",
       "  \"rescale_factor\": 0.00392156862745098,\n",
       "  \"size\": {\n",
       "    \"height\": 224,\n",
       "    \"width\": 224\n",
       "  }\n",
       "}"
      ]
     },
     "execution_count": 6,
     "metadata": {},
     "output_type": "execute_result"
    }
   ],
   "source": [
    "processor"
   ]
  },
  {
   "cell_type": "markdown",
   "id": "f25447f6-f11e-4131-9623-09698dbb67d7",
   "metadata": {
    "jp-MarkdownHeadingCollapsed": true
   },
   "source": [
    "### Data Preprocessing"
   ]
  },
  {
   "cell_type": "markdown",
   "id": "ea0b7222-e192-4a7c-acb7-56b0433a7aae",
   "metadata": {},
   "source": [
    "Load each dataset and its splits.\n",
    "\n",
    "Processor is automatically applied to each image."
   ]
  },
  {
   "cell_type": "markdown",
   "id": "99e2b5ff-9586-4917-a24c-3bd93593269e",
   "metadata": {},
   "source": [
    "#### RESISC45"
   ]
  },
  {
   "cell_type": "code",
   "execution_count": 8,
   "id": "6bbedffd-6394-4a1d-b502-88a726b98273",
   "metadata": {},
   "outputs": [],
   "source": [
    "resisc45 = load_dataset('timm/resisc45')\n",
    "clean_labels(resisc45, name='resisc45')\n",
    "resisc45_train = ImageDataset(\n",
    "    dataset=resisc45['train'],\n",
    "    processor=processor,\n",
    ")\n",
    "resisc45_validation = ImageDataset(\n",
    "    dataset=resisc45['validation'],\n",
    "    processor=processor,\n",
    ")\n",
    "resisc45_test = ImageDataset(\n",
    "    dataset=resisc45['test'],\n",
    "    processor=processor,\n",
    ")"
   ]
  },
  {
   "cell_type": "markdown",
   "id": "f579c494-89a8-4eb8-8c7a-5b292475bbad",
   "metadata": {},
   "source": [
    "#### Food-101"
   ]
  },
  {
   "cell_type": "code",
   "execution_count": 10,
   "id": "c4125475-fc23-4de4-a027-9276acfe4c41",
   "metadata": {},
   "outputs": [],
   "source": [
    "food101 = load_dataset('ethz/food101')\n",
    "clean_labels(food101, name='food101')\n",
    "food101_train = ImageDataset(\n",
    "    dataset=food101['train'],\n",
    "    processor=processor,\n",
    ")\n",
    "food101_validation = ImageDataset(\n",
    "    dataset=food101['validation'],\n",
    "    processor=processor,\n",
    ")"
   ]
  },
  {
   "cell_type": "markdown",
   "id": "aa696bc7-cf77-422d-b8b5-aa6d4ba36ecb",
   "metadata": {},
   "source": [
    "#### FER2013"
   ]
  },
  {
   "cell_type": "code",
   "execution_count": 12,
   "id": "ab5359eb-d83f-4f4a-8781-a3c51db8d14e",
   "metadata": {},
   "outputs": [],
   "source": [
    "fer2013 = load_dataset('AutumnQiu/fer2013')\n",
    "clean_labels(fer2013, name='fer2013')\n",
    "fer2013_train = ImageDataset(\n",
    "    dataset=fer2013['train'],\n",
    "    processor=processor,\n",
    ")\n",
    "fer2013_validation = ImageDataset(\n",
    "    dataset=fer2013['valid'],\n",
    "    processor=processor,\n",
    ")\n",
    "fer2013_test = ImageDataset(\n",
    "    dataset=fer2013['test'],\n",
    "    processor=processor,\n",
    ")"
   ]
  },
  {
   "cell_type": "markdown",
   "id": "00be0e0d-d98d-4f23-8354-8c7926da351b",
   "metadata": {},
   "source": [
    "#### PCam"
   ]
  },
  {
   "cell_type": "code",
   "execution_count": 14,
   "id": "a77d5802-a948-4f45-9382-5f47dc26f3f6",
   "metadata": {},
   "outputs": [],
   "source": [
    "pcam = load_dataset('zacharielegault/PatchCamelyon')\n",
    "clean_labels(pcam, name='pcam')\n",
    "pcam_train = ImageDataset(\n",
    "    dataset=pcam['train'],\n",
    "    processor=processor,\n",
    ")\n",
    "pcam_validation = ImageDataset(\n",
    "    dataset=pcam['validation'],\n",
    "    processor=processor,\n",
    ")\n",
    "pcam_test = ImageDataset(\n",
    "    dataset=pcam['test'],\n",
    "    processor=processor,\n",
    ")"
   ]
  },
  {
   "cell_type": "markdown",
   "id": "90851566-5ed0-4092-9de9-df1351eb9044",
   "metadata": {},
   "source": [
    "#### SUN397"
   ]
  },
  {
   "cell_type": "code",
   "execution_count": 16,
   "id": "e6174b7e-4b97-4b43-a6b2-57287060d6b5",
   "metadata": {},
   "outputs": [],
   "source": [
    "sun397 = load_dataset('dpdl-benchmark/sun397')\n",
    "clean_labels(sun397, name='sun397')\n",
    "sun397_train = ImageDataset(\n",
    "    dataset=sun397['train'],\n",
    "    processor=processor,\n",
    ")\n",
    "sun397_validation = ImageDataset(\n",
    "    dataset=sun397['validation'],\n",
    "    processor=processor,\n",
    ")\n",
    "sun397_test = ImageDataset(\n",
    "    dataset=sun397['test'],\n",
    "    processor=processor,\n",
    ")"
   ]
  },
  {
   "cell_type": "markdown",
   "id": "e46e6787-13e6-4353-98f4-b72b7e30cff8",
   "metadata": {},
   "source": [
    "#### DTD"
   ]
  },
  {
   "cell_type": "code",
   "execution_count": 18,
   "id": "47ad6f60-2240-4d21-b8a5-2d32bb770e14",
   "metadata": {},
   "outputs": [],
   "source": [
    "dtd = load_dataset('tanganke/dtd')\n",
    "clean_labels(dtd, name='dtd')\n",
    "dtd_train = ImageDataset(\n",
    "    dataset=dtd['train'],\n",
    "    processor=processor,\n",
    ")\n",
    "dtd_test = ImageDataset(\n",
    "    dataset=dtd['test'],\n",
    "    processor=processor,\n",
    ")"
   ]
  },
  {
   "cell_type": "markdown",
   "id": "d223a242-8f88-4025-990d-3f41b6866b0e",
   "metadata": {
    "jp-MarkdownHeadingCollapsed": true
   },
   "source": [
    "### Config"
   ]
  },
  {
   "cell_type": "markdown",
   "id": "a58d18e1-e2fd-4f41-ae8c-68f3b2799e9f",
   "metadata": {},
   "source": [
    "Create a config for experiments and print its settings."
   ]
  },
  {
   "cell_type": "code",
   "execution_count": 19,
   "id": "4737afbb-8aab-40d0-a49d-8ba7bbc3d1d4",
   "metadata": {},
   "outputs": [
    {
     "data": {
      "text/plain": [
       "{'device': 'cuda',\n",
       " 'criterion': CrossEntropyLoss(),\n",
       " 'batch_size': 8,\n",
       " 'lr': 2e-05,\n",
       " 'num_epochs': 10,\n",
       " 'optimizer': torch.optim.adamw.AdamW,\n",
       " 'weight_decay': 0.01}"
      ]
     },
     "execution_count": 19,
     "metadata": {},
     "output_type": "execute_result"
    }
   ],
   "source": [
    "from torch.optim import AdamW\n",
    "\n",
    "config = Config(\n",
    "    num_epochs=10, \n",
    "    lr=2e-5,\n",
    "    optimizer=AdamW,\n",
    "    weight_decay=1e-2\n",
    ")\n",
    "config.get_settings()"
   ]
  },
  {
   "cell_type": "markdown",
   "id": "4cadb2d2-e7b2-49b2-922b-b28aaad1d784",
   "metadata": {},
   "source": [
    "Create empty array to store dataset accuracies for each experiment."
   ]
  },
  {
   "cell_type": "code",
   "execution_count": 20,
   "id": "48fb8d03-6e0e-4f8e-a9e1-4c668e8c2886",
   "metadata": {},
   "outputs": [],
   "source": [
    "resisc45_accs = []\n",
    "food101_accs = []\n",
    "fer2013_accs = []\n",
    "pcam_accs = []\n",
    "sun397_accs = []\n",
    "dtd_accs = []"
   ]
  },
  {
   "cell_type": "markdown",
   "id": "cb4bf859-94d2-41d0-a52d-1262a8a7df98",
   "metadata": {},
   "source": [
    "### Fine-tuning\n"
   ]
  },
  {
   "cell_type": "markdown",
   "id": "eec9a894-daf5-4e22-9e7f-ccffc3e231ce",
   "metadata": {},
   "source": [
    "Train the entire model and all of its parameters on a new dataset."
   ]
  },
  {
   "cell_type": "markdown",
   "id": "baee4576-a479-4f39-9b16-52ea6623c52d",
   "metadata": {},
   "source": [
    "#### RESISC45"
   ]
  },
  {
   "cell_type": "code",
   "execution_count": 21,
   "id": "f903ac0f-8e0f-4b9e-ab7b-34728cae7c02",
   "metadata": {},
   "outputs": [
    {
     "name": "stderr",
     "output_type": "stream",
     "text": [
      "Some weights of ViTForImageClassification were not initialized from the model checkpoint at google/vit-base-patch16-224 and are newly initialized because the shapes did not match:\n",
      "- classifier.bias: found shape torch.Size([1000]) in the checkpoint and torch.Size([45]) in the model instantiated\n",
      "- classifier.weight: found shape torch.Size([1000, 768]) in the checkpoint and torch.Size([45, 768]) in the model instantiated\n",
      "You should probably TRAIN this model on a down-stream task to be able to use it for predictions and inference.\n"
     ]
    }
   ],
   "source": [
    "vit_resisc45 = Backbone(model_names['ViT'], num_classes=len(resisc45_train.get_labels()))"
   ]
  },
  {
   "cell_type": "code",
   "execution_count": 22,
   "id": "317d3558-f00b-4100-a17b-e4316653c01c",
   "metadata": {},
   "outputs": [
    {
     "name": "stdout",
     "output_type": "stream",
     "text": [
      "Parameters: 85.83M\n"
     ]
    }
   ],
   "source": [
    "get_model_params(vit_resisc45)"
   ]
  },
  {
   "cell_type": "code",
   "execution_count": 23,
   "id": "0dbdde30-69fe-41a0-92d4-4bbe8c24d6c7",
   "metadata": {},
   "outputs": [
    {
     "name": "stderr",
     "output_type": "stream",
     "text": [
      "100%|██████████| 2363/2363 [03:16<00:00, 12.03it/s]\n"
     ]
    },
    {
     "name": "stdout",
     "output_type": "stream",
     "text": [
      "Epochs: 1/10 | train_loss: 0.7344 | train_acc: 0.8369\n"
     ]
    },
    {
     "name": "stderr",
     "output_type": "stream",
     "text": [
      "100%|██████████| 2363/2363 [03:13<00:00, 12.22it/s]\n"
     ]
    },
    {
     "name": "stdout",
     "output_type": "stream",
     "text": [
      "Epochs: 2/10 | train_loss: 0.1138 | train_acc: 0.9690\n"
     ]
    },
    {
     "name": "stderr",
     "output_type": "stream",
     "text": [
      "100%|██████████| 2363/2363 [03:12<00:00, 12.27it/s]\n"
     ]
    },
    {
     "name": "stdout",
     "output_type": "stream",
     "text": [
      "Epochs: 3/10 | train_loss: 0.0440 | train_acc: 0.9886\n"
     ]
    },
    {
     "name": "stderr",
     "output_type": "stream",
     "text": [
      "100%|██████████| 2363/2363 [03:12<00:00, 12.27it/s]\n"
     ]
    },
    {
     "name": "stdout",
     "output_type": "stream",
     "text": [
      "Epochs: 4/10 | train_loss: 0.0250 | train_acc: 0.9935\n"
     ]
    },
    {
     "name": "stderr",
     "output_type": "stream",
     "text": [
      "100%|██████████| 2363/2363 [03:12<00:00, 12.30it/s]\n"
     ]
    },
    {
     "name": "stdout",
     "output_type": "stream",
     "text": [
      "Epochs: 5/10 | train_loss: 0.0201 | train_acc: 0.9947\n"
     ]
    },
    {
     "name": "stderr",
     "output_type": "stream",
     "text": [
      "100%|██████████| 2363/2363 [03:12<00:00, 12.27it/s]\n"
     ]
    },
    {
     "name": "stdout",
     "output_type": "stream",
     "text": [
      "Epochs: 6/10 | train_loss: 0.0184 | train_acc: 0.9946\n"
     ]
    },
    {
     "name": "stderr",
     "output_type": "stream",
     "text": [
      "100%|██████████| 2363/2363 [03:12<00:00, 12.28it/s]\n"
     ]
    },
    {
     "name": "stdout",
     "output_type": "stream",
     "text": [
      "Epochs: 7/10 | train_loss: 0.0154 | train_acc: 0.9961\n"
     ]
    },
    {
     "name": "stderr",
     "output_type": "stream",
     "text": [
      "100%|██████████| 2363/2363 [03:12<00:00, 12.28it/s]\n"
     ]
    },
    {
     "name": "stdout",
     "output_type": "stream",
     "text": [
      "Epochs: 8/10 | train_loss: 0.0145 | train_acc: 0.9960\n"
     ]
    },
    {
     "name": "stderr",
     "output_type": "stream",
     "text": [
      "100%|██████████| 2363/2363 [03:11<00:00, 12.31it/s]\n"
     ]
    },
    {
     "name": "stdout",
     "output_type": "stream",
     "text": [
      "Epochs: 9/10 | train_loss: 0.0135 | train_acc: 0.9964\n"
     ]
    },
    {
     "name": "stderr",
     "output_type": "stream",
     "text": [
      "100%|██████████| 2363/2363 [03:12<00:00, 12.25it/s]"
     ]
    },
    {
     "name": "stdout",
     "output_type": "stream",
     "text": [
      "Epochs: 10/10 | train_loss: 0.0150 | train_acc: 0.9961\n"
     ]
    },
    {
     "name": "stderr",
     "output_type": "stream",
     "text": [
      "\n"
     ]
    }
   ],
   "source": [
    "resisc45_loss, resisc45_acc, resisc45_per_class_acc = train_model(\n",
    "    vit_resisc45,\n",
    "    resisc45_train,\n",
    "    config,\n",
    "    'vit',\n",
    "    use_val=False,\n",
    "    fine_tune=True,\n",
    ")"
   ]
  },
  {
   "cell_type": "code",
   "execution_count": 24,
   "id": "7c799a30-5c03-44e1-8323-c25f4e8760ee",
   "metadata": {},
   "outputs": [
    {
     "name": "stderr",
     "output_type": "stream",
     "text": [
      "100%|██████████| 788/788 [00:23<00:00, 33.74it/s]"
     ]
    },
    {
     "name": "stdout",
     "output_type": "stream",
     "text": [
      "test_loss: 0.2228 | test_acc: 0.9460\n"
     ]
    },
    {
     "name": "stderr",
     "output_type": "stream",
     "text": [
      "\n"
     ]
    }
   ],
   "source": [
    "resisc45_loss, resisc45_acc, resisc45_per_class_acc = evaluate_model(\n",
    "    vit_resisc45,\n",
    "    resisc45_test,\n",
    "    config\n",
    ")"
   ]
  },
  {
   "cell_type": "code",
   "execution_count": 25,
   "id": "3e2e5a5e-fb90-470e-b9eb-36908a51337c",
   "metadata": {},
   "outputs": [],
   "source": [
    "resisc45_accs.append(resisc45_acc)"
   ]
  },
  {
   "cell_type": "code",
   "execution_count": 26,
   "id": "9adafef3-33e4-4bef-b5db-3b3b4a612b4d",
   "metadata": {},
   "outputs": [
    {
     "data": {
      "text/plain": [
       "[('harbor', 1.0),\n",
       " ('airplane', 0.9940828402366864),\n",
       " ('cloud', 0.9937106918238994),\n",
       " ('snowberg', 0.9937106918238994),\n",
       " ('sea ice', 0.9933774834437086)]"
      ]
     },
     "execution_count": 26,
     "metadata": {},
     "output_type": "execute_result"
    }
   ],
   "source": [
    "get_top_5_accuracies(resisc45_per_class_acc)"
   ]
  },
  {
   "cell_type": "code",
   "execution_count": 27,
   "id": "af397207-10e1-43e7-be5a-09d76453f83e",
   "metadata": {},
   "outputs": [
    {
     "data": {
      "text/plain": [
       "[('commercial area', 0.8214285714285714),\n",
       " ('palace', 0.8285714285714286),\n",
       " ('wetland', 0.8305084745762712),\n",
       " ('railway station', 0.8376623376623377),\n",
       " ('medium residential', 0.8503401360544217)]"
      ]
     },
     "execution_count": 27,
     "metadata": {},
     "output_type": "execute_result"
    }
   ],
   "source": [
    "get_bottom_5_accuracies(resisc45_per_class_acc)"
   ]
  },
  {
   "cell_type": "code",
   "execution_count": 28,
   "id": "69e0bdd9-c94d-4ef3-a914-bc4cedf25fb3",
   "metadata": {},
   "outputs": [
    {
     "data": {
      "image/png": "[encoded data removed]",
      "text/plain": [
       "<Figure size 1000x600 with 1 Axes>"
      ]
     },
     "metadata": {},
     "output_type": "display_data"
    }
   ],
   "source": [
    "plot_per_class_accuracies(\n",
    "    resisc45_per_class_acc,\n",
    "    'RESISC45',\n",
    "    num_bins=20\n",
    ")"
   ]
  },
  {
   "cell_type": "markdown",
   "id": "fe3c4b5f-1503-4c5e-986f-74e478b4b9be",
   "metadata": {},
   "source": [
    "#### Food-101"
   ]
  },
  {
   "cell_type": "code",
   "execution_count": 29,
   "id": "09e326fb-98b2-4be6-b8e7-a2f6795a9938",
   "metadata": {},
   "outputs": [
    {
     "name": "stderr",
     "output_type": "stream",
     "text": [
      "Some weights of ViTForImageClassification were not initialized from the model checkpoint at google/vit-base-patch16-224 and are newly initialized because the shapes did not match:\n",
      "- classifier.bias: found shape torch.Size([1000]) in the checkpoint and torch.Size([101]) in the model instantiated\n",
      "- classifier.weight: found shape torch.Size([1000, 768]) in the checkpoint and torch.Size([101, 768]) in the model instantiated\n",
      "You should probably TRAIN this model on a down-stream task to be able to use it for predictions and inference.\n"
     ]
    }
   ],
   "source": [
    "vit_food101 = Backbone(model_names['ViT'], num_classes=len(food101_train.get_labels()))"
   ]
  },
  {
   "cell_type": "code",
   "execution_count": 30,
   "id": "7c72e21c-5156-4f45-aad0-45861117e5bf",
   "metadata": {},
   "outputs": [
    {
     "name": "stdout",
     "output_type": "stream",
     "text": [
      "Parameters: 85.88M\n"
     ]
    }
   ],
   "source": [
    "get_model_params(vit_food101)"
   ]
  },
  {
   "cell_type": "code",
   "execution_count": 31,
   "id": "96573b52-e953-442a-b7d1-f89dcb5fc690",
   "metadata": {
    "editable": true,
    "slideshow": {
     "slide_type": ""
    },
    "tags": []
   },
   "outputs": [
    {
     "name": "stderr",
     "output_type": "stream",
     "text": [
      "  5%|▌         | 503/9469 [00:53<15:18,  9.77it/s]/usr/local/lib/python3.10/dist-packages/PIL/TiffImagePlugin.py:900: UserWarning: Truncated File Read\n",
      "  warnings.warn(str(msg))\n",
      "100%|██████████| 9469/9469 [15:10<00:00, 10.40it/s]\n"
     ]
    },
    {
     "name": "stdout",
     "output_type": "stream",
     "text": [
      "Epochs: 1/10 | train_loss: 1.0582 | train_acc: 0.7653\n"
     ]
    },
    {
     "name": "stderr",
     "output_type": "stream",
     "text": [
      "100%|██████████| 9469/9469 [14:55<00:00, 10.58it/s]\n"
     ]
    },
    {
     "name": "stdout",
     "output_type": "stream",
     "text": [
      "Epochs: 2/10 | train_loss: 0.3554 | train_acc: 0.9081\n"
     ]
    },
    {
     "name": "stderr",
     "output_type": "stream",
     "text": [
      "100%|██████████| 9469/9469 [14:55<00:00, 10.58it/s]\n"
     ]
    },
    {
     "name": "stdout",
     "output_type": "stream",
     "text": [
      "Epochs: 3/10 | train_loss: 0.1626 | train_acc: 0.9595\n"
     ]
    },
    {
     "name": "stderr",
     "output_type": "stream",
     "text": [
      "100%|██████████| 9469/9469 [14:57<00:00, 10.55it/s]\n"
     ]
    },
    {
     "name": "stdout",
     "output_type": "stream",
     "text": [
      "Epochs: 4/10 | train_loss: 0.0829 | train_acc: 0.9796\n"
     ]
    },
    {
     "name": "stderr",
     "output_type": "stream",
     "text": [
      "100%|██████████| 9469/9469 [14:53<00:00, 10.60it/s]\n"
     ]
    },
    {
     "name": "stdout",
     "output_type": "stream",
     "text": [
      "Epochs: 5/10 | train_loss: 0.0525 | train_acc: 0.9861\n"
     ]
    },
    {
     "name": "stderr",
     "output_type": "stream",
     "text": [
      "100%|██████████| 9469/9469 [14:56<00:00, 10.56it/s]\n"
     ]
    },
    {
     "name": "stdout",
     "output_type": "stream",
     "text": [
      "Epochs: 6/10 | train_loss: 0.0415 | train_acc: 0.9889\n"
     ]
    },
    {
     "name": "stderr",
     "output_type": "stream",
     "text": [
      "100%|██████████| 9469/9469 [14:55<00:00, 10.57it/s]\n"
     ]
    },
    {
     "name": "stdout",
     "output_type": "stream",
     "text": [
      "Epochs: 7/10 | train_loss: 0.0346 | train_acc: 0.9902\n"
     ]
    },
    {
     "name": "stderr",
     "output_type": "stream",
     "text": [
      "100%|██████████| 9469/9469 [14:56<00:00, 10.56it/s]\n"
     ]
    },
    {
     "name": "stdout",
     "output_type": "stream",
     "text": [
      "Epochs: 8/10 | train_loss: 0.0324 | train_acc: 0.9907\n"
     ]
    },
    {
     "name": "stderr",
     "output_type": "stream",
     "text": [
      "100%|██████████| 9469/9469 [14:54<00:00, 10.58it/s]\n"
     ]
    },
    {
     "name": "stdout",
     "output_type": "stream",
     "text": [
      "Epochs: 9/10 | train_loss: 0.0307 | train_acc: 0.9910\n"
     ]
    },
    {
     "name": "stderr",
     "output_type": "stream",
     "text": [
      "100%|██████████| 9469/9469 [14:56<00:00, 10.56it/s]\n"
     ]
    },
    {
     "name": "stdout",
     "output_type": "stream",
     "text": [
      "Epochs: 10/10 | train_loss: 0.0300 | train_acc: 0.9911\n"
     ]
    }
   ],
   "source": [
    "food101_loss, food101_acc, food101_per_class_acc = train_model(\n",
    "    vit_food101,\n",
    "    food101_train,\n",
    "    config,\n",
    "    'vit',\n",
    "    use_val=False,\n",
    "    fine_tune=True,\n",
    ")"
   ]
  },
  {
   "cell_type": "code",
   "execution_count": 32,
   "id": "1310fde3-0a76-445b-ab97-257c9852d42d",
   "metadata": {},
   "outputs": [
    {
     "name": "stderr",
     "output_type": "stream",
     "text": [
      "100%|██████████| 3157/3157 [02:11<00:00, 24.05it/s]\n"
     ]
    },
    {
     "name": "stdout",
     "output_type": "stream",
     "text": [
      "test_loss: 0.5987 | test_acc: 0.8779\n"
     ]
    }
   ],
   "source": [
    "food101_loss, food101_acc, food101_per_class_acc = evaluate_model(\n",
    "    vit_food101,\n",
    "    food101_validation,\n",
    "    config\n",
    ")"
   ]
  },
  {
   "cell_type": "code",
   "execution_count": 33,
   "id": "5908b734-1567-4fe2-869b-29d823a24c95",
   "metadata": {},
   "outputs": [],
   "source": [
    "food101_accs.append(food101_acc)"
   ]
  },
  {
   "cell_type": "code",
   "execution_count": 34,
   "id": "583e61a3-72e3-4dc3-9584-e5f32a03bc9f",
   "metadata": {},
   "outputs": [
    {
     "data": {
      "text/plain": [
       "[('edamame', 0.996),\n",
       " ('spaghetti carbonara', 0.98),\n",
       " ('macarons', 0.976),\n",
       " ('oysters', 0.976),\n",
       " ('pho', 0.968)]"
      ]
     },
     "execution_count": 34,
     "metadata": {},
     "output_type": "execute_result"
    }
   ],
   "source": [
    "get_top_5_accuracies(food101_per_class_acc)"
   ]
  },
  {
   "cell_type": "code",
   "execution_count": 35,
   "id": "bf792307-5279-48ba-a249-2de82fd02477",
   "metadata": {},
   "outputs": [
    {
     "data": {
      "text/plain": [
       "[('steak', 0.512),\n",
       " ('filet mignon', 0.696),\n",
       " ('cheesecake', 0.708),\n",
       " ('breakfast burrito', 0.716),\n",
       " ('apple pie', 0.72)]"
      ]
     },
     "execution_count": 35,
     "metadata": {},
     "output_type": "execute_result"
    }
   ],
   "source": [
    "get_bottom_5_accuracies(food101_per_class_acc)"
   ]
  },
  {
   "cell_type": "code",
   "execution_count": 36,
   "id": "38e78b1e-3642-4490-a5ba-55e5cbf51dbb",
   "metadata": {},
   "outputs": [
    {
     "data": {
      "image/png": "[encoded data removed]",
      "text/plain": [
       "<Figure size 1000x600 with 1 Axes>"
      ]
     },
     "metadata": {},
     "output_type": "display_data"
    }
   ],
   "source": [
    "plot_per_class_accuracies(\n",
    "    food101_per_class_acc,\n",
    "    'Food-101',\n",
    "    num_bins=20\n",
    ")"
   ]
  },
  {
   "cell_type": "markdown",
   "id": "6dace74f-0fd6-4360-9ce9-d51ee108aca5",
   "metadata": {},
   "source": [
    "#### FER2013"
   ]
  },
  {
   "cell_type": "code",
   "execution_count": 37,
   "id": "4ccac894-0b8f-4175-a12e-fb9ef4aee800",
   "metadata": {},
   "outputs": [
    {
     "name": "stderr",
     "output_type": "stream",
     "text": [
      "Some weights of ViTForImageClassification were not initialized from the model checkpoint at google/vit-base-patch16-224 and are newly initialized because the shapes did not match:\n",
      "- classifier.bias: found shape torch.Size([1000]) in the checkpoint and torch.Size([7]) in the model instantiated\n",
      "- classifier.weight: found shape torch.Size([1000, 768]) in the checkpoint and torch.Size([7, 768]) in the model instantiated\n",
      "You should probably TRAIN this model on a down-stream task to be able to use it for predictions and inference.\n"
     ]
    }
   ],
   "source": [
    "vit_fer2013 = Backbone(model_names['ViT'], num_classes=len(fer2013_train.get_labels()))"
   ]
  },
  {
   "cell_type": "code",
   "execution_count": 38,
   "id": "8b8d37f9-c7d0-473d-b851-7083163e54f2",
   "metadata": {},
   "outputs": [
    {
     "name": "stdout",
     "output_type": "stream",
     "text": [
      "Parameters: 85.80M\n"
     ]
    }
   ],
   "source": [
    "get_model_params(vit_fer2013)"
   ]
  },
  {
   "cell_type": "code",
   "execution_count": 40,
   "id": "8b98beb2-14be-468c-af77-17d9070867dc",
   "metadata": {
    "editable": true,
    "slideshow": {
     "slide_type": ""
    },
    "tags": []
   },
   "outputs": [
    {
     "name": "stderr",
     "output_type": "stream",
     "text": [
      "100%|██████████| 3589/3589 [04:37<00:00, 12.95it/s]\n"
     ]
    },
    {
     "name": "stdout",
     "output_type": "stream",
     "text": [
      "Epochs: 1/10 | train_loss: 1.0017 | train_acc: 0.6252\n"
     ]
    },
    {
     "name": "stderr",
     "output_type": "stream",
     "text": [
      "100%|██████████| 3589/3589 [04:36<00:00, 13.00it/s]\n"
     ]
    },
    {
     "name": "stdout",
     "output_type": "stream",
     "text": [
      "Epochs: 2/10 | train_loss: 0.7084 | train_acc: 0.7416\n"
     ]
    },
    {
     "name": "stderr",
     "output_type": "stream",
     "text": [
      "100%|██████████| 3589/3589 [04:36<00:00, 13.00it/s]\n"
     ]
    },
    {
     "name": "stdout",
     "output_type": "stream",
     "text": [
      "Epochs: 3/10 | train_loss: 0.4589 | train_acc: 0.8407\n"
     ]
    },
    {
     "name": "stderr",
     "output_type": "stream",
     "text": [
      "100%|██████████| 3589/3589 [04:36<00:00, 13.00it/s]\n"
     ]
    },
    {
     "name": "stdout",
     "output_type": "stream",
     "text": [
      "Epochs: 4/10 | train_loss: 0.2383 | train_acc: 0.9226\n"
     ]
    },
    {
     "name": "stderr",
     "output_type": "stream",
     "text": [
      "100%|██████████| 3589/3589 [04:36<00:00, 13.00it/s]\n"
     ]
    },
    {
     "name": "stdout",
     "output_type": "stream",
     "text": [
      "Epochs: 5/10 | train_loss: 0.1199 | train_acc: 0.9631\n"
     ]
    },
    {
     "name": "stderr",
     "output_type": "stream",
     "text": [
      "100%|██████████| 3589/3589 [04:36<00:00, 12.99it/s]\n"
     ]
    },
    {
     "name": "stdout",
     "output_type": "stream",
     "text": [
      "Epochs: 6/10 | train_loss: 0.0816 | train_acc: 0.9751\n"
     ]
    },
    {
     "name": "stderr",
     "output_type": "stream",
     "text": [
      "100%|██████████| 3589/3589 [04:36<00:00, 12.96it/s]\n"
     ]
    },
    {
     "name": "stdout",
     "output_type": "stream",
     "text": [
      "Epochs: 7/10 | train_loss: 0.0670 | train_acc: 0.9797\n"
     ]
    },
    {
     "name": "stderr",
     "output_type": "stream",
     "text": [
      "100%|██████████| 3589/3589 [04:36<00:00, 12.99it/s]\n"
     ]
    },
    {
     "name": "stdout",
     "output_type": "stream",
     "text": [
      "Epochs: 8/10 | train_loss: 0.0596 | train_acc: 0.9812\n"
     ]
    },
    {
     "name": "stderr",
     "output_type": "stream",
     "text": [
      "100%|██████████| 3589/3589 [04:36<00:00, 12.99it/s]\n"
     ]
    },
    {
     "name": "stdout",
     "output_type": "stream",
     "text": [
      "Epochs: 9/10 | train_loss: 0.0553 | train_acc: 0.9816\n"
     ]
    },
    {
     "name": "stderr",
     "output_type": "stream",
     "text": [
      "100%|██████████| 3589/3589 [04:36<00:00, 12.99it/s]"
     ]
    },
    {
     "name": "stdout",
     "output_type": "stream",
     "text": [
      "Epochs: 10/10 | train_loss: 0.0505 | train_acc: 0.9844\n"
     ]
    },
    {
     "name": "stderr",
     "output_type": "stream",
     "text": [
      "\n"
     ]
    }
   ],
   "source": [
    "fer2013_loss, fer2013_acc, fer2013_per_class_acc = train_model(\n",
    "    vit_fer2013,\n",
    "    fer2013_train,\n",
    "    config,\n",
    "    'vit',\n",
    "    use_val=False,\n",
    "    fine_tune=True,\n",
    ")"
   ]
  },
  {
   "cell_type": "code",
   "execution_count": 41,
   "id": "ed2c9c07-6f5b-4775-89e1-9a71073d9a8e",
   "metadata": {
    "editable": true,
    "slideshow": {
     "slide_type": ""
    },
    "tags": []
   },
   "outputs": [
    {
     "name": "stderr",
     "output_type": "stream",
     "text": [
      "100%|██████████| 449/449 [00:11<00:00, 40.37it/s]"
     ]
    },
    {
     "name": "stdout",
     "output_type": "stream",
     "text": [
      "test_loss: 1.5437 | test_acc: 0.6977\n"
     ]
    },
    {
     "name": "stderr",
     "output_type": "stream",
     "text": [
      "\n"
     ]
    }
   ],
   "source": [
    "fer2013_loss, fer2013_acc, fer2013_per_class_acc = evaluate_model(\n",
    "    vit_fer2013,\n",
    "    fer2013_test,\n",
    "    config\n",
    ")"
   ]
  },
  {
   "cell_type": "code",
   "execution_count": 42,
   "id": "a1e1fc0e-7d12-42d9-814e-841195168061",
   "metadata": {},
   "outputs": [],
   "source": [
    "fer2013_accs.append(fer2013_acc)"
   ]
  },
  {
   "cell_type": "code",
   "execution_count": 43,
   "id": "77115768-c83e-4d7e-8753-d602ca47bbd3",
   "metadata": {},
   "outputs": [
    {
     "data": {
      "text/plain": [
       "{'angry': 0.6456211812627292,\n",
       " 'disgust': 0.7272727272727273,\n",
       " 'fear': 0.5492424242424242,\n",
       " 'happy': 0.9078498293515358,\n",
       " 'sad': 0.6094276094276094,\n",
       " 'surprise': 0.7644230769230769,\n",
       " 'neutral': 0.6054313099041534}"
      ]
     },
     "execution_count": 43,
     "metadata": {},
     "output_type": "execute_result"
    }
   ],
   "source": [
    "fer2013_per_class_acc"
   ]
  },
  {
   "cell_type": "code",
   "execution_count": 44,
   "id": "b687c37b-c987-45fe-862e-2f85abecef34",
   "metadata": {},
   "outputs": [
    {
     "data": {
      "image/png": "[encoded data removed]",
      "text/plain": [
       "<Figure size 1000x600 with 1 Axes>"
      ]
     },
     "metadata": {},
     "output_type": "display_data"
    }
   ],
   "source": [
    "plot_per_class_accuracies(\n",
    "    fer2013_per_class_acc,\n",
    "    'FER2013',\n",
    "    num_bins=20\n",
    ")"
   ]
  },
  {
   "cell_type": "markdown",
   "id": "ae722f72-87dc-44b7-9342-f69576d9f99a",
   "metadata": {},
   "source": [
    "#### PCam"
   ]
  },
  {
   "cell_type": "code",
   "execution_count": 45,
   "id": "05746506-b93d-4025-90a1-f265d6f82923",
   "metadata": {},
   "outputs": [
    {
     "name": "stderr",
     "output_type": "stream",
     "text": [
      "Some weights of ViTForImageClassification were not initialized from the model checkpoint at google/vit-base-patch16-224 and are newly initialized because the shapes did not match:\n",
      "- classifier.bias: found shape torch.Size([1000]) in the checkpoint and torch.Size([2]) in the model instantiated\n",
      "- classifier.weight: found shape torch.Size([1000, 768]) in the checkpoint and torch.Size([2, 768]) in the model instantiated\n",
      "You should probably TRAIN this model on a down-stream task to be able to use it for predictions and inference.\n"
     ]
    }
   ],
   "source": [
    "vit_pcam = Backbone(model_names['ViT'], num_classes=len(pcam_train.get_labels()))"
   ]
  },
  {
   "cell_type": "code",
   "execution_count": 46,
   "id": "46559a21-385f-47b3-b87e-9fa540a44dc4",
   "metadata": {},
   "outputs": [
    {
     "name": "stdout",
     "output_type": "stream",
     "text": [
      "Parameters: 85.80M\n"
     ]
    }
   ],
   "source": [
    "get_model_params(vit_pcam)"
   ]
  },
  {
   "cell_type": "code",
   "execution_count": 47,
   "id": "885ecbb5-354b-4c8f-8562-0ef6b1cd9c61",
   "metadata": {},
   "outputs": [
    {
     "name": "stderr",
     "output_type": "stream",
     "text": [
      "100%|██████████| 32768/32768 [43:28<00:00, 12.56it/s]\n"
     ]
    },
    {
     "name": "stdout",
     "output_type": "stream",
     "text": [
      "Epochs: 1/10 | train_loss: 0.1114 | train_acc: 0.9599\n"
     ]
    },
    {
     "name": "stderr",
     "output_type": "stream",
     "text": [
      "100%|██████████| 32768/32768 [43:30<00:00, 12.55it/s]\n"
     ]
    },
    {
     "name": "stdout",
     "output_type": "stream",
     "text": [
      "Epochs: 2/10 | train_loss: 0.0547 | train_acc: 0.9816\n"
     ]
    },
    {
     "name": "stderr",
     "output_type": "stream",
     "text": [
      "100%|██████████| 32768/32768 [43:36<00:00, 12.52it/s]\n"
     ]
    },
    {
     "name": "stdout",
     "output_type": "stream",
     "text": [
      "Epochs: 3/10 | train_loss: 0.0331 | train_acc: 0.9889\n"
     ]
    },
    {
     "name": "stderr",
     "output_type": "stream",
     "text": [
      "100%|██████████| 32768/32768 [43:58<00:00, 12.42it/s]\n"
     ]
    },
    {
     "name": "stdout",
     "output_type": "stream",
     "text": [
      "Epochs: 4/10 | train_loss: 0.0225 | train_acc: 0.9923\n"
     ]
    },
    {
     "name": "stderr",
     "output_type": "stream",
     "text": [
      "100%|██████████| 32768/32768 [43:50<00:00, 12.45it/s]\n"
     ]
    },
    {
     "name": "stdout",
     "output_type": "stream",
     "text": [
      "Epochs: 5/10 | train_loss: 0.0176 | train_acc: 0.9940\n"
     ]
    },
    {
     "name": "stderr",
     "output_type": "stream",
     "text": [
      "100%|██████████| 32768/32768 [43:35<00:00, 12.53it/s]\n"
     ]
    },
    {
     "name": "stdout",
     "output_type": "stream",
     "text": [
      "Epochs: 6/10 | train_loss: 0.0148 | train_acc: 0.9951\n"
     ]
    },
    {
     "name": "stderr",
     "output_type": "stream",
     "text": [
      "100%|██████████| 32768/32768 [43:44<00:00, 12.49it/s]\n"
     ]
    },
    {
     "name": "stdout",
     "output_type": "stream",
     "text": [
      "Epochs: 7/10 | train_loss: 0.0129 | train_acc: 0.9957\n"
     ]
    },
    {
     "name": "stderr",
     "output_type": "stream",
     "text": [
      "100%|██████████| 32768/32768 [43:40<00:00, 12.51it/s]\n"
     ]
    },
    {
     "name": "stdout",
     "output_type": "stream",
     "text": [
      "Epochs: 8/10 | train_loss: 0.0119 | train_acc: 0.9961\n"
     ]
    },
    {
     "name": "stderr",
     "output_type": "stream",
     "text": [
      "100%|██████████| 32768/32768 [43:29<00:00, 12.56it/s]\n"
     ]
    },
    {
     "name": "stdout",
     "output_type": "stream",
     "text": [
      "Epochs: 9/10 | train_loss: 0.0113 | train_acc: 0.9964\n"
     ]
    },
    {
     "name": "stderr",
     "output_type": "stream",
     "text": [
      "100%|██████████| 32768/32768 [43:23<00:00, 12.59it/s]\n"
     ]
    },
    {
     "name": "stdout",
     "output_type": "stream",
     "text": [
      "Epochs: 10/10 | train_loss: 0.0104 | train_acc: 0.9965\n"
     ]
    }
   ],
   "source": [
    "pcam_loss, pcam_acc, pcam_per_class_acc = train_model(\n",
    "    vit_pcam,\n",
    "    pcam_train,\n",
    "    config,\n",
    "    'vit',\n",
    "    use_val=False,\n",
    "    fine_tune=True,\n",
    ")"
   ]
  },
  {
   "cell_type": "code",
   "execution_count": 48,
   "id": "94d4af2c-3bb4-41a2-be2f-a86cccd2b3a1",
   "metadata": {},
   "outputs": [
    {
     "name": "stderr",
     "output_type": "stream",
     "text": [
      "100%|██████████| 4096/4096 [01:48<00:00, 37.75it/s]"
     ]
    },
    {
     "name": "stdout",
     "output_type": "stream",
     "text": [
      "test_loss: 0.6349 | test_acc: 0.8887\n"
     ]
    },
    {
     "name": "stderr",
     "output_type": "stream",
     "text": [
      "\n"
     ]
    }
   ],
   "source": [
    "pcam_loss, pcam_acc, pcam_per_class_acc = evaluate_model(\n",
    "    vit_pcam,\n",
    "    pcam_test,\n",
    "    config\n",
    ")"
   ]
  },
  {
   "cell_type": "code",
   "execution_count": 49,
   "id": "4e18eae0-58f0-456e-a5d3-76565fb5fc2f",
   "metadata": {},
   "outputs": [],
   "source": [
    "pcam_accs.append(pcam_acc)"
   ]
  },
  {
   "cell_type": "code",
   "execution_count": 50,
   "id": "0324390a-1173-4f42-a515-e9a0acf495bc",
   "metadata": {},
   "outputs": [
    {
     "data": {
      "text/plain": [
       "{'healthy lymph node tissue': 0.9744371911414801,\n",
       " 'lymph node tumor tissue': 0.8028943029858948}"
      ]
     },
     "execution_count": 50,
     "metadata": {},
     "output_type": "execute_result"
    }
   ],
   "source": [
    "pcam_per_class_acc"
   ]
  },
  {
   "cell_type": "code",
   "execution_count": 51,
   "id": "6d73cb17-9a79-4fcb-a5bc-1cdc01c34f10",
   "metadata": {},
   "outputs": [
    {
     "data": {
      "image/png": "[encoded data removed]",
      "text/plain": [
       "<Figure size 1000x600 with 1 Axes>"
      ]
     },
     "metadata": {},
     "output_type": "display_data"
    }
   ],
   "source": [
    "plot_per_class_accuracies(\n",
    "    pcam_per_class_acc,\n",
    "    'PatchCamelyon',\n",
    "    num_bins=20\n",
    ")"
   ]
  },
  {
   "cell_type": "markdown",
   "id": "93af562d-1712-465d-bab3-4eeb72d02569",
   "metadata": {},
   "source": [
    "#### SUN397"
   ]
  },
  {
   "cell_type": "code",
   "execution_count": 52,
   "id": "1cf260ec-de4b-473d-8fee-dba06b312f70",
   "metadata": {},
   "outputs": [
    {
     "name": "stderr",
     "output_type": "stream",
     "text": [
      "Some weights of ViTForImageClassification were not initialized from the model checkpoint at google/vit-base-patch16-224 and are newly initialized because the shapes did not match:\n",
      "- classifier.bias: found shape torch.Size([1000]) in the checkpoint and torch.Size([397]) in the model instantiated\n",
      "- classifier.weight: found shape torch.Size([1000, 768]) in the checkpoint and torch.Size([397, 768]) in the model instantiated\n",
      "You should probably TRAIN this model on a down-stream task to be able to use it for predictions and inference.\n"
     ]
    }
   ],
   "source": [
    "vit_sun397 = Backbone(model_names['ViT'], num_classes=len(sun397_train.get_labels()))"
   ]
  },
  {
   "cell_type": "code",
   "execution_count": 53,
   "id": "7dbc1cef-fee3-46c9-8d6d-af3eca2a3673",
   "metadata": {},
   "outputs": [
    {
     "name": "stdout",
     "output_type": "stream",
     "text": [
      "Parameters: 86.10M\n"
     ]
    }
   ],
   "source": [
    "get_model_params(vit_sun397)"
   ]
  },
  {
   "cell_type": "code",
   "execution_count": 54,
   "id": "3589b9ef-9a74-4f54-ab29-eb763b77c3db",
   "metadata": {},
   "outputs": [
    {
     "name": "stderr",
     "output_type": "stream",
     "text": [
      "100%|██████████| 9516/9516 [17:38<00:00,  8.99it/s]\n"
     ]
    },
    {
     "name": "stdout",
     "output_type": "stream",
     "text": [
      "Epochs: 1/10 | train_loss: 1.8764 | train_acc: 0.6264\n"
     ]
    },
    {
     "name": "stderr",
     "output_type": "stream",
     "text": [
      "100%|██████████| 9516/9516 [16:14<00:00,  9.77it/s]\n"
     ]
    },
    {
     "name": "stdout",
     "output_type": "stream",
     "text": [
      "Epochs: 2/10 | train_loss: 0.6001 | train_acc: 0.8353\n"
     ]
    },
    {
     "name": "stderr",
     "output_type": "stream",
     "text": [
      "100%|██████████| 9516/9516 [16:21<00:00,  9.69it/s]\n"
     ]
    },
    {
     "name": "stdout",
     "output_type": "stream",
     "text": [
      "Epochs: 3/10 | train_loss: 0.3093 | train_acc: 0.9125\n"
     ]
    },
    {
     "name": "stderr",
     "output_type": "stream",
     "text": [
      "100%|██████████| 9516/9516 [16:13<00:00,  9.77it/s]\n"
     ]
    },
    {
     "name": "stdout",
     "output_type": "stream",
     "text": [
      "Epochs: 4/10 | train_loss: 0.1541 | train_acc: 0.9585\n"
     ]
    },
    {
     "name": "stderr",
     "output_type": "stream",
     "text": [
      "100%|██████████| 9516/9516 [16:13<00:00,  9.78it/s]\n"
     ]
    },
    {
     "name": "stdout",
     "output_type": "stream",
     "text": [
      "Epochs: 5/10 | train_loss: 0.0813 | train_acc: 0.9795\n"
     ]
    },
    {
     "name": "stderr",
     "output_type": "stream",
     "text": [
      "100%|██████████| 9516/9516 [16:15<00:00,  9.75it/s]\n"
     ]
    },
    {
     "name": "stdout",
     "output_type": "stream",
     "text": [
      "Epochs: 6/10 | train_loss: 0.0582 | train_acc: 0.9845\n"
     ]
    },
    {
     "name": "stderr",
     "output_type": "stream",
     "text": [
      "100%|██████████| 9516/9516 [16:26<00:00,  9.64it/s]\n"
     ]
    },
    {
     "name": "stdout",
     "output_type": "stream",
     "text": [
      "Epochs: 7/10 | train_loss: 0.0418 | train_acc: 0.9893\n"
     ]
    },
    {
     "name": "stderr",
     "output_type": "stream",
     "text": [
      "100%|██████████| 9516/9516 [16:22<00:00,  9.69it/s]\n"
     ]
    },
    {
     "name": "stdout",
     "output_type": "stream",
     "text": [
      "Epochs: 8/10 | train_loss: 0.0412 | train_acc: 0.9884\n"
     ]
    },
    {
     "name": "stderr",
     "output_type": "stream",
     "text": [
      "100%|██████████| 9516/9516 [16:07<00:00,  9.84it/s]\n"
     ]
    },
    {
     "name": "stdout",
     "output_type": "stream",
     "text": [
      "Epochs: 9/10 | train_loss: 0.0349 | train_acc: 0.9905\n"
     ]
    },
    {
     "name": "stderr",
     "output_type": "stream",
     "text": [
      "100%|██████████| 9516/9516 [16:06<00:00,  9.85it/s]\n"
     ]
    },
    {
     "name": "stdout",
     "output_type": "stream",
     "text": [
      "Epochs: 10/10 | train_loss: 0.0328 | train_acc: 0.9907\n"
     ]
    }
   ],
   "source": [
    "sun397_loss, sun397_acc, sun397_per_class_acc = train_model(\n",
    "    vit_sun397,\n",
    "    sun397_train,\n",
    "    config,\n",
    "    'vit',\n",
    "    use_val=False,\n",
    "    fine_tune=True,\n",
    ")"
   ]
  },
  {
   "cell_type": "code",
   "execution_count": 55,
   "id": "2792c72b-006f-4fd9-af19-7a23144c2776",
   "metadata": {},
   "outputs": [
    {
     "name": "stderr",
     "output_type": "stream",
     "text": [
      "100%|██████████| 2719/2719 [02:19<00:00, 19.48it/s]\n"
     ]
    },
    {
     "name": "stdout",
     "output_type": "stream",
     "text": [
      "test_loss: 1.2232 | test_acc: 0.7635\n"
     ]
    }
   ],
   "source": [
    "sun397_loss, sun397_acc, sun397_per_class_acc = evaluate_model(\n",
    "    vit_sun397,\n",
    "    sun397_test,\n",
    "    config\n",
    ")"
   ]
  },
  {
   "cell_type": "code",
   "execution_count": 56,
   "id": "d39645d6-fc7d-446a-9981-333b31dd326d",
   "metadata": {},
   "outputs": [],
   "source": [
    "sun397_accs.append(sun397_acc)"
   ]
  },
  {
   "cell_type": "code",
   "execution_count": 57,
   "id": "df14cd76-f403-4702-a9b5-f63991ce04d9",
   "metadata": {},
   "outputs": [
    {
     "data": {
      "text/plain": [
       "[('arrival gate (outdoor)', 1.0),\n",
       " ('discotheque', 1.0),\n",
       " ('ice skating rink (indoor)', 1.0),\n",
       " ('sauna', 1.0),\n",
       " ('track (outdoor)', 1.0)]"
      ]
     },
     "execution_count": 57,
     "metadata": {},
     "output_type": "execute_result"
    }
   ],
   "source": [
    "get_top_5_accuracies(sun397_per_class_acc)"
   ]
  },
  {
   "cell_type": "code",
   "execution_count": 58,
   "id": "31d9bf8d-a686-4dc0-bad5-7681e66ddb9e",
   "metadata": {},
   "outputs": [
    {
     "data": {
      "text/plain": [
       "[('bistro (indoor)', 0.0),\n",
       " ('pub (indoor)', 0.12121212121212122),\n",
       " ('valley', 0.15),\n",
       " ('inn (outdoor)', 0.1724137931034483),\n",
       " ('biology laboratory', 0.18181818181818182)]"
      ]
     },
     "execution_count": 58,
     "metadata": {},
     "output_type": "execute_result"
    }
   ],
   "source": [
    "get_bottom_5_accuracies(sun397_per_class_acc)"
   ]
  },
  {
   "cell_type": "code",
   "execution_count": 59,
   "id": "2d78a624-a6fc-4a15-acbd-0b14cb5a51cc",
   "metadata": {},
   "outputs": [
    {
     "data": {
      "image/png": "[encoded data removed]",
      "text/plain": [
       "<Figure size 1000x600 with 1 Axes>"
      ]
     },
     "metadata": {},
     "output_type": "display_data"
    }
   ],
   "source": [
    "plot_per_class_accuracies(\n",
    "    sun397_per_class_acc,\n",
    "    'SUN397',\n",
    "    num_bins=20\n",
    ")"
   ]
  },
  {
   "cell_type": "markdown",
   "id": "f3c9a504-65a4-4bdb-83bf-1f0d86fa8f47",
   "metadata": {},
   "source": [
    "#### DTD"
   ]
  },
  {
   "cell_type": "code",
   "execution_count": 60,
   "id": "5e33a355-31ee-4b2d-83c4-9473daed2d76",
   "metadata": {},
   "outputs": [
    {
     "name": "stderr",
     "output_type": "stream",
     "text": [
      "Some weights of ViTForImageClassification were not initialized from the model checkpoint at google/vit-base-patch16-224 and are newly initialized because the shapes did not match:\n",
      "- classifier.bias: found shape torch.Size([1000]) in the checkpoint and torch.Size([47]) in the model instantiated\n",
      "- classifier.weight: found shape torch.Size([1000, 768]) in the checkpoint and torch.Size([47, 768]) in the model instantiated\n",
      "You should probably TRAIN this model on a down-stream task to be able to use it for predictions and inference.\n"
     ]
    }
   ],
   "source": [
    "vit_dtd = Backbone(model_names['ViT'], num_classes=len(dtd_train.get_labels()))"
   ]
  },
  {
   "cell_type": "code",
   "execution_count": 61,
   "id": "1747f40f-63d8-4acd-b971-93e2b4877431",
   "metadata": {},
   "outputs": [
    {
     "name": "stdout",
     "output_type": "stream",
     "text": [
      "Parameters: 85.83M\n"
     ]
    }
   ],
   "source": [
    "get_model_params(vit_dtd)"
   ]
  },
  {
   "cell_type": "code",
   "execution_count": 62,
   "id": "d82e9167-814d-4c4e-816d-3c00ab5ecd96",
   "metadata": {},
   "outputs": [
    {
     "name": "stderr",
     "output_type": "stream",
     "text": [
      "100%|██████████| 470/470 [00:48<00:00,  9.61it/s]\n"
     ]
    },
    {
     "name": "stdout",
     "output_type": "stream",
     "text": [
      "Epochs: 1/10 | train_loss: 2.6975 | train_acc: 0.4186\n"
     ]
    },
    {
     "name": "stderr",
     "output_type": "stream",
     "text": [
      "100%|██████████| 470/470 [00:46<00:00, 10.07it/s]\n"
     ]
    },
    {
     "name": "stdout",
     "output_type": "stream",
     "text": [
      "Epochs: 2/10 | train_loss: 0.9474 | train_acc: 0.8295\n"
     ]
    },
    {
     "name": "stderr",
     "output_type": "stream",
     "text": [
      "100%|██████████| 470/470 [00:47<00:00, 10.00it/s]\n"
     ]
    },
    {
     "name": "stdout",
     "output_type": "stream",
     "text": [
      "Epochs: 3/10 | train_loss: 0.3699 | train_acc: 0.9465\n"
     ]
    },
    {
     "name": "stderr",
     "output_type": "stream",
     "text": [
      "100%|██████████| 470/470 [00:46<00:00, 10.09it/s]\n"
     ]
    },
    {
     "name": "stdout",
     "output_type": "stream",
     "text": [
      "Epochs: 4/10 | train_loss: 0.1447 | train_acc: 0.9910\n"
     ]
    },
    {
     "name": "stderr",
     "output_type": "stream",
     "text": [
      "100%|██████████| 470/470 [00:46<00:00, 10.12it/s]\n"
     ]
    },
    {
     "name": "stdout",
     "output_type": "stream",
     "text": [
      "Epochs: 5/10 | train_loss: 0.0614 | train_acc: 0.9984\n"
     ]
    },
    {
     "name": "stderr",
     "output_type": "stream",
     "text": [
      "100%|██████████| 470/470 [00:47<00:00,  9.92it/s]\n"
     ]
    },
    {
     "name": "stdout",
     "output_type": "stream",
     "text": [
      "Epochs: 6/10 | train_loss: 0.0307 | train_acc: 0.9995\n"
     ]
    },
    {
     "name": "stderr",
     "output_type": "stream",
     "text": [
      "100%|██████████| 470/470 [00:49<00:00,  9.42it/s]\n"
     ]
    },
    {
     "name": "stdout",
     "output_type": "stream",
     "text": [
      "Epochs: 7/10 | train_loss: 0.0264 | train_acc: 0.9979\n"
     ]
    },
    {
     "name": "stderr",
     "output_type": "stream",
     "text": [
      "100%|██████████| 470/470 [00:47<00:00,  9.85it/s]\n"
     ]
    },
    {
     "name": "stdout",
     "output_type": "stream",
     "text": [
      "Epochs: 8/10 | train_loss: 0.0158 | train_acc: 0.9992\n"
     ]
    },
    {
     "name": "stderr",
     "output_type": "stream",
     "text": [
      "100%|██████████| 470/470 [00:47<00:00,  9.96it/s]\n"
     ]
    },
    {
     "name": "stdout",
     "output_type": "stream",
     "text": [
      "Epochs: 9/10 | train_loss: 0.0090 | train_acc: 1.0000\n"
     ]
    },
    {
     "name": "stderr",
     "output_type": "stream",
     "text": [
      "100%|██████████| 470/470 [00:47<00:00,  9.83it/s]"
     ]
    },
    {
     "name": "stdout",
     "output_type": "stream",
     "text": [
      "Epochs: 10/10 | train_loss: 0.0059 | train_acc: 1.0000\n"
     ]
    },
    {
     "name": "stderr",
     "output_type": "stream",
     "text": [
      "\n"
     ]
    }
   ],
   "source": [
    "dtd_loss, dtd_acc, dtd_per_class_acc = train_model(\n",
    "    vit_dtd,\n",
    "    dtd_train,\n",
    "    config,\n",
    "    'vit',\n",
    "    use_val=False,\n",
    "    fine_tune=True,\n",
    ")"
   ]
  },
  {
   "cell_type": "code",
   "execution_count": 63,
   "id": "97a6a937-9c39-4f10-a27b-cf93ac3315f8",
   "metadata": {},
   "outputs": [
    {
     "name": "stderr",
     "output_type": "stream",
     "text": [
      "100%|██████████| 235/235 [00:11<00:00, 20.77it/s]"
     ]
    },
    {
     "name": "stdout",
     "output_type": "stream",
     "text": [
      "test_loss: 0.8293 | test_acc: 0.7888\n"
     ]
    },
    {
     "name": "stderr",
     "output_type": "stream",
     "text": [
      "\n"
     ]
    }
   ],
   "source": [
    "dtd_loss, dtd_acc, dtd_per_class_acc = evaluate_model(\n",
    "    vit_dtd,\n",
    "    dtd_test,\n",
    "    config\n",
    ")"
   ]
  },
  {
   "cell_type": "code",
   "execution_count": 64,
   "id": "ac0707c4-f897-40fd-bc5a-db9a97e120e1",
   "metadata": {},
   "outputs": [],
   "source": [
    "dtd_accs.append(dtd_acc)"
   ]
  },
  {
   "cell_type": "code",
   "execution_count": 65,
   "id": "69376f22-46cd-443f-aea7-c4ab1664ec4e",
   "metadata": {},
   "outputs": [
    {
     "data": {
      "text/plain": [
       "[('chequered', 0.975),\n",
       " ('cobwebbed', 0.975),\n",
       " ('crystalline', 0.975),\n",
       " ('knitted', 0.95),\n",
       " ('studded', 0.95)]"
      ]
     },
     "execution_count": 65,
     "metadata": {},
     "output_type": "execute_result"
    }
   ],
   "source": [
    "get_top_5_accuracies(dtd_per_class_acc)"
   ]
  },
  {
   "cell_type": "code",
   "execution_count": 66,
   "id": "1d1d0846-38f6-47c9-9648-204c1724dcb2",
   "metadata": {},
   "outputs": [
    {
     "data": {
      "text/plain": [
       "[('blotchy', 0.4),\n",
       " ('stained', 0.425),\n",
       " ('woven', 0.425),\n",
       " ('pitted', 0.575),\n",
       " ('bumpy', 0.6)]"
      ]
     },
     "execution_count": 66,
     "metadata": {},
     "output_type": "execute_result"
    }
   ],
   "source": [
    "get_bottom_5_accuracies(dtd_per_class_acc)"
   ]
  },
  {
   "cell_type": "code",
   "execution_count": 67,
   "id": "e439f1d9-5b2f-4c9e-b4ba-60661674d540",
   "metadata": {},
   "outputs": [
    {
     "data": {
      "image/png": "[encoded data removed]",
      "text/plain": [
       "<Figure size 1000x600 with 1 Axes>"
      ]
     },
     "metadata": {},
     "output_type": "display_data"
    }
   ],
   "source": [
    "plot_per_class_accuracies(\n",
    "    dtd_per_class_acc,\n",
    "    'DTD',\n",
    "    num_bins=20\n",
    ")"
   ]
  },
  {
   "cell_type": "markdown",
   "id": "a163a182-bbd6-41b8-8a2c-9f8646512d7b",
   "metadata": {},
   "source": [
    "### Results"
   ]
  },
  {
   "cell_type": "markdown",
   "id": "e85011f4-8072-4569-91a3-41ea18a5bf38",
   "metadata": {},
   "source": [
    "Display the results of the analysis in dataframe."
   ]
  },
  {
   "cell_type": "code",
   "execution_count": 68,
   "id": "187e9a38-26b1-4057-8801-563a5df82909",
   "metadata": {},
   "outputs": [],
   "source": [
    "results = [\n",
    "    resisc45_accs,\n",
    "    food101_accs,\n",
    "    fer2013_accs,\n",
    "    pcam_accs,\n",
    "    sun397_accs,\n",
    "    dtd_accs,\n",
    "]"
   ]
  },
  {
   "cell_type": "code",
   "execution_count": 69,
   "id": "df2be8ba-934d-4297-887d-4ac062bd432a",
   "metadata": {},
   "outputs": [],
   "source": [
    "labels = ['RESISC45', 'Food-101', 'FER2013', 'PatchCamelyon', 'SUN397', 'DTD']"
   ]
  },
  {
   "cell_type": "code",
   "execution_count": 70,
   "id": "8a7e4051-5df7-4cfb-bd85-b61b4ef7d62a",
   "metadata": {},
   "outputs": [],
   "source": [
    "acc_dict = create_accuracy_dict(\n",
    "    results,\n",
    "    labels\n",
    ")"
   ]
  },
  {
   "cell_type": "code",
   "execution_count": 71,
   "id": "8246a56c-e386-4dcf-8b66-a233f7918938",
   "metadata": {},
   "outputs": [
    {
     "data": {
      "text/html": [
       "<div>\n",
       "<style scoped>\n",
       "    .dataframe tbody tr th:only-of-type {\n",
       "        vertical-align: middle;\n",
       "    }\n",
       "\n",
       "    .dataframe tbody tr th {\n",
       "        vertical-align: top;\n",
       "    }\n",
       "\n",
       "    .dataframe thead th {\n",
       "        text-align: right;\n",
       "    }\n",
       "</style>\n",
       "<table border=\"1\" class=\"dataframe\">\n",
       "  <thead>\n",
       "    <tr style=\"text-align: right;\">\n",
       "      <th></th>\n",
       "      <th>fine-tuning</th>\n",
       "    </tr>\n",
       "  </thead>\n",
       "  <tbody>\n",
       "    <tr>\n",
       "      <th>RESISC45</th>\n",
       "      <td>0.946032</td>\n",
       "    </tr>\n",
       "    <tr>\n",
       "      <th>Food-101</th>\n",
       "      <td>0.877861</td>\n",
       "    </tr>\n",
       "    <tr>\n",
       "      <th>FER2013</th>\n",
       "      <td>0.697687</td>\n",
       "    </tr>\n",
       "    <tr>\n",
       "      <th>PatchCamelyon</th>\n",
       "      <td>0.888702</td>\n",
       "    </tr>\n",
       "    <tr>\n",
       "      <th>SUN397</th>\n",
       "      <td>0.763540</td>\n",
       "    </tr>\n",
       "    <tr>\n",
       "      <th>DTD</th>\n",
       "      <td>0.788830</td>\n",
       "    </tr>\n",
       "  </tbody>\n",
       "</table>\n",
       "</div>"
      ],
      "text/plain": [
       "               fine-tuning\n",
       "RESISC45          0.946032\n",
       "Food-101          0.877861\n",
       "FER2013           0.697687\n",
       "PatchCamelyon     0.888702\n",
       "SUN397            0.763540\n",
       "DTD               0.788830"
      ]
     },
     "execution_count": 71,
     "metadata": {},
     "output_type": "execute_result"
    }
   ],
   "source": [
    "df = pd.DataFrame(results, columns=['fine-tuning'], index=labels)\n",
    "df"
   ]
  }
 ],
 "metadata": {
  "kernelspec": {
   "display_name": "Python 3 (ipykernel)",
   "language": "python",
   "name": "python3"
  },
  "language_info": {
   "codemirror_mode": {
    "name": "ipython",
    "version": 3
   },
   "file_extension": ".py",
   "mimetype": "text/x-python",
   "name": "python",
   "nbconvert_exporter": "python",
   "pygments_lexer": "ipython3",
   "version": "3.10.12"
  }
 },
 "nbformat": 4,
 "nbformat_minor": 5
}
