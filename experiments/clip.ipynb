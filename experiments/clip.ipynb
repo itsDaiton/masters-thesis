{
 "cells": [
  {
   "cell_type": "markdown",
   "id": "7ea5a682-d599-477b-8841-80da6b64066a",
   "metadata": {},
   "source": [
    "# Exploration and Comparison of Transformers for Image Classification"
   ]
  },
  {
   "cell_type": "markdown",
   "id": "85c3b461-dd77-4dbd-a258-f0494d8cce0d",
   "metadata": {},
   "source": [
    "## CLIP (Contrastive Language-Image Pre-training)\n"
   ]
  },
  {
   "cell_type": "markdown",
   "id": "5a03d49f-fa8f-45f7-a3e9-c44ab91558b1",
   "metadata": {},
   "source": [
    "### Prerequisites"
   ]
  },
  {
   "cell_type": "code",
   "execution_count": 13,
   "id": "5837d13d-1f53-4b5c-988c-542522cb27fe",
   "metadata": {},
   "outputs": [],
   "source": [
    "import os\n",
    "os.chdir('..')\n",
    "\n",
    "import torch\n",
    "import torch.nn as nn\n",
    "\n",
    "from transformers import CLIPImageProcessor, CLIPTokenizer\n",
    "from datasets import load_dataset, concatenate_datasets\n",
    "\n",
    "from src.dataset_builder import ImageDataset\n",
    "from src.models import CLIP\n",
    "from src.train import train_model, evaluate_model\n",
    "\n",
    "from utils.config import Config\n",
    "from utils.train_utils import *\n",
    "from utils.models_utils import *"
   ]
  },
  {
   "cell_type": "markdown",
   "id": "b909af79-10ae-42b6-b378-5487b372ba7c",
   "metadata": {},
   "source": [
    "### GPU"
   ]
  },
  {
   "cell_type": "code",
   "execution_count": 5,
   "id": "f2e00e91-8620-4579-81e0-2cae9b2f9786",
   "metadata": {},
   "outputs": [
    {
     "name": "stdout",
     "output_type": "stream",
     "text": [
      "GPU 0: NVIDIA A100 80GB PCIe MIG 2g.20gb\n",
      "  VRAM: 19.50 GB\n"
     ]
    }
   ],
   "source": [
    "if torch.cuda.is_available():\n",
    "    for i in range(torch.cuda.device_count()):\n",
    "        print(f\"GPU {i}: {torch.cuda.get_device_name(i)}\")\n",
    "        vram = torch.cuda.get_device_properties(i).total_memory / (1024 ** 3)\n",
    "        print(f\"  VRAM: {vram:.2f} GB\")\n",
    "else:\n",
    "    print(\"CUDA is not available.\")"
   ]
  },
  {
   "cell_type": "markdown",
   "id": "85d10b39-2131-41b3-a035-86748609e34f",
   "metadata": {},
   "source": [
    "#### Data preparation"
   ]
  },
  {
   "cell_type": "code",
   "execution_count": 6,
   "id": "588a0414-f8e2-4e49-bdb5-dbd5209f27a4",
   "metadata": {},
   "outputs": [
    {
     "data": {
      "application/vnd.jupyter.widget-view+json": {
       "model_id": "8d30e651c033449c879a1c5b2cf32eb0",
       "version_major": 2,
       "version_minor": 0
      },
      "text/plain": [
       "README.md:   0%|          | 0.00/3.11k [00:00<?, ?B/s]"
      ]
     },
     "metadata": {},
     "output_type": "display_data"
    },
    {
     "data": {
      "application/vnd.jupyter.widget-view+json": {
       "model_id": "bd10bb66f3cc40c5a7da0d1d04027f85",
       "version_major": 2,
       "version_minor": 0
      },
      "text/plain": [
       "train-00000-of-00001.parquet:   0%|          | 0.00/255M [00:00<?, ?B/s]"
      ]
     },
     "metadata": {},
     "output_type": "display_data"
    },
    {
     "data": {
      "application/vnd.jupyter.widget-view+json": {
       "model_id": "240c9f4e22dc4aa1a1c9b0493c6551e8",
       "version_major": 2,
       "version_minor": 0
      },
      "text/plain": [
       "validation-00000-of-00001.parquet:   0%|          | 0.00/85.1M [00:00<?, ?B/s]"
      ]
     },
     "metadata": {},
     "output_type": "display_data"
    },
    {
     "data": {
      "application/vnd.jupyter.widget-view+json": {
       "model_id": "f97820caab9448b1bc152dbbe590f936",
       "version_major": 2,
       "version_minor": 0
      },
      "text/plain": [
       "test-00000-of-00001.parquet:   0%|          | 0.00/85.2M [00:00<?, ?B/s]"
      ]
     },
     "metadata": {},
     "output_type": "display_data"
    },
    {
     "data": {
      "application/vnd.jupyter.widget-view+json": {
       "model_id": "805f14d387c2463ba37e36069ea07b16",
       "version_major": 2,
       "version_minor": 0
      },
      "text/plain": [
       "Generating train split:   0%|          | 0/18900 [00:00<?, ? examples/s]"
      ]
     },
     "metadata": {},
     "output_type": "display_data"
    },
    {
     "data": {
      "application/vnd.jupyter.widget-view+json": {
       "model_id": "6963c85135ad4a8994ba914124735a53",
       "version_major": 2,
       "version_minor": 0
      },
      "text/plain": [
       "Generating validation split:   0%|          | 0/6300 [00:00<?, ? examples/s]"
      ]
     },
     "metadata": {},
     "output_type": "display_data"
    },
    {
     "data": {
      "application/vnd.jupyter.widget-view+json": {
       "model_id": "4029ae727b9c4ec8ac10d3cf86d56317",
       "version_major": 2,
       "version_minor": 0
      },
      "text/plain": [
       "Generating test split:   0%|          | 0/6300 [00:00<?, ? examples/s]"
      ]
     },
     "metadata": {},
     "output_type": "display_data"
    }
   ],
   "source": [
    "resisc45 = load_dataset('timm/resisc45')\n",
    "resisc45_combined = concatenate_datasets([resisc45[split] for split in resisc45.keys()])"
   ]
  },
  {
   "cell_type": "code",
   "execution_count": 7,
   "id": "27bb8b51-1e41-40e4-b818-b4bb25044632",
   "metadata": {},
   "outputs": [
    {
     "data": {
      "application/vnd.jupyter.widget-view+json": {
       "model_id": "8d1560518aa8498ea9a8dba8b78e8335",
       "version_major": 2,
       "version_minor": 0
      },
      "text/plain": [
       "preprocessor_config.json:   0%|          | 0.00/316 [00:00<?, ?B/s]"
      ]
     },
     "metadata": {},
     "output_type": "display_data"
    },
    {
     "data": {
      "application/vnd.jupyter.widget-view+json": {
       "model_id": "83fb45e47d044beca7f1737473b02349",
       "version_major": 2,
       "version_minor": 0
      },
      "text/plain": [
       "tokenizer_config.json:   0%|          | 0.00/905 [00:00<?, ?B/s]"
      ]
     },
     "metadata": {},
     "output_type": "display_data"
    },
    {
     "data": {
      "application/vnd.jupyter.widget-view+json": {
       "model_id": "572d4fc12e64478eb23e06747048a215",
       "version_major": 2,
       "version_minor": 0
      },
      "text/plain": [
       "vocab.json:   0%|          | 0.00/961k [00:00<?, ?B/s]"
      ]
     },
     "metadata": {},
     "output_type": "display_data"
    },
    {
     "data": {
      "application/vnd.jupyter.widget-view+json": {
       "model_id": "b43c8cd1147b4446bfd85ff287addf02",
       "version_major": 2,
       "version_minor": 0
      },
      "text/plain": [
       "merges.txt:   0%|          | 0.00/525k [00:00<?, ?B/s]"
      ]
     },
     "metadata": {},
     "output_type": "display_data"
    },
    {
     "data": {
      "application/vnd.jupyter.widget-view+json": {
       "model_id": "24363f9b0deb4608a3e5140de70b7ff5",
       "version_major": 2,
       "version_minor": 0
      },
      "text/plain": [
       "tokenizer.json:   0%|          | 0.00/2.22M [00:00<?, ?B/s]"
      ]
     },
     "metadata": {},
     "output_type": "display_data"
    },
    {
     "data": {
      "application/vnd.jupyter.widget-view+json": {
       "model_id": "5971eb7389804bf3825d7ab9fa3c394c",
       "version_major": 2,
       "version_minor": 0
      },
      "text/plain": [
       "special_tokens_map.json:   0%|          | 0.00/389 [00:00<?, ?B/s]"
      ]
     },
     "metadata": {},
     "output_type": "display_data"
    },
    {
     "name": "stderr",
     "output_type": "stream",
     "text": [
      "/opt/conda/lib/python3.11/site-packages/transformers/tokenization_utils_base.py:1601: FutureWarning: `clean_up_tokenization_spaces` was not set. It will be set to `True` by default. This behavior will be depracted in transformers v4.45, and will be then set to `False` by default. For more details check this issue: https://github.com/huggingface/transformers/issues/31884\n",
      "  warnings.warn(\n"
     ]
    }
   ],
   "source": [
    "processor = CLIPImageProcessor.from_pretrained(\"openai/clip-vit-base-patch16\")\n",
    "tokenizer = CLIPTokenizer.from_pretrained(\"openai/clip-vit-base-patch16\")"
   ]
  },
  {
   "cell_type": "code",
   "execution_count": 8,
   "id": "01b5eaa9-1799-4d30-b3cc-6d58aec53bec",
   "metadata": {},
   "outputs": [],
   "source": [
    "dataset = ImageDataset(\n",
    "    dataset=resisc45_combined,\n",
    "    processor=processor,\n",
    "    tokenizer=tokenizer,\n",
    "    create_captions=True,\n",
    "    prompt=\"satellite imagery of {}.\",\n",
    ")"
   ]
  },
  {
   "cell_type": "code",
   "execution_count": 9,
   "id": "7ddee155-77d3-4a82-a28e-693c662aabf3",
   "metadata": {},
   "outputs": [
    {
     "data": {
      "text/plain": [
       "['satellite imagery of airplane.',\n",
       " 'satellite imagery of airport.',\n",
       " 'satellite imagery of baseball_diamond.',\n",
       " 'satellite imagery of basketball_court.',\n",
       " 'satellite imagery of beach.',\n",
       " 'satellite imagery of bridge.',\n",
       " 'satellite imagery of chaparral.',\n",
       " 'satellite imagery of church.',\n",
       " 'satellite imagery of circular_farmland.',\n",
       " 'satellite imagery of cloud.',\n",
       " 'satellite imagery of commercial_area.',\n",
       " 'satellite imagery of dense_residential.',\n",
       " 'satellite imagery of desert.',\n",
       " 'satellite imagery of forest.',\n",
       " 'satellite imagery of freeway.',\n",
       " 'satellite imagery of golf_course.',\n",
       " 'satellite imagery of ground_track_field.',\n",
       " 'satellite imagery of harbor.',\n",
       " 'satellite imagery of industrial_area.',\n",
       " 'satellite imagery of intersection.',\n",
       " 'satellite imagery of island.',\n",
       " 'satellite imagery of lake.',\n",
       " 'satellite imagery of meadow.',\n",
       " 'satellite imagery of medium_residential.',\n",
       " 'satellite imagery of mobile_home_park.',\n",
       " 'satellite imagery of mountain.',\n",
       " 'satellite imagery of overpass.',\n",
       " 'satellite imagery of palace.',\n",
       " 'satellite imagery of parking_lot.',\n",
       " 'satellite imagery of railway.',\n",
       " 'satellite imagery of railway_station.',\n",
       " 'satellite imagery of rectangular_farmland.',\n",
       " 'satellite imagery of river.',\n",
       " 'satellite imagery of roundabout.',\n",
       " 'satellite imagery of runway.',\n",
       " 'satellite imagery of sea_ice.',\n",
       " 'satellite imagery of ship.',\n",
       " 'satellite imagery of snowberg.',\n",
       " 'satellite imagery of sparse_residential.',\n",
       " 'satellite imagery of stadium.',\n",
       " 'satellite imagery of storage_tank.',\n",
       " 'satellite imagery of tennis_court.',\n",
       " 'satellite imagery of terrace.',\n",
       " 'satellite imagery of thermal_power_station.',\n",
       " 'satellite imagery of wetland.']"
      ]
     },
     "execution_count": 9,
     "metadata": {},
     "output_type": "execute_result"
    }
   ],
   "source": [
    "dataset.get_captions()"
   ]
  },
  {
   "cell_type": "markdown",
   "id": "eae66942-80d1-454e-9177-d68bb8e530a0",
   "metadata": {},
   "source": [
    "### Model"
   ]
  },
  {
   "cell_type": "code",
   "execution_count": 10,
   "id": "b9584329-7a11-49ab-b3cb-23d66193e5cb",
   "metadata": {},
   "outputs": [
    {
     "data": {
      "application/vnd.jupyter.widget-view+json": {
       "model_id": "160f62481ff44dbaa461079e5619bab3",
       "version_major": 2,
       "version_minor": 0
      },
      "text/plain": [
       "config.json:   0%|          | 0.00/4.10k [00:00<?, ?B/s]"
      ]
     },
     "metadata": {},
     "output_type": "display_data"
    },
    {
     "data": {
      "application/vnd.jupyter.widget-view+json": {
       "model_id": "e9718099818140eb9890625b9f1730ea",
       "version_major": 2,
       "version_minor": 0
      },
      "text/plain": [
       "pytorch_model.bin:   0%|          | 0.00/599M [00:00<?, ?B/s]"
      ]
     },
     "metadata": {},
     "output_type": "display_data"
    }
   ],
   "source": [
    "config = Config()\n",
    "model = CLIP()"
   ]
  },
  {
   "cell_type": "code",
   "execution_count": 11,
   "id": "90b52ffc-600e-47c3-ac16-a0ca373465e2",
   "metadata": {},
   "outputs": [
    {
     "name": "stdout",
     "output_type": "stream",
     "text": [
      "Parameters: 149.62M\n"
     ]
    }
   ],
   "source": [
    "print(f'Parameters: {sum(p.numel() for p in model.parameters()) / 1e6:.2f}M')"
   ]
  },
  {
   "cell_type": "markdown",
   "id": "6c0bdfef-fd01-42bc-a824-57c76adf450e",
   "metadata": {},
   "source": [
    "### Zero-shot transfer"
   ]
  },
  {
   "cell_type": "code",
   "execution_count": 12,
   "id": "175c123c-65d2-4271-9d14-a4ce19b2d9e9",
   "metadata": {},
   "outputs": [
    {
     "name": "stderr",
     "output_type": "stream",
     "text": [
      "Zero-shot: 100%|██████████| 3938/3938 [07:08<00:00,  9.20it/s]"
     ]
    },
    {
     "name": "stdout",
     "output_type": "stream",
     "text": [
      "Zero-shot evaluation completed: loss: 1.2927 | acc: 0.6049\n"
     ]
    },
    {
     "name": "stderr",
     "output_type": "stream",
     "text": [
      "\n"
     ]
    }
   ],
   "source": [
    "evaluate_model(\n",
    "    model,\n",
    "    dataset,\n",
    "    config,\n",
    "    zero_shot=True\n",
    ")"
   ]
  }
 ],
 "metadata": {
  "kernelspec": {
   "display_name": "Python 3 (ipykernel)",
   "language": "python",
   "name": "python3"
  },
  "language_info": {
   "codemirror_mode": {
    "name": "ipython",
    "version": 3
   },
   "file_extension": ".py",
   "mimetype": "text/x-python",
   "name": "python",
   "nbconvert_exporter": "python",
   "pygments_lexer": "ipython3",
   "version": "3.11.6"
  }
 },
 "nbformat": 4,
 "nbformat_minor": 5
}
