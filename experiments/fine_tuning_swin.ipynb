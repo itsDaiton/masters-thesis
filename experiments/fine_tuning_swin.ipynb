{
 "cells": [
  {
   "cell_type": "markdown",
   "id": "22029240-8173-476f-a935-e793e203ab43",
   "metadata": {},
   "source": [
    "# Exploration and Comparison of Transformers for Image Classification"
   ]
  },
  {
   "cell_type": "markdown",
   "id": "fcb7fc41-efc8-4ee0-925e-8130dae98c05",
   "metadata": {},
   "source": [
    "## Fine-tuning using Swin Transformer (Swin)"
   ]
  },
  {
   "cell_type": "markdown",
   "id": "2c4f1ce3-2e5f-458c-982e-cda4186420d4",
   "metadata": {},
   "source": [
    "Fine-tuning is an experiment that involves training the entire model on the new task. All of model's parameters are end-to-end fine-tuned on the provided dataset.\n",
    "\n",
    "The resulting model's performance is the measured on the test split with accuracy metric."
   ]
  },
  {
   "cell_type": "markdown",
   "id": "66620b2e-b5db-4e64-be5d-76d1805f2b2a",
   "metadata": {},
   "source": [
    "### Swin Transformer (Swin)"
   ]
  },
  {
   "cell_type": "markdown",
   "id": "d4dc844d-b843-458d-b281-7b8eff332c48",
   "metadata": {},
   "source": [
    "Swin Transformer model trained on ImageNet-1k at resolution 224x224. It was introduced in the paper *Swin Transformer: Hierarchical Vision Transformer using Shifted Windows by Liu et al.*\n",
    "\n",
    "https://arxiv.org/abs/2103.14030"
   ]
  },
  {
   "cell_type": "markdown",
   "id": "771d783b-308b-401d-8742-76c1179c49b4",
   "metadata": {
    "jp-MarkdownHeadingCollapsed": true
   },
   "source": [
    "### Prerequisites"
   ]
  },
  {
   "cell_type": "markdown",
   "id": "8cfe4de0-ba8d-40a9-a85f-6cb41dd0d335",
   "metadata": {},
   "source": [
    "Load necessary packages."
   ]
  },
  {
   "cell_type": "code",
   "execution_count": 2,
   "id": "2497e5e7-475e-4fd7-913a-36cbbd3e8b74",
   "metadata": {},
   "outputs": [],
   "source": [
    "import os\n",
    "os.chdir('..')\n",
    "\n",
    "import torch\n",
    "\n",
    "import pandas as pd\n",
    "\n",
    "from datasets import load_dataset\n",
    "\n",
    "from src.dataset_builder import ImageDataset\n",
    "from src.models import *\n",
    "from src.train import *\n",
    "\n",
    "from utils.config import Config\n",
    "from utils.train_utils import *\n",
    "from utils.models_utils import *\n",
    "from utils.visualization_utils import *\n",
    "from utils.data_utils import *"
   ]
  },
  {
   "cell_type": "markdown",
   "id": "5ebe117a-bd72-4302-acb8-2af9e338ba5d",
   "metadata": {},
   "source": [
    "Check if there is GPU available."
   ]
  },
  {
   "cell_type": "code",
   "execution_count": 3,
   "id": "e9b14f94-5537-485e-abe1-128c433f6737",
   "metadata": {},
   "outputs": [
    {
     "name": "stdout",
     "output_type": "stream",
     "text": [
      "GPU 0: NVIDIA A100 80GB PCIe MIG 2g.20gb\n",
      "VRAM: 19.50 GB\n"
     ]
    }
   ],
   "source": [
    "get_gpu_info()"
   ]
  },
  {
   "cell_type": "markdown",
   "id": "cc7df4b1-71e8-4264-a131-0013d8ced64b",
   "metadata": {},
   "source": [
    "Set manual seed for reproducibility."
   ]
  },
  {
   "cell_type": "code",
   "execution_count": 4,
   "id": "1b512368-db51-46aa-bc7d-ef5c22fb1e8b",
   "metadata": {},
   "outputs": [
    {
     "data": {
      "text/plain": [
       "<torch._C.Generator at 0x7ff596794430>"
      ]
     },
     "execution_count": 4,
     "metadata": {},
     "output_type": "execute_result"
    }
   ],
   "source": [
    "id = 10\n",
    "torch.manual_seed(10)"
   ]
  },
  {
   "cell_type": "markdown",
   "id": "1409290d-376b-4eb0-b926-bb533d21364f",
   "metadata": {},
   "source": [
    "Load Swin image processor used for image pre-processing."
   ]
  },
  {
   "cell_type": "code",
   "execution_count": 5,
   "id": "137faca7-e691-48ff-97e1-8a0f4211c80e",
   "metadata": {},
   "outputs": [],
   "source": [
    "processor = get_backbone_processor(model_names['Swin'])"
   ]
  },
  {
   "cell_type": "markdown",
   "id": "e1e47d96-cd90-4227-806b-3cdb2e604a50",
   "metadata": {},
   "source": [
    "Print the pre-processing operations done by the processor."
   ]
  },
  {
   "cell_type": "code",
   "execution_count": 6,
   "id": "2f200acb-631a-4502-ae46-8cf476c02713",
   "metadata": {},
   "outputs": [
    {
     "data": {
      "text/plain": [
       "ViTImageProcessor {\n",
       "  \"do_convert_rgb\": null,\n",
       "  \"do_normalize\": true,\n",
       "  \"do_rescale\": true,\n",
       "  \"do_resize\": true,\n",
       "  \"image_mean\": [\n",
       "    0.485,\n",
       "    0.456,\n",
       "    0.406\n",
       "  ],\n",
       "  \"image_processor_type\": \"ViTImageProcessor\",\n",
       "  \"image_std\": [\n",
       "    0.229,\n",
       "    0.224,\n",
       "    0.225\n",
       "  ],\n",
       "  \"resample\": 3,\n",
       "  \"rescale_factor\": 0.00392156862745098,\n",
       "  \"size\": {\n",
       "    \"height\": 224,\n",
       "    \"width\": 224\n",
       "  }\n",
       "}"
      ]
     },
     "execution_count": 6,
     "metadata": {},
     "output_type": "execute_result"
    }
   ],
   "source": [
    "processor"
   ]
  },
  {
   "cell_type": "markdown",
   "id": "f25447f6-f11e-4131-9623-09698dbb67d7",
   "metadata": {
    "jp-MarkdownHeadingCollapsed": true
   },
   "source": [
    "### Data Preprocessing"
   ]
  },
  {
   "cell_type": "markdown",
   "id": "ea0b7222-e192-4a7c-acb7-56b0433a7aae",
   "metadata": {},
   "source": [
    "Load each dataset and its splits.\n",
    "\n",
    "Processor is automatically applied to each image."
   ]
  },
  {
   "cell_type": "markdown",
   "id": "99e2b5ff-9586-4917-a24c-3bd93593269e",
   "metadata": {},
   "source": [
    "#### RESISC45"
   ]
  },
  {
   "cell_type": "code",
   "execution_count": 7,
   "id": "6bbedffd-6394-4a1d-b502-88a726b98273",
   "metadata": {},
   "outputs": [],
   "source": [
    "resisc45 = load_dataset('timm/resisc45')\n",
    "clean_labels(resisc45, name='resisc45')\n",
    "resisc45_train = ImageDataset(\n",
    "    dataset=resisc45['train'],\n",
    "    processor=processor,\n",
    ")\n",
    "resisc45_validation = ImageDataset(\n",
    "    dataset=resisc45['validation'],\n",
    "    processor=processor,\n",
    ")\n",
    "resisc45_test = ImageDataset(\n",
    "    dataset=resisc45['test'],\n",
    "    processor=processor,\n",
    ")"
   ]
  },
  {
   "cell_type": "markdown",
   "id": "f579c494-89a8-4eb8-8c7a-5b292475bbad",
   "metadata": {},
   "source": [
    "#### Food-101"
   ]
  },
  {
   "cell_type": "code",
   "execution_count": 8,
   "id": "c4125475-fc23-4de4-a027-9276acfe4c41",
   "metadata": {},
   "outputs": [],
   "source": [
    "food101 = load_dataset('ethz/food101')\n",
    "clean_labels(food101, name='food101')\n",
    "food101_train = ImageDataset(\n",
    "    dataset=food101['train'],\n",
    "    processor=processor,\n",
    ")\n",
    "food101_validation = ImageDataset(\n",
    "    dataset=food101['validation'],\n",
    "    processor=processor,\n",
    ")"
   ]
  },
  {
   "cell_type": "markdown",
   "id": "aa696bc7-cf77-422d-b8b5-aa6d4ba36ecb",
   "metadata": {},
   "source": [
    "#### FER2013"
   ]
  },
  {
   "cell_type": "code",
   "execution_count": 9,
   "id": "ab5359eb-d83f-4f4a-8781-a3c51db8d14e",
   "metadata": {},
   "outputs": [],
   "source": [
    "fer2013 = load_dataset('AutumnQiu/fer2013')\n",
    "clean_labels(fer2013, name='fer2013')\n",
    "fer2013_train = ImageDataset(\n",
    "    dataset=fer2013['train'],\n",
    "    processor=processor,\n",
    ")\n",
    "fer2013_validation = ImageDataset(\n",
    "    dataset=fer2013['valid'],\n",
    "    processor=processor,\n",
    ")\n",
    "fer2013_test = ImageDataset(\n",
    "    dataset=fer2013['test'],\n",
    "    processor=processor,\n",
    ")"
   ]
  },
  {
   "cell_type": "markdown",
   "id": "00be0e0d-d98d-4f23-8354-8c7926da351b",
   "metadata": {},
   "source": [
    "#### PCam"
   ]
  },
  {
   "cell_type": "code",
   "execution_count": 10,
   "id": "a77d5802-a948-4f45-9382-5f47dc26f3f6",
   "metadata": {},
   "outputs": [],
   "source": [
    "pcam = load_dataset('zacharielegault/PatchCamelyon')\n",
    "clean_labels(pcam, name='pcam')\n",
    "pcam_train = ImageDataset(\n",
    "    dataset=pcam['train'],\n",
    "    processor=processor,\n",
    ")\n",
    "pcam_validation = ImageDataset(\n",
    "    dataset=pcam['validation'],\n",
    "    processor=processor,\n",
    ")\n",
    "pcam_test = ImageDataset(\n",
    "    dataset=pcam['test'],\n",
    "    processor=processor,\n",
    ")"
   ]
  },
  {
   "cell_type": "markdown",
   "id": "90851566-5ed0-4092-9de9-df1351eb9044",
   "metadata": {},
   "source": [
    "#### SUN397"
   ]
  },
  {
   "cell_type": "code",
   "execution_count": 11,
   "id": "e6174b7e-4b97-4b43-a6b2-57287060d6b5",
   "metadata": {},
   "outputs": [],
   "source": [
    "sun397 = load_dataset('dpdl-benchmark/sun397')\n",
    "clean_labels(sun397, name='sun397')\n",
    "sun397_train = ImageDataset(\n",
    "    dataset=sun397['train'],\n",
    "    processor=processor,\n",
    ")\n",
    "sun397_validation = ImageDataset(\n",
    "    dataset=sun397['validation'],\n",
    "    processor=processor,\n",
    ")\n",
    "sun397_test = ImageDataset(\n",
    "    dataset=sun397['test'],\n",
    "    processor=processor,\n",
    ")"
   ]
  },
  {
   "cell_type": "markdown",
   "id": "e46e6787-13e6-4353-98f4-b72b7e30cff8",
   "metadata": {},
   "source": [
    "#### DTD"
   ]
  },
  {
   "cell_type": "code",
   "execution_count": 12,
   "id": "47ad6f60-2240-4d21-b8a5-2d32bb770e14",
   "metadata": {},
   "outputs": [],
   "source": [
    "dtd = load_dataset('tanganke/dtd')\n",
    "clean_labels(dtd, name='dtd')\n",
    "dtd_train = ImageDataset(\n",
    "    dataset=dtd['train'],\n",
    "    processor=processor,\n",
    ")\n",
    "dtd_test = ImageDataset(\n",
    "    dataset=dtd['test'],\n",
    "    processor=processor,\n",
    ")"
   ]
  },
  {
   "cell_type": "markdown",
   "id": "d223a242-8f88-4025-990d-3f41b6866b0e",
   "metadata": {
    "jp-MarkdownHeadingCollapsed": true
   },
   "source": [
    "### Config"
   ]
  },
  {
   "cell_type": "markdown",
   "id": "a58d18e1-e2fd-4f41-ae8c-68f3b2799e9f",
   "metadata": {},
   "source": [
    "Create a config for experiments and print its settings."
   ]
  },
  {
   "cell_type": "code",
   "execution_count": 13,
   "id": "4737afbb-8aab-40d0-a49d-8ba7bbc3d1d4",
   "metadata": {},
   "outputs": [
    {
     "data": {
      "text/plain": [
       "{'device': 'cuda',\n",
       " 'criterion': CrossEntropyLoss(),\n",
       " 'batch_size': 8,\n",
       " 'lr': 2e-05,\n",
       " 'num_epochs': 10,\n",
       " 'optimizer': torch.optim.adamw.AdamW,\n",
       " 'weight_decay': 0.01}"
      ]
     },
     "execution_count": 13,
     "metadata": {},
     "output_type": "execute_result"
    }
   ],
   "source": [
    "from torch.optim import AdamW\n",
    "\n",
    "config = Config(\n",
    "    num_epochs=10, \n",
    "    lr=2e-5,\n",
    "    optimizer=AdamW,\n",
    "    weight_decay=1e-2\n",
    ")\n",
    "config.get_settings()"
   ]
  },
  {
   "cell_type": "markdown",
   "id": "4cadb2d2-e7b2-49b2-922b-b28aaad1d784",
   "metadata": {},
   "source": [
    "Create empty array to store dataset accuracies for each experiment."
   ]
  },
  {
   "cell_type": "code",
   "execution_count": 14,
   "id": "48fb8d03-6e0e-4f8e-a9e1-4c668e8c2886",
   "metadata": {},
   "outputs": [],
   "source": [
    "resisc45_accs = []\n",
    "food101_accs = []\n",
    "fer2013_accs = []\n",
    "pcam_accs = []\n",
    "sun397_accs = []\n",
    "dtd_accs = []"
   ]
  },
  {
   "cell_type": "markdown",
   "id": "cb4bf859-94d2-41d0-a52d-1262a8a7df98",
   "metadata": {},
   "source": [
    "### Fine-tuning\n"
   ]
  },
  {
   "cell_type": "markdown",
   "id": "eec9a894-daf5-4e22-9e7f-ccffc3e231ce",
   "metadata": {},
   "source": [
    "Train the entire model and all of its parameters on a new dataset."
   ]
  },
  {
   "cell_type": "markdown",
   "id": "baee4576-a479-4f39-9b16-52ea6623c52d",
   "metadata": {},
   "source": [
    "#### RESISC45"
   ]
  },
  {
   "cell_type": "code",
   "execution_count": 15,
   "id": "f903ac0f-8e0f-4b9e-ab7b-34728cae7c02",
   "metadata": {},
   "outputs": [
    {
     "name": "stderr",
     "output_type": "stream",
     "text": [
      "Some weights of SwinForImageClassification were not initialized from the model checkpoint at microsoft/swin-base-patch4-window7-224 and are newly initialized because the shapes did not match:\n",
      "- classifier.bias: found shape torch.Size([1000]) in the checkpoint and torch.Size([45]) in the model instantiated\n",
      "- classifier.weight: found shape torch.Size([1000, 1024]) in the checkpoint and torch.Size([45, 1024]) in the model instantiated\n",
      "You should probably TRAIN this model on a down-stream task to be able to use it for predictions and inference.\n"
     ]
    }
   ],
   "source": [
    "swin_resisc45 = Backbone(model_names['Swin'], num_classes=len(resisc45_train.get_labels()))"
   ]
  },
  {
   "cell_type": "code",
   "execution_count": 16,
   "id": "317d3558-f00b-4100-a17b-e4316653c01c",
   "metadata": {},
   "outputs": [
    {
     "name": "stdout",
     "output_type": "stream",
     "text": [
      "Parameters: 86.79M\n"
     ]
    }
   ],
   "source": [
    "get_model_params(swin_resisc45)"
   ]
  },
  {
   "cell_type": "code",
   "execution_count": 17,
   "id": "0dbdde30-69fe-41a0-92d4-4bbe8c24d6c7",
   "metadata": {},
   "outputs": [
    {
     "name": "stderr",
     "output_type": "stream",
     "text": [
      "100%|██████████| 2363/2363 [06:03<00:00,  6.50it/s]\n"
     ]
    },
    {
     "name": "stdout",
     "output_type": "stream",
     "text": [
      "Epochs: 1/10 | train_loss: 0.4938 | train_acc: 0.8672\n"
     ]
    },
    {
     "name": "stderr",
     "output_type": "stream",
     "text": [
      "100%|██████████| 2363/2363 [05:59<00:00,  6.57it/s]\n"
     ]
    },
    {
     "name": "stdout",
     "output_type": "stream",
     "text": [
      "Epochs: 2/10 | train_loss: 0.1202 | train_acc: 0.9632\n"
     ]
    },
    {
     "name": "stderr",
     "output_type": "stream",
     "text": [
      "100%|██████████| 2363/2363 [05:59<00:00,  6.57it/s]\n"
     ]
    },
    {
     "name": "stdout",
     "output_type": "stream",
     "text": [
      "Epochs: 3/10 | train_loss: 0.0629 | train_acc: 0.9799\n"
     ]
    },
    {
     "name": "stderr",
     "output_type": "stream",
     "text": [
      "100%|██████████| 2363/2363 [05:59<00:00,  6.57it/s]\n"
     ]
    },
    {
     "name": "stdout",
     "output_type": "stream",
     "text": [
      "Epochs: 4/10 | train_loss: 0.0461 | train_acc: 0.9866\n"
     ]
    },
    {
     "name": "stderr",
     "output_type": "stream",
     "text": [
      "100%|██████████| 2363/2363 [06:01<00:00,  6.53it/s]\n"
     ]
    },
    {
     "name": "stdout",
     "output_type": "stream",
     "text": [
      "Epochs: 5/10 | train_loss: 0.0353 | train_acc: 0.9900\n"
     ]
    },
    {
     "name": "stderr",
     "output_type": "stream",
     "text": [
      "100%|██████████| 2363/2363 [06:00<00:00,  6.55it/s]\n"
     ]
    },
    {
     "name": "stdout",
     "output_type": "stream",
     "text": [
      "Epochs: 6/10 | train_loss: 0.0350 | train_acc: 0.9893\n"
     ]
    },
    {
     "name": "stderr",
     "output_type": "stream",
     "text": [
      "100%|██████████| 2363/2363 [05:58<00:00,  6.60it/s]\n"
     ]
    },
    {
     "name": "stdout",
     "output_type": "stream",
     "text": [
      "Epochs: 7/10 | train_loss: 0.0243 | train_acc: 0.9936\n"
     ]
    },
    {
     "name": "stderr",
     "output_type": "stream",
     "text": [
      "100%|██████████| 2363/2363 [06:00<00:00,  6.55it/s]\n"
     ]
    },
    {
     "name": "stdout",
     "output_type": "stream",
     "text": [
      "Epochs: 8/10 | train_loss: 0.0230 | train_acc: 0.9937\n"
     ]
    },
    {
     "name": "stderr",
     "output_type": "stream",
     "text": [
      "100%|██████████| 2363/2363 [06:03<00:00,  6.49it/s]\n"
     ]
    },
    {
     "name": "stdout",
     "output_type": "stream",
     "text": [
      "Epochs: 9/10 | train_loss: 0.0255 | train_acc: 0.9924\n"
     ]
    },
    {
     "name": "stderr",
     "output_type": "stream",
     "text": [
      "100%|██████████| 2363/2363 [06:00<00:00,  6.56it/s]"
     ]
    },
    {
     "name": "stdout",
     "output_type": "stream",
     "text": [
      "Epochs: 10/10 | train_loss: 0.0251 | train_acc: 0.9924\n"
     ]
    },
    {
     "name": "stderr",
     "output_type": "stream",
     "text": [
      "\n"
     ]
    }
   ],
   "source": [
    "resisc45_loss, resisc45_acc, resisc45_per_class_acc = train_model(\n",
    "    swin_resisc45,\n",
    "    resisc45_train,\n",
    "    config,\n",
    "    'swin',\n",
    "    use_val=False,\n",
    "    fine_tune=True,\n",
    ")"
   ]
  },
  {
   "cell_type": "code",
   "execution_count": 18,
   "id": "7c799a30-5c03-44e1-8323-c25f4e8760ee",
   "metadata": {},
   "outputs": [
    {
     "name": "stderr",
     "output_type": "stream",
     "text": [
      "100%|██████████| 788/788 [00:50<00:00, 15.69it/s]"
     ]
    },
    {
     "name": "stdout",
     "output_type": "stream",
     "text": [
      "test_loss: 0.1638 | test_acc: 0.9581\n"
     ]
    },
    {
     "name": "stderr",
     "output_type": "stream",
     "text": [
      "\n"
     ]
    }
   ],
   "source": [
    "resisc45_loss, resisc45_acc, resisc45_per_class_acc = evaluate_model(\n",
    "    swin_resisc45,\n",
    "    resisc45_test,\n",
    "    config\n",
    ")"
   ]
  },
  {
   "cell_type": "code",
   "execution_count": 19,
   "id": "3e2e5a5e-fb90-470e-b9eb-36908a51337c",
   "metadata": {},
   "outputs": [],
   "source": [
    "resisc45_accs.append(resisc45_acc)"
   ]
  },
  {
   "cell_type": "code",
   "execution_count": 20,
   "id": "9adafef3-33e4-4bef-b5db-3b3b4a612b4d",
   "metadata": {},
   "outputs": [
    {
     "data": {
      "text/plain": [
       "[('baseball diamond', 1.0),\n",
       " ('chaparral', 1.0),\n",
       " ('harbor', 1.0),\n",
       " ('roundabout', 1.0),\n",
       " ('ship', 1.0)]"
      ]
     },
     "execution_count": 20,
     "metadata": {},
     "output_type": "execute_result"
    }
   ],
   "source": [
    "get_top_5_accuracies(resisc45_per_class_acc)"
   ]
  },
  {
   "cell_type": "code",
   "execution_count": 21,
   "id": "af397207-10e1-43e7-be5a-09d76453f83e",
   "metadata": {},
   "outputs": [
    {
     "data": {
      "text/plain": [
       "[('church', 0.8251748251748252),\n",
       " ('commercial area', 0.8285714285714286),\n",
       " ('wetland', 0.8898305084745762),\n",
       " ('medium residential', 0.891156462585034),\n",
       " ('rectangular farmland', 0.8962962962962963)]"
      ]
     },
     "execution_count": 21,
     "metadata": {},
     "output_type": "execute_result"
    }
   ],
   "source": [
    "get_bottom_5_accuracies(resisc45_per_class_acc)"
   ]
  },
  {
   "cell_type": "code",
   "execution_count": 22,
   "id": "69e0bdd9-c94d-4ef3-a914-bc4cedf25fb3",
   "metadata": {},
   "outputs": [
    {
     "data": {
      "image/png": "[encoded data removed]",
      "text/plain": [
       "<Figure size 1000x600 with 1 Axes>"
      ]
     },
     "metadata": {},
     "output_type": "display_data"
    }
   ],
   "source": [
    "plot_per_class_accuracies(\n",
    "    resisc45_per_class_acc,\n",
    "    'RESISC45',\n",
    "    num_bins=20\n",
    ")"
   ]
  },
  {
   "cell_type": "markdown",
   "id": "fe3c4b5f-1503-4c5e-986f-74e478b4b9be",
   "metadata": {},
   "source": [
    "#### Food-101"
   ]
  },
  {
   "cell_type": "code",
   "execution_count": 23,
   "id": "09e326fb-98b2-4be6-b8e7-a2f6795a9938",
   "metadata": {},
   "outputs": [
    {
     "name": "stderr",
     "output_type": "stream",
     "text": [
      "Some weights of SwinForImageClassification were not initialized from the model checkpoint at microsoft/swin-base-patch4-window7-224 and are newly initialized because the shapes did not match:\n",
      "- classifier.bias: found shape torch.Size([1000]) in the checkpoint and torch.Size([101]) in the model instantiated\n",
      "- classifier.weight: found shape torch.Size([1000, 1024]) in the checkpoint and torch.Size([101, 1024]) in the model instantiated\n",
      "You should probably TRAIN this model on a down-stream task to be able to use it for predictions and inference.\n"
     ]
    }
   ],
   "source": [
    "swin_food101 = Backbone(model_names['Swin'], num_classes=len(food101_train.get_labels()))"
   ]
  },
  {
   "cell_type": "code",
   "execution_count": 24,
   "id": "7c72e21c-5156-4f45-aad0-45861117e5bf",
   "metadata": {},
   "outputs": [
    {
     "name": "stdout",
     "output_type": "stream",
     "text": [
      "Parameters: 86.85M\n"
     ]
    }
   ],
   "source": [
    "get_model_params(swin_food101)"
   ]
  },
  {
   "cell_type": "code",
   "execution_count": 25,
   "id": "96573b52-e953-442a-b7d1-f89dcb5fc690",
   "metadata": {
    "editable": true,
    "slideshow": {
     "slide_type": ""
    },
    "tags": []
   },
   "outputs": [
    {
     "name": "stderr",
     "output_type": "stream",
     "text": [
      " 73%|███████▎  | 6955/9469 [20:12<07:08,  5.87it/s]/usr/local/lib/python3.10/dist-packages/PIL/TiffImagePlugin.py:900: UserWarning: Truncated File Read\n",
      "  warnings.warn(str(msg))\n",
      "100%|██████████| 9469/9469 [27:22<00:00,  5.76it/s]\n"
     ]
    },
    {
     "name": "stdout",
     "output_type": "stream",
     "text": [
      "Epochs: 1/10 | train_loss: 0.8167 | train_acc: 0.7901\n"
     ]
    },
    {
     "name": "stderr",
     "output_type": "stream",
     "text": [
      "100%|██████████| 9469/9469 [27:03<00:00,  5.83it/s]\n"
     ]
    },
    {
     "name": "stdout",
     "output_type": "stream",
     "text": [
      "Epochs: 2/10 | train_loss: 0.3618 | train_acc: 0.8990\n"
     ]
    },
    {
     "name": "stderr",
     "output_type": "stream",
     "text": [
      "100%|██████████| 9469/9469 [26:58<00:00,  5.85it/s]\n"
     ]
    },
    {
     "name": "stdout",
     "output_type": "stream",
     "text": [
      "Epochs: 3/10 | train_loss: 0.1920 | train_acc: 0.9450\n"
     ]
    },
    {
     "name": "stderr",
     "output_type": "stream",
     "text": [
      "100%|██████████| 9469/9469 [26:56<00:00,  5.86it/s]\n"
     ]
    },
    {
     "name": "stdout",
     "output_type": "stream",
     "text": [
      "Epochs: 4/10 | train_loss: 0.1146 | train_acc: 0.9660\n"
     ]
    },
    {
     "name": "stderr",
     "output_type": "stream",
     "text": [
      "100%|██████████| 9469/9469 [26:57<00:00,  5.86it/s]\n"
     ]
    },
    {
     "name": "stdout",
     "output_type": "stream",
     "text": [
      "Epochs: 5/10 | train_loss: 0.0842 | train_acc: 0.9746\n"
     ]
    },
    {
     "name": "stderr",
     "output_type": "stream",
     "text": [
      "100%|██████████| 9469/9469 [27:11<00:00,  5.80it/s]\n"
     ]
    },
    {
     "name": "stdout",
     "output_type": "stream",
     "text": [
      "Epochs: 6/10 | train_loss: 0.0680 | train_acc: 0.9797\n"
     ]
    },
    {
     "name": "stderr",
     "output_type": "stream",
     "text": [
      "100%|██████████| 9469/9469 [27:16<00:00,  5.79it/s]\n"
     ]
    },
    {
     "name": "stdout",
     "output_type": "stream",
     "text": [
      "Epochs: 7/10 | train_loss: 0.0561 | train_acc: 0.9831\n"
     ]
    },
    {
     "name": "stderr",
     "output_type": "stream",
     "text": [
      "100%|██████████| 9469/9469 [27:29<00:00,  5.74it/s]\n"
     ]
    },
    {
     "name": "stdout",
     "output_type": "stream",
     "text": [
      "Epochs: 8/10 | train_loss: 0.0529 | train_acc: 0.9833\n"
     ]
    },
    {
     "name": "stderr",
     "output_type": "stream",
     "text": [
      "100%|██████████| 9469/9469 [26:50<00:00,  5.88it/s]\n"
     ]
    },
    {
     "name": "stdout",
     "output_type": "stream",
     "text": [
      "Epochs: 9/10 | train_loss: 0.0489 | train_acc: 0.9848\n"
     ]
    },
    {
     "name": "stderr",
     "output_type": "stream",
     "text": [
      "100%|██████████| 9469/9469 [26:51<00:00,  5.88it/s]\n"
     ]
    },
    {
     "name": "stdout",
     "output_type": "stream",
     "text": [
      "Epochs: 10/10 | train_loss: 0.0430 | train_acc: 0.9868\n"
     ]
    }
   ],
   "source": [
    "food101_loss, food101_acc, food101_per_class_acc = train_model(\n",
    "    swin_food101,\n",
    "    food101_train,\n",
    "    config,\n",
    "    'swin',\n",
    "    use_val=False,\n",
    "    fine_tune=True,\n",
    ")"
   ]
  },
  {
   "cell_type": "code",
   "execution_count": 26,
   "id": "1310fde3-0a76-445b-ab97-257c9852d42d",
   "metadata": {},
   "outputs": [
    {
     "name": "stderr",
     "output_type": "stream",
     "text": [
      "100%|██████████| 3157/3157 [04:00<00:00, 13.15it/s]\n"
     ]
    },
    {
     "name": "stdout",
     "output_type": "stream",
     "text": [
      "test_loss: 0.5042 | test_acc: 0.8958\n"
     ]
    }
   ],
   "source": [
    "food101_loss, food101_acc, food101_per_class_acc = evaluate_model(\n",
    "    swin_food101,\n",
    "    food101_validation,\n",
    "    config\n",
    ")"
   ]
  },
  {
   "cell_type": "code",
   "execution_count": 27,
   "id": "5908b734-1567-4fe2-869b-29d823a24c95",
   "metadata": {},
   "outputs": [],
   "source": [
    "food101_accs.append(food101_acc)"
   ]
  },
  {
   "cell_type": "code",
   "execution_count": 28,
   "id": "583e61a3-72e3-4dc3-9584-e5f32a03bc9f",
   "metadata": {},
   "outputs": [
    {
     "data": {
      "text/plain": [
       "[('edamame', 0.996),\n",
       " ('macarons', 0.988),\n",
       " ('oysters', 0.988),\n",
       " ('pad thai', 0.988),\n",
       " ('hot and sour soup', 0.984)]"
      ]
     },
     "execution_count": 28,
     "metadata": {},
     "output_type": "execute_result"
    }
   ],
   "source": [
    "get_top_5_accuracies(food101_per_class_acc)"
   ]
  },
  {
   "cell_type": "code",
   "execution_count": 29,
   "id": "bf792307-5279-48ba-a249-2de82fd02477",
   "metadata": {},
   "outputs": [
    {
     "data": {
      "text/plain": [
       "[('steak', 0.6),\n",
       " ('filet mignon', 0.608),\n",
       " ('apple pie', 0.676),\n",
       " ('tuna tartare', 0.684),\n",
       " ('caprese salad', 0.716)]"
      ]
     },
     "execution_count": 29,
     "metadata": {},
     "output_type": "execute_result"
    }
   ],
   "source": [
    "get_bottom_5_accuracies(food101_per_class_acc)"
   ]
  },
  {
   "cell_type": "code",
   "execution_count": 30,
   "id": "38e78b1e-3642-4490-a5ba-55e5cbf51dbb",
   "metadata": {},
   "outputs": [
    {
     "data": {
      "image/png": "[encoded data removed]",
      "text/plain": [
       "<Figure size 1000x600 with 1 Axes>"
      ]
     },
     "metadata": {},
     "output_type": "display_data"
    }
   ],
   "source": [
    "plot_per_class_accuracies(\n",
    "    food101_per_class_acc,\n",
    "    'Food-101',\n",
    "    num_bins=20\n",
    ")"
   ]
  },
  {
   "cell_type": "markdown",
   "id": "6dace74f-0fd6-4360-9ce9-d51ee108aca5",
   "metadata": {},
   "source": [
    "#### FER2013"
   ]
  },
  {
   "cell_type": "code",
   "execution_count": 31,
   "id": "4ccac894-0b8f-4175-a12e-fb9ef4aee800",
   "metadata": {},
   "outputs": [
    {
     "name": "stderr",
     "output_type": "stream",
     "text": [
      "Some weights of SwinForImageClassification were not initialized from the model checkpoint at microsoft/swin-base-patch4-window7-224 and are newly initialized because the shapes did not match:\n",
      "- classifier.bias: found shape torch.Size([1000]) in the checkpoint and torch.Size([7]) in the model instantiated\n",
      "- classifier.weight: found shape torch.Size([1000, 1024]) in the checkpoint and torch.Size([7, 1024]) in the model instantiated\n",
      "You should probably TRAIN this model on a down-stream task to be able to use it for predictions and inference.\n"
     ]
    }
   ],
   "source": [
    "swin_fer2013 = Backbone(model_names['Swin'], num_classes=len(fer2013_train.get_labels()))"
   ]
  },
  {
   "cell_type": "code",
   "execution_count": 32,
   "id": "8b8d37f9-c7d0-473d-b851-7083163e54f2",
   "metadata": {},
   "outputs": [
    {
     "name": "stdout",
     "output_type": "stream",
     "text": [
      "Parameters: 86.75M\n"
     ]
    }
   ],
   "source": [
    "get_model_params(swin_fer2013)"
   ]
  },
  {
   "cell_type": "code",
   "execution_count": 33,
   "id": "8b98beb2-14be-468c-af77-17d9070867dc",
   "metadata": {
    "editable": true,
    "slideshow": {
     "slide_type": ""
    },
    "tags": []
   },
   "outputs": [
    {
     "name": "stderr",
     "output_type": "stream",
     "text": [
      "100%|██████████| 3589/3589 [08:42<00:00,  6.87it/s]\n"
     ]
    },
    {
     "name": "stdout",
     "output_type": "stream",
     "text": [
      "Epochs: 1/10 | train_loss: 1.0186 | train_acc: 0.6177\n"
     ]
    },
    {
     "name": "stderr",
     "output_type": "stream",
     "text": [
      "100%|██████████| 3589/3589 [08:41<00:00,  6.88it/s]\n"
     ]
    },
    {
     "name": "stdout",
     "output_type": "stream",
     "text": [
      "Epochs: 2/10 | train_loss: 0.7707 | train_acc: 0.7149\n"
     ]
    },
    {
     "name": "stderr",
     "output_type": "stream",
     "text": [
      "100%|██████████| 3589/3589 [08:41<00:00,  6.89it/s]\n"
     ]
    },
    {
     "name": "stdout",
     "output_type": "stream",
     "text": [
      "Epochs: 3/10 | train_loss: 0.5875 | train_acc: 0.7866\n"
     ]
    },
    {
     "name": "stderr",
     "output_type": "stream",
     "text": [
      "100%|██████████| 3589/3589 [08:41<00:00,  6.88it/s]\n"
     ]
    },
    {
     "name": "stdout",
     "output_type": "stream",
     "text": [
      "Epochs: 4/10 | train_loss: 0.4025 | train_acc: 0.8583\n"
     ]
    },
    {
     "name": "stderr",
     "output_type": "stream",
     "text": [
      "100%|██████████| 3589/3589 [08:42<00:00,  6.87it/s]\n"
     ]
    },
    {
     "name": "stdout",
     "output_type": "stream",
     "text": [
      "Epochs: 5/10 | train_loss: 0.2608 | train_acc: 0.9069\n"
     ]
    },
    {
     "name": "stderr",
     "output_type": "stream",
     "text": [
      "100%|██████████| 3589/3589 [08:43<00:00,  6.86it/s]\n"
     ]
    },
    {
     "name": "stdout",
     "output_type": "stream",
     "text": [
      "Epochs: 6/10 | train_loss: 0.1729 | train_acc: 0.9402\n"
     ]
    },
    {
     "name": "stderr",
     "output_type": "stream",
     "text": [
      "100%|██████████| 3589/3589 [08:42<00:00,  6.87it/s]\n"
     ]
    },
    {
     "name": "stdout",
     "output_type": "stream",
     "text": [
      "Epochs: 7/10 | train_loss: 0.1296 | train_acc: 0.9559\n"
     ]
    },
    {
     "name": "stderr",
     "output_type": "stream",
     "text": [
      "100%|██████████| 3589/3589 [08:43<00:00,  6.86it/s]\n"
     ]
    },
    {
     "name": "stdout",
     "output_type": "stream",
     "text": [
      "Epochs: 8/10 | train_loss: 0.1091 | train_acc: 0.9627\n"
     ]
    },
    {
     "name": "stderr",
     "output_type": "stream",
     "text": [
      "100%|██████████| 3589/3589 [08:44<00:00,  6.84it/s]\n"
     ]
    },
    {
     "name": "stdout",
     "output_type": "stream",
     "text": [
      "Epochs: 9/10 | train_loss: 0.0976 | train_acc: 0.9668\n"
     ]
    },
    {
     "name": "stderr",
     "output_type": "stream",
     "text": [
      "100%|██████████| 3589/3589 [08:43<00:00,  6.86it/s]"
     ]
    },
    {
     "name": "stdout",
     "output_type": "stream",
     "text": [
      "Epochs: 10/10 | train_loss: 0.0846 | train_acc: 0.9700\n"
     ]
    },
    {
     "name": "stderr",
     "output_type": "stream",
     "text": [
      "\n"
     ]
    }
   ],
   "source": [
    "fer2013_loss, fer2013_acc, fer2013_per_class_acc = train_model(\n",
    "    swin_fer2013,\n",
    "    fer2013_train,\n",
    "    config,\n",
    "    'swin',\n",
    "    use_val=False,\n",
    "    fine_tune=True,\n",
    ")"
   ]
  },
  {
   "cell_type": "code",
   "execution_count": 34,
   "id": "ed2c9c07-6f5b-4775-89e1-9a71073d9a8e",
   "metadata": {
    "editable": true,
    "slideshow": {
     "slide_type": ""
    },
    "tags": []
   },
   "outputs": [
    {
     "name": "stderr",
     "output_type": "stream",
     "text": [
      "100%|██████████| 449/449 [00:23<00:00, 19.04it/s]"
     ]
    },
    {
     "name": "stdout",
     "output_type": "stream",
     "text": [
      "test_loss: 1.4763 | test_acc: 0.7038\n"
     ]
    },
    {
     "name": "stderr",
     "output_type": "stream",
     "text": [
      "\n"
     ]
    }
   ],
   "source": [
    "fer2013_loss, fer2013_acc, fer2013_per_class_acc = evaluate_model(\n",
    "    swin_fer2013,\n",
    "    fer2013_test,\n",
    "    config\n",
    ")"
   ]
  },
  {
   "cell_type": "code",
   "execution_count": 35,
   "id": "a1e1fc0e-7d12-42d9-814e-841195168061",
   "metadata": {},
   "outputs": [],
   "source": [
    "fer2013_accs.append(fer2013_acc)"
   ]
  },
  {
   "cell_type": "code",
   "execution_count": 36,
   "id": "77115768-c83e-4d7e-8753-d602ca47bbd3",
   "metadata": {},
   "outputs": [
    {
     "data": {
      "text/plain": [
       "{'angry': 0.6415478615071283,\n",
       " 'disgust': 0.7818181818181819,\n",
       " 'fear': 0.5984848484848485,\n",
       " 'happy': 0.8839590443686007,\n",
       " 'sad': 0.5976430976430976,\n",
       " 'surprise': 0.7475961538461539,\n",
       " 'neutral': 0.6533546325878594}"
      ]
     },
     "execution_count": 36,
     "metadata": {},
     "output_type": "execute_result"
    }
   ],
   "source": [
    "fer2013_per_class_acc"
   ]
  },
  {
   "cell_type": "code",
   "execution_count": 37,
   "id": "b687c37b-c987-45fe-862e-2f85abecef34",
   "metadata": {},
   "outputs": [
    {
     "data": {
      "image/png": "[encoded data removed]",
      "text/plain": [
       "<Figure size 1000x600 with 1 Axes>"
      ]
     },
     "metadata": {},
     "output_type": "display_data"
    }
   ],
   "source": [
    "plot_per_class_accuracies(\n",
    "    fer2013_per_class_acc,\n",
    "    'FER2013',\n",
    "    num_bins=20\n",
    ")"
   ]
  },
  {
   "cell_type": "markdown",
   "id": "ae722f72-87dc-44b7-9342-f69576d9f99a",
   "metadata": {},
   "source": [
    "#### PCam"
   ]
  },
  {
   "cell_type": "code",
   "execution_count": 38,
   "id": "05746506-b93d-4025-90a1-f265d6f82923",
   "metadata": {},
   "outputs": [
    {
     "name": "stderr",
     "output_type": "stream",
     "text": [
      "Some weights of SwinForImageClassification were not initialized from the model checkpoint at microsoft/swin-base-patch4-window7-224 and are newly initialized because the shapes did not match:\n",
      "- classifier.bias: found shape torch.Size([1000]) in the checkpoint and torch.Size([2]) in the model instantiated\n",
      "- classifier.weight: found shape torch.Size([1000, 1024]) in the checkpoint and torch.Size([2, 1024]) in the model instantiated\n",
      "You should probably TRAIN this model on a down-stream task to be able to use it for predictions and inference.\n"
     ]
    }
   ],
   "source": [
    "swin_pcam = Backbone(model_names['Swin'], num_classes=len(pcam_train.get_labels()))"
   ]
  },
  {
   "cell_type": "code",
   "execution_count": 39,
   "id": "46559a21-385f-47b3-b87e-9fa540a44dc4",
   "metadata": {},
   "outputs": [
    {
     "name": "stdout",
     "output_type": "stream",
     "text": [
      "Parameters: 86.75M\n"
     ]
    }
   ],
   "source": [
    "get_model_params(swin_pcam)"
   ]
  },
  {
   "cell_type": "code",
   "execution_count": 40,
   "id": "885ecbb5-354b-4c8f-8562-0ef6b1cd9c61",
   "metadata": {},
   "outputs": [
    {
     "name": "stderr",
     "output_type": "stream",
     "text": [
      "100%|██████████| 32768/32768 [1:20:42<00:00,  6.77it/s]\n"
     ]
    },
    {
     "name": "stdout",
     "output_type": "stream",
     "text": [
      "Epochs: 1/10 | train_loss: 0.1197 | train_acc: 0.9571\n"
     ]
    },
    {
     "name": "stderr",
     "output_type": "stream",
     "text": [
      "100%|██████████| 32768/32768 [1:21:08<00:00,  6.73it/s]\n"
     ]
    },
    {
     "name": "stdout",
     "output_type": "stream",
     "text": [
      "Epochs: 2/10 | train_loss: 0.0620 | train_acc: 0.9791\n"
     ]
    },
    {
     "name": "stderr",
     "output_type": "stream",
     "text": [
      "100%|██████████| 32768/32768 [1:20:13<00:00,  6.81it/s]\n"
     ]
    },
    {
     "name": "stdout",
     "output_type": "stream",
     "text": [
      "Epochs: 3/10 | train_loss: 0.0408 | train_acc: 0.9863\n"
     ]
    },
    {
     "name": "stderr",
     "output_type": "stream",
     "text": [
      "100%|██████████| 32768/32768 [1:20:16<00:00,  6.80it/s]\n"
     ]
    },
    {
     "name": "stdout",
     "output_type": "stream",
     "text": [
      "Epochs: 4/10 | train_loss: 0.0293 | train_acc: 0.9901\n"
     ]
    },
    {
     "name": "stderr",
     "output_type": "stream",
     "text": [
      "100%|██████████| 32768/32768 [1:20:14<00:00,  6.81it/s]\n"
     ]
    },
    {
     "name": "stdout",
     "output_type": "stream",
     "text": [
      "Epochs: 5/10 | train_loss: 0.0221 | train_acc: 0.9926\n"
     ]
    },
    {
     "name": "stderr",
     "output_type": "stream",
     "text": [
      "100%|██████████| 32768/32768 [1:21:06<00:00,  6.73it/s]\n"
     ]
    },
    {
     "name": "stdout",
     "output_type": "stream",
     "text": [
      "Epochs: 6/10 | train_loss: 0.0183 | train_acc: 0.9938\n"
     ]
    },
    {
     "name": "stderr",
     "output_type": "stream",
     "text": [
      "100%|██████████| 32768/32768 [1:20:24<00:00,  6.79it/s]\n"
     ]
    },
    {
     "name": "stdout",
     "output_type": "stream",
     "text": [
      "Epochs: 7/10 | train_loss: 0.0156 | train_acc: 0.9946\n"
     ]
    },
    {
     "name": "stderr",
     "output_type": "stream",
     "text": [
      "100%|██████████| 32768/32768 [1:20:27<00:00,  6.79it/s]\n"
     ]
    },
    {
     "name": "stdout",
     "output_type": "stream",
     "text": [
      "Epochs: 8/10 | train_loss: 0.0140 | train_acc: 0.9951\n"
     ]
    },
    {
     "name": "stderr",
     "output_type": "stream",
     "text": [
      "100%|██████████| 32768/32768 [1:20:27<00:00,  6.79it/s]\n"
     ]
    },
    {
     "name": "stdout",
     "output_type": "stream",
     "text": [
      "Epochs: 9/10 | train_loss: 0.0131 | train_acc: 0.9955\n"
     ]
    },
    {
     "name": "stderr",
     "output_type": "stream",
     "text": [
      "100%|██████████| 32768/32768 [1:20:43<00:00,  6.77it/s]\n"
     ]
    },
    {
     "name": "stdout",
     "output_type": "stream",
     "text": [
      "Epochs: 10/10 | train_loss: 0.0121 | train_acc: 0.9958\n"
     ]
    }
   ],
   "source": [
    "pcam_loss, pcam_acc, pcam_per_class_acc = train_model(\n",
    "    swin_pcam,\n",
    "    pcam_train,\n",
    "    config,\n",
    "    'swin',\n",
    "    use_val=False,\n",
    "    fine_tune=True,\n",
    ")"
   ]
  },
  {
   "cell_type": "code",
   "execution_count": 41,
   "id": "94d4af2c-3bb4-41a2-be2f-a86cccd2b3a1",
   "metadata": {},
   "outputs": [
    {
     "name": "stderr",
     "output_type": "stream",
     "text": [
      "100%|██████████| 4096/4096 [03:42<00:00, 18.39it/s]"
     ]
    },
    {
     "name": "stdout",
     "output_type": "stream",
     "text": [
      "test_loss: 0.9419 | test_acc: 0.8503\n"
     ]
    },
    {
     "name": "stderr",
     "output_type": "stream",
     "text": [
      "\n"
     ]
    }
   ],
   "source": [
    "pcam_loss, pcam_acc, pcam_per_class_acc = evaluate_model(\n",
    "    swin_pcam,\n",
    "    pcam_test,\n",
    "    config\n",
    ")"
   ]
  },
  {
   "cell_type": "code",
   "execution_count": 42,
   "id": "4e18eae0-58f0-456e-a5d3-76565fb5fc2f",
   "metadata": {},
   "outputs": [],
   "source": [
    "pcam_accs.append(pcam_acc)"
   ]
  },
  {
   "cell_type": "code",
   "execution_count": 43,
   "id": "0324390a-1173-4f42-a515-e9a0acf495bc",
   "metadata": {},
   "outputs": [
    {
     "data": {
      "text/plain": [
       "{'healthy lymph node tissue': 0.9898724910011591,\n",
       " 'lymph node tumor tissue': 0.710630762654943}"
      ]
     },
     "execution_count": 43,
     "metadata": {},
     "output_type": "execute_result"
    }
   ],
   "source": [
    "pcam_per_class_acc"
   ]
  },
  {
   "cell_type": "code",
   "execution_count": 44,
   "id": "6d73cb17-9a79-4fcb-a5bc-1cdc01c34f10",
   "metadata": {},
   "outputs": [
    {
     "data": {
      "image/png": "[encoded data removed]",
      "text/plain": [
       "<Figure size 1000x600 with 1 Axes>"
      ]
     },
     "metadata": {},
     "output_type": "display_data"
    }
   ],
   "source": [
    "plot_per_class_accuracies(\n",
    "    pcam_per_class_acc,\n",
    "    'PatchCamelyon',\n",
    "    num_bins=20\n",
    ")"
   ]
  },
  {
   "cell_type": "markdown",
   "id": "93af562d-1712-465d-bab3-4eeb72d02569",
   "metadata": {},
   "source": [
    "#### SUN397"
   ]
  },
  {
   "cell_type": "code",
   "execution_count": null,
   "id": "1cf260ec-de4b-473d-8fee-dba06b312f70",
   "metadata": {},
   "outputs": [
    {
     "name": "stderr",
     "output_type": "stream",
     "text": [
      "Some weights of SwinForImageClassification were not initialized from the model checkpoint at microsoft/swin-base-patch4-window7-224 and are newly initialized because the shapes did not match:\n",
      "- classifier.bias: found shape torch.Size([1000]) in the checkpoint and torch.Size([397]) in the model instantiated\n",
      "- classifier.weight: found shape torch.Size([1000, 1024]) in the checkpoint and torch.Size([397, 1024]) in the model instantiated\n",
      "You should probably TRAIN this model on a down-stream task to be able to use it for predictions and inference.\n"
     ]
    }
   ],
   "source": [
    "swin_sun397 = Backbone(model_names['Swin'], num_classes=len(sun397_train.get_labels()))"
   ]
  },
  {
   "cell_type": "code",
   "execution_count": null,
   "id": "7dbc1cef-fee3-46c9-8d6d-af3eca2a3673",
   "metadata": {},
   "outputs": [
    {
     "name": "stdout",
     "output_type": "stream",
     "text": [
      "Parameters: 87.15M\n"
     ]
    }
   ],
   "source": [
    "get_model_params(swin_sun397)"
   ]
  },
  {
   "cell_type": "code",
   "execution_count": null,
   "id": "3589b9ef-9a74-4f54-ab29-eb763b77c3db",
   "metadata": {},
   "outputs": [
    {
     "name": "stderr",
     "output_type": "stream",
     "text": [
      "100%|██████████| 9516/9516 [28:46<00:00,  5.51it/s]\n"
     ]
    },
    {
     "name": "stdout",
     "output_type": "stream",
     "text": [
      "Epochs: 1/10 | train_loss: 1.3184 | train_acc: 0.6754\n"
     ]
    },
    {
     "name": "stderr",
     "output_type": "stream",
     "text": [
      "100%|██████████| 9516/9516 [27:29<00:00,  5.77it/s]\n"
     ]
    },
    {
     "name": "stdout",
     "output_type": "stream",
     "text": [
      "Epochs: 2/10 | train_loss: 0.5758 | train_acc: 0.8280\n"
     ]
    },
    {
     "name": "stderr",
     "output_type": "stream",
     "text": [
      "100%|██████████| 9516/9516 [27:30<00:00,  5.76it/s]\n"
     ]
    },
    {
     "name": "stdout",
     "output_type": "stream",
     "text": [
      "Epochs: 3/10 | train_loss: 0.3393 | train_acc: 0.8938\n"
     ]
    },
    {
     "name": "stderr",
     "output_type": "stream",
     "text": [
      "100%|██████████| 9516/9516 [27:27<00:00,  5.77it/s]\n"
     ]
    },
    {
     "name": "stdout",
     "output_type": "stream",
     "text": [
      "Epochs: 4/10 | train_loss: 0.1989 | train_acc: 0.9382\n"
     ]
    },
    {
     "name": "stderr",
     "output_type": "stream",
     "text": [
      "100%|██████████| 9516/9516 [27:13<00:00,  5.83it/s]\n"
     ]
    },
    {
     "name": "stdout",
     "output_type": "stream",
     "text": [
      "Epochs: 5/10 | train_loss: 0.1307 | train_acc: 0.9596\n"
     ]
    },
    {
     "name": "stderr",
     "output_type": "stream",
     "text": [
      "100%|██████████| 9516/9516 [27:16<00:00,  5.81it/s]\n"
     ]
    },
    {
     "name": "stdout",
     "output_type": "stream",
     "text": [
      "Epochs: 6/10 | train_loss: 0.0972 | train_acc: 0.9705\n"
     ]
    },
    {
     "name": "stderr",
     "output_type": "stream",
     "text": [
      "100%|██████████| 9516/9516 [27:18<00:00,  5.81it/s]\n"
     ]
    },
    {
     "name": "stdout",
     "output_type": "stream",
     "text": [
      "Epochs: 7/10 | train_loss: 0.0782 | train_acc: 0.9760\n"
     ]
    },
    {
     "name": "stderr",
     "output_type": "stream",
     "text": [
      "100%|██████████| 9516/9516 [27:23<00:00,  5.79it/s]\n"
     ]
    },
    {
     "name": "stdout",
     "output_type": "stream",
     "text": [
      "Epochs: 8/10 | train_loss: 0.0671 | train_acc: 0.9803\n"
     ]
    },
    {
     "name": "stderr",
     "output_type": "stream",
     "text": [
      "100%|██████████| 9516/9516 [27:33<00:00,  5.75it/s]\n"
     ]
    },
    {
     "name": "stdout",
     "output_type": "stream",
     "text": [
      "Epochs: 9/10 | train_loss: 0.0623 | train_acc: 0.9815\n"
     ]
    },
    {
     "name": "stderr",
     "output_type": "stream",
     "text": [
      "100%|██████████| 9516/9516 [27:16<00:00,  5.81it/s]\n"
     ]
    },
    {
     "name": "stdout",
     "output_type": "stream",
     "text": [
      "Epochs: 10/10 | train_loss: 0.0557 | train_acc: 0.9835\n"
     ]
    }
   ],
   "source": [
    "sun397_loss, sun397_acc, sun397_per_class_acc = train_model(\n",
    "    swin_sun397,\n",
    "    sun397_train,\n",
    "    config,\n",
    "    'swin',\n",
    "    use_val=False,\n",
    "    fine_tune=True,\n",
    ")"
   ]
  },
  {
   "cell_type": "code",
   "execution_count": null,
   "id": "2792c72b-006f-4fd9-af19-7a23144c2776",
   "metadata": {},
   "outputs": [
    {
     "name": "stderr",
     "output_type": "stream",
     "text": [
      "100%|██████████| 2719/2719 [03:42<00:00, 12.25it/s]\n"
     ]
    },
    {
     "name": "stdout",
     "output_type": "stream",
     "text": [
      "test_loss: 1.1193 | test_acc: 0.7786\n"
     ]
    }
   ],
   "source": [
    "sun397_loss, sun397_acc, sun397_per_class_acc = evaluate_model(\n",
    "    swin_sun397,\n",
    "    sun397_test,\n",
    "    config\n",
    ")"
   ]
  },
  {
   "cell_type": "code",
   "execution_count": null,
   "id": "d39645d6-fc7d-446a-9981-333b31dd326d",
   "metadata": {},
   "outputs": [],
   "source": [
    "sun397_accs.append(sun397_acc)"
   ]
  },
  {
   "cell_type": "code",
   "execution_count": null,
   "id": "df14cd76-f403-4702-a9b5-f63991ce04d9",
   "metadata": {},
   "outputs": [
    {
     "data": {
      "text/plain": [
       "[('arrival gate (outdoor)', 1.0),\n",
       " ('ball pit', 1.0),\n",
       " ('batters box', 1.0),\n",
       " ('bullring', 1.0),\n",
       " ('car interior (backseat)', 1.0)]"
      ]
     },
     "execution_count": 50,
     "metadata": {},
     "output_type": "execute_result"
    }
   ],
   "source": [
    "get_top_5_accuracies(sun397_per_class_acc)"
   ]
  },
  {
   "cell_type": "code",
   "execution_count": null,
   "id": "31d9bf8d-a686-4dc0-bad5-7681e66ddb9e",
   "metadata": {},
   "outputs": [
    {
     "data": {
      "text/plain": [
       "[('bistro (indoor)', 0.05263157894736842),\n",
       " ('library (outdoor)', 0.09523809523809523),\n",
       " ('recreation room', 0.1111111111111111),\n",
       " ('hunting lodge (outdoor)', 0.125),\n",
       " ('parking garage (outdoor)', 0.13636363636363635)]"
      ]
     },
     "execution_count": 51,
     "metadata": {},
     "output_type": "execute_result"
    }
   ],
   "source": [
    "get_bottom_5_accuracies(sun397_per_class_acc)"
   ]
  },
  {
   "cell_type": "code",
   "execution_count": null,
   "id": "2d78a624-a6fc-4a15-acbd-0b14cb5a51cc",
   "metadata": {},
   "outputs": [
    {
     "data": {
      "image/png": "[encoded data removed]",
      "text/plain": [
       "<Figure size 1000x600 with 1 Axes>"
      ]
     },
     "metadata": {},
     "output_type": "display_data"
    }
   ],
   "source": [
    "plot_per_class_accuracies(\n",
    "    sun397_per_class_acc,\n",
    "    'SUN397',\n",
    "    num_bins=20\n",
    ")"
   ]
  },
  {
   "cell_type": "markdown",
   "id": "f3c9a504-65a4-4bdb-83bf-1f0d86fa8f47",
   "metadata": {},
   "source": [
    "#### DTD"
   ]
  },
  {
   "cell_type": "code",
   "execution_count": null,
   "id": "5e33a355-31ee-4b2d-83c4-9473daed2d76",
   "metadata": {},
   "outputs": [
    {
     "name": "stderr",
     "output_type": "stream",
     "text": [
      "Some weights of SwinForImageClassification were not initialized from the model checkpoint at microsoft/swin-base-patch4-window7-224 and are newly initialized because the shapes did not match:\n",
      "- classifier.bias: found shape torch.Size([1000]) in the checkpoint and torch.Size([47]) in the model instantiated\n",
      "- classifier.weight: found shape torch.Size([1000, 1024]) in the checkpoint and torch.Size([47, 1024]) in the model instantiated\n",
      "You should probably TRAIN this model on a down-stream task to be able to use it for predictions and inference.\n"
     ]
    }
   ],
   "source": [
    "swin_dtd = Backbone(model_names['Swin'], num_classes=len(dtd_train.get_labels()))"
   ]
  },
  {
   "cell_type": "code",
   "execution_count": null,
   "id": "1747f40f-63d8-4acd-b971-93e2b4877431",
   "metadata": {},
   "outputs": [
    {
     "name": "stdout",
     "output_type": "stream",
     "text": [
      "Parameters: 86.79M\n"
     ]
    }
   ],
   "source": [
    "get_model_params(swin_dtd)"
   ]
  },
  {
   "cell_type": "code",
   "execution_count": null,
   "id": "d82e9167-814d-4c4e-816d-3c00ab5ecd96",
   "metadata": {},
   "outputs": [
    {
     "name": "stderr",
     "output_type": "stream",
     "text": [
      "100%|██████████| 470/470 [01:23<00:00,  5.66it/s]\n"
     ]
    },
    {
     "name": "stdout",
     "output_type": "stream",
     "text": [
      "Epochs: 1/10 | train_loss: 1.8001 | train_acc: 0.5577\n"
     ]
    },
    {
     "name": "stderr",
     "output_type": "stream",
     "text": [
      "100%|██████████| 470/470 [01:22<00:00,  5.73it/s]\n"
     ]
    },
    {
     "name": "stdout",
     "output_type": "stream",
     "text": [
      "Epochs: 2/10 | train_loss: 0.4067 | train_acc: 0.8939\n"
     ]
    },
    {
     "name": "stderr",
     "output_type": "stream",
     "text": [
      "100%|██████████| 470/470 [01:21<00:00,  5.74it/s]\n"
     ]
    },
    {
     "name": "stdout",
     "output_type": "stream",
     "text": [
      "Epochs: 3/10 | train_loss: 0.1393 | train_acc: 0.9676\n"
     ]
    },
    {
     "name": "stderr",
     "output_type": "stream",
     "text": [
      "100%|██████████| 470/470 [01:22<00:00,  5.73it/s]\n"
     ]
    },
    {
     "name": "stdout",
     "output_type": "stream",
     "text": [
      "Epochs: 4/10 | train_loss: 0.0551 | train_acc: 0.9918\n"
     ]
    },
    {
     "name": "stderr",
     "output_type": "stream",
     "text": [
      "100%|██████████| 470/470 [01:21<00:00,  5.78it/s]\n"
     ]
    },
    {
     "name": "stdout",
     "output_type": "stream",
     "text": [
      "Epochs: 5/10 | train_loss: 0.0392 | train_acc: 0.9928\n"
     ]
    },
    {
     "name": "stderr",
     "output_type": "stream",
     "text": [
      "100%|██████████| 470/470 [01:21<00:00,  5.80it/s]\n"
     ]
    },
    {
     "name": "stdout",
     "output_type": "stream",
     "text": [
      "Epochs: 6/10 | train_loss: 0.0368 | train_acc: 0.9910\n"
     ]
    },
    {
     "name": "stderr",
     "output_type": "stream",
     "text": [
      "100%|██████████| 470/470 [01:20<00:00,  5.82it/s]\n"
     ]
    },
    {
     "name": "stdout",
     "output_type": "stream",
     "text": [
      "Epochs: 7/10 | train_loss: 0.0660 | train_acc: 0.9846\n"
     ]
    },
    {
     "name": "stderr",
     "output_type": "stream",
     "text": [
      "100%|██████████| 470/470 [01:20<00:00,  5.82it/s]\n"
     ]
    },
    {
     "name": "stdout",
     "output_type": "stream",
     "text": [
      "Epochs: 8/10 | train_loss: 0.0482 | train_acc: 0.9899\n"
     ]
    },
    {
     "name": "stderr",
     "output_type": "stream",
     "text": [
      "100%|██████████| 470/470 [01:21<00:00,  5.80it/s]\n"
     ]
    },
    {
     "name": "stdout",
     "output_type": "stream",
     "text": [
      "Epochs: 9/10 | train_loss: 0.0216 | train_acc: 0.9965\n"
     ]
    },
    {
     "name": "stderr",
     "output_type": "stream",
     "text": [
      "100%|██████████| 470/470 [01:20<00:00,  5.81it/s]"
     ]
    },
    {
     "name": "stdout",
     "output_type": "stream",
     "text": [
      "Epochs: 10/10 | train_loss: 0.0100 | train_acc: 0.9976\n"
     ]
    },
    {
     "name": "stderr",
     "output_type": "stream",
     "text": [
      "\n"
     ]
    }
   ],
   "source": [
    "dtd_loss, dtd_acc, dtd_per_class_acc = train_model(\n",
    "    swin_dtd,\n",
    "    dtd_train,\n",
    "    config,\n",
    "    'swin',\n",
    "    use_val=False,\n",
    "    fine_tune=True,\n",
    ")"
   ]
  },
  {
   "cell_type": "code",
   "execution_count": null,
   "id": "97a6a937-9c39-4f10-a27b-cf93ac3315f8",
   "metadata": {},
   "outputs": [
    {
     "name": "stderr",
     "output_type": "stream",
     "text": [
      "100%|██████████| 235/235 [00:18<00:00, 12.72it/s]"
     ]
    },
    {
     "name": "stdout",
     "output_type": "stream",
     "text": [
      "test_loss: 0.8221 | test_acc: 0.8218\n"
     ]
    },
    {
     "name": "stderr",
     "output_type": "stream",
     "text": [
      "\n"
     ]
    }
   ],
   "source": [
    "dtd_loss, dtd_acc, dtd_per_class_acc = evaluate_model(\n",
    "    swin_dtd,\n",
    "    dtd_test,\n",
    "    config\n",
    ")"
   ]
  },
  {
   "cell_type": "code",
   "execution_count": null,
   "id": "ac0707c4-f897-40fd-bc5a-db9a97e120e1",
   "metadata": {},
   "outputs": [],
   "source": [
    "dtd_accs.append(dtd_acc)"
   ]
  },
  {
   "cell_type": "code",
   "execution_count": null,
   "id": "69376f22-46cd-443f-aea7-c4ab1664ec4e",
   "metadata": {},
   "outputs": [
    {
     "data": {
      "text/plain": [
       "[('crystalline', 1.0),\n",
       " ('potholed', 1.0),\n",
       " ('knitted', 0.975),\n",
       " ('scaly', 0.975),\n",
       " ('studded', 0.975)]"
      ]
     },
     "execution_count": 58,
     "metadata": {},
     "output_type": "execute_result"
    }
   ],
   "source": [
    "get_top_5_accuracies(dtd_per_class_acc)"
   ]
  },
  {
   "cell_type": "code",
   "execution_count": null,
   "id": "1d1d0846-38f6-47c9-9648-204c1724dcb2",
   "metadata": {},
   "outputs": [
    {
     "data": {
      "text/plain": [
       "[('stained', 0.55),\n",
       " ('blotchy', 0.6),\n",
       " ('bumpy', 0.6),\n",
       " ('pitted', 0.6),\n",
       " ('grid', 0.675)]"
      ]
     },
     "execution_count": 59,
     "metadata": {},
     "output_type": "execute_result"
    }
   ],
   "source": [
    "get_bottom_5_accuracies(dtd_per_class_acc)"
   ]
  },
  {
   "cell_type": "code",
   "execution_count": null,
   "id": "e439f1d9-5b2f-4c9e-b4ba-60661674d540",
   "metadata": {},
   "outputs": [
    {
     "data": {
      "image/png": "[encoded data removed]",
      "text/plain": [
       "<Figure size 1000x600 with 1 Axes>"
      ]
     },
     "metadata": {},
     "output_type": "display_data"
    }
   ],
   "source": [
    "plot_per_class_accuracies(\n",
    "    dtd_per_class_acc,\n",
    "    'DTD',\n",
    "    num_bins=20\n",
    ")"
   ]
  },
  {
   "cell_type": "markdown",
   "id": "a163a182-bbd6-41b8-8a2c-9f8646512d7b",
   "metadata": {},
   "source": [
    "### Results"
   ]
  },
  {
   "cell_type": "markdown",
   "id": "e85011f4-8072-4569-91a3-41ea18a5bf38",
   "metadata": {},
   "source": [
    "Display the results of the analysis in dataframe."
   ]
  },
  {
   "cell_type": "code",
   "execution_count": null,
   "id": "187e9a38-26b1-4057-8801-563a5df82909",
   "metadata": {},
   "outputs": [],
   "source": [
    "results = [\n",
    "    resisc45_accs,\n",
    "    food101_accs,\n",
    "    fer2013_accs,\n",
    "    pcam_accs,\n",
    "    sun397_accs,\n",
    "    dtd_accs,\n",
    "]"
   ]
  },
  {
   "cell_type": "code",
   "execution_count": null,
   "id": "df2be8ba-934d-4297-887d-4ac062bd432a",
   "metadata": {},
   "outputs": [],
   "source": [
    "labels = ['RESISC45', 'Food-101', 'FER2013', 'PatchCamelyon', 'SUN397', 'DTD']"
   ]
  },
  {
   "cell_type": "code",
   "execution_count": null,
   "id": "8a7e4051-5df7-4cfb-bd85-b61b4ef7d62a",
   "metadata": {},
   "outputs": [],
   "source": [
    "acc_dict = create_accuracy_dict(\n",
    "    results,\n",
    "    labels\n",
    ")"
   ]
  },
  {
   "cell_type": "code",
   "execution_count": null,
   "id": "8246a56c-e386-4dcf-8b66-a233f7918938",
   "metadata": {},
   "outputs": [
    {
     "data": {
      "text/html": [
       "<div>\n",
       "<style scoped>\n",
       "    .dataframe tbody tr th:only-of-type {\n",
       "        vertical-align: middle;\n",
       "    }\n",
       "\n",
       "    .dataframe tbody tr th {\n",
       "        vertical-align: top;\n",
       "    }\n",
       "\n",
       "    .dataframe thead th {\n",
       "        text-align: right;\n",
       "    }\n",
       "</style>\n",
       "<table border=\"1\" class=\"dataframe\">\n",
       "  <thead>\n",
       "    <tr style=\"text-align: right;\">\n",
       "      <th></th>\n",
       "      <th>fine-tuning</th>\n",
       "    </tr>\n",
       "  </thead>\n",
       "  <tbody>\n",
       "    <tr>\n",
       "      <th>RESISC45</th>\n",
       "      <td>0.958095</td>\n",
       "    </tr>\n",
       "    <tr>\n",
       "      <th>Food-101</th>\n",
       "      <td>0.895842</td>\n",
       "    </tr>\n",
       "    <tr>\n",
       "      <th>FER2013</th>\n",
       "      <td>0.703817</td>\n",
       "    </tr>\n",
       "    <tr>\n",
       "      <th>PatchCamelyon</th>\n",
       "      <td>0.850311</td>\n",
       "    </tr>\n",
       "    <tr>\n",
       "      <th>SUN397</th>\n",
       "      <td>0.778621</td>\n",
       "    </tr>\n",
       "    <tr>\n",
       "      <th>DTD</th>\n",
       "      <td>0.821809</td>\n",
       "    </tr>\n",
       "  </tbody>\n",
       "</table>\n",
       "</div>"
      ],
      "text/plain": [
       "               fine-tuning\n",
       "RESISC45          0.958095\n",
       "Food-101          0.895842\n",
       "FER2013           0.703817\n",
       "PatchCamelyon     0.850311\n",
       "SUN397            0.778621\n",
       "DTD               0.821809"
      ]
     },
     "execution_count": 64,
     "metadata": {},
     "output_type": "execute_result"
    }
   ],
   "source": [
    "df = pd.DataFrame(results, columns=['fine-tuning'], index=labels)\n",
    "df"
   ]
  }
 ],
 "metadata": {
  "kernelspec": {
   "display_name": "Python 3 (ipykernel)",
   "language": "python",
   "name": "python3"
  },
  "language_info": {
   "codemirror_mode": {
    "name": "ipython",
    "version": 3
   },
   "file_extension": ".py",
   "mimetype": "text/x-python",
   "name": "python",
   "nbconvert_exporter": "python",
   "pygments_lexer": "ipython3",
   "version": "3.10.12"
  }
 },
 "nbformat": 4,
 "nbformat_minor": 5
}
