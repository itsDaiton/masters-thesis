{
 "cells": [
  {
   "cell_type": "markdown",
   "id": "ceefad3e-a04d-4c7a-a1d5-7ade1ed87925",
   "metadata": {},
   "source": [
    "# Exploration and Comparison of Transformers for Image Classification"
   ]
  },
  {
   "cell_type": "markdown",
   "id": "520b192b-1ebb-4c2d-bcfd-a12e9687fa8a",
   "metadata": {},
   "source": [
    "Comparison of results for linear probing across 6 datasets for each model\n",
    "- ViT\n",
    "- DeiT\n",
    "- Swin\n",
    "- CLIP"
   ]
  },
  {
   "cell_type": "markdown",
   "id": "1608abe1-43db-4594-865b-323062cb7aac",
   "metadata": {},
   "source": [
    "Showing the results in a different file is to avoid information and visual clutter.\n",
    "\n",
    "NOTE: Since variables are not saved accros multiple jupyter notebook files, the data needs to be taken from the individual notebooks and hardcoded here."
   ]
  },
  {
   "cell_type": "markdown",
   "id": "e6fc955a-e540-43c6-8409-e7fea199a3bd",
   "metadata": {},
   "source": [
    "### Prerequisites"
   ]
  },
  {
   "cell_type": "markdown",
   "id": "60ded7c3-5d5d-4480-b917-81650f31f8b7",
   "metadata": {},
   "source": [
    "Load necessary packages."
   ]
  },
  {
   "cell_type": "code",
   "execution_count": 9,
   "id": "2619cd27-9769-4759-9af5-084ed8abfbfd",
   "metadata": {},
   "outputs": [],
   "source": [
    "import os\n",
    "os.chdir('..')\n",
    "from utils.data_utils import *\n",
    "import pandas as pd"
   ]
  },
  {
   "cell_type": "markdown",
   "id": "1c583e57-0903-4b3d-ac86-9e7b6356de1d",
   "metadata": {},
   "source": [
    "### Results"
   ]
  },
  {
   "cell_type": "markdown",
   "id": "2e72b4a7-7aec-4c3a-8642-4980101f57db",
   "metadata": {},
   "source": [
    "Get the results from each model.\n",
    "\n",
    "NOTE: Taken from \"Results\" section from each notebook."
   ]
  },
  {
   "cell_type": "code",
   "execution_count": 2,
   "id": "224d5fc2-b128-46c5-b8ea-cf9166a32b4d",
   "metadata": {},
   "outputs": [],
   "source": [
    "resisc45_vit = 0.846349\n",
    "food101_vit = 0.859644\n",
    "fer2013_vit = 0.601839\n",
    "pcam_vit = 0.843079\n",
    "sun397_vit = 0.774529\n",
    "dtd_vit = 0.730319\n",
    "\n",
    "resisc45_deit = 0.886667\n",
    "food101_deit = 0.786297\n",
    "fer2013_deit = 0.527445\n",
    "pcam_deit = 0.832336\n",
    "sun397_deit = 0.726851\n",
    "dtd_deit = 0.714894\n",
    "\n",
    "resisc45_swin = 0.885397\n",
    "food101_swin = 0.894733\n",
    "fer2013_swin = 0.612148\n",
    "pcam_swin = 0.845551\n",
    "sun397_swin = 0.804184\n",
    "dtd_swin = 0.782447\n",
    "\n",
    "resisc45_clip = 0.898730\n",
    "food101_clip = 0.889149\n",
    "fer2013_clip = 0.670939\n",
    "pcam_clip = 0.836365\n",
    "sun397_clip = 0.790575\n",
    "dtd_clip = 0.726064"
   ]
  },
  {
   "cell_type": "markdown",
   "id": "0d86ed8d-399e-48b6-a0ad-dbae06514510",
   "metadata": {},
   "source": [
    "Aggregate results over datasets."
   ]
  },
  {
   "cell_type": "code",
   "execution_count": 3,
   "id": "be6cc388-a38b-4521-ad52-1a196b500c1a",
   "metadata": {},
   "outputs": [],
   "source": [
    "results_resisc45 = [resisc45_vit, resisc45_deit, resisc45_swin, resisc45_clip]\n",
    "results_food101 = [food101_vit, food101_deit, food101_swin, food101_clip]\n",
    "results_fer2013 = [fer2013_vit, fer2013_deit, fer2013_swin, fer2013_clip]\n",
    "results_pcam = [pcam_vit, pcam_deit, pcam_swin, pcam_clip]\n",
    "results_sun397 = [sun397_vit, sun397_deit, sun397_swin, sun397_clip]\n",
    "results_dtd = [dtd_vit, dtd_deit, dtd_swin, dtd_clip]"
   ]
  },
  {
   "cell_type": "markdown",
   "id": "c764804f-4c6e-4190-b52c-20006ee507ef",
   "metadata": {},
   "source": [
    "Concatenate all results into a single variable."
   ]
  },
  {
   "cell_type": "code",
   "execution_count": 4,
   "id": "b75854bb-caa0-47d1-adc5-29bec0ac27f2",
   "metadata": {},
   "outputs": [],
   "source": [
    "results = [\n",
    "    results_resisc45,\n",
    "    results_food101,\n",
    "    results_fer2013,\n",
    "    results_pcam,\n",
    "    results_sun397,\n",
    "    results_dtd,\n",
    "]"
   ]
  },
  {
   "cell_type": "code",
   "execution_count": 13,
   "id": "e173e185-a88e-4fd8-a539-4a27d01292e6",
   "metadata": {},
   "outputs": [],
   "source": [
    "labels = ['RESISC45', 'Food-101', 'FER2013', 'PatchCamelyon', 'SUN397', 'DTD']\n",
    "models = ['ViT', 'DeiT', 'Swin', 'CLIP']"
   ]
  },
  {
   "cell_type": "code",
   "execution_count": 10,
   "id": "1c59443b-0931-43df-b197-e6f762eafe20",
   "metadata": {},
   "outputs": [],
   "source": [
    "acc_dict = create_accuracy_dict(\n",
    "    results,\n",
    "    labels\n",
    ")"
   ]
  },
  {
   "cell_type": "code",
   "execution_count": 11,
   "id": "641180b3-b9a0-4e41-b50e-d2533aba509d",
   "metadata": {},
   "outputs": [
    {
     "data": {
      "text/plain": [
       "{'RESISC45': [0.846349, 0.886667, 0.885397, 0.89873],\n",
       " 'Food-101': [0.859644, 0.786297, 0.894733, 0.889149],\n",
       " 'FER2013': [0.601839, 0.527445, 0.612148, 0.670939],\n",
       " 'PatchCamelyon': [0.843079, 0.832336, 0.845551, 0.836365],\n",
       " 'SUN397': [0.774529, 0.726851, 0.804184, 0.790575],\n",
       " 'DTD': [0.730319, 0.714894, 0.782447, 0.726064]}"
      ]
     },
     "execution_count": 11,
     "metadata": {},
     "output_type": "execute_result"
    }
   ],
   "source": [
    "acc_dict"
   ]
  },
  {
   "cell_type": "markdown",
   "id": "951833f8-1ba2-41dc-ac33-129fe34177c4",
   "metadata": {},
   "source": [
    "Display a dataframe containing the results for model and dataset."
   ]
  },
  {
   "cell_type": "code",
   "execution_count": 14,
   "id": "b0a462ec-eace-41ab-81d5-ea58d8195566",
   "metadata": {},
   "outputs": [
    {
     "data": {
      "text/html": [
       "<div>\n",
       "<style scoped>\n",
       "    .dataframe tbody tr th:only-of-type {\n",
       "        vertical-align: middle;\n",
       "    }\n",
       "\n",
       "    .dataframe tbody tr th {\n",
       "        vertical-align: top;\n",
       "    }\n",
       "\n",
       "    .dataframe thead th {\n",
       "        text-align: right;\n",
       "    }\n",
       "</style>\n",
       "<table border=\"1\" class=\"dataframe\">\n",
       "  <thead>\n",
       "    <tr style=\"text-align: right;\">\n",
       "      <th></th>\n",
       "      <th>ViT</th>\n",
       "      <th>DeiT</th>\n",
       "      <th>Swin</th>\n",
       "      <th>CLIP</th>\n",
       "    </tr>\n",
       "  </thead>\n",
       "  <tbody>\n",
       "    <tr>\n",
       "      <th>RESISC45</th>\n",
       "      <td>0.846349</td>\n",
       "      <td>0.886667</td>\n",
       "      <td>0.885397</td>\n",
       "      <td>0.898730</td>\n",
       "    </tr>\n",
       "    <tr>\n",
       "      <th>Food-101</th>\n",
       "      <td>0.859644</td>\n",
       "      <td>0.786297</td>\n",
       "      <td>0.894733</td>\n",
       "      <td>0.889149</td>\n",
       "    </tr>\n",
       "    <tr>\n",
       "      <th>FER2013</th>\n",
       "      <td>0.601839</td>\n",
       "      <td>0.527445</td>\n",
       "      <td>0.612148</td>\n",
       "      <td>0.670939</td>\n",
       "    </tr>\n",
       "    <tr>\n",
       "      <th>PatchCamelyon</th>\n",
       "      <td>0.843079</td>\n",
       "      <td>0.832336</td>\n",
       "      <td>0.845551</td>\n",
       "      <td>0.836365</td>\n",
       "    </tr>\n",
       "    <tr>\n",
       "      <th>SUN397</th>\n",
       "      <td>0.774529</td>\n",
       "      <td>0.726851</td>\n",
       "      <td>0.804184</td>\n",
       "      <td>0.790575</td>\n",
       "    </tr>\n",
       "    <tr>\n",
       "      <th>DTD</th>\n",
       "      <td>0.730319</td>\n",
       "      <td>0.714894</td>\n",
       "      <td>0.782447</td>\n",
       "      <td>0.726064</td>\n",
       "    </tr>\n",
       "  </tbody>\n",
       "</table>\n",
       "</div>"
      ],
      "text/plain": [
       "                    ViT      DeiT      Swin      CLIP\n",
       "RESISC45       0.846349  0.886667  0.885397  0.898730\n",
       "Food-101       0.859644  0.786297  0.894733  0.889149\n",
       "FER2013        0.601839  0.527445  0.612148  0.670939\n",
       "PatchCamelyon  0.843079  0.832336  0.845551  0.836365\n",
       "SUN397         0.774529  0.726851  0.804184  0.790575\n",
       "DTD            0.730319  0.714894  0.782447  0.726064"
      ]
     },
     "execution_count": 14,
     "metadata": {},
     "output_type": "execute_result"
    }
   ],
   "source": [
    "df = pd.DataFrame(results, columns=[n for n in models], index=labels)\n",
    "df"
   ]
  },
  {
   "cell_type": "markdown",
   "id": "0a4aecb5-c53a-46cb-a4aa-62f41222d7d1",
   "metadata": {},
   "source": [
    "Print the model that was best for each dataset."
   ]
  },
  {
   "cell_type": "code",
   "execution_count": 27,
   "id": "ae2dc674-20ce-47fb-8cd2-66ce192d5013",
   "metadata": {},
   "outputs": [
    {
     "name": "stdout",
     "output_type": "stream",
     "text": [
      "For dataset \u001b[1mRESISC45\u001b[0m, the best model is \u001b[1mCLIP\u001b[0m with an accuracy of \u001b[1m0.89873\u001b[0m\n",
      "For dataset \u001b[1mFood-101\u001b[0m, the best model is \u001b[1mSwin\u001b[0m with an accuracy of \u001b[1m0.894733\u001b[0m\n",
      "For dataset \u001b[1mFER2013\u001b[0m, the best model is \u001b[1mCLIP\u001b[0m with an accuracy of \u001b[1m0.670939\u001b[0m\n",
      "For dataset \u001b[1mPatchCamelyon\u001b[0m, the best model is \u001b[1mSwin\u001b[0m with an accuracy of \u001b[1m0.845551\u001b[0m\n",
      "For dataset \u001b[1mSUN397\u001b[0m, the best model is \u001b[1mSwin\u001b[0m with an accuracy of \u001b[1m0.804184\u001b[0m\n",
      "For dataset \u001b[1mDTD\u001b[0m, the best model is \u001b[1mSwin\u001b[0m with an accuracy of \u001b[1m0.782447\u001b[0m\n"
     ]
    }
   ],
   "source": [
    "for dataset, values in acc_dict.items():\n",
    "    max_value = max(values)\n",
    "    best_model = models[values.index(max_value)]\n",
    "    print(f\"For dataset \\033[1m{dataset}\\033[0m, the best model is \\033[1m{best_model}\\033[0m with an accuracy of \\033[1m{max_value:.6}\\033[0m\")"
   ]
  }
 ],
 "metadata": {
  "kernelspec": {
   "display_name": "Python 3 (ipykernel)",
   "language": "python",
   "name": "python3"
  },
  "language_info": {
   "codemirror_mode": {
    "name": "ipython",
    "version": 3
   },
   "file_extension": ".py",
   "mimetype": "text/x-python",
   "name": "python",
   "nbconvert_exporter": "python",
   "pygments_lexer": "ipython3",
   "version": "3.11.10"
  }
 },
 "nbformat": 4,
 "nbformat_minor": 5
}
