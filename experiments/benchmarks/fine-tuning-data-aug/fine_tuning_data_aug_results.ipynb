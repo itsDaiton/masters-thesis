{
 "cells": [
  {
   "cell_type": "markdown",
   "id": "1582cd48-3758-4d57-8083-d1fd35cca74e",
   "metadata": {},
   "source": [
    "# Exploration and Comparison of Transformers for Image Classification"
   ]
  },
  {
   "cell_type": "markdown",
   "id": "72542cb1-bb47-410e-80d4-9d7c6a50ce4e",
   "metadata": {},
   "source": [
    "Comparison of results for fine-tuning with data augmentations across 6 datasets for each model\n",
    "- ViT\n",
    "- DeiT\n",
    "- Swin\n",
    "- CLIP"
   ]
  },
  {
   "cell_type": "markdown",
   "id": "ef2c60f2-4a2d-4f86-b578-1c0ccb7fd90d",
   "metadata": {},
   "source": [
    "Showing the results in a different file is to avoid information and visual clutter.\n",
    "\n",
    "NOTE: Since variables are not saved accros multiple jupyter notebook files, the data needs to be taken from the individual notebooks and hardcoded here."
   ]
  },
  {
   "cell_type": "markdown",
   "id": "f036df3d-007c-44a5-9e57-5f28cf1f8891",
   "metadata": {},
   "source": [
    "### Prerequisites"
   ]
  },
  {
   "cell_type": "markdown",
   "id": "bf3db4b2-d6c2-4925-8db7-a6445117fb80",
   "metadata": {},
   "source": [
    "Load necessary packages."
   ]
  },
  {
   "cell_type": "code",
   "execution_count": 2,
   "id": "01bb48d4-b955-4e9e-a7f9-dd783cc54ce2",
   "metadata": {},
   "outputs": [],
   "source": [
    "import os\n",
    "os.chdir('../../../')\n",
    "from utils.data_utils import *\n",
    "import pandas as pd"
   ]
  },
  {
   "cell_type": "markdown",
   "id": "863b76aa-3b0c-40c5-9258-dbc2d4548d40",
   "metadata": {},
   "source": [
    "### Results"
   ]
  },
  {
   "cell_type": "markdown",
   "id": "c2e2101f-d722-4099-bbfd-04437f11b6e0",
   "metadata": {},
   "source": [
    "Get the results from each model.\n",
    "\n",
    "NOTE: Taken from \"Results\" section from each notebook."
   ]
  },
  {
   "cell_type": "code",
   "execution_count": 3,
   "id": "d94b9f25-fb11-4f76-b139-83514bcf8c7c",
   "metadata": {},
   "outputs": [],
   "source": [
    "resisc45_vit = 0.950635\n",
    "food101_vit = 0.872317\n",
    "fer2013_vit = 0.709111\n",
    "pcam_vit = 0.871582\n",
    "sun397_vit = 0.770805\n",
    "dtd_vit = 0.786702\n",
    "\n",
    "resisc45_deit = 0.955397\n",
    "food101_deit = 0.845109\n",
    "fer2013_deit = 0.686821\n",
    "pcam_deit = 0.881317\n",
    "sun397_deit = 0.732966\n",
    "dtd_deit = 0.772340\n",
    "\n",
    "resisc45_swin = 0.948889\n",
    "food101_swin = 0.901703\n",
    "fer2013_swin = 0.715798\n",
    "pcam_swin = 0.898834\n",
    "sun397_swin = 0.789425\n",
    "dtd_swin = 0.807447\n",
    "\n",
    "resisc45_clip = 0.947778\n",
    "food101_clip = 0.815089\n",
    "fer2013_clip = 0.677069\n",
    "pcam_clip = 0.840698\n",
    "sun397_clip = 0.685517\n",
    "dtd_clip = 0.703191"
   ]
  },
  {
   "cell_type": "markdown",
   "id": "489db08a-4820-444a-8484-9606761d693c",
   "metadata": {},
   "source": [
    "Aggregate results over datasets."
   ]
  },
  {
   "cell_type": "code",
   "execution_count": 4,
   "id": "848a6073-10e3-408a-9d9e-278c35beaaf2",
   "metadata": {},
   "outputs": [],
   "source": [
    "results_resisc45 = [resisc45_vit, resisc45_deit, resisc45_swin, resisc45_clip]\n",
    "results_food101 = [food101_vit, food101_deit, food101_swin, food101_clip]\n",
    "results_fer2013 = [fer2013_vit, fer2013_deit, fer2013_swin, fer2013_clip]\n",
    "results_pcam = [pcam_vit, pcam_deit, pcam_swin, pcam_clip]\n",
    "results_sun397 = [sun397_vit, sun397_deit, sun397_swin, sun397_clip]\n",
    "results_dtd = [dtd_vit, dtd_deit, dtd_swin, dtd_clip]"
   ]
  },
  {
   "cell_type": "markdown",
   "id": "e6b89255-6482-4680-9e8c-87121a573ed5",
   "metadata": {},
   "source": [
    "Concatenate all results into a single variable."
   ]
  },
  {
   "cell_type": "code",
   "execution_count": 5,
   "id": "2bb1aa8e-ee2e-443a-98f0-7fe53f0538de",
   "metadata": {},
   "outputs": [],
   "source": [
    "results = [\n",
    "    results_resisc45,\n",
    "    results_food101,\n",
    "    results_fer2013,\n",
    "    results_pcam,\n",
    "    results_sun397,\n",
    "    results_dtd,\n",
    "]"
   ]
  },
  {
   "cell_type": "code",
   "execution_count": 6,
   "id": "1d5a5452-6caf-4daa-b266-3eb072f972b7",
   "metadata": {},
   "outputs": [],
   "source": [
    "labels = ['RESISC45', 'Food-101', 'FER2013', 'PatchCamelyon', 'SUN397', 'DTD']\n",
    "models = ['ViT', 'DeiT', 'Swin', 'CLIP']"
   ]
  },
  {
   "cell_type": "code",
   "execution_count": 7,
   "id": "7a2a0cfc-49e5-4443-aec5-9588d896b3e3",
   "metadata": {},
   "outputs": [],
   "source": [
    "acc_dict = create_accuracy_dict(\n",
    "    results,\n",
    "    labels\n",
    ")"
   ]
  },
  {
   "cell_type": "code",
   "execution_count": 8,
   "id": "313055ab-3107-4b8c-9e3c-5c86ffffa0ee",
   "metadata": {},
   "outputs": [
    {
     "data": {
      "text/plain": [
       "{'RESISC45': [0.950635, 0.955397, 0.948889, 0.947778],\n",
       " 'Food-101': [0.872317, 0.845109, 0.901703, 0.815089],\n",
       " 'FER2013': [0.709111, 0.686821, 0.715798, 0.677069],\n",
       " 'PatchCamelyon': [0.871582, 0.881317, 0.898834, 0.840698],\n",
       " 'SUN397': [0.770805, 0.732966, 0.789425, 0.685517],\n",
       " 'DTD': [0.786702, 0.77234, 0.807447, 0.703191]}"
      ]
     },
     "execution_count": 8,
     "metadata": {},
     "output_type": "execute_result"
    }
   ],
   "source": [
    "acc_dict"
   ]
  },
  {
   "cell_type": "markdown",
   "id": "cb189d29-11fb-43d7-9e5f-e18cddbc8fc1",
   "metadata": {},
   "source": [
    "Display a dataframe containing the results for model and dataset."
   ]
  },
  {
   "cell_type": "code",
   "execution_count": 9,
   "id": "d7acbab5-d2d4-45ec-a13c-45118023a4fa",
   "metadata": {},
   "outputs": [
    {
     "data": {
      "text/html": [
       "<div>\n",
       "<style scoped>\n",
       "    .dataframe tbody tr th:only-of-type {\n",
       "        vertical-align: middle;\n",
       "    }\n",
       "\n",
       "    .dataframe tbody tr th {\n",
       "        vertical-align: top;\n",
       "    }\n",
       "\n",
       "    .dataframe thead th {\n",
       "        text-align: right;\n",
       "    }\n",
       "</style>\n",
       "<table border=\"1\" class=\"dataframe\">\n",
       "  <thead>\n",
       "    <tr style=\"text-align: right;\">\n",
       "      <th></th>\n",
       "      <th>ViT</th>\n",
       "      <th>DeiT</th>\n",
       "      <th>Swin</th>\n",
       "      <th>CLIP</th>\n",
       "    </tr>\n",
       "  </thead>\n",
       "  <tbody>\n",
       "    <tr>\n",
       "      <th>RESISC45</th>\n",
       "      <td>0.950635</td>\n",
       "      <td>0.955397</td>\n",
       "      <td>0.948889</td>\n",
       "      <td>0.947778</td>\n",
       "    </tr>\n",
       "    <tr>\n",
       "      <th>Food-101</th>\n",
       "      <td>0.872317</td>\n",
       "      <td>0.845109</td>\n",
       "      <td>0.901703</td>\n",
       "      <td>0.815089</td>\n",
       "    </tr>\n",
       "    <tr>\n",
       "      <th>FER2013</th>\n",
       "      <td>0.709111</td>\n",
       "      <td>0.686821</td>\n",
       "      <td>0.715798</td>\n",
       "      <td>0.677069</td>\n",
       "    </tr>\n",
       "    <tr>\n",
       "      <th>PatchCamelyon</th>\n",
       "      <td>0.871582</td>\n",
       "      <td>0.881317</td>\n",
       "      <td>0.898834</td>\n",
       "      <td>0.840698</td>\n",
       "    </tr>\n",
       "    <tr>\n",
       "      <th>SUN397</th>\n",
       "      <td>0.770805</td>\n",
       "      <td>0.732966</td>\n",
       "      <td>0.789425</td>\n",
       "      <td>0.685517</td>\n",
       "    </tr>\n",
       "    <tr>\n",
       "      <th>DTD</th>\n",
       "      <td>0.786702</td>\n",
       "      <td>0.772340</td>\n",
       "      <td>0.807447</td>\n",
       "      <td>0.703191</td>\n",
       "    </tr>\n",
       "  </tbody>\n",
       "</table>\n",
       "</div>"
      ],
      "text/plain": [
       "                    ViT      DeiT      Swin      CLIP\n",
       "RESISC45       0.950635  0.955397  0.948889  0.947778\n",
       "Food-101       0.872317  0.845109  0.901703  0.815089\n",
       "FER2013        0.709111  0.686821  0.715798  0.677069\n",
       "PatchCamelyon  0.871582  0.881317  0.898834  0.840698\n",
       "SUN397         0.770805  0.732966  0.789425  0.685517\n",
       "DTD            0.786702  0.772340  0.807447  0.703191"
      ]
     },
     "execution_count": 9,
     "metadata": {},
     "output_type": "execute_result"
    }
   ],
   "source": [
    "df = pd.DataFrame(results, columns=[n for n in models], index=labels)\n",
    "df"
   ]
  },
  {
   "cell_type": "markdown",
   "id": "06585d98-e092-4b22-b34f-51e2d5215c99",
   "metadata": {},
   "source": [
    "Print the model that was best for each dataset."
   ]
  },
  {
   "cell_type": "code",
   "execution_count": 10,
   "id": "61f64559-b151-40c5-9ba5-baaa0f81b8a5",
   "metadata": {},
   "outputs": [
    {
     "name": "stdout",
     "output_type": "stream",
     "text": [
      "For dataset \u001b[1mRESISC45\u001b[0m, the best model is \u001b[1mDeiT\u001b[0m with an accuracy of \u001b[1m0.955397\u001b[0m\n",
      "For dataset \u001b[1mFood-101\u001b[0m, the best model is \u001b[1mSwin\u001b[0m with an accuracy of \u001b[1m0.901703\u001b[0m\n",
      "For dataset \u001b[1mFER2013\u001b[0m, the best model is \u001b[1mSwin\u001b[0m with an accuracy of \u001b[1m0.715798\u001b[0m\n",
      "For dataset \u001b[1mPatchCamelyon\u001b[0m, the best model is \u001b[1mSwin\u001b[0m with an accuracy of \u001b[1m0.898834\u001b[0m\n",
      "For dataset \u001b[1mSUN397\u001b[0m, the best model is \u001b[1mSwin\u001b[0m with an accuracy of \u001b[1m0.789425\u001b[0m\n",
      "For dataset \u001b[1mDTD\u001b[0m, the best model is \u001b[1mSwin\u001b[0m with an accuracy of \u001b[1m0.807447\u001b[0m\n"
     ]
    }
   ],
   "source": [
    "for dataset, values in acc_dict.items():\n",
    "    max_value = max(values)\n",
    "    best_model = models[values.index(max_value)]\n",
    "    print(f\"For dataset \\033[1m{dataset}\\033[0m, the best model is \\033[1m{best_model}\\033[0m with an accuracy of \\033[1m{max_value:.6}\\033[0m\")"
   ]
  }
 ],
 "metadata": {
  "kernelspec": {
   "display_name": "Python 3 (ipykernel)",
   "language": "python",
   "name": "python3"
  },
  "language_info": {
   "codemirror_mode": {
    "name": "ipython",
    "version": 3
   },
   "file_extension": ".py",
   "mimetype": "text/x-python",
   "name": "python",
   "nbconvert_exporter": "python",
   "pygments_lexer": "ipython3",
   "version": "3.10.12"
  }
 },
 "nbformat": 4,
 "nbformat_minor": 5
}
