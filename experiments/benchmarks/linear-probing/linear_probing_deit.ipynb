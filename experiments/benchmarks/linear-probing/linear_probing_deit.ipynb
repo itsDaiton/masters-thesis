{
 "cells": [
  {
   "cell_type": "markdown",
   "id": "22029240-8173-476f-a935-e793e203ab43",
   "metadata": {},
   "source": [
    "# Exploration and Comparison of Transformers for Image Classification"
   ]
  },
  {
   "cell_type": "markdown",
   "id": "fcb7fc41-efc8-4ee0-925e-8130dae98c05",
   "metadata": {},
   "source": [
    "## Linear Probing using Data-efficient image Transformer (DeiT)"
   ]
  },
  {
   "cell_type": "markdown",
   "id": "2c4f1ce3-2e5f-458c-982e-cda4186420d4",
   "metadata": {},
   "source": [
    "Linear Probing is an experiment that involes training a linear classifier on top of pre-trained frozen features of the model.\n",
    "\n",
    "In this experiment, the whole training set is used."
   ]
  },
  {
   "cell_type": "markdown",
   "id": "88a523e3-eb6b-486c-b1a0-9faa7c2c9ec2",
   "metadata": {},
   "source": [
    "### Data-efficient image Transformer (DeiT)"
   ]
  },
  {
   "cell_type": "markdown",
   "id": "eff11782-a04f-4594-a17b-d4047a1de91a",
   "metadata": {},
   "source": [
    "Distilled data-efficient Image Transformer (DeiT) model pre-trained and fine-tuned on ImageNet-1k (1 million images, 1,000 classes) at resolution 224x224. It was first introduced in the paper *Training data-efficient image transformers & distillation through attention by Touvron et al.*\n",
    "\n",
    "https://arxiv.org/abs/2012.12877"
   ]
  },
  {
   "cell_type": "markdown",
   "id": "771d783b-308b-401d-8742-76c1179c49b4",
   "metadata": {},
   "source": [
    "### Prerequisites"
   ]
  },
  {
   "cell_type": "markdown",
   "id": "8cfe4de0-ba8d-40a9-a85f-6cb41dd0d335",
   "metadata": {},
   "source": [
    "Load necessary packages."
   ]
  },
  {
   "cell_type": "code",
   "execution_count": 1,
   "id": "2497e5e7-475e-4fd7-913a-36cbbd3e8b74",
   "metadata": {},
   "outputs": [],
   "source": [
    "import os\n",
    "os.chdir('../../../')\n",
    "\n",
    "import torch\n",
    "\n",
    "import pandas as pd\n",
    "\n",
    "from datasets import load_dataset\n",
    "\n",
    "from src.dataset_builder import ImageDataset\n",
    "from src.models import *\n",
    "from src.train import *\n",
    "\n",
    "from utils.config import Config\n",
    "from utils.train_utils import *\n",
    "from utils.models_utils import *\n",
    "from utils.visualization_utils import *\n",
    "from utils.data_utils import *"
   ]
  },
  {
   "cell_type": "markdown",
   "id": "5ebe117a-bd72-4302-acb8-2af9e338ba5d",
   "metadata": {},
   "source": [
    "Check if there is GPU available."
   ]
  },
  {
   "cell_type": "code",
   "execution_count": 2,
   "id": "e9b14f94-5537-485e-abe1-128c433f6737",
   "metadata": {},
   "outputs": [
    {
     "name": "stdout",
     "output_type": "stream",
     "text": [
      "GPU 0: NVIDIA A100 80GB PCIe MIG 2g.20gb\n",
      "VRAM: 19.50 GB\n"
     ]
    }
   ],
   "source": [
    "get_gpu_info()"
   ]
  },
  {
   "cell_type": "markdown",
   "id": "cc7df4b1-71e8-4264-a131-0013d8ced64b",
   "metadata": {},
   "source": [
    "Set manual seed for reproducibility."
   ]
  },
  {
   "cell_type": "code",
   "execution_count": 3,
   "id": "1b512368-db51-46aa-bc7d-ef5c22fb1e8b",
   "metadata": {},
   "outputs": [
    {
     "data": {
      "text/plain": [
       "<torch._C.Generator at 0x7f883858e4b0>"
      ]
     },
     "execution_count": 3,
     "metadata": {},
     "output_type": "execute_result"
    }
   ],
   "source": [
    "id = 10\n",
    "torch.manual_seed(10)"
   ]
  },
  {
   "cell_type": "markdown",
   "id": "1409290d-376b-4eb0-b926-bb533d21364f",
   "metadata": {},
   "source": [
    "Load DeiT image processor used for image pre-processing."
   ]
  },
  {
   "cell_type": "code",
   "execution_count": 4,
   "id": "137faca7-e691-48ff-97e1-8a0f4211c80e",
   "metadata": {},
   "outputs": [],
   "source": [
    "processor = get_backbone_processor(model_names['DeiT'])"
   ]
  },
  {
   "cell_type": "markdown",
   "id": "e1e47d96-cd90-4227-806b-3cdb2e604a50",
   "metadata": {},
   "source": [
    "Print the pre-processing operations done by the processor."
   ]
  },
  {
   "cell_type": "code",
   "execution_count": 5,
   "id": "2f200acb-631a-4502-ae46-8cf476c02713",
   "metadata": {},
   "outputs": [
    {
     "data": {
      "text/plain": [
       "DeiTImageProcessor {\n",
       "  \"crop_size\": {\n",
       "    \"height\": 224,\n",
       "    \"width\": 224\n",
       "  },\n",
       "  \"do_center_crop\": true,\n",
       "  \"do_normalize\": true,\n",
       "  \"do_rescale\": true,\n",
       "  \"do_resize\": true,\n",
       "  \"image_mean\": [\n",
       "    0.485,\n",
       "    0.456,\n",
       "    0.406\n",
       "  ],\n",
       "  \"image_processor_type\": \"DeiTImageProcessor\",\n",
       "  \"image_std\": [\n",
       "    0.229,\n",
       "    0.224,\n",
       "    0.225\n",
       "  ],\n",
       "  \"resample\": 3,\n",
       "  \"rescale_factor\": 0.00392156862745098,\n",
       "  \"size\": {\n",
       "    \"height\": 256,\n",
       "    \"width\": 256\n",
       "  }\n",
       "}"
      ]
     },
     "execution_count": 5,
     "metadata": {},
     "output_type": "execute_result"
    }
   ],
   "source": [
    "processor"
   ]
  },
  {
   "cell_type": "markdown",
   "id": "f25447f6-f11e-4131-9623-09698dbb67d7",
   "metadata": {
    "jp-MarkdownHeadingCollapsed": true
   },
   "source": [
    "### Data Preprocessing"
   ]
  },
  {
   "cell_type": "markdown",
   "id": "ea0b7222-e192-4a7c-acb7-56b0433a7aae",
   "metadata": {},
   "source": [
    "Load each dataset and its splits.\n",
    "\n",
    "Processor is automatically applied to each image."
   ]
  },
  {
   "cell_type": "markdown",
   "id": "99e2b5ff-9586-4917-a24c-3bd93593269e",
   "metadata": {},
   "source": [
    "#### RESISC45"
   ]
  },
  {
   "cell_type": "code",
   "execution_count": 7,
   "id": "6bbedffd-6394-4a1d-b502-88a726b98273",
   "metadata": {},
   "outputs": [],
   "source": [
    "resisc45 = load_dataset('timm/resisc45')\n",
    "clean_labels(resisc45, name='resisc45')\n",
    "resisc45_train = ImageDataset(\n",
    "    dataset=resisc45['train'],\n",
    "    processor=processor,\n",
    ")\n",
    "resisc45_validation = ImageDataset(\n",
    "    dataset=resisc45['validation'],\n",
    "    processor=processor,\n",
    ")\n",
    "resisc45_test = ImageDataset(\n",
    "    dataset=resisc45['test'],\n",
    "    processor=processor,\n",
    ")"
   ]
  },
  {
   "cell_type": "markdown",
   "id": "f579c494-89a8-4eb8-8c7a-5b292475bbad",
   "metadata": {},
   "source": [
    "#### Food-101"
   ]
  },
  {
   "cell_type": "code",
   "execution_count": 9,
   "id": "c4125475-fc23-4de4-a027-9276acfe4c41",
   "metadata": {},
   "outputs": [],
   "source": [
    "food101 = load_dataset('ethz/food101')\n",
    "clean_labels(food101, name='food101')\n",
    "food101_train = ImageDataset(\n",
    "    dataset=food101['train'],\n",
    "    processor=processor,\n",
    ")\n",
    "food101_validation = ImageDataset(\n",
    "    dataset=food101['validation'],\n",
    "    processor=processor,\n",
    ")"
   ]
  },
  {
   "cell_type": "markdown",
   "id": "aa696bc7-cf77-422d-b8b5-aa6d4ba36ecb",
   "metadata": {},
   "source": [
    "#### FER2013"
   ]
  },
  {
   "cell_type": "code",
   "execution_count": 11,
   "id": "ab5359eb-d83f-4f4a-8781-a3c51db8d14e",
   "metadata": {},
   "outputs": [],
   "source": [
    "fer2013 = load_dataset('AutumnQiu/fer2013')\n",
    "clean_labels(fer2013, name='fer2013')\n",
    "fer2013_train = ImageDataset(\n",
    "    dataset=fer2013['train'],\n",
    "    processor=processor,\n",
    ")\n",
    "fer2013_validation = ImageDataset(\n",
    "    dataset=fer2013['valid'],\n",
    "    processor=processor,\n",
    ")\n",
    "fer2013_test = ImageDataset(\n",
    "    dataset=fer2013['test'],\n",
    "    processor=processor,\n",
    ")"
   ]
  },
  {
   "cell_type": "markdown",
   "id": "00be0e0d-d98d-4f23-8354-8c7926da351b",
   "metadata": {},
   "source": [
    "#### PCam"
   ]
  },
  {
   "cell_type": "code",
   "execution_count": 13,
   "id": "a77d5802-a948-4f45-9382-5f47dc26f3f6",
   "metadata": {},
   "outputs": [],
   "source": [
    "pcam = load_dataset('zacharielegault/PatchCamelyon')\n",
    "clean_labels(pcam, name='pcam')\n",
    "pcam_train = ImageDataset(\n",
    "    dataset=pcam['train'],\n",
    "    processor=processor,\n",
    ")\n",
    "pcam_validation = ImageDataset(\n",
    "    dataset=pcam['validation'],\n",
    "    processor=processor,\n",
    ")\n",
    "pcam_test = ImageDataset(\n",
    "    dataset=pcam['test'],\n",
    "    processor=processor,\n",
    ")"
   ]
  },
  {
   "cell_type": "markdown",
   "id": "90851566-5ed0-4092-9de9-df1351eb9044",
   "metadata": {},
   "source": [
    "#### SUN397"
   ]
  },
  {
   "cell_type": "code",
   "execution_count": 15,
   "id": "e6174b7e-4b97-4b43-a6b2-57287060d6b5",
   "metadata": {},
   "outputs": [
    {
     "data": {
      "application/vnd.jupyter.widget-view+json": {
       "model_id": "115ceb8cb2cf478bbd40d9069c80df30",
       "version_major": 2,
       "version_minor": 0
      },
      "text/plain": [
       "Resolving data files:   0%|          | 0/28 [00:00<?, ?it/s]"
      ]
     },
     "metadata": {},
     "output_type": "display_data"
    },
    {
     "data": {
      "application/vnd.jupyter.widget-view+json": {
       "model_id": "e80b5a652a1040feae8b8b982754dec1",
       "version_major": 2,
       "version_minor": 0
      },
      "text/plain": [
       "Resolving data files:   0%|          | 0/28 [00:00<?, ?it/s]"
      ]
     },
     "metadata": {},
     "output_type": "display_data"
    },
    {
     "data": {
      "application/vnd.jupyter.widget-view+json": {
       "model_id": "e472b6670f0f48778847e45cf9643ad2",
       "version_major": 2,
       "version_minor": 0
      },
      "text/plain": [
       "Loading dataset shards:   0%|          | 0/28 [00:00<?, ?it/s]"
      ]
     },
     "metadata": {},
     "output_type": "display_data"
    }
   ],
   "source": [
    "sun397 = load_dataset('dpdl-benchmark/sun397')\n",
    "clean_labels(sun397, name='sun397')\n",
    "sun397_train = ImageDataset(\n",
    "    dataset=sun397['train'],\n",
    "    processor=processor,\n",
    ")\n",
    "sun397_validation = ImageDataset(\n",
    "    dataset=sun397['validation'],\n",
    "    processor=processor,\n",
    ")\n",
    "sun397_test = ImageDataset(\n",
    "    dataset=sun397['test'],\n",
    "    processor=processor,\n",
    ")"
   ]
  },
  {
   "cell_type": "markdown",
   "id": "e46e6787-13e6-4353-98f4-b72b7e30cff8",
   "metadata": {},
   "source": [
    "#### DTD"
   ]
  },
  {
   "cell_type": "code",
   "execution_count": 17,
   "id": "47ad6f60-2240-4d21-b8a5-2d32bb770e14",
   "metadata": {},
   "outputs": [],
   "source": [
    "dtd = load_dataset('tanganke/dtd')\n",
    "clean_labels(dtd, name='dtd')\n",
    "dtd_train = ImageDataset(\n",
    "    dataset=dtd['train'],\n",
    "    processor=processor,\n",
    ")\n",
    "dtd_test = ImageDataset(\n",
    "    dataset=dtd['test'],\n",
    "    processor=processor,\n",
    ")"
   ]
  },
  {
   "cell_type": "markdown",
   "id": "d223a242-8f88-4025-990d-3f41b6866b0e",
   "metadata": {
    "jp-MarkdownHeadingCollapsed": true
   },
   "source": [
    "### Config"
   ]
  },
  {
   "cell_type": "markdown",
   "id": "a58d18e1-e2fd-4f41-ae8c-68f3b2799e9f",
   "metadata": {},
   "source": [
    "Create a config for experiments and print its settings."
   ]
  },
  {
   "cell_type": "code",
   "execution_count": 18,
   "id": "4737afbb-8aab-40d0-a49d-8ba7bbc3d1d4",
   "metadata": {},
   "outputs": [
    {
     "data": {
      "text/plain": [
       "{'device': 'cuda',\n",
       " 'criterion': CrossEntropyLoss(),\n",
       " 'batch_size': 8,\n",
       " 'lr': 0.0001,\n",
       " 'num_epochs': 10,\n",
       " 'optimizer': torch.optim.adamw.AdamW,\n",
       " 'weight_decay': 0}"
      ]
     },
     "execution_count": 18,
     "metadata": {},
     "output_type": "execute_result"
    }
   ],
   "source": [
    "from torch.optim import AdamW\n",
    "\n",
    "config = Config(\n",
    "    num_epochs=10, \n",
    "    lr=1e-4,\n",
    "    optimizer=AdamW,\n",
    "    weight_decay=0\n",
    ")\n",
    "config.get_settings()"
   ]
  },
  {
   "cell_type": "markdown",
   "id": "4cadb2d2-e7b2-49b2-922b-b28aaad1d784",
   "metadata": {},
   "source": [
    "Create empty array to store dataset accuracies for each experiment."
   ]
  },
  {
   "cell_type": "code",
   "execution_count": 19,
   "id": "48fb8d03-6e0e-4f8e-a9e1-4c668e8c2886",
   "metadata": {},
   "outputs": [],
   "source": [
    "resisc45_accs = []\n",
    "food101_accs = []\n",
    "fer2013_accs = []\n",
    "pcam_accs = []\n",
    "sun397_accs = []\n",
    "dtd_accs = []"
   ]
  },
  {
   "cell_type": "markdown",
   "id": "cb4bf859-94d2-41d0-a52d-1262a8a7df98",
   "metadata": {},
   "source": [
    "### Linear Probing\n"
   ]
  },
  {
   "cell_type": "markdown",
   "id": "eec9a894-daf5-4e22-9e7f-ccffc3e231ce",
   "metadata": {},
   "source": [
    "Train a new linear classifier on top of pre-trained model base.\n",
    "\n",
    "Teacher model (RegNet) is trained using the same configuration."
   ]
  },
  {
   "cell_type": "markdown",
   "id": "baee4576-a479-4f39-9b16-52ea6623c52d",
   "metadata": {},
   "source": [
    "#### RESISC45"
   ]
  },
  {
   "cell_type": "code",
   "execution_count": 20,
   "id": "47984837-2710-4445-8bc6-081a586c1467",
   "metadata": {},
   "outputs": [
    {
     "name": "stderr",
     "output_type": "stream",
     "text": [
      "Some weights of RegNetForImageClassification were not initialized from the model checkpoint at facebook/regnet-y-160 and are newly initialized because the shapes did not match:\n",
      "- classifier.1.weight: found shape torch.Size([1000, 3024]) in the checkpoint and torch.Size([45, 3024]) in the model instantiated\n",
      "- classifier.1.bias: found shape torch.Size([1000]) in the checkpoint and torch.Size([45]) in the model instantiated\n",
      "You should probably TRAIN this model on a down-stream task to be able to use it for predictions and inference.\n"
     ]
    }
   ],
   "source": [
    "teacher_resisc45 = Backbone(model_names['RegNet'], num_classes=len(resisc45_train.get_labels()))"
   ]
  },
  {
   "cell_type": "code",
   "execution_count": 21,
   "id": "3739525d-e7d9-42cd-98bb-3ed0ac4f71c8",
   "metadata": {},
   "outputs": [
    {
     "name": "stdout",
     "output_type": "stream",
     "text": [
      "Parameters: 80.70M\n"
     ]
    }
   ],
   "source": [
    "get_model_params(teacher_resisc45)"
   ]
  },
  {
   "cell_type": "code",
   "execution_count": 22,
   "id": "3a047038-b7b9-48d4-b335-2fe428d59bbe",
   "metadata": {},
   "outputs": [
    {
     "name": "stderr",
     "output_type": "stream",
     "text": [
      "100%|██████████| 2363/2363 [01:50<00:00, 21.41it/s]\n"
     ]
    },
    {
     "name": "stdout",
     "output_type": "stream",
     "text": [
      "Epochs: 1/10 | train_loss: 2.3601 | train_acc: 0.4894\n"
     ]
    },
    {
     "name": "stderr",
     "output_type": "stream",
     "text": [
      "100%|██████████| 2363/2363 [01:49<00:00, 21.53it/s]\n"
     ]
    },
    {
     "name": "stdout",
     "output_type": "stream",
     "text": [
      "Epochs: 2/10 | train_loss: 1.4339 | train_acc: 0.6632\n"
     ]
    },
    {
     "name": "stderr",
     "output_type": "stream",
     "text": [
      "100%|██████████| 2363/2363 [01:48<00:00, 21.70it/s]\n"
     ]
    },
    {
     "name": "stdout",
     "output_type": "stream",
     "text": [
      "Epochs: 3/10 | train_loss: 1.1741 | train_acc: 0.7050\n"
     ]
    },
    {
     "name": "stderr",
     "output_type": "stream",
     "text": [
      "100%|██████████| 2363/2363 [01:51<00:00, 21.27it/s]\n"
     ]
    },
    {
     "name": "stdout",
     "output_type": "stream",
     "text": [
      "Epochs: 4/10 | train_loss: 1.0226 | train_acc: 0.7346\n"
     ]
    },
    {
     "name": "stderr",
     "output_type": "stream",
     "text": [
      "100%|██████████| 2363/2363 [01:48<00:00, 21.77it/s]\n"
     ]
    },
    {
     "name": "stdout",
     "output_type": "stream",
     "text": [
      "Epochs: 5/10 | train_loss: 0.9427 | train_acc: 0.7462\n"
     ]
    },
    {
     "name": "stderr",
     "output_type": "stream",
     "text": [
      "100%|██████████| 2363/2363 [01:48<00:00, 21.70it/s]\n"
     ]
    },
    {
     "name": "stdout",
     "output_type": "stream",
     "text": [
      "Epochs: 6/10 | train_loss: 0.8697 | train_acc: 0.7643\n"
     ]
    },
    {
     "name": "stderr",
     "output_type": "stream",
     "text": [
      "100%|██████████| 2363/2363 [01:48<00:00, 21.71it/s]\n"
     ]
    },
    {
     "name": "stdout",
     "output_type": "stream",
     "text": [
      "Epochs: 7/10 | train_loss: 0.8270 | train_acc: 0.7772\n"
     ]
    },
    {
     "name": "stderr",
     "output_type": "stream",
     "text": [
      "100%|██████████| 2363/2363 [01:48<00:00, 21.78it/s]\n"
     ]
    },
    {
     "name": "stdout",
     "output_type": "stream",
     "text": [
      "Epochs: 8/10 | train_loss: 0.7865 | train_acc: 0.7820\n"
     ]
    },
    {
     "name": "stderr",
     "output_type": "stream",
     "text": [
      "100%|██████████| 2363/2363 [01:48<00:00, 21.80it/s]\n"
     ]
    },
    {
     "name": "stdout",
     "output_type": "stream",
     "text": [
      "Epochs: 9/10 | train_loss: 0.7494 | train_acc: 0.7928\n"
     ]
    },
    {
     "name": "stderr",
     "output_type": "stream",
     "text": [
      "100%|██████████| 2363/2363 [01:51<00:00, 21.14it/s]"
     ]
    },
    {
     "name": "stdout",
     "output_type": "stream",
     "text": [
      "Epochs: 10/10 | train_loss: 0.7199 | train_acc: 0.7983\n"
     ]
    },
    {
     "name": "stderr",
     "output_type": "stream",
     "text": [
      "\n"
     ]
    }
   ],
   "source": [
    "resisc45_loss, resisc45_acc, resisc45_per_class_acc = train_model(\n",
    "    teacher_resisc45,\n",
    "    resisc45_train,\n",
    "    config,\n",
    "    'regnet',\n",
    "    use_val=False,\n",
    "    fine_tune=False,\n",
    ")"
   ]
  },
  {
   "cell_type": "code",
   "execution_count": 23,
   "id": "f903ac0f-8e0f-4b9e-ab7b-34728cae7c02",
   "metadata": {},
   "outputs": [
    {
     "name": "stderr",
     "output_type": "stream",
     "text": [
      "Some weights of DeiTForImageClassificationWithTeacher were not initialized from the model checkpoint at facebook/deit-base-distilled-patch16-224 and are newly initialized because the shapes did not match:\n",
      "- cls_classifier.weight: found shape torch.Size([1000, 768]) in the checkpoint and torch.Size([45, 768]) in the model instantiated\n",
      "- cls_classifier.bias: found shape torch.Size([1000]) in the checkpoint and torch.Size([45]) in the model instantiated\n",
      "- distillation_classifier.weight: found shape torch.Size([1000, 768]) in the checkpoint and torch.Size([45, 768]) in the model instantiated\n",
      "- distillation_classifier.bias: found shape torch.Size([1000]) in the checkpoint and torch.Size([45]) in the model instantiated\n",
      "You should probably TRAIN this model on a down-stream task to be able to use it for predictions and inference.\n"
     ]
    }
   ],
   "source": [
    "deit_resisc45 = Backbone(model_names['DeiT'], num_classes=len(resisc45_train.get_labels()))"
   ]
  },
  {
   "cell_type": "code",
   "execution_count": 24,
   "id": "317d3558-f00b-4100-a17b-e4316653c01c",
   "metadata": {},
   "outputs": [
    {
     "name": "stdout",
     "output_type": "stream",
     "text": [
      "Parameters: 85.87M\n"
     ]
    }
   ],
   "source": [
    "get_model_params(deit_resisc45)"
   ]
  },
  {
   "cell_type": "code",
   "execution_count": 25,
   "id": "0dbdde30-69fe-41a0-92d4-4bbe8c24d6c7",
   "metadata": {},
   "outputs": [
    {
     "name": "stderr",
     "output_type": "stream",
     "text": [
      "100%|██████████| 2363/2363 [04:31<00:00,  8.71it/s]\n"
     ]
    },
    {
     "name": "stdout",
     "output_type": "stream",
     "text": [
      "Epochs: 1/10 | train_loss: 2.0375 | train_acc: 0.6231\n"
     ]
    },
    {
     "name": "stderr",
     "output_type": "stream",
     "text": [
      "100%|██████████| 2363/2363 [04:32<00:00,  8.67it/s]\n"
     ]
    },
    {
     "name": "stdout",
     "output_type": "stream",
     "text": [
      "Epochs: 2/10 | train_loss: 0.9374 | train_acc: 0.8212\n"
     ]
    },
    {
     "name": "stderr",
     "output_type": "stream",
     "text": [
      "100%|██████████| 2363/2363 [04:32<00:00,  8.67it/s]\n"
     ]
    },
    {
     "name": "stdout",
     "output_type": "stream",
     "text": [
      "Epochs: 3/10 | train_loss: 0.7187 | train_acc: 0.8490\n"
     ]
    },
    {
     "name": "stderr",
     "output_type": "stream",
     "text": [
      "100%|██████████| 2363/2363 [04:31<00:00,  8.70it/s]\n"
     ]
    },
    {
     "name": "stdout",
     "output_type": "stream",
     "text": [
      "Epochs: 4/10 | train_loss: 0.6247 | train_acc: 0.8694\n"
     ]
    },
    {
     "name": "stderr",
     "output_type": "stream",
     "text": [
      "100%|██████████| 2363/2363 [04:32<00:00,  8.68it/s]\n"
     ]
    },
    {
     "name": "stdout",
     "output_type": "stream",
     "text": [
      "Epochs: 5/10 | train_loss: 0.5697 | train_acc: 0.8811\n"
     ]
    },
    {
     "name": "stderr",
     "output_type": "stream",
     "text": [
      "100%|██████████| 2363/2363 [04:32<00:00,  8.66it/s]\n"
     ]
    },
    {
     "name": "stdout",
     "output_type": "stream",
     "text": [
      "Epochs: 6/10 | train_loss: 0.5335 | train_acc: 0.8904\n"
     ]
    },
    {
     "name": "stderr",
     "output_type": "stream",
     "text": [
      "100%|██████████| 2363/2363 [04:31<00:00,  8.72it/s]\n"
     ]
    },
    {
     "name": "stdout",
     "output_type": "stream",
     "text": [
      "Epochs: 7/10 | train_loss: 0.5068 | train_acc: 0.8980\n"
     ]
    },
    {
     "name": "stderr",
     "output_type": "stream",
     "text": [
      "100%|██████████| 2363/2363 [04:30<00:00,  8.73it/s]\n"
     ]
    },
    {
     "name": "stdout",
     "output_type": "stream",
     "text": [
      "Epochs: 8/10 | train_loss: 0.4854 | train_acc: 0.9049\n"
     ]
    },
    {
     "name": "stderr",
     "output_type": "stream",
     "text": [
      "100%|██████████| 2363/2363 [04:32<00:00,  8.66it/s]\n"
     ]
    },
    {
     "name": "stdout",
     "output_type": "stream",
     "text": [
      "Epochs: 9/10 | train_loss: 0.4680 | train_acc: 0.9099\n"
     ]
    },
    {
     "name": "stderr",
     "output_type": "stream",
     "text": [
      "100%|██████████| 2363/2363 [04:32<00:00,  8.67it/s]\n"
     ]
    },
    {
     "name": "stdout",
     "output_type": "stream",
     "text": [
      "Epochs: 10/10 | train_loss: 0.4534 | train_acc: 0.9136\n"
     ]
    }
   ],
   "source": [
    "resisc45_loss, resisc45_acc, resisc45_per_class_acc = train_model(\n",
    "    deit_resisc45,\n",
    "    resisc45_train,\n",
    "    config,\n",
    "    'deit',\n",
    "    use_val=False,\n",
    "    fine_tune=False,\n",
    "    with_distillation=True,\n",
    "    teacher=teacher_resisc45,\n",
    ")"
   ]
  },
  {
   "cell_type": "code",
   "execution_count": 26,
   "id": "7c799a30-5c03-44e1-8323-c25f4e8760ee",
   "metadata": {},
   "outputs": [
    {
     "name": "stderr",
     "output_type": "stream",
     "text": [
      "100%|██████████| 788/788 [01:05<00:00, 12.03it/s]"
     ]
    },
    {
     "name": "stdout",
     "output_type": "stream",
     "text": [
      "test_loss: 0.4105 | test_acc: 0.8867\n"
     ]
    },
    {
     "name": "stderr",
     "output_type": "stream",
     "text": [
      "\n"
     ]
    }
   ],
   "source": [
    "resisc45_loss, resisc45_acc, resisc45_per_class_acc = evaluate_model(\n",
    "    deit_resisc45,\n",
    "    resisc45_test,\n",
    "    config\n",
    ")"
   ]
  },
  {
   "cell_type": "code",
   "execution_count": 27,
   "id": "3e2e5a5e-fb90-470e-b9eb-36908a51337c",
   "metadata": {},
   "outputs": [],
   "source": [
    "resisc45_accs.append(resisc45_acc)"
   ]
  },
  {
   "cell_type": "code",
   "execution_count": 28,
   "id": "9adafef3-33e4-4bef-b5db-3b3b4a612b4d",
   "metadata": {},
   "outputs": [
    {
     "data": {
      "text/plain": [
       "[('chaparral', 1.0),\n",
       " ('circular farmland', 0.9726027397260274),\n",
       " ('parking lot', 0.9703703703703703),\n",
       " ('sea ice', 0.9668874172185431),\n",
       " ('storage tank', 0.9635036496350365)]"
      ]
     },
     "execution_count": 28,
     "metadata": {},
     "output_type": "execute_result"
    }
   ],
   "source": [
    "get_top_5_accuracies(resisc45_per_class_acc)"
   ]
  },
  {
   "cell_type": "code",
   "execution_count": 29,
   "id": "af397207-10e1-43e7-be5a-09d76453f83e",
   "metadata": {},
   "outputs": [
    {
     "data": {
      "text/plain": [
       "[('palace', 0.7142857142857143),\n",
       " ('church', 0.7202797202797203),\n",
       " ('medium residential', 0.7482993197278912),\n",
       " ('tennis court', 0.7569444444444444),\n",
       " ('railway station', 0.7727272727272727)]"
      ]
     },
     "execution_count": 29,
     "metadata": {},
     "output_type": "execute_result"
    }
   ],
   "source": [
    "get_bottom_5_accuracies(resisc45_per_class_acc)"
   ]
  },
  {
   "cell_type": "code",
   "execution_count": 30,
   "id": "69e0bdd9-c94d-4ef3-a914-bc4cedf25fb3",
   "metadata": {},
   "outputs": [
    {
     "data": {
      "image/png": "[encoded data removed]",
      "text/plain": [
       "<Figure size 1000x600 with 1 Axes>"
      ]
     },
     "metadata": {},
     "output_type": "display_data"
    }
   ],
   "source": [
    "plot_per_class_accuracies(\n",
    "    resisc45_per_class_acc,\n",
    "    'RESISC45',\n",
    "    num_bins=20\n",
    ")"
   ]
  },
  {
   "cell_type": "markdown",
   "id": "fe3c4b5f-1503-4c5e-986f-74e478b4b9be",
   "metadata": {},
   "source": [
    "#### Food-101"
   ]
  },
  {
   "cell_type": "code",
   "execution_count": 31,
   "id": "ad1880a7-69b0-4005-a11f-469ec0c5b098",
   "metadata": {},
   "outputs": [
    {
     "name": "stderr",
     "output_type": "stream",
     "text": [
      "Some weights of RegNetForImageClassification were not initialized from the model checkpoint at facebook/regnet-y-160 and are newly initialized because the shapes did not match:\n",
      "- classifier.1.weight: found shape torch.Size([1000, 3024]) in the checkpoint and torch.Size([101, 3024]) in the model instantiated\n",
      "- classifier.1.bias: found shape torch.Size([1000]) in the checkpoint and torch.Size([101]) in the model instantiated\n",
      "You should probably TRAIN this model on a down-stream task to be able to use it for predictions and inference.\n"
     ]
    }
   ],
   "source": [
    "teacher_food101 = Backbone(model_names['RegNet'], num_classes=len(food101_train.get_labels()))"
   ]
  },
  {
   "cell_type": "code",
   "execution_count": 32,
   "id": "ad9bc499-ead8-4914-8103-2c9968cec5b2",
   "metadata": {},
   "outputs": [
    {
     "name": "stdout",
     "output_type": "stream",
     "text": [
      "Parameters: 80.87M\n"
     ]
    }
   ],
   "source": [
    "get_model_params(teacher_food101)"
   ]
  },
  {
   "cell_type": "code",
   "execution_count": 33,
   "id": "b2a0aa7a-39e8-456d-a59e-ab61bf9baa1c",
   "metadata": {
    "editable": true,
    "slideshow": {
     "slide_type": ""
    },
    "tags": []
   },
   "outputs": [
    {
     "name": "stderr",
     "output_type": "stream",
     "text": [
      " 90%|█████████ | 8546/9469 [10:12<01:04, 14.21it/s]/opt/conda/lib/python3.11/site-packages/PIL/TiffImagePlugin.py:900: UserWarning: Truncated File Read\n",
      "  warnings.warn(str(msg))\n",
      "100%|██████████| 9469/9469 [11:17<00:00, 13.97it/s]\n"
     ]
    },
    {
     "name": "stdout",
     "output_type": "stream",
     "text": [
      "Epochs: 1/10 | train_loss: 2.9341 | train_acc: 0.3617\n"
     ]
    },
    {
     "name": "stderr",
     "output_type": "stream",
     "text": [
      "100%|██████████| 9469/9469 [11:14<00:00, 14.04it/s]\n"
     ]
    },
    {
     "name": "stdout",
     "output_type": "stream",
     "text": [
      "Epochs: 2/10 | train_loss: 2.1197 | train_acc: 0.4956\n"
     ]
    },
    {
     "name": "stderr",
     "output_type": "stream",
     "text": [
      "100%|██████████| 9469/9469 [11:17<00:00, 13.99it/s]\n"
     ]
    },
    {
     "name": "stdout",
     "output_type": "stream",
     "text": [
      "Epochs: 3/10 | train_loss: 1.9041 | train_acc: 0.5365\n"
     ]
    },
    {
     "name": "stderr",
     "output_type": "stream",
     "text": [
      "100%|██████████| 9469/9469 [11:16<00:00, 14.00it/s]\n"
     ]
    },
    {
     "name": "stdout",
     "output_type": "stream",
     "text": [
      "Epochs: 4/10 | train_loss: 1.7831 | train_acc: 0.5611\n"
     ]
    },
    {
     "name": "stderr",
     "output_type": "stream",
     "text": [
      "100%|██████████| 9469/9469 [11:14<00:00, 14.04it/s]\n"
     ]
    },
    {
     "name": "stdout",
     "output_type": "stream",
     "text": [
      "Epochs: 5/10 | train_loss: 1.6960 | train_acc: 0.5774\n"
     ]
    },
    {
     "name": "stderr",
     "output_type": "stream",
     "text": [
      "100%|██████████| 9469/9469 [11:16<00:00, 14.00it/s]\n"
     ]
    },
    {
     "name": "stdout",
     "output_type": "stream",
     "text": [
      "Epochs: 6/10 | train_loss: 1.6404 | train_acc: 0.5904\n"
     ]
    },
    {
     "name": "stderr",
     "output_type": "stream",
     "text": [
      "100%|██████████| 9469/9469 [11:16<00:00, 13.99it/s]\n"
     ]
    },
    {
     "name": "stdout",
     "output_type": "stream",
     "text": [
      "Epochs: 7/10 | train_loss: 1.5847 | train_acc: 0.6023\n"
     ]
    },
    {
     "name": "stderr",
     "output_type": "stream",
     "text": [
      "100%|██████████| 9469/9469 [11:17<00:00, 13.98it/s]\n"
     ]
    },
    {
     "name": "stdout",
     "output_type": "stream",
     "text": [
      "Epochs: 8/10 | train_loss: 1.5430 | train_acc: 0.6111\n"
     ]
    },
    {
     "name": "stderr",
     "output_type": "stream",
     "text": [
      "100%|██████████| 9469/9469 [11:14<00:00, 14.03it/s]\n"
     ]
    },
    {
     "name": "stdout",
     "output_type": "stream",
     "text": [
      "Epochs: 9/10 | train_loss: 1.5062 | train_acc: 0.6216\n"
     ]
    },
    {
     "name": "stderr",
     "output_type": "stream",
     "text": [
      "100%|██████████| 9469/9469 [11:16<00:00, 14.00it/s]\n"
     ]
    },
    {
     "name": "stdout",
     "output_type": "stream",
     "text": [
      "Epochs: 10/10 | train_loss: 1.4793 | train_acc: 0.6256\n"
     ]
    }
   ],
   "source": [
    "food101_loss, food101_acc, food101_per_class_acc = train_model(\n",
    "    teacher_food101,\n",
    "    food101_train,\n",
    "    config,\n",
    "    'regnet',\n",
    "    use_val=False,\n",
    "    fine_tune=False,\n",
    ")"
   ]
  },
  {
   "cell_type": "code",
   "execution_count": 34,
   "id": "09e326fb-98b2-4be6-b8e7-a2f6795a9938",
   "metadata": {},
   "outputs": [
    {
     "name": "stderr",
     "output_type": "stream",
     "text": [
      "Some weights of DeiTForImageClassificationWithTeacher were not initialized from the model checkpoint at facebook/deit-base-distilled-patch16-224 and are newly initialized because the shapes did not match:\n",
      "- cls_classifier.weight: found shape torch.Size([1000, 768]) in the checkpoint and torch.Size([101, 768]) in the model instantiated\n",
      "- cls_classifier.bias: found shape torch.Size([1000]) in the checkpoint and torch.Size([101]) in the model instantiated\n",
      "- distillation_classifier.weight: found shape torch.Size([1000, 768]) in the checkpoint and torch.Size([101, 768]) in the model instantiated\n",
      "- distillation_classifier.bias: found shape torch.Size([1000]) in the checkpoint and torch.Size([101]) in the model instantiated\n",
      "You should probably TRAIN this model on a down-stream task to be able to use it for predictions and inference.\n"
     ]
    }
   ],
   "source": [
    "deit_food101 = Backbone(model_names['DeiT'], num_classes=len(food101_train.get_labels()))"
   ]
  },
  {
   "cell_type": "code",
   "execution_count": 35,
   "id": "7c72e21c-5156-4f45-aad0-45861117e5bf",
   "metadata": {},
   "outputs": [
    {
     "name": "stdout",
     "output_type": "stream",
     "text": [
      "Parameters: 85.96M\n"
     ]
    }
   ],
   "source": [
    "get_model_params(deit_food101)"
   ]
  },
  {
   "cell_type": "code",
   "execution_count": 36,
   "id": "96573b52-e953-442a-b7d1-f89dcb5fc690",
   "metadata": {
    "editable": true,
    "slideshow": {
     "slide_type": ""
    },
    "tags": []
   },
   "outputs": [
    {
     "name": "stderr",
     "output_type": "stream",
     "text": [
      "100%|██████████| 9469/9469 [21:53<00:00,  7.21it/s]\n"
     ]
    },
    {
     "name": "stdout",
     "output_type": "stream",
     "text": [
      "Epochs: 1/10 | train_loss: 2.2052 | train_acc: 0.5531\n"
     ]
    },
    {
     "name": "stderr",
     "output_type": "stream",
     "text": [
      "100%|██████████| 9469/9469 [21:57<00:00,  7.18it/s]\n"
     ]
    },
    {
     "name": "stdout",
     "output_type": "stream",
     "text": [
      "Epochs: 2/10 | train_loss: 1.3678 | train_acc: 0.6861\n"
     ]
    },
    {
     "name": "stderr",
     "output_type": "stream",
     "text": [
      "100%|██████████| 9469/9469 [21:58<00:00,  7.18it/s]\n"
     ]
    },
    {
     "name": "stdout",
     "output_type": "stream",
     "text": [
      "Epochs: 3/10 | train_loss: 1.2366 | train_acc: 0.7150\n"
     ]
    },
    {
     "name": "stderr",
     "output_type": "stream",
     "text": [
      "100%|██████████| 9469/9469 [22:00<00:00,  7.17it/s]\n"
     ]
    },
    {
     "name": "stdout",
     "output_type": "stream",
     "text": [
      "Epochs: 4/10 | train_loss: 1.1712 | train_acc: 0.7340\n"
     ]
    },
    {
     "name": "stderr",
     "output_type": "stream",
     "text": [
      "100%|██████████| 9469/9469 [21:58<00:00,  7.18it/s]\n"
     ]
    },
    {
     "name": "stdout",
     "output_type": "stream",
     "text": [
      "Epochs: 5/10 | train_loss: 1.1287 | train_acc: 0.7452\n"
     ]
    },
    {
     "name": "stderr",
     "output_type": "stream",
     "text": [
      "100%|██████████| 9469/9469 [21:59<00:00,  7.18it/s]\n"
     ]
    },
    {
     "name": "stdout",
     "output_type": "stream",
     "text": [
      "Epochs: 6/10 | train_loss: 1.0974 | train_acc: 0.7543\n"
     ]
    },
    {
     "name": "stderr",
     "output_type": "stream",
     "text": [
      "100%|██████████| 9469/9469 [21:59<00:00,  7.17it/s]\n"
     ]
    },
    {
     "name": "stdout",
     "output_type": "stream",
     "text": [
      "Epochs: 7/10 | train_loss: 1.0731 | train_acc: 0.7606\n"
     ]
    },
    {
     "name": "stderr",
     "output_type": "stream",
     "text": [
      "100%|██████████| 9469/9469 [21:59<00:00,  7.18it/s]\n"
     ]
    },
    {
     "name": "stdout",
     "output_type": "stream",
     "text": [
      "Epochs: 8/10 | train_loss: 1.0531 | train_acc: 0.7665\n"
     ]
    },
    {
     "name": "stderr",
     "output_type": "stream",
     "text": [
      "100%|██████████| 9469/9469 [21:59<00:00,  7.17it/s]\n"
     ]
    },
    {
     "name": "stdout",
     "output_type": "stream",
     "text": [
      "Epochs: 9/10 | train_loss: 1.0365 | train_acc: 0.7714\n"
     ]
    },
    {
     "name": "stderr",
     "output_type": "stream",
     "text": [
      "100%|██████████| 9469/9469 [21:58<00:00,  7.18it/s]\n"
     ]
    },
    {
     "name": "stdout",
     "output_type": "stream",
     "text": [
      "Epochs: 10/10 | train_loss: 1.0223 | train_acc: 0.7757\n"
     ]
    }
   ],
   "source": [
    "food101_loss, food101_acc, food101_per_class_acc = train_model(\n",
    "    deit_food101,\n",
    "    food101_train,\n",
    "    config,\n",
    "    'deit',\n",
    "    use_val=False,\n",
    "    fine_tune=False,\n",
    "    with_distillation=True,\n",
    "    teacher=teacher_food101,\n",
    ")"
   ]
  },
  {
   "cell_type": "code",
   "execution_count": 37,
   "id": "1310fde3-0a76-445b-ab97-257c9852d42d",
   "metadata": {},
   "outputs": [
    {
     "name": "stderr",
     "output_type": "stream",
     "text": [
      "100%|██████████| 3157/3157 [05:37<00:00,  9.34it/s]\n"
     ]
    },
    {
     "name": "stdout",
     "output_type": "stream",
     "text": [
      "test_loss: 0.8135 | test_acc: 0.7863\n"
     ]
    }
   ],
   "source": [
    "food101_loss, food101_acc, food101_per_class_acc = evaluate_model(\n",
    "    deit_food101,\n",
    "    food101_validation,\n",
    "    config\n",
    ")"
   ]
  },
  {
   "cell_type": "code",
   "execution_count": 38,
   "id": "5908b734-1567-4fe2-869b-29d823a24c95",
   "metadata": {},
   "outputs": [],
   "source": [
    "food101_accs.append(food101_acc)"
   ]
  },
  {
   "cell_type": "code",
   "execution_count": 39,
   "id": "583e61a3-72e3-4dc3-9584-e5f32a03bc9f",
   "metadata": {},
   "outputs": [
    {
     "data": {
      "text/plain": [
       "[('edamame', 0.98),\n",
       " ('spaghetti carbonara', 0.968),\n",
       " ('pizza', 0.956),\n",
       " ('macarons', 0.952),\n",
       " ('pho', 0.948)]"
      ]
     },
     "execution_count": 39,
     "metadata": {},
     "output_type": "execute_result"
    }
   ],
   "source": [
    "get_top_5_accuracies(food101_per_class_acc)"
   ]
  },
  {
   "cell_type": "code",
   "execution_count": 40,
   "id": "bf792307-5279-48ba-a249-2de82fd02477",
   "metadata": {},
   "outputs": [
    {
     "data": {
      "text/plain": [
       "[('steak', 0.404),\n",
       " ('pork chop', 0.456),\n",
       " ('apple pie', 0.476),\n",
       " ('ravioli', 0.524),\n",
       " ('chocolate mousse', 0.528)]"
      ]
     },
     "execution_count": 40,
     "metadata": {},
     "output_type": "execute_result"
    }
   ],
   "source": [
    "get_bottom_5_accuracies(food101_per_class_acc)"
   ]
  },
  {
   "cell_type": "code",
   "execution_count": 41,
   "id": "38e78b1e-3642-4490-a5ba-55e5cbf51dbb",
   "metadata": {},
   "outputs": [
    {
     "data": {
      "image/png": "[encoded data removed]",
      "text/plain": [
       "<Figure size 1000x600 with 1 Axes>"
      ]
     },
     "metadata": {},
     "output_type": "display_data"
    }
   ],
   "source": [
    "plot_per_class_accuracies(\n",
    "    food101_per_class_acc,\n",
    "    'Food-101',\n",
    "    num_bins=20\n",
    ")"
   ]
  },
  {
   "cell_type": "markdown",
   "id": "6dace74f-0fd6-4360-9ce9-d51ee108aca5",
   "metadata": {},
   "source": [
    "#### FER2013"
   ]
  },
  {
   "cell_type": "code",
   "execution_count": 42,
   "id": "dd27ed4f-c147-480b-8be6-bd953026d785",
   "metadata": {},
   "outputs": [
    {
     "name": "stderr",
     "output_type": "stream",
     "text": [
      "Some weights of RegNetForImageClassification were not initialized from the model checkpoint at facebook/regnet-y-160 and are newly initialized because the shapes did not match:\n",
      "- classifier.1.weight: found shape torch.Size([1000, 3024]) in the checkpoint and torch.Size([7, 3024]) in the model instantiated\n",
      "- classifier.1.bias: found shape torch.Size([1000]) in the checkpoint and torch.Size([7]) in the model instantiated\n",
      "You should probably TRAIN this model on a down-stream task to be able to use it for predictions and inference.\n"
     ]
    }
   ],
   "source": [
    "teacher_fer2013 = Backbone(model_names['RegNet'], num_classes=len(fer2013_train.get_labels()))"
   ]
  },
  {
   "cell_type": "code",
   "execution_count": 43,
   "id": "30780b4d-3571-4765-a2b6-396c8bc94b8c",
   "metadata": {},
   "outputs": [
    {
     "name": "stdout",
     "output_type": "stream",
     "text": [
      "Parameters: 80.59M\n"
     ]
    }
   ],
   "source": [
    "get_model_params(teacher_fer2013)"
   ]
  },
  {
   "cell_type": "code",
   "execution_count": 44,
   "id": "fb9d9afb-8e8f-451a-a244-0c4d1f9006af",
   "metadata": {
    "editable": true,
    "slideshow": {
     "slide_type": ""
    },
    "tags": []
   },
   "outputs": [
    {
     "name": "stderr",
     "output_type": "stream",
     "text": [
      "100%|██████████| 3589/3589 [02:51<00:00, 20.87it/s]\n"
     ]
    },
    {
     "name": "stdout",
     "output_type": "stream",
     "text": [
      "Epochs: 1/10 | train_loss: 1.6708 | train_acc: 0.3368\n"
     ]
    },
    {
     "name": "stderr",
     "output_type": "stream",
     "text": [
      "100%|██████████| 3589/3589 [02:53<00:00, 20.71it/s]\n"
     ]
    },
    {
     "name": "stdout",
     "output_type": "stream",
     "text": [
      "Epochs: 2/10 | train_loss: 1.5780 | train_acc: 0.3874\n"
     ]
    },
    {
     "name": "stderr",
     "output_type": "stream",
     "text": [
      "100%|██████████| 3589/3589 [02:53<00:00, 20.64it/s]\n"
     ]
    },
    {
     "name": "stdout",
     "output_type": "stream",
     "text": [
      "Epochs: 3/10 | train_loss: 1.5394 | train_acc: 0.4060\n"
     ]
    },
    {
     "name": "stderr",
     "output_type": "stream",
     "text": [
      "100%|██████████| 3589/3589 [02:51<00:00, 20.88it/s]\n"
     ]
    },
    {
     "name": "stdout",
     "output_type": "stream",
     "text": [
      "Epochs: 4/10 | train_loss: 1.5190 | train_acc: 0.4164\n"
     ]
    },
    {
     "name": "stderr",
     "output_type": "stream",
     "text": [
      "100%|██████████| 3589/3589 [02:52<00:00, 20.86it/s]\n"
     ]
    },
    {
     "name": "stdout",
     "output_type": "stream",
     "text": [
      "Epochs: 5/10 | train_loss: 1.5042 | train_acc: 0.4182\n"
     ]
    },
    {
     "name": "stderr",
     "output_type": "stream",
     "text": [
      "100%|██████████| 3589/3589 [02:51<00:00, 20.91it/s]\n"
     ]
    },
    {
     "name": "stdout",
     "output_type": "stream",
     "text": [
      "Epochs: 6/10 | train_loss: 1.4902 | train_acc: 0.4249\n"
     ]
    },
    {
     "name": "stderr",
     "output_type": "stream",
     "text": [
      "100%|██████████| 3589/3589 [02:51<00:00, 20.90it/s]\n"
     ]
    },
    {
     "name": "stdout",
     "output_type": "stream",
     "text": [
      "Epochs: 7/10 | train_loss: 1.4784 | train_acc: 0.4326\n"
     ]
    },
    {
     "name": "stderr",
     "output_type": "stream",
     "text": [
      "100%|██████████| 3589/3589 [02:51<00:00, 20.96it/s]\n"
     ]
    },
    {
     "name": "stdout",
     "output_type": "stream",
     "text": [
      "Epochs: 8/10 | train_loss: 1.4677 | train_acc: 0.4353\n"
     ]
    },
    {
     "name": "stderr",
     "output_type": "stream",
     "text": [
      "100%|██████████| 3589/3589 [02:51<00:00, 20.95it/s]\n"
     ]
    },
    {
     "name": "stdout",
     "output_type": "stream",
     "text": [
      "Epochs: 9/10 | train_loss: 1.4596 | train_acc: 0.4421\n"
     ]
    },
    {
     "name": "stderr",
     "output_type": "stream",
     "text": [
      "100%|██████████| 3589/3589 [02:51<00:00, 20.95it/s]"
     ]
    },
    {
     "name": "stdout",
     "output_type": "stream",
     "text": [
      "Epochs: 10/10 | train_loss: 1.4585 | train_acc: 0.4382\n"
     ]
    },
    {
     "name": "stderr",
     "output_type": "stream",
     "text": [
      "\n"
     ]
    }
   ],
   "source": [
    "fer2013_loss, fer2013_acc, fer2013_per_class_acc = train_model(\n",
    "    teacher_fer2013,\n",
    "    fer2013_train,\n",
    "    config,\n",
    "    'regnet',\n",
    "    use_val=False,\n",
    "    fine_tune=False,\n",
    ")"
   ]
  },
  {
   "cell_type": "code",
   "execution_count": 45,
   "id": "4ccac894-0b8f-4175-a12e-fb9ef4aee800",
   "metadata": {},
   "outputs": [
    {
     "name": "stderr",
     "output_type": "stream",
     "text": [
      "Some weights of DeiTForImageClassificationWithTeacher were not initialized from the model checkpoint at facebook/deit-base-distilled-patch16-224 and are newly initialized because the shapes did not match:\n",
      "- cls_classifier.weight: found shape torch.Size([1000, 768]) in the checkpoint and torch.Size([7, 768]) in the model instantiated\n",
      "- cls_classifier.bias: found shape torch.Size([1000]) in the checkpoint and torch.Size([7]) in the model instantiated\n",
      "- distillation_classifier.weight: found shape torch.Size([1000, 768]) in the checkpoint and torch.Size([7, 768]) in the model instantiated\n",
      "- distillation_classifier.bias: found shape torch.Size([1000]) in the checkpoint and torch.Size([7]) in the model instantiated\n",
      "You should probably TRAIN this model on a down-stream task to be able to use it for predictions and inference.\n"
     ]
    }
   ],
   "source": [
    "deit_fer2013 = Backbone(model_names['DeiT'], num_classes=len(fer2013_train.get_labels()))"
   ]
  },
  {
   "cell_type": "code",
   "execution_count": 46,
   "id": "8b8d37f9-c7d0-473d-b851-7083163e54f2",
   "metadata": {},
   "outputs": [
    {
     "name": "stdout",
     "output_type": "stream",
     "text": [
      "Parameters: 85.81M\n"
     ]
    }
   ],
   "source": [
    "get_model_params(deit_fer2013)"
   ]
  },
  {
   "cell_type": "code",
   "execution_count": 47,
   "id": "8b98beb2-14be-468c-af77-17d9070867dc",
   "metadata": {
    "editable": true,
    "slideshow": {
     "slide_type": ""
    },
    "tags": []
   },
   "outputs": [
    {
     "name": "stderr",
     "output_type": "stream",
     "text": [
      "100%|██████████| 3589/3589 [06:59<00:00,  8.56it/s]\n"
     ]
    },
    {
     "name": "stdout",
     "output_type": "stream",
     "text": [
      "Epochs: 1/10 | train_loss: 1.4371 | train_acc: 0.4272\n"
     ]
    },
    {
     "name": "stderr",
     "output_type": "stream",
     "text": [
      "100%|██████████| 3589/3589 [06:59<00:00,  8.56it/s]\n"
     ]
    },
    {
     "name": "stdout",
     "output_type": "stream",
     "text": [
      "Epochs: 2/10 | train_loss: 1.2995 | train_acc: 0.4899\n"
     ]
    },
    {
     "name": "stderr",
     "output_type": "stream",
     "text": [
      "100%|██████████| 3589/3589 [06:58<00:00,  8.57it/s]\n"
     ]
    },
    {
     "name": "stdout",
     "output_type": "stream",
     "text": [
      "Epochs: 3/10 | train_loss: 1.2633 | train_acc: 0.5051\n"
     ]
    },
    {
     "name": "stderr",
     "output_type": "stream",
     "text": [
      "100%|██████████| 3589/3589 [07:00<00:00,  8.54it/s]\n"
     ]
    },
    {
     "name": "stdout",
     "output_type": "stream",
     "text": [
      "Epochs: 4/10 | train_loss: 1.2431 | train_acc: 0.5111\n"
     ]
    },
    {
     "name": "stderr",
     "output_type": "stream",
     "text": [
      "100%|██████████| 3589/3589 [06:58<00:00,  8.58it/s]\n"
     ]
    },
    {
     "name": "stdout",
     "output_type": "stream",
     "text": [
      "Epochs: 5/10 | train_loss: 1.2296 | train_acc: 0.5185\n"
     ]
    },
    {
     "name": "stderr",
     "output_type": "stream",
     "text": [
      "100%|██████████| 3589/3589 [06:58<00:00,  8.57it/s]\n"
     ]
    },
    {
     "name": "stdout",
     "output_type": "stream",
     "text": [
      "Epochs: 6/10 | train_loss: 1.2194 | train_acc: 0.5230\n"
     ]
    },
    {
     "name": "stderr",
     "output_type": "stream",
     "text": [
      "100%|██████████| 3589/3589 [06:59<00:00,  8.56it/s]\n"
     ]
    },
    {
     "name": "stdout",
     "output_type": "stream",
     "text": [
      "Epochs: 7/10 | train_loss: 1.2110 | train_acc: 0.5272\n"
     ]
    },
    {
     "name": "stderr",
     "output_type": "stream",
     "text": [
      "100%|██████████| 3589/3589 [06:58<00:00,  8.57it/s]\n"
     ]
    },
    {
     "name": "stdout",
     "output_type": "stream",
     "text": [
      "Epochs: 8/10 | train_loss: 1.2045 | train_acc: 0.5297\n"
     ]
    },
    {
     "name": "stderr",
     "output_type": "stream",
     "text": [
      "100%|██████████| 3589/3589 [06:58<00:00,  8.58it/s]\n"
     ]
    },
    {
     "name": "stdout",
     "output_type": "stream",
     "text": [
      "Epochs: 9/10 | train_loss: 1.1988 | train_acc: 0.5326\n"
     ]
    },
    {
     "name": "stderr",
     "output_type": "stream",
     "text": [
      "100%|██████████| 3589/3589 [07:00<00:00,  8.54it/s]\n"
     ]
    },
    {
     "name": "stdout",
     "output_type": "stream",
     "text": [
      "Epochs: 10/10 | train_loss: 1.1943 | train_acc: 0.5357\n"
     ]
    }
   ],
   "source": [
    "fer2013_loss, fer2013_acc, fer2013_per_class_acc = train_model(\n",
    "    deit_fer2013,\n",
    "    fer2013_train,\n",
    "    config,\n",
    "    'deit',\n",
    "    use_val=False,\n",
    "    fine_tune=False,\n",
    "    with_distillation=True,\n",
    "    teacher=teacher_fer2013,\n",
    ")"
   ]
  },
  {
   "cell_type": "code",
   "execution_count": 48,
   "id": "ed2c9c07-6f5b-4775-89e1-9a71073d9a8e",
   "metadata": {
    "editable": true,
    "slideshow": {
     "slide_type": ""
    },
    "tags": []
   },
   "outputs": [
    {
     "name": "stderr",
     "output_type": "stream",
     "text": [
      "100%|██████████| 449/449 [00:37<00:00, 11.88it/s]"
     ]
    },
    {
     "name": "stdout",
     "output_type": "stream",
     "text": [
      "test_loss: 1.2724 | test_acc: 0.5274\n"
     ]
    },
    {
     "name": "stderr",
     "output_type": "stream",
     "text": [
      "\n"
     ]
    }
   ],
   "source": [
    "fer2013_loss, fer2013_acc, fer2013_per_class_acc = evaluate_model(\n",
    "    deit_fer2013,\n",
    "    fer2013_test,\n",
    "    config\n",
    ")"
   ]
  },
  {
   "cell_type": "code",
   "execution_count": 49,
   "id": "a1e1fc0e-7d12-42d9-814e-841195168061",
   "metadata": {},
   "outputs": [],
   "source": [
    "fer2013_accs.append(fer2013_acc)"
   ]
  },
  {
   "cell_type": "code",
   "execution_count": 50,
   "id": "77115768-c83e-4d7e-8753-d602ca47bbd3",
   "metadata": {},
   "outputs": [
    {
     "data": {
      "text/plain": [
       "{'angry': 0.3890020366598778,\n",
       " 'disgust': 0.03636363636363636,\n",
       " 'fear': 0.2178030303030303,\n",
       " 'happy': 0.8771331058020477,\n",
       " 'sad': 0.35185185185185186,\n",
       " 'surprise': 0.6370192307692307,\n",
       " 'neutral': 0.5431309904153354}"
      ]
     },
     "execution_count": 50,
     "metadata": {},
     "output_type": "execute_result"
    }
   ],
   "source": [
    "fer2013_per_class_acc"
   ]
  },
  {
   "cell_type": "code",
   "execution_count": 51,
   "id": "b687c37b-c987-45fe-862e-2f85abecef34",
   "metadata": {},
   "outputs": [
    {
     "data": {
      "image/png": "[encoded data removed]",
      "text/plain": [
       "<Figure size 1000x600 with 1 Axes>"
      ]
     },
     "metadata": {},
     "output_type": "display_data"
    }
   ],
   "source": [
    "plot_per_class_accuracies(\n",
    "    fer2013_per_class_acc,\n",
    "    'FER2013',\n",
    "    num_bins=20\n",
    ")"
   ]
  },
  {
   "cell_type": "markdown",
   "id": "ae722f72-87dc-44b7-9342-f69576d9f99a",
   "metadata": {},
   "source": [
    "#### PCam"
   ]
  },
  {
   "cell_type": "code",
   "execution_count": 52,
   "id": "6e4f6dff-9dda-4ce2-b9b8-3308c60231c4",
   "metadata": {},
   "outputs": [
    {
     "name": "stderr",
     "output_type": "stream",
     "text": [
      "Some weights of RegNetForImageClassification were not initialized from the model checkpoint at facebook/regnet-y-160 and are newly initialized because the shapes did not match:\n",
      "- classifier.1.weight: found shape torch.Size([1000, 3024]) in the checkpoint and torch.Size([2, 3024]) in the model instantiated\n",
      "- classifier.1.bias: found shape torch.Size([1000]) in the checkpoint and torch.Size([2]) in the model instantiated\n",
      "You should probably TRAIN this model on a down-stream task to be able to use it for predictions and inference.\n"
     ]
    }
   ],
   "source": [
    "teacher_pcam = Backbone(model_names['RegNet'], num_classes=len(pcam_train.get_labels()))"
   ]
  },
  {
   "cell_type": "code",
   "execution_count": 53,
   "id": "3732b861-9f05-4d9c-b718-4c1ed9eddf41",
   "metadata": {},
   "outputs": [
    {
     "name": "stdout",
     "output_type": "stream",
     "text": [
      "Parameters: 80.57M\n"
     ]
    }
   ],
   "source": [
    "get_model_params(teacher_pcam)"
   ]
  },
  {
   "cell_type": "code",
   "execution_count": 54,
   "id": "ef4ae452-1ca2-4466-be9d-131640a8881d",
   "metadata": {},
   "outputs": [
    {
     "name": "stderr",
     "output_type": "stream",
     "text": [
      "100%|██████████| 32768/32768 [26:50<00:00, 20.35it/s]\n"
     ]
    },
    {
     "name": "stdout",
     "output_type": "stream",
     "text": [
      "Epochs: 1/10 | train_loss: 0.4590 | train_acc: 0.7851\n"
     ]
    },
    {
     "name": "stderr",
     "output_type": "stream",
     "text": [
      "100%|██████████| 32768/32768 [26:54<00:00, 20.30it/s]\n"
     ]
    },
    {
     "name": "stdout",
     "output_type": "stream",
     "text": [
      "Epochs: 2/10 | train_loss: 0.4331 | train_acc: 0.8012\n"
     ]
    },
    {
     "name": "stderr",
     "output_type": "stream",
     "text": [
      "100%|██████████| 32768/32768 [26:50<00:00, 20.35it/s]\n"
     ]
    },
    {
     "name": "stdout",
     "output_type": "stream",
     "text": [
      "Epochs: 3/10 | train_loss: 0.4268 | train_acc: 0.8050\n"
     ]
    },
    {
     "name": "stderr",
     "output_type": "stream",
     "text": [
      "100%|██████████| 32768/32768 [26:49<00:00, 20.36it/s]\n"
     ]
    },
    {
     "name": "stdout",
     "output_type": "stream",
     "text": [
      "Epochs: 4/10 | train_loss: 0.4220 | train_acc: 0.8071\n"
     ]
    },
    {
     "name": "stderr",
     "output_type": "stream",
     "text": [
      "100%|██████████| 32768/32768 [26:53<00:00, 20.31it/s]\n"
     ]
    },
    {
     "name": "stdout",
     "output_type": "stream",
     "text": [
      "Epochs: 5/10 | train_loss: 0.4210 | train_acc: 0.8081\n"
     ]
    },
    {
     "name": "stderr",
     "output_type": "stream",
     "text": [
      "100%|██████████| 32768/32768 [26:48<00:00, 20.38it/s]\n"
     ]
    },
    {
     "name": "stdout",
     "output_type": "stream",
     "text": [
      "Epochs: 6/10 | train_loss: 0.4217 | train_acc: 0.8081\n"
     ]
    },
    {
     "name": "stderr",
     "output_type": "stream",
     "text": [
      "100%|██████████| 32768/32768 [26:53<00:00, 20.31it/s]\n"
     ]
    },
    {
     "name": "stdout",
     "output_type": "stream",
     "text": [
      "Epochs: 7/10 | train_loss: 0.4188 | train_acc: 0.8098\n"
     ]
    },
    {
     "name": "stderr",
     "output_type": "stream",
     "text": [
      "100%|██████████| 32768/32768 [26:50<00:00, 20.34it/s]\n"
     ]
    },
    {
     "name": "stdout",
     "output_type": "stream",
     "text": [
      "Epochs: 8/10 | train_loss: 0.4198 | train_acc: 0.8083\n"
     ]
    },
    {
     "name": "stderr",
     "output_type": "stream",
     "text": [
      "100%|██████████| 32768/32768 [26:53<00:00, 20.31it/s]\n"
     ]
    },
    {
     "name": "stdout",
     "output_type": "stream",
     "text": [
      "Epochs: 9/10 | train_loss: 0.4190 | train_acc: 0.8097\n"
     ]
    },
    {
     "name": "stderr",
     "output_type": "stream",
     "text": [
      "100%|██████████| 32768/32768 [26:52<00:00, 20.32it/s]"
     ]
    },
    {
     "name": "stdout",
     "output_type": "stream",
     "text": [
      "Epochs: 10/10 | train_loss: 0.4200 | train_acc: 0.8092\n"
     ]
    },
    {
     "name": "stderr",
     "output_type": "stream",
     "text": [
      "\n"
     ]
    }
   ],
   "source": [
    "pcam_loss, pcam_acc, pcam_per_class_acc = train_model(\n",
    "    teacher_pcam,\n",
    "    pcam_train,\n",
    "    config,\n",
    "    'regnet',\n",
    "    use_val=False,\n",
    "    fine_tune=False,\n",
    ")"
   ]
  },
  {
   "cell_type": "code",
   "execution_count": 55,
   "id": "05746506-b93d-4025-90a1-f265d6f82923",
   "metadata": {},
   "outputs": [
    {
     "name": "stderr",
     "output_type": "stream",
     "text": [
      "Some weights of DeiTForImageClassificationWithTeacher were not initialized from the model checkpoint at facebook/deit-base-distilled-patch16-224 and are newly initialized because the shapes did not match:\n",
      "- cls_classifier.weight: found shape torch.Size([1000, 768]) in the checkpoint and torch.Size([2, 768]) in the model instantiated\n",
      "- cls_classifier.bias: found shape torch.Size([1000]) in the checkpoint and torch.Size([2]) in the model instantiated\n",
      "- distillation_classifier.weight: found shape torch.Size([1000, 768]) in the checkpoint and torch.Size([2, 768]) in the model instantiated\n",
      "- distillation_classifier.bias: found shape torch.Size([1000]) in the checkpoint and torch.Size([2]) in the model instantiated\n",
      "You should probably TRAIN this model on a down-stream task to be able to use it for predictions and inference.\n"
     ]
    }
   ],
   "source": [
    "deit_pcam = Backbone(model_names['DeiT'], num_classes=len(pcam_train.get_labels()))"
   ]
  },
  {
   "cell_type": "code",
   "execution_count": 56,
   "id": "46559a21-385f-47b3-b87e-9fa540a44dc4",
   "metadata": {},
   "outputs": [
    {
     "name": "stdout",
     "output_type": "stream",
     "text": [
      "Parameters: 85.80M\n"
     ]
    }
   ],
   "source": [
    "get_model_params(deit_pcam)"
   ]
  },
  {
   "cell_type": "code",
   "execution_count": 57,
   "id": "885ecbb5-354b-4c8f-8562-0ef6b1cd9c61",
   "metadata": {},
   "outputs": [
    {
     "name": "stderr",
     "output_type": "stream",
     "text": [
      "100%|██████████| 32768/32768 [1:04:26<00:00,  8.47it/s]\n"
     ]
    },
    {
     "name": "stdout",
     "output_type": "stream",
     "text": [
      "Epochs: 1/10 | train_loss: 0.3210 | train_acc: 0.8564\n"
     ]
    },
    {
     "name": "stderr",
     "output_type": "stream",
     "text": [
      "100%|██████████| 32768/32768 [1:04:25<00:00,  8.48it/s]\n"
     ]
    },
    {
     "name": "stdout",
     "output_type": "stream",
     "text": [
      "Epochs: 3/10 | train_loss: 0.2927 | train_acc: 0.8757\n"
     ]
    },
    {
     "name": "stderr",
     "output_type": "stream",
     "text": [
      "100%|██████████| 32768/32768 [1:04:22<00:00,  8.48it/s]\n"
     ]
    },
    {
     "name": "stdout",
     "output_type": "stream",
     "text": [
      "Epochs: 4/10 | train_loss: 0.2905 | train_acc: 0.8776\n"
     ]
    },
    {
     "name": "stderr",
     "output_type": "stream",
     "text": [
      "100%|██████████| 32768/32768 [1:04:25<00:00,  8.48it/s]\n"
     ]
    },
    {
     "name": "stdout",
     "output_type": "stream",
     "text": [
      "Epochs: 5/10 | train_loss: 0.2892 | train_acc: 0.8786\n"
     ]
    },
    {
     "name": "stderr",
     "output_type": "stream",
     "text": [
      "100%|██████████| 32768/32768 [1:04:22<00:00,  8.48it/s]\n"
     ]
    },
    {
     "name": "stdout",
     "output_type": "stream",
     "text": [
      "Epochs: 6/10 | train_loss: 0.2884 | train_acc: 0.8799\n"
     ]
    },
    {
     "name": "stderr",
     "output_type": "stream",
     "text": [
      "100%|██████████| 32768/32768 [1:04:23<00:00,  8.48it/s]\n"
     ]
    },
    {
     "name": "stdout",
     "output_type": "stream",
     "text": [
      "Epochs: 7/10 | train_loss: 0.2879 | train_acc: 0.8800\n"
     ]
    },
    {
     "name": "stderr",
     "output_type": "stream",
     "text": [
      "100%|██████████| 32768/32768 [1:04:27<00:00,  8.47it/s]\n"
     ]
    },
    {
     "name": "stdout",
     "output_type": "stream",
     "text": [
      "Epochs: 8/10 | train_loss: 0.2874 | train_acc: 0.8803\n"
     ]
    },
    {
     "name": "stderr",
     "output_type": "stream",
     "text": [
      "100%|██████████| 32768/32768 [1:04:27<00:00,  8.47it/s]\n"
     ]
    },
    {
     "name": "stdout",
     "output_type": "stream",
     "text": [
      "Epochs: 9/10 | train_loss: 0.2872 | train_acc: 0.8807\n"
     ]
    },
    {
     "name": "stderr",
     "output_type": "stream",
     "text": [
      "100%|██████████| 32768/32768 [1:04:26<00:00,  8.47it/s]"
     ]
    },
    {
     "name": "stdout",
     "output_type": "stream",
     "text": [
      "Epochs: 10/10 | train_loss: 0.2869 | train_acc: 0.8810\n"
     ]
    },
    {
     "name": "stderr",
     "output_type": "stream",
     "text": [
      "\n"
     ]
    }
   ],
   "source": [
    "pcam_loss, pcam_acc, pcam_per_class_acc = train_model(\n",
    "    deit_pcam,\n",
    "    pcam_train,\n",
    "    config,\n",
    "    'deit',\n",
    "    use_val=False,\n",
    "    fine_tune=False,\n",
    "    with_distillation=True, \n",
    "    teacher=teacher_pcam,\n",
    ")"
   ]
  },
  {
   "cell_type": "code",
   "execution_count": 58,
   "id": "94d4af2c-3bb4-41a2-be2f-a86cccd2b3a1",
   "metadata": {},
   "outputs": [
    {
     "name": "stderr",
     "output_type": "stream",
     "text": [
      "100%|██████████| 4096/4096 [05:50<00:00, 11.69it/s]"
     ]
    },
    {
     "name": "stdout",
     "output_type": "stream",
     "text": [
      "test_loss: 0.3768 | test_acc: 0.8323\n"
     ]
    },
    {
     "name": "stderr",
     "output_type": "stream",
     "text": [
      "\n"
     ]
    }
   ],
   "source": [
    "pcam_loss, pcam_acc, pcam_per_class_acc = evaluate_model(\n",
    "    deit_pcam,\n",
    "    pcam_test,\n",
    "    config\n",
    ")"
   ]
  },
  {
   "cell_type": "code",
   "execution_count": 59,
   "id": "4e18eae0-58f0-456e-a5d3-76565fb5fc2f",
   "metadata": {},
   "outputs": [],
   "source": [
    "pcam_accs.append(pcam_acc)"
   ]
  },
  {
   "cell_type": "code",
   "execution_count": 60,
   "id": "0324390a-1173-4f42-a515-e9a0acf495bc",
   "metadata": {},
   "outputs": [
    {
     "data": {
      "text/plain": [
       "{'healthy lymph node tissue': 0.899151973644073,\n",
       " 'lymph node tumor tissue': 0.7654637601514319}"
      ]
     },
     "execution_count": 60,
     "metadata": {},
     "output_type": "execute_result"
    }
   ],
   "source": [
    "pcam_per_class_acc"
   ]
  },
  {
   "cell_type": "code",
   "execution_count": null,
   "id": "6d73cb17-9a79-4fcb-a5bc-1cdc01c34f10",
   "metadata": {},
   "outputs": [
    {
     "data": {
      "image/png": "[encoded data removed]",
      "text/plain": [
       "<Figure size 1000x600 with 1 Axes>"
      ]
     },
     "metadata": {},
     "output_type": "display_data"
    }
   ],
   "source": [
    "plot_per_class_accuracies(\n",
    "    pcam_per_class_acc,\n",
    "    'PatchCamelyon',\n",
    "    num_bins=20\n",
    ")"
   ]
  },
  {
   "cell_type": "markdown",
   "id": "93af562d-1712-465d-bab3-4eeb72d02569",
   "metadata": {},
   "source": [
    "#### SUN397"
   ]
  },
  {
   "cell_type": "code",
   "execution_count": null,
   "id": "7d8bce48-02c9-403a-a5e3-f3b3ef4754f7",
   "metadata": {},
   "outputs": [
    {
     "name": "stderr",
     "output_type": "stream",
     "text": [
      "Some weights of RegNetForImageClassification were not initialized from the model checkpoint at facebook/regnet-y-160 and are newly initialized because the shapes did not match:\n",
      "- classifier.1.weight: found shape torch.Size([1000, 3024]) in the checkpoint and torch.Size([397, 3024]) in the model instantiated\n",
      "- classifier.1.bias: found shape torch.Size([1000]) in the checkpoint and torch.Size([397]) in the model instantiated\n",
      "You should probably TRAIN this model on a down-stream task to be able to use it for predictions and inference.\n"
     ]
    }
   ],
   "source": [
    "teacher_sun397 = Backbone(model_names['RegNet'], num_classes=len(sun397_train.get_labels()))"
   ]
  },
  {
   "cell_type": "code",
   "execution_count": null,
   "id": "58287a6e-4032-4221-8450-3943eb2738a2",
   "metadata": {},
   "outputs": [
    {
     "name": "stdout",
     "output_type": "stream",
     "text": [
      "Parameters: 81.77M\n"
     ]
    }
   ],
   "source": [
    "get_model_params(teacher_sun397)"
   ]
  },
  {
   "cell_type": "code",
   "execution_count": null,
   "id": "ecd8bc6c-a94f-48dd-8a79-58b452a70274",
   "metadata": {},
   "outputs": [
    {
     "name": "stderr",
     "output_type": "stream",
     "text": [
      "100%|██████████| 9516/9516 [11:50<00:00, 13.39it/s]\n"
     ]
    },
    {
     "name": "stdout",
     "output_type": "stream",
     "text": [
      "Epochs: 1/10 | train_loss: 2.9245 | train_acc: 0.3947\n"
     ]
    },
    {
     "name": "stderr",
     "output_type": "stream",
     "text": [
      "100%|██████████| 9516/9516 [11:33<00:00, 13.72it/s]\n"
     ]
    },
    {
     "name": "stdout",
     "output_type": "stream",
     "text": [
      "Epochs: 2/10 | train_loss: 1.8298 | train_acc: 0.5477\n"
     ]
    },
    {
     "name": "stderr",
     "output_type": "stream",
     "text": [
      "100%|██████████| 9516/9516 [11:33<00:00, 13.72it/s]\n"
     ]
    },
    {
     "name": "stdout",
     "output_type": "stream",
     "text": [
      "Epochs: 3/10 | train_loss: 1.5869 | train_acc: 0.5920\n"
     ]
    },
    {
     "name": "stderr",
     "output_type": "stream",
     "text": [
      "100%|██████████| 9516/9516 [11:35<00:00, 13.68it/s]\n"
     ]
    },
    {
     "name": "stdout",
     "output_type": "stream",
     "text": [
      "Epochs: 4/10 | train_loss: 1.4511 | train_acc: 0.6206\n"
     ]
    },
    {
     "name": "stderr",
     "output_type": "stream",
     "text": [
      "100%|██████████| 9516/9516 [11:34<00:00, 13.71it/s]\n"
     ]
    },
    {
     "name": "stdout",
     "output_type": "stream",
     "text": [
      "Epochs: 5/10 | train_loss: 1.3508 | train_acc: 0.6406\n"
     ]
    },
    {
     "name": "stderr",
     "output_type": "stream",
     "text": [
      "100%|██████████| 9516/9516 [11:32<00:00, 13.73it/s]\n"
     ]
    },
    {
     "name": "stdout",
     "output_type": "stream",
     "text": [
      "Epochs: 6/10 | train_loss: 1.2782 | train_acc: 0.6579\n"
     ]
    },
    {
     "name": "stderr",
     "output_type": "stream",
     "text": [
      "100%|██████████| 9516/9516 [11:33<00:00, 13.71it/s]\n"
     ]
    },
    {
     "name": "stdout",
     "output_type": "stream",
     "text": [
      "Epochs: 7/10 | train_loss: 1.2240 | train_acc: 0.6698\n"
     ]
    },
    {
     "name": "stderr",
     "output_type": "stream",
     "text": [
      "100%|██████████| 9516/9516 [11:35<00:00, 13.68it/s]\n"
     ]
    },
    {
     "name": "stdout",
     "output_type": "stream",
     "text": [
      "Epochs: 8/10 | train_loss: 1.1658 | train_acc: 0.6829\n"
     ]
    },
    {
     "name": "stderr",
     "output_type": "stream",
     "text": [
      "100%|██████████| 9516/9516 [11:31<00:00, 13.76it/s]\n"
     ]
    },
    {
     "name": "stdout",
     "output_type": "stream",
     "text": [
      "Epochs: 9/10 | train_loss: 1.1321 | train_acc: 0.6901\n"
     ]
    },
    {
     "name": "stderr",
     "output_type": "stream",
     "text": [
      "100%|██████████| 9516/9516 [11:32<00:00, 13.74it/s]\n"
     ]
    },
    {
     "name": "stdout",
     "output_type": "stream",
     "text": [
      "Epochs: 10/10 | train_loss: 1.0909 | train_acc: 0.7012\n"
     ]
    }
   ],
   "source": [
    "sun397_loss, sun397_acc, sun397_per_class_acc = train_model(\n",
    "    teacher_sun397,\n",
    "    sun397_train,\n",
    "    config,\n",
    "    'regnet',\n",
    "    use_val=False,\n",
    "    fine_tune=False,\n",
    ")"
   ]
  },
  {
   "cell_type": "code",
   "execution_count": null,
   "id": "1cf260ec-de4b-473d-8fee-dba06b312f70",
   "metadata": {},
   "outputs": [
    {
     "name": "stderr",
     "output_type": "stream",
     "text": [
      "Some weights of DeiTForImageClassificationWithTeacher were not initialized from the model checkpoint at facebook/deit-base-distilled-patch16-224 and are newly initialized because the shapes did not match:\n",
      "- cls_classifier.weight: found shape torch.Size([1000, 768]) in the checkpoint and torch.Size([397, 768]) in the model instantiated\n",
      "- cls_classifier.bias: found shape torch.Size([1000]) in the checkpoint and torch.Size([397]) in the model instantiated\n",
      "- distillation_classifier.weight: found shape torch.Size([1000, 768]) in the checkpoint and torch.Size([397, 768]) in the model instantiated\n",
      "- distillation_classifier.bias: found shape torch.Size([1000]) in the checkpoint and torch.Size([397]) in the model instantiated\n",
      "You should probably TRAIN this model on a down-stream task to be able to use it for predictions and inference.\n"
     ]
    }
   ],
   "source": [
    "deit_sun397 = Backbone(model_names['DeiT'], num_classes=len(sun397_train.get_labels()))"
   ]
  },
  {
   "cell_type": "code",
   "execution_count": null,
   "id": "7dbc1cef-fee3-46c9-8d6d-af3eca2a3673",
   "metadata": {},
   "outputs": [
    {
     "name": "stdout",
     "output_type": "stream",
     "text": [
      "Parameters: 86.41M\n"
     ]
    }
   ],
   "source": [
    "get_model_params(deit_sun397)"
   ]
  },
  {
   "cell_type": "code",
   "execution_count": null,
   "id": "3589b9ef-9a74-4f54-ab29-eb763b77c3db",
   "metadata": {},
   "outputs": [
    {
     "name": "stderr",
     "output_type": "stream",
     "text": [
      "100%|██████████| 9516/9516 [22:28<00:00,  7.06it/s]\n"
     ]
    },
    {
     "name": "stdout",
     "output_type": "stream",
     "text": [
      "Epochs: 1/10 | train_loss: 2.6413 | train_acc: 0.5070\n"
     ]
    },
    {
     "name": "stderr",
     "output_type": "stream",
     "text": [
      "100%|██████████| 9516/9516 [22:25<00:00,  7.08it/s]\n"
     ]
    },
    {
     "name": "stdout",
     "output_type": "stream",
     "text": [
      "Epochs: 2/10 | train_loss: 1.2069 | train_acc: 0.6951\n"
     ]
    },
    {
     "name": "stderr",
     "output_type": "stream",
     "text": [
      "100%|██████████| 9516/9516 [22:26<00:00,  7.07it/s]\n"
     ]
    },
    {
     "name": "stdout",
     "output_type": "stream",
     "text": [
      "Epochs: 3/10 | train_loss: 0.9977 | train_acc: 0.7373\n"
     ]
    },
    {
     "name": "stderr",
     "output_type": "stream",
     "text": [
      "100%|██████████| 9516/9516 [22:24<00:00,  7.08it/s]\n"
     ]
    },
    {
     "name": "stdout",
     "output_type": "stream",
     "text": [
      "Epochs: 4/10 | train_loss: 0.8986 | train_acc: 0.7604\n"
     ]
    },
    {
     "name": "stderr",
     "output_type": "stream",
     "text": [
      "100%|██████████| 9516/9516 [22:25<00:00,  7.07it/s]\n"
     ]
    },
    {
     "name": "stdout",
     "output_type": "stream",
     "text": [
      "Epochs: 5/10 | train_loss: 0.8333 | train_acc: 0.7775\n"
     ]
    },
    {
     "name": "stderr",
     "output_type": "stream",
     "text": [
      "100%|██████████| 9516/9516 [22:24<00:00,  7.08it/s]\n"
     ]
    },
    {
     "name": "stdout",
     "output_type": "stream",
     "text": [
      "Epochs: 6/10 | train_loss: 0.7840 | train_acc: 0.7893\n"
     ]
    },
    {
     "name": "stderr",
     "output_type": "stream",
     "text": [
      "100%|██████████| 9516/9516 [22:26<00:00,  7.07it/s]\n"
     ]
    },
    {
     "name": "stdout",
     "output_type": "stream",
     "text": [
      "Epochs: 7/10 | train_loss: 0.7449 | train_acc: 0.8011\n"
     ]
    },
    {
     "name": "stderr",
     "output_type": "stream",
     "text": [
      "100%|██████████| 9516/9516 [22:25<00:00,  7.07it/s]\n"
     ]
    },
    {
     "name": "stdout",
     "output_type": "stream",
     "text": [
      "Epochs: 8/10 | train_loss: 0.7127 | train_acc: 0.8097\n"
     ]
    },
    {
     "name": "stderr",
     "output_type": "stream",
     "text": [
      "100%|██████████| 9516/9516 [22:24<00:00,  7.08it/s]\n"
     ]
    },
    {
     "name": "stdout",
     "output_type": "stream",
     "text": [
      "Epochs: 9/10 | train_loss: 0.6848 | train_acc: 0.8164\n"
     ]
    },
    {
     "name": "stderr",
     "output_type": "stream",
     "text": [
      "100%|██████████| 9516/9516 [22:23<00:00,  7.08it/s]\n"
     ]
    },
    {
     "name": "stdout",
     "output_type": "stream",
     "text": [
      "Epochs: 10/10 | train_loss: 0.6606 | train_acc: 0.8225\n"
     ]
    }
   ],
   "source": [
    "sun397_loss, sun397_acc, sun397_per_class_acc = train_model(\n",
    "    deit_sun397,\n",
    "    sun397_train,\n",
    "    config,\n",
    "    'deit',\n",
    "    use_val=False,\n",
    "    fine_tune=False,\n",
    "    with_distillation=True,\n",
    "    teacher=teacher_sun397,\n",
    ")"
   ]
  },
  {
   "cell_type": "code",
   "execution_count": null,
   "id": "2792c72b-006f-4fd9-af19-7a23144c2776",
   "metadata": {},
   "outputs": [
    {
     "name": "stderr",
     "output_type": "stream",
     "text": [
      "100%|██████████| 2719/2719 [04:58<00:00,  9.10it/s]\n"
     ]
    },
    {
     "name": "stdout",
     "output_type": "stream",
     "text": [
      "test_loss: 0.9821 | test_acc: 0.7269\n"
     ]
    }
   ],
   "source": [
    "sun397_loss, sun397_acc, sun397_per_class_acc = evaluate_model(\n",
    "    deit_sun397,\n",
    "    sun397_test,\n",
    "    config\n",
    ")"
   ]
  },
  {
   "cell_type": "code",
   "execution_count": null,
   "id": "d39645d6-fc7d-446a-9981-333b31dd326d",
   "metadata": {},
   "outputs": [],
   "source": [
    "sun397_accs.append(sun397_acc)"
   ]
  },
  {
   "cell_type": "code",
   "execution_count": null,
   "id": "df14cd76-f403-4702-a9b5-f63991ce04d9",
   "metadata": {},
   "outputs": [
    {
     "data": {
      "text/plain": [
       "[('batters box', 1.0),\n",
       " ('raft', 1.0),\n",
       " ('cockpit', 0.9850746268656716),\n",
       " ('oilrig', 0.9833333333333333),\n",
       " ('underwater (coral reef)', 0.9827586206896551)]"
      ]
     },
     "execution_count": 70,
     "metadata": {},
     "output_type": "execute_result"
    }
   ],
   "source": [
    "get_top_5_accuracies(sun397_per_class_acc)"
   ]
  },
  {
   "cell_type": "code",
   "execution_count": null,
   "id": "31d9bf8d-a686-4dc0-bad5-7681e66ddb9e",
   "metadata": {},
   "outputs": [
    {
     "data": {
      "text/plain": [
       "[('bistro (indoor)', 0.0),\n",
       " ('library (outdoor)', 0.047619047619047616),\n",
       " ('inn (outdoor)', 0.06896551724137931),\n",
       " ('recreation room', 0.07407407407407407),\n",
       " ('kitchenette', 0.07692307692307693)]"
      ]
     },
     "execution_count": 71,
     "metadata": {},
     "output_type": "execute_result"
    }
   ],
   "source": [
    "get_bottom_5_accuracies(sun397_per_class_acc)"
   ]
  },
  {
   "cell_type": "code",
   "execution_count": null,
   "id": "2d78a624-a6fc-4a15-acbd-0b14cb5a51cc",
   "metadata": {},
   "outputs": [
    {
     "data": {
      "image/png": "[encoded data removed]",
      "text/plain": [
       "<Figure size 1000x600 with 1 Axes>"
      ]
     },
     "metadata": {},
     "output_type": "display_data"
    }
   ],
   "source": [
    "plot_per_class_accuracies(\n",
    "    sun397_per_class_acc,\n",
    "    'SUN397',\n",
    "    num_bins=20\n",
    ")"
   ]
  },
  {
   "cell_type": "markdown",
   "id": "f3c9a504-65a4-4bdb-83bf-1f0d86fa8f47",
   "metadata": {},
   "source": [
    "#### DTD"
   ]
  },
  {
   "cell_type": "code",
   "execution_count": null,
   "id": "b48a75d2-8e6c-45cd-a0a8-e5b6f6b4f087",
   "metadata": {},
   "outputs": [
    {
     "name": "stderr",
     "output_type": "stream",
     "text": [
      "Some weights of RegNetForImageClassification were not initialized from the model checkpoint at facebook/regnet-y-160 and are newly initialized because the shapes did not match:\n",
      "- classifier.1.weight: found shape torch.Size([1000, 3024]) in the checkpoint and torch.Size([47, 3024]) in the model instantiated\n",
      "- classifier.1.bias: found shape torch.Size([1000]) in the checkpoint and torch.Size([47]) in the model instantiated\n",
      "You should probably TRAIN this model on a down-stream task to be able to use it for predictions and inference.\n"
     ]
    }
   ],
   "source": [
    "teacher_dtd = Backbone(model_names['RegNet'], num_classes=len(dtd_train.get_labels()))"
   ]
  },
  {
   "cell_type": "code",
   "execution_count": null,
   "id": "d552205d-6f74-4b0b-bff5-e5ae9f34fd2e",
   "metadata": {},
   "outputs": [
    {
     "name": "stdout",
     "output_type": "stream",
     "text": [
      "Parameters: 80.71M\n"
     ]
    }
   ],
   "source": [
    "get_model_params(teacher_dtd)"
   ]
  },
  {
   "cell_type": "code",
   "execution_count": null,
   "id": "a007eae8-37ad-46ac-990c-c0f347e1180d",
   "metadata": {},
   "outputs": [
    {
     "name": "stderr",
     "output_type": "stream",
     "text": [
      "100%|██████████| 470/470 [00:35<00:00, 13.33it/s]\n"
     ]
    },
    {
     "name": "stdout",
     "output_type": "stream",
     "text": [
      "Epochs: 1/10 | train_loss: 3.1863 | train_acc: 0.2755\n"
     ]
    },
    {
     "name": "stderr",
     "output_type": "stream",
     "text": [
      "100%|██████████| 470/470 [00:35<00:00, 13.38it/s]\n"
     ]
    },
    {
     "name": "stdout",
     "output_type": "stream",
     "text": [
      "Epochs: 2/10 | train_loss: 2.3744 | train_acc: 0.4883\n"
     ]
    },
    {
     "name": "stderr",
     "output_type": "stream",
     "text": [
      "100%|██████████| 470/470 [00:35<00:00, 13.41it/s]\n"
     ]
    },
    {
     "name": "stdout",
     "output_type": "stream",
     "text": [
      "Epochs: 3/10 | train_loss: 1.9845 | train_acc: 0.5465\n"
     ]
    },
    {
     "name": "stderr",
     "output_type": "stream",
     "text": [
      "100%|██████████| 470/470 [00:35<00:00, 13.40it/s]\n"
     ]
    },
    {
     "name": "stdout",
     "output_type": "stream",
     "text": [
      "Epochs: 4/10 | train_loss: 1.7645 | train_acc: 0.5774\n"
     ]
    },
    {
     "name": "stderr",
     "output_type": "stream",
     "text": [
      "100%|██████████| 470/470 [00:35<00:00, 13.42it/s]\n"
     ]
    },
    {
     "name": "stdout",
     "output_type": "stream",
     "text": [
      "Epochs: 5/10 | train_loss: 1.6377 | train_acc: 0.5904\n"
     ]
    },
    {
     "name": "stderr",
     "output_type": "stream",
     "text": [
      "100%|██████████| 470/470 [00:35<00:00, 13.34it/s]\n"
     ]
    },
    {
     "name": "stdout",
     "output_type": "stream",
     "text": [
      "Epochs: 6/10 | train_loss: 1.5253 | train_acc: 0.6069\n"
     ]
    },
    {
     "name": "stderr",
     "output_type": "stream",
     "text": [
      "100%|██████████| 470/470 [00:36<00:00, 13.03it/s]\n"
     ]
    },
    {
     "name": "stdout",
     "output_type": "stream",
     "text": [
      "Epochs: 7/10 | train_loss: 1.4586 | train_acc: 0.6138\n"
     ]
    },
    {
     "name": "stderr",
     "output_type": "stream",
     "text": [
      "100%|██████████| 470/470 [00:35<00:00, 13.13it/s]\n"
     ]
    },
    {
     "name": "stdout",
     "output_type": "stream",
     "text": [
      "Epochs: 8/10 | train_loss: 1.3717 | train_acc: 0.6359\n"
     ]
    },
    {
     "name": "stderr",
     "output_type": "stream",
     "text": [
      "100%|██████████| 470/470 [00:35<00:00, 13.27it/s]\n"
     ]
    },
    {
     "name": "stdout",
     "output_type": "stream",
     "text": [
      "Epochs: 9/10 | train_loss: 1.3434 | train_acc: 0.6386\n"
     ]
    },
    {
     "name": "stderr",
     "output_type": "stream",
     "text": [
      "100%|██████████| 470/470 [00:34<00:00, 13.46it/s]"
     ]
    },
    {
     "name": "stdout",
     "output_type": "stream",
     "text": [
      "Epochs: 10/10 | train_loss: 1.2884 | train_acc: 0.6543\n"
     ]
    },
    {
     "name": "stderr",
     "output_type": "stream",
     "text": [
      "\n"
     ]
    }
   ],
   "source": [
    "dtd_loss, dtd_acc, dtd_per_class_acc = train_model(\n",
    "    teacher_dtd,\n",
    "    dtd_train,\n",
    "    config,\n",
    "    'regnet',\n",
    "    use_val=False,\n",
    "    fine_tune=False,\n",
    ")"
   ]
  },
  {
   "cell_type": "code",
   "execution_count": null,
   "id": "5e33a355-31ee-4b2d-83c4-9473daed2d76",
   "metadata": {},
   "outputs": [
    {
     "name": "stderr",
     "output_type": "stream",
     "text": [
      "Some weights of DeiTForImageClassificationWithTeacher were not initialized from the model checkpoint at facebook/deit-base-distilled-patch16-224 and are newly initialized because the shapes did not match:\n",
      "- cls_classifier.weight: found shape torch.Size([1000, 768]) in the checkpoint and torch.Size([47, 768]) in the model instantiated\n",
      "- cls_classifier.bias: found shape torch.Size([1000]) in the checkpoint and torch.Size([47]) in the model instantiated\n",
      "- distillation_classifier.weight: found shape torch.Size([1000, 768]) in the checkpoint and torch.Size([47, 768]) in the model instantiated\n",
      "- distillation_classifier.bias: found shape torch.Size([1000]) in the checkpoint and torch.Size([47]) in the model instantiated\n",
      "You should probably TRAIN this model on a down-stream task to be able to use it for predictions and inference.\n"
     ]
    }
   ],
   "source": [
    "deit_dtd = Backbone(model_names['DeiT'], num_classes=len(dtd_train.get_labels()))"
   ]
  },
  {
   "cell_type": "code",
   "execution_count": null,
   "id": "1747f40f-63d8-4acd-b971-93e2b4877431",
   "metadata": {},
   "outputs": [
    {
     "name": "stdout",
     "output_type": "stream",
     "text": [
      "Parameters: 85.87M\n"
     ]
    }
   ],
   "source": [
    "get_model_params(deit_dtd)"
   ]
  },
  {
   "cell_type": "code",
   "execution_count": null,
   "id": "d82e9167-814d-4c4e-816d-3c00ab5ecd96",
   "metadata": {},
   "outputs": [
    {
     "name": "stderr",
     "output_type": "stream",
     "text": [
      "100%|██████████| 470/470 [01:07<00:00,  7.00it/s]\n"
     ]
    },
    {
     "name": "stdout",
     "output_type": "stream",
     "text": [
      "Epochs: 1/10 | train_loss: 3.4533 | train_acc: 0.2210\n"
     ]
    },
    {
     "name": "stderr",
     "output_type": "stream",
     "text": [
      "100%|██████████| 470/470 [01:07<00:00,  7.01it/s]\n"
     ]
    },
    {
     "name": "stdout",
     "output_type": "stream",
     "text": [
      "Epochs: 2/10 | train_loss: 2.5941 | train_acc: 0.5625\n"
     ]
    },
    {
     "name": "stderr",
     "output_type": "stream",
     "text": [
      "100%|██████████| 470/470 [01:07<00:00,  7.01it/s]\n"
     ]
    },
    {
     "name": "stdout",
     "output_type": "stream",
     "text": [
      "Epochs: 3/10 | train_loss: 2.0212 | train_acc: 0.6465\n"
     ]
    },
    {
     "name": "stderr",
     "output_type": "stream",
     "text": [
      "100%|██████████| 470/470 [01:06<00:00,  7.04it/s]\n"
     ]
    },
    {
     "name": "stdout",
     "output_type": "stream",
     "text": [
      "Epochs: 4/10 | train_loss: 1.6610 | train_acc: 0.6867\n"
     ]
    },
    {
     "name": "stderr",
     "output_type": "stream",
     "text": [
      "100%|██████████| 470/470 [01:06<00:00,  7.04it/s]\n"
     ]
    },
    {
     "name": "stdout",
     "output_type": "stream",
     "text": [
      "Epochs: 5/10 | train_loss: 1.4270 | train_acc: 0.7077\n"
     ]
    },
    {
     "name": "stderr",
     "output_type": "stream",
     "text": [
      "100%|██████████| 470/470 [01:06<00:00,  7.04it/s]\n"
     ]
    },
    {
     "name": "stdout",
     "output_type": "stream",
     "text": [
      "Epochs: 6/10 | train_loss: 1.2673 | train_acc: 0.7250\n"
     ]
    },
    {
     "name": "stderr",
     "output_type": "stream",
     "text": [
      "100%|██████████| 470/470 [01:06<00:00,  7.04it/s]\n"
     ]
    },
    {
     "name": "stdout",
     "output_type": "stream",
     "text": [
      "Epochs: 7/10 | train_loss: 1.1505 | train_acc: 0.7388\n"
     ]
    },
    {
     "name": "stderr",
     "output_type": "stream",
     "text": [
      "100%|██████████| 470/470 [01:06<00:00,  7.04it/s]\n"
     ]
    },
    {
     "name": "stdout",
     "output_type": "stream",
     "text": [
      "Epochs: 8/10 | train_loss: 1.0614 | train_acc: 0.7521\n"
     ]
    },
    {
     "name": "stderr",
     "output_type": "stream",
     "text": [
      "100%|██████████| 470/470 [01:06<00:00,  7.02it/s]\n"
     ]
    },
    {
     "name": "stdout",
     "output_type": "stream",
     "text": [
      "Epochs: 9/10 | train_loss: 0.9902 | train_acc: 0.7620\n"
     ]
    },
    {
     "name": "stderr",
     "output_type": "stream",
     "text": [
      "100%|██████████| 470/470 [01:06<00:00,  7.03it/s]"
     ]
    },
    {
     "name": "stdout",
     "output_type": "stream",
     "text": [
      "Epochs: 10/10 | train_loss: 0.9322 | train_acc: 0.7702\n"
     ]
    },
    {
     "name": "stderr",
     "output_type": "stream",
     "text": [
      "\n"
     ]
    }
   ],
   "source": [
    "dtd_loss, dtd_acc, dtd_per_class_acc = train_model(\n",
    "    deit_dtd,\n",
    "    dtd_train,\n",
    "    config,\n",
    "    'deit',\n",
    "    use_val=False,\n",
    "    fine_tune=False,\n",
    "    with_distillation=True,\n",
    "    teacher=teacher_dtd,\n",
    ")"
   ]
  },
  {
   "cell_type": "code",
   "execution_count": null,
   "id": "97a6a937-9c39-4f10-a27b-cf93ac3315f8",
   "metadata": {},
   "outputs": [
    {
     "name": "stderr",
     "output_type": "stream",
     "text": [
      "100%|██████████| 235/235 [00:25<00:00,  9.16it/s]"
     ]
    },
    {
     "name": "stdout",
     "output_type": "stream",
     "text": [
      "test_loss: 1.1436 | test_acc: 0.7149\n"
     ]
    },
    {
     "name": "stderr",
     "output_type": "stream",
     "text": [
      "\n"
     ]
    }
   ],
   "source": [
    "dtd_loss, dtd_acc, dtd_per_class_acc = evaluate_model(\n",
    "    deit_dtd,\n",
    "    dtd_test,\n",
    "    config\n",
    ")"
   ]
  },
  {
   "cell_type": "code",
   "execution_count": null,
   "id": "ac0707c4-f897-40fd-bc5a-db9a97e120e1",
   "metadata": {},
   "outputs": [],
   "source": [
    "dtd_accs.append(dtd_acc)"
   ]
  },
  {
   "cell_type": "code",
   "execution_count": null,
   "id": "69376f22-46cd-443f-aea7-c4ab1664ec4e",
   "metadata": {},
   "outputs": [
    {
     "data": {
      "text/plain": [
       "[('crystalline', 0.95),\n",
       " ('knitted', 0.95),\n",
       " ('cobwebbed', 0.925),\n",
       " ('banded', 0.9),\n",
       " ('chequered', 0.9)]"
      ]
     },
     "execution_count": 81,
     "metadata": {},
     "output_type": "execute_result"
    }
   ],
   "source": [
    "get_top_5_accuracies(dtd_per_class_acc)"
   ]
  },
  {
   "cell_type": "code",
   "execution_count": null,
   "id": "1d1d0846-38f6-47c9-9648-204c1724dcb2",
   "metadata": {},
   "outputs": [
    {
     "data": {
      "text/plain": [
       "[('pitted', 0.3),\n",
       " ('blotchy', 0.35),\n",
       " ('stained', 0.45),\n",
       " ('woven', 0.475),\n",
       " ('porous', 0.5)]"
      ]
     },
     "execution_count": 82,
     "metadata": {},
     "output_type": "execute_result"
    }
   ],
   "source": [
    "get_bottom_5_accuracies(dtd_per_class_acc)"
   ]
  },
  {
   "cell_type": "code",
   "execution_count": null,
   "id": "e439f1d9-5b2f-4c9e-b4ba-60661674d540",
   "metadata": {},
   "outputs": [
    {
     "data": {
      "image/png": "[encoded data removed]",
      "text/plain": [
       "<Figure size 1000x600 with 1 Axes>"
      ]
     },
     "metadata": {},
     "output_type": "display_data"
    }
   ],
   "source": [
    "plot_per_class_accuracies(\n",
    "    dtd_per_class_acc,\n",
    "    'DTD',\n",
    "    num_bins=20\n",
    ")"
   ]
  },
  {
   "cell_type": "markdown",
   "id": "a163a182-bbd6-41b8-8a2c-9f8646512d7b",
   "metadata": {},
   "source": [
    "### Results"
   ]
  },
  {
   "cell_type": "markdown",
   "id": "e85011f4-8072-4569-91a3-41ea18a5bf38",
   "metadata": {},
   "source": [
    "Display the results of the analysis in dataframe."
   ]
  },
  {
   "cell_type": "code",
   "execution_count": null,
   "id": "187e9a38-26b1-4057-8801-563a5df82909",
   "metadata": {},
   "outputs": [],
   "source": [
    "results = [\n",
    "    resisc45_accs,\n",
    "    food101_accs,\n",
    "    fer2013_accs,\n",
    "    pcam_accs,\n",
    "    sun397_accs,\n",
    "    dtd_accs,\n",
    "]"
   ]
  },
  {
   "cell_type": "code",
   "execution_count": null,
   "id": "df2be8ba-934d-4297-887d-4ac062bd432a",
   "metadata": {},
   "outputs": [],
   "source": [
    "labels = ['RESISC45', 'Food-101', 'FER2013', 'PatchCamelyon', 'SUN397', 'DTD']"
   ]
  },
  {
   "cell_type": "code",
   "execution_count": null,
   "id": "8a7e4051-5df7-4cfb-bd85-b61b4ef7d62a",
   "metadata": {},
   "outputs": [],
   "source": [
    "acc_dict = create_accuracy_dict(\n",
    "    results,\n",
    "    labels\n",
    ")"
   ]
  },
  {
   "cell_type": "code",
   "execution_count": null,
   "id": "8246a56c-e386-4dcf-8b66-a233f7918938",
   "metadata": {},
   "outputs": [
    {
     "data": {
      "text/html": [
       "<div>\n",
       "<style scoped>\n",
       "    .dataframe tbody tr th:only-of-type {\n",
       "        vertical-align: middle;\n",
       "    }\n",
       "\n",
       "    .dataframe tbody tr th {\n",
       "        vertical-align: top;\n",
       "    }\n",
       "\n",
       "    .dataframe thead th {\n",
       "        text-align: right;\n",
       "    }\n",
       "</style>\n",
       "<table border=\"1\" class=\"dataframe\">\n",
       "  <thead>\n",
       "    <tr style=\"text-align: right;\">\n",
       "      <th></th>\n",
       "      <th>linear probe</th>\n",
       "    </tr>\n",
       "  </thead>\n",
       "  <tbody>\n",
       "    <tr>\n",
       "      <th>RESISC45</th>\n",
       "      <td>0.886667</td>\n",
       "    </tr>\n",
       "    <tr>\n",
       "      <th>Food-101</th>\n",
       "      <td>0.786297</td>\n",
       "    </tr>\n",
       "    <tr>\n",
       "      <th>FER2013</th>\n",
       "      <td>0.527445</td>\n",
       "    </tr>\n",
       "    <tr>\n",
       "      <th>PatchCamelyon</th>\n",
       "      <td>0.832336</td>\n",
       "    </tr>\n",
       "    <tr>\n",
       "      <th>SUN397</th>\n",
       "      <td>0.726851</td>\n",
       "    </tr>\n",
       "    <tr>\n",
       "      <th>DTD</th>\n",
       "      <td>0.714894</td>\n",
       "    </tr>\n",
       "  </tbody>\n",
       "</table>\n",
       "</div>"
      ],
      "text/plain": [
       "               linear probe\n",
       "RESISC45           0.886667\n",
       "Food-101           0.786297\n",
       "FER2013            0.527445\n",
       "PatchCamelyon      0.832336\n",
       "SUN397             0.726851\n",
       "DTD                0.714894"
      ]
     },
     "execution_count": 87,
     "metadata": {},
     "output_type": "execute_result"
    }
   ],
   "source": [
    "df = pd.DataFrame(results, columns=['linear probe'], index=labels)\n",
    "df"
   ]
  }
 ],
 "metadata": {
  "kernelspec": {
   "display_name": "Python 3 (ipykernel)",
   "language": "python",
   "name": "python3"
  },
  "language_info": {
   "codemirror_mode": {
    "name": "ipython",
    "version": 3
   },
   "file_extension": ".py",
   "mimetype": "text/x-python",
   "name": "python",
   "nbconvert_exporter": "python",
   "pygments_lexer": "ipython3",
   "version": "3.10.12"
  }
 },
 "nbformat": 4,
 "nbformat_minor": 5
}
