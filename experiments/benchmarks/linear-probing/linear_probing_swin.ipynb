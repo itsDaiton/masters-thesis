{
 "cells": [
  {
   "cell_type": "markdown",
   "id": "22029240-8173-476f-a935-e793e203ab43",
   "metadata": {},
   "source": [
    "# Exploration and Comparison of Transformers for Image Classification"
   ]
  },
  {
   "cell_type": "markdown",
   "id": "fcb7fc41-efc8-4ee0-925e-8130dae98c05",
   "metadata": {},
   "source": [
    "## Linear Probing using Swin Transformer (Swin)"
   ]
  },
  {
   "cell_type": "markdown",
   "id": "2c4f1ce3-2e5f-458c-982e-cda4186420d4",
   "metadata": {},
   "source": [
    "Linear probing is an experiment that involves training a linear classifier on top of pre-trained frozen features of the model.\n",
    "\n",
    "In this experiment, the whole training set is used."
   ]
  },
  {
   "cell_type": "markdown",
   "id": "66620b2e-b5db-4e64-be5d-76d1805f2b2a",
   "metadata": {},
   "source": [
    "### Swin Transformer (Swin)"
   ]
  },
  {
   "cell_type": "markdown",
   "id": "d4dc844d-b843-458d-b281-7b8eff332c48",
   "metadata": {},
   "source": [
    "Swin Transformer model trained on ImageNet-1k at resolution 224x224. It was introduced in the paper *Swin Transformer: Hierarchical Vision Transformer using Shifted Windows by Liu et al.*\n",
    "\n",
    "https://arxiv.org/abs/2103.14030"
   ]
  },
  {
   "cell_type": "markdown",
   "id": "771d783b-308b-401d-8742-76c1179c49b4",
   "metadata": {},
   "source": [
    "### Prerequisites"
   ]
  },
  {
   "cell_type": "markdown",
   "id": "8cfe4de0-ba8d-40a9-a85f-6cb41dd0d335",
   "metadata": {},
   "source": [
    "Load necessary packages."
   ]
  },
  {
   "cell_type": "code",
   "execution_count": 2,
   "id": "2497e5e7-475e-4fd7-913a-36cbbd3e8b74",
   "metadata": {},
   "outputs": [],
   "source": [
    "import os\n",
    "os.chdir('../../../')\n",
    "\n",
    "import torch\n",
    "\n",
    "import pandas as pd\n",
    "\n",
    "from datasets import load_dataset\n",
    "\n",
    "from src.dataset_builder import ImageDataset\n",
    "from src.models import *\n",
    "from src.train import *\n",
    "\n",
    "from utils.config import Config\n",
    "from utils.train_utils import *\n",
    "from utils.models_utils import *\n",
    "from utils.visualization_utils import *\n",
    "from utils.data_utils import *"
   ]
  },
  {
   "cell_type": "markdown",
   "id": "5ebe117a-bd72-4302-acb8-2af9e338ba5d",
   "metadata": {},
   "source": [
    "Check if there is GPU available."
   ]
  },
  {
   "cell_type": "code",
   "execution_count": 2,
   "id": "e9b14f94-5537-485e-abe1-128c433f6737",
   "metadata": {},
   "outputs": [
    {
     "name": "stdout",
     "output_type": "stream",
     "text": [
      "GPU 0: NVIDIA A100 80GB PCIe MIG 2g.20gb\n",
      "VRAM: 19.50 GB\n"
     ]
    }
   ],
   "source": [
    "get_gpu_info()"
   ]
  },
  {
   "cell_type": "markdown",
   "id": "cc7df4b1-71e8-4264-a131-0013d8ced64b",
   "metadata": {},
   "source": [
    "Set manual seed for reproducibility."
   ]
  },
  {
   "cell_type": "code",
   "execution_count": 3,
   "id": "1b512368-db51-46aa-bc7d-ef5c22fb1e8b",
   "metadata": {},
   "outputs": [
    {
     "data": {
      "text/plain": [
       "<torch._C.Generator at 0x7f76e9d5a350>"
      ]
     },
     "execution_count": 3,
     "metadata": {},
     "output_type": "execute_result"
    }
   ],
   "source": [
    "id = 10\n",
    "torch.manual_seed(10)"
   ]
  },
  {
   "cell_type": "markdown",
   "id": "1409290d-376b-4eb0-b926-bb533d21364f",
   "metadata": {},
   "source": [
    "Load Swin image processor used for image pre-processing."
   ]
  },
  {
   "cell_type": "code",
   "execution_count": 4,
   "id": "137faca7-e691-48ff-97e1-8a0f4211c80e",
   "metadata": {},
   "outputs": [],
   "source": [
    "processor = get_backbone_processor(model_names['Swin'])"
   ]
  },
  {
   "cell_type": "markdown",
   "id": "e1e47d96-cd90-4227-806b-3cdb2e604a50",
   "metadata": {},
   "source": [
    "Print the pre-processing operations done by the processor."
   ]
  },
  {
   "cell_type": "code",
   "execution_count": 5,
   "id": "2f200acb-631a-4502-ae46-8cf476c02713",
   "metadata": {},
   "outputs": [
    {
     "data": {
      "text/plain": [
       "ViTImageProcessor {\n",
       "  \"do_normalize\": true,\n",
       "  \"do_rescale\": true,\n",
       "  \"do_resize\": true,\n",
       "  \"image_mean\": [\n",
       "    0.485,\n",
       "    0.456,\n",
       "    0.406\n",
       "  ],\n",
       "  \"image_processor_type\": \"ViTImageProcessor\",\n",
       "  \"image_std\": [\n",
       "    0.229,\n",
       "    0.224,\n",
       "    0.225\n",
       "  ],\n",
       "  \"resample\": 3,\n",
       "  \"rescale_factor\": 0.00392156862745098,\n",
       "  \"size\": {\n",
       "    \"height\": 224,\n",
       "    \"width\": 224\n",
       "  }\n",
       "}"
      ]
     },
     "execution_count": 5,
     "metadata": {},
     "output_type": "execute_result"
    }
   ],
   "source": [
    "processor"
   ]
  },
  {
   "cell_type": "markdown",
   "id": "f25447f6-f11e-4131-9623-09698dbb67d7",
   "metadata": {
    "jp-MarkdownHeadingCollapsed": true
   },
   "source": [
    "### Data Preprocessing"
   ]
  },
  {
   "cell_type": "markdown",
   "id": "ea0b7222-e192-4a7c-acb7-56b0433a7aae",
   "metadata": {},
   "source": [
    "Load each dataset and its splits.\n",
    "\n",
    "Processor is automatically applied to each image."
   ]
  },
  {
   "cell_type": "markdown",
   "id": "99e2b5ff-9586-4917-a24c-3bd93593269e",
   "metadata": {},
   "source": [
    "#### RESISC45"
   ]
  },
  {
   "cell_type": "code",
   "execution_count": 7,
   "id": "6bbedffd-6394-4a1d-b502-88a726b98273",
   "metadata": {},
   "outputs": [],
   "source": [
    "resisc45 = load_dataset('timm/resisc45')\n",
    "clean_labels(resisc45, name='resisc45')\n",
    "resisc45_train = ImageDataset(\n",
    "    dataset=resisc45['train'],\n",
    "    processor=processor,\n",
    ")\n",
    "resisc45_validation = ImageDataset(\n",
    "    dataset=resisc45['validation'],\n",
    "    processor=processor,\n",
    ")\n",
    "resisc45_test = ImageDataset(\n",
    "    dataset=resisc45['test'],\n",
    "    processor=processor,\n",
    ")"
   ]
  },
  {
   "cell_type": "markdown",
   "id": "f579c494-89a8-4eb8-8c7a-5b292475bbad",
   "metadata": {},
   "source": [
    "#### Food-101"
   ]
  },
  {
   "cell_type": "code",
   "execution_count": 9,
   "id": "c4125475-fc23-4de4-a027-9276acfe4c41",
   "metadata": {},
   "outputs": [],
   "source": [
    "food101 = load_dataset('ethz/food101')\n",
    "clean_labels(food101, name='food101')\n",
    "food101_train = ImageDataset(\n",
    "    dataset=food101['train'],\n",
    "    processor=processor,\n",
    ")\n",
    "food101_validation = ImageDataset(\n",
    "    dataset=food101['validation'],\n",
    "    processor=processor,\n",
    ")"
   ]
  },
  {
   "cell_type": "markdown",
   "id": "aa696bc7-cf77-422d-b8b5-aa6d4ba36ecb",
   "metadata": {},
   "source": [
    "#### FER2013"
   ]
  },
  {
   "cell_type": "code",
   "execution_count": 11,
   "id": "ab5359eb-d83f-4f4a-8781-a3c51db8d14e",
   "metadata": {},
   "outputs": [],
   "source": [
    "fer2013 = load_dataset('AutumnQiu/fer2013')\n",
    "clean_labels(fer2013, name='fer2013')\n",
    "fer2013_train = ImageDataset(\n",
    "    dataset=fer2013['train'],\n",
    "    processor=processor,\n",
    ")\n",
    "fer2013_validation = ImageDataset(\n",
    "    dataset=fer2013['valid'],\n",
    "    processor=processor,\n",
    ")\n",
    "fer2013_test = ImageDataset(\n",
    "    dataset=fer2013['test'],\n",
    "    processor=processor,\n",
    ")"
   ]
  },
  {
   "cell_type": "markdown",
   "id": "00be0e0d-d98d-4f23-8354-8c7926da351b",
   "metadata": {},
   "source": [
    "#### PCam"
   ]
  },
  {
   "cell_type": "code",
   "execution_count": 13,
   "id": "a77d5802-a948-4f45-9382-5f47dc26f3f6",
   "metadata": {},
   "outputs": [],
   "source": [
    "pcam = load_dataset('zacharielegault/PatchCamelyon')\n",
    "clean_labels(pcam, name='pcam')\n",
    "pcam_train = ImageDataset(\n",
    "    dataset=pcam['train'],\n",
    "    processor=processor,\n",
    ")\n",
    "pcam_validation = ImageDataset(\n",
    "    dataset=pcam['validation'],\n",
    "    processor=processor,\n",
    ")\n",
    "pcam_test = ImageDataset(\n",
    "    dataset=pcam['test'],\n",
    "    processor=processor,\n",
    ")"
   ]
  },
  {
   "cell_type": "markdown",
   "id": "90851566-5ed0-4092-9de9-df1351eb9044",
   "metadata": {},
   "source": [
    "#### SUN397"
   ]
  },
  {
   "cell_type": "code",
   "execution_count": 15,
   "id": "e6174b7e-4b97-4b43-a6b2-57287060d6b5",
   "metadata": {},
   "outputs": [
    {
     "data": {
      "application/vnd.jupyter.widget-view+json": {
       "model_id": "3f44b1adc3464381bdf3c3cba85a40df",
       "version_major": 2,
       "version_minor": 0
      },
      "text/plain": [
       "Resolving data files:   0%|          | 0/28 [00:00<?, ?it/s]"
      ]
     },
     "metadata": {},
     "output_type": "display_data"
    },
    {
     "data": {
      "application/vnd.jupyter.widget-view+json": {
       "model_id": "bada37e1772b4f03a60d72c9002aba3b",
       "version_major": 2,
       "version_minor": 0
      },
      "text/plain": [
       "Resolving data files:   0%|          | 0/28 [00:00<?, ?it/s]"
      ]
     },
     "metadata": {},
     "output_type": "display_data"
    },
    {
     "data": {
      "application/vnd.jupyter.widget-view+json": {
       "model_id": "d29a692af9994d12bd1431f8a4733daf",
       "version_major": 2,
       "version_minor": 0
      },
      "text/plain": [
       "Loading dataset shards:   0%|          | 0/28 [00:00<?, ?it/s]"
      ]
     },
     "metadata": {},
     "output_type": "display_data"
    }
   ],
   "source": [
    "sun397 = load_dataset('dpdl-benchmark/sun397')\n",
    "clean_labels(sun397, name='sun397')\n",
    "sun397_train = ImageDataset(\n",
    "    dataset=sun397['train'],\n",
    "    processor=processor,\n",
    ")\n",
    "sun397_validation = ImageDataset(\n",
    "    dataset=sun397['validation'],\n",
    "    processor=processor,\n",
    ")\n",
    "sun397_test = ImageDataset(\n",
    "    dataset=sun397['test'],\n",
    "    processor=processor,\n",
    ")"
   ]
  },
  {
   "cell_type": "markdown",
   "id": "e46e6787-13e6-4353-98f4-b72b7e30cff8",
   "metadata": {},
   "source": [
    "#### DTD"
   ]
  },
  {
   "cell_type": "code",
   "execution_count": 17,
   "id": "47ad6f60-2240-4d21-b8a5-2d32bb770e14",
   "metadata": {},
   "outputs": [],
   "source": [
    "dtd = load_dataset('tanganke/dtd')\n",
    "clean_labels(dtd, name='dtd')\n",
    "dtd_train = ImageDataset(\n",
    "    dataset=dtd['train'],\n",
    "    processor=processor,\n",
    ")\n",
    "dtd_test = ImageDataset(\n",
    "    dataset=dtd['test'],\n",
    "    processor=processor,\n",
    ")"
   ]
  },
  {
   "cell_type": "markdown",
   "id": "d223a242-8f88-4025-990d-3f41b6866b0e",
   "metadata": {},
   "source": [
    "### Config"
   ]
  },
  {
   "cell_type": "markdown",
   "id": "a58d18e1-e2fd-4f41-ae8c-68f3b2799e9f",
   "metadata": {},
   "source": [
    "Create a config for the experiments and print its settings."
   ]
  },
  {
   "cell_type": "code",
   "execution_count": 3,
   "id": "4737afbb-8aab-40d0-a49d-8ba7bbc3d1d4",
   "metadata": {},
   "outputs": [
    {
     "data": {
      "text/plain": [
       "{'device': 'cuda',\n",
       " 'criterion': CrossEntropyLoss(),\n",
       " 'batch_size': 8,\n",
       " 'lr': 0.0001,\n",
       " 'num_epochs': 10,\n",
       " 'optimizer': torch.optim.adamw.AdamW,\n",
       " 'weight_decay': 0,\n",
       " 'dropout_rate': 0.1,\n",
       " 'early_stopping': {'enabled': False, 'patience': 3, 'delta': 0},\n",
       " 'gradient_clipping': {'enabled': False, 'max_norm': 0},\n",
       " 'scheduler': {'enabled': False,\n",
       "  'warmup_epochs': 0,\n",
       "  'eta_min': 0,\n",
       "  'linear_start_factor': 0.1,\n",
       "  'linear_end_factor': 1.0}}"
      ]
     },
     "execution_count": 3,
     "metadata": {},
     "output_type": "execute_result"
    }
   ],
   "source": [
    "from torch.optim import AdamW\n",
    "\n",
    "config = Config(\n",
    "    num_epochs=10, \n",
    "    lr=1e-4,\n",
    "    optimizer=AdamW,\n",
    "    weight_decay=0\n",
    ")\n",
    "config.get_settings()"
   ]
  },
  {
   "cell_type": "markdown",
   "id": "4cadb2d2-e7b2-49b2-922b-b28aaad1d784",
   "metadata": {},
   "source": [
    "Create empty arrays to store accuracies for each dataset."
   ]
  },
  {
   "cell_type": "code",
   "execution_count": 19,
   "id": "48fb8d03-6e0e-4f8e-a9e1-4c668e8c2886",
   "metadata": {},
   "outputs": [],
   "source": [
    "resisc45_accs = []\n",
    "food101_accs = []\n",
    "fer2013_accs = []\n",
    "pcam_accs = []\n",
    "sun397_accs = []\n",
    "dtd_accs = []"
   ]
  },
  {
   "cell_type": "markdown",
   "id": "cb4bf859-94d2-41d0-a52d-1262a8a7df98",
   "metadata": {},
   "source": [
    "### Linear Probing\n"
   ]
  },
  {
   "cell_type": "markdown",
   "id": "eec9a894-daf5-4e22-9e7f-ccffc3e231ce",
   "metadata": {},
   "source": [
    "Train a new linear classifier on top of the pre-trained frozen model base."
   ]
  },
  {
   "cell_type": "markdown",
   "id": "baee4576-a479-4f39-9b16-52ea6623c52d",
   "metadata": {},
   "source": [
    "#### RESISC45"
   ]
  },
  {
   "cell_type": "code",
   "execution_count": 20,
   "id": "f903ac0f-8e0f-4b9e-ab7b-34728cae7c02",
   "metadata": {},
   "outputs": [
    {
     "name": "stderr",
     "output_type": "stream",
     "text": [
      "Some weights of SwinForImageClassification were not initialized from the model checkpoint at microsoft/swin-base-patch4-window7-224 and are newly initialized because the shapes did not match:\n",
      "- classifier.bias: found shape torch.Size([1000]) in the checkpoint and torch.Size([45]) in the model instantiated\n",
      "- classifier.weight: found shape torch.Size([1000, 1024]) in the checkpoint and torch.Size([45, 1024]) in the model instantiated\n",
      "You should probably TRAIN this model on a down-stream task to be able to use it for predictions and inference.\n"
     ]
    }
   ],
   "source": [
    "swin_resisc45 = Backbone(model_names['Swin'], num_classes=len(resisc45_train.get_labels()))"
   ]
  },
  {
   "cell_type": "code",
   "execution_count": 21,
   "id": "317d3558-f00b-4100-a17b-e4316653c01c",
   "metadata": {},
   "outputs": [
    {
     "name": "stdout",
     "output_type": "stream",
     "text": [
      "Parameters: 86.79M\n"
     ]
    }
   ],
   "source": [
    "get_model_params(swin_resisc45)"
   ]
  },
  {
   "cell_type": "code",
   "execution_count": 22,
   "id": "0dbdde30-69fe-41a0-92d4-4bbe8c24d6c7",
   "metadata": {},
   "outputs": [
    {
     "name": "stderr",
     "output_type": "stream",
     "text": [
      "100%|██████████| 2363/2363 [04:01<00:00,  9.78it/s]\n"
     ]
    },
    {
     "name": "stdout",
     "output_type": "stream",
     "text": [
      "Epochs: 1/10 | train_loss: 1.6352 | train_acc: 0.6690\n"
     ]
    },
    {
     "name": "stderr",
     "output_type": "stream",
     "text": [
      "100%|██████████| 2363/2363 [03:59<00:00,  9.86it/s]\n"
     ]
    },
    {
     "name": "stdout",
     "output_type": "stream",
     "text": [
      "Epochs: 2/10 | train_loss: 0.7471 | train_acc: 0.8185\n"
     ]
    },
    {
     "name": "stderr",
     "output_type": "stream",
     "text": [
      "100%|██████████| 2363/2363 [04:00<00:00,  9.83it/s]\n"
     ]
    },
    {
     "name": "stdout",
     "output_type": "stream",
     "text": [
      "Epochs: 3/10 | train_loss: 0.5813 | train_acc: 0.8474\n"
     ]
    },
    {
     "name": "stderr",
     "output_type": "stream",
     "text": [
      "100%|██████████| 2363/2363 [04:00<00:00,  9.84it/s]\n"
     ]
    },
    {
     "name": "stdout",
     "output_type": "stream",
     "text": [
      "Epochs: 4/10 | train_loss: 0.4964 | train_acc: 0.8679\n"
     ]
    },
    {
     "name": "stderr",
     "output_type": "stream",
     "text": [
      "100%|██████████| 2363/2363 [04:00<00:00,  9.84it/s]\n"
     ]
    },
    {
     "name": "stdout",
     "output_type": "stream",
     "text": [
      "Epochs: 5/10 | train_loss: 0.4417 | train_acc: 0.8794\n"
     ]
    },
    {
     "name": "stderr",
     "output_type": "stream",
     "text": [
      "100%|██████████| 2363/2363 [04:01<00:00,  9.79it/s]\n"
     ]
    },
    {
     "name": "stdout",
     "output_type": "stream",
     "text": [
      "Epochs: 6/10 | train_loss: 0.4042 | train_acc: 0.8878\n"
     ]
    },
    {
     "name": "stderr",
     "output_type": "stream",
     "text": [
      "100%|██████████| 2363/2363 [04:02<00:00,  9.76it/s]\n"
     ]
    },
    {
     "name": "stdout",
     "output_type": "stream",
     "text": [
      "Epochs: 7/10 | train_loss: 0.3740 | train_acc: 0.8937\n"
     ]
    },
    {
     "name": "stderr",
     "output_type": "stream",
     "text": [
      "100%|██████████| 2363/2363 [04:02<00:00,  9.73it/s]\n"
     ]
    },
    {
     "name": "stdout",
     "output_type": "stream",
     "text": [
      "Epochs: 8/10 | train_loss: 0.3510 | train_acc: 0.9015\n"
     ]
    },
    {
     "name": "stderr",
     "output_type": "stream",
     "text": [
      "100%|██████████| 2363/2363 [04:00<00:00,  9.84it/s]\n"
     ]
    },
    {
     "name": "stdout",
     "output_type": "stream",
     "text": [
      "Epochs: 9/10 | train_loss: 0.3324 | train_acc: 0.9060\n"
     ]
    },
    {
     "name": "stderr",
     "output_type": "stream",
     "text": [
      "100%|██████████| 2363/2363 [04:01<00:00,  9.79it/s]"
     ]
    },
    {
     "name": "stdout",
     "output_type": "stream",
     "text": [
      "Epochs: 10/10 | train_loss: 0.3145 | train_acc: 0.9095\n"
     ]
    },
    {
     "name": "stderr",
     "output_type": "stream",
     "text": [
      "\n"
     ]
    }
   ],
   "source": [
    "resisc45_loss, resisc45_acc, resisc45_per_class_acc = train_model(\n",
    "    swin_resisc45,\n",
    "    resisc45_train,\n",
    "    config,\n",
    "    'swin',\n",
    "    use_val=False,\n",
    "    fine_tune=False,\n",
    ")"
   ]
  },
  {
   "cell_type": "code",
   "execution_count": 23,
   "id": "7c799a30-5c03-44e1-8323-c25f4e8760ee",
   "metadata": {},
   "outputs": [
    {
     "name": "stderr",
     "output_type": "stream",
     "text": [
      "100%|██████████| 788/788 [01:19<00:00,  9.85it/s]"
     ]
    },
    {
     "name": "stdout",
     "output_type": "stream",
     "text": [
      "test_loss: 0.3677 | test_acc: 0.8854\n"
     ]
    },
    {
     "name": "stderr",
     "output_type": "stream",
     "text": [
      "\n"
     ]
    }
   ],
   "source": [
    "resisc45_loss, resisc45_acc, resisc45_per_class_acc = evaluate_model(\n",
    "    swin_resisc45,\n",
    "    resisc45_test,\n",
    "    config\n",
    ")"
   ]
  },
  {
   "cell_type": "code",
   "execution_count": 24,
   "id": "3e2e5a5e-fb90-470e-b9eb-36908a51337c",
   "metadata": {},
   "outputs": [],
   "source": [
    "resisc45_accs.append(resisc45_acc)"
   ]
  },
  {
   "cell_type": "code",
   "execution_count": 25,
   "id": "9adafef3-33e4-4bef-b5db-3b3b4a612b4d",
   "metadata": {},
   "outputs": [
    {
     "data": {
      "text/plain": [
       "[('snowberg', 0.9748427672955975),\n",
       " ('sea ice', 0.9735099337748344),\n",
       " ('circular farmland', 0.9726027397260274),\n",
       " ('airplane', 0.9704142011834319),\n",
       " ('ship', 0.9703703703703703)]"
      ]
     },
     "execution_count": 25,
     "metadata": {},
     "output_type": "execute_result"
    }
   ],
   "source": [
    "get_top_5_accuracies(resisc45_per_class_acc)"
   ]
  },
  {
   "cell_type": "code",
   "execution_count": 26,
   "id": "af397207-10e1-43e7-be5a-09d76453f83e",
   "metadata": {},
   "outputs": [
    {
     "data": {
      "text/plain": [
       "[('palace', 0.6214285714285714),\n",
       " ('basketball court', 0.6716417910447762),\n",
       " ('intersection', 0.7538461538461538),\n",
       " ('commercial area', 0.7571428571428571),\n",
       " ('tennis court', 0.7708333333333334)]"
      ]
     },
     "execution_count": 26,
     "metadata": {},
     "output_type": "execute_result"
    }
   ],
   "source": [
    "get_bottom_5_accuracies(resisc45_per_class_acc)"
   ]
  },
  {
   "cell_type": "code",
   "execution_count": 27,
   "id": "69e0bdd9-c94d-4ef3-a914-bc4cedf25fb3",
   "metadata": {},
   "outputs": [
    {
     "data": {
      "image/png": "[encoded data removed]",
      "text/plain": [
       "<Figure size 1000x600 with 1 Axes>"
      ]
     },
     "metadata": {},
     "output_type": "display_data"
    }
   ],
   "source": [
    "plot_per_class_accuracies(\n",
    "    resisc45_per_class_acc,\n",
    "    'RESISC45',\n",
    "    num_bins=20\n",
    ")"
   ]
  },
  {
   "cell_type": "markdown",
   "id": "fe3c4b5f-1503-4c5e-986f-74e478b4b9be",
   "metadata": {},
   "source": [
    "#### Food-101"
   ]
  },
  {
   "cell_type": "code",
   "execution_count": 28,
   "id": "09e326fb-98b2-4be6-b8e7-a2f6795a9938",
   "metadata": {},
   "outputs": [
    {
     "name": "stderr",
     "output_type": "stream",
     "text": [
      "Some weights of SwinForImageClassification were not initialized from the model checkpoint at microsoft/swin-base-patch4-window7-224 and are newly initialized because the shapes did not match:\n",
      "- classifier.bias: found shape torch.Size([1000]) in the checkpoint and torch.Size([101]) in the model instantiated\n",
      "- classifier.weight: found shape torch.Size([1000, 1024]) in the checkpoint and torch.Size([101, 1024]) in the model instantiated\n",
      "You should probably TRAIN this model on a down-stream task to be able to use it for predictions and inference.\n"
     ]
    }
   ],
   "source": [
    "swin_food101 = Backbone(model_names['Swin'], num_classes=len(food101_train.get_labels()))"
   ]
  },
  {
   "cell_type": "code",
   "execution_count": 29,
   "id": "7c72e21c-5156-4f45-aad0-45861117e5bf",
   "metadata": {},
   "outputs": [
    {
     "name": "stdout",
     "output_type": "stream",
     "text": [
      "Parameters: 86.85M\n"
     ]
    }
   ],
   "source": [
    "get_model_params(swin_food101)"
   ]
  },
  {
   "cell_type": "code",
   "execution_count": 30,
   "id": "96573b52-e953-442a-b7d1-f89dcb5fc690",
   "metadata": {
    "editable": true,
    "slideshow": {
     "slide_type": ""
    },
    "tags": []
   },
   "outputs": [
    {
     "name": "stderr",
     "output_type": "stream",
     "text": [
      " 73%|███████▎  | 6955/9469 [13:40<04:59,  8.39it/s]/opt/conda/lib/python3.11/site-packages/PIL/TiffImagePlugin.py:900: UserWarning: Truncated File Read\n",
      "  warnings.warn(str(msg))\n",
      "100%|██████████| 9469/9469 [18:34<00:00,  8.49it/s]\n"
     ]
    },
    {
     "name": "stdout",
     "output_type": "stream",
     "text": [
      "Epochs: 1/10 | train_loss: 1.2591 | train_acc: 0.7394\n"
     ]
    },
    {
     "name": "stderr",
     "output_type": "stream",
     "text": [
      "100%|██████████| 9469/9469 [18:30<00:00,  8.52it/s]\n"
     ]
    },
    {
     "name": "stdout",
     "output_type": "stream",
     "text": [
      "Epochs: 2/10 | train_loss: 0.6756 | train_acc: 0.8215\n"
     ]
    },
    {
     "name": "stderr",
     "output_type": "stream",
     "text": [
      "100%|██████████| 9469/9469 [18:29<00:00,  8.53it/s]\n"
     ]
    },
    {
     "name": "stdout",
     "output_type": "stream",
     "text": [
      "Epochs: 3/10 | train_loss: 0.5943 | train_acc: 0.8406\n"
     ]
    },
    {
     "name": "stderr",
     "output_type": "stream",
     "text": [
      "100%|██████████| 9469/9469 [18:30<00:00,  8.52it/s]\n"
     ]
    },
    {
     "name": "stdout",
     "output_type": "stream",
     "text": [
      "Epochs: 4/10 | train_loss: 0.5494 | train_acc: 0.8523\n"
     ]
    },
    {
     "name": "stderr",
     "output_type": "stream",
     "text": [
      "100%|██████████| 9469/9469 [18:30<00:00,  8.53it/s]\n"
     ]
    },
    {
     "name": "stdout",
     "output_type": "stream",
     "text": [
      "Epochs: 5/10 | train_loss: 0.5183 | train_acc: 0.8604\n"
     ]
    },
    {
     "name": "stderr",
     "output_type": "stream",
     "text": [
      "100%|██████████| 9469/9469 [18:31<00:00,  8.52it/s]\n"
     ]
    },
    {
     "name": "stdout",
     "output_type": "stream",
     "text": [
      "Epochs: 6/10 | train_loss: 0.4916 | train_acc: 0.8661\n"
     ]
    },
    {
     "name": "stderr",
     "output_type": "stream",
     "text": [
      "100%|██████████| 9469/9469 [18:31<00:00,  8.52it/s]\n"
     ]
    },
    {
     "name": "stdout",
     "output_type": "stream",
     "text": [
      "Epochs: 7/10 | train_loss: 0.4717 | train_acc: 0.8722\n"
     ]
    },
    {
     "name": "stderr",
     "output_type": "stream",
     "text": [
      "100%|██████████| 9469/9469 [18:29<00:00,  8.53it/s]\n"
     ]
    },
    {
     "name": "stdout",
     "output_type": "stream",
     "text": [
      "Epochs: 8/10 | train_loss: 0.4554 | train_acc: 0.8761\n"
     ]
    },
    {
     "name": "stderr",
     "output_type": "stream",
     "text": [
      "100%|██████████| 9469/9469 [18:29<00:00,  8.53it/s]\n"
     ]
    },
    {
     "name": "stdout",
     "output_type": "stream",
     "text": [
      "Epochs: 9/10 | train_loss: 0.4411 | train_acc: 0.8792\n"
     ]
    },
    {
     "name": "stderr",
     "output_type": "stream",
     "text": [
      "100%|██████████| 9469/9469 [18:29<00:00,  8.53it/s]\n"
     ]
    },
    {
     "name": "stdout",
     "output_type": "stream",
     "text": [
      "Epochs: 10/10 | train_loss: 0.4288 | train_acc: 0.8829\n"
     ]
    }
   ],
   "source": [
    "food101_loss, food101_acc, food101_per_class_acc = train_model(\n",
    "    swin_food101,\n",
    "    food101_train,\n",
    "    config,\n",
    "    'swin',\n",
    "    use_val=False,\n",
    "    fine_tune=False,\n",
    ")"
   ]
  },
  {
   "cell_type": "code",
   "execution_count": 31,
   "id": "1310fde3-0a76-445b-ab97-257c9852d42d",
   "metadata": {},
   "outputs": [
    {
     "name": "stderr",
     "output_type": "stream",
     "text": [
      "100%|██████████| 3157/3157 [06:07<00:00,  8.60it/s]\n"
     ]
    },
    {
     "name": "stdout",
     "output_type": "stream",
     "text": [
      "test_loss: 0.3689 | test_acc: 0.8947\n"
     ]
    }
   ],
   "source": [
    "food101_loss, food101_acc, food101_per_class_acc = evaluate_model(\n",
    "    swin_food101,\n",
    "    food101_validation,\n",
    "    config\n",
    ")"
   ]
  },
  {
   "cell_type": "code",
   "execution_count": 32,
   "id": "5908b734-1567-4fe2-869b-29d823a24c95",
   "metadata": {},
   "outputs": [],
   "source": [
    "food101_accs.append(food101_acc)"
   ]
  },
  {
   "cell_type": "code",
   "execution_count": 33,
   "id": "583e61a3-72e3-4dc3-9584-e5f32a03bc9f",
   "metadata": {},
   "outputs": [
    {
     "data": {
      "text/plain": [
       "[('edamame', 0.992),\n",
       " ('guacamole', 0.992),\n",
       " ('oysters', 0.988),\n",
       " ('macarons', 0.972),\n",
       " ('spaghetti carbonara', 0.972)]"
      ]
     },
     "execution_count": 33,
     "metadata": {},
     "output_type": "execute_result"
    }
   ],
   "source": [
    "get_top_5_accuracies(food101_per_class_acc)"
   ]
  },
  {
   "cell_type": "code",
   "execution_count": 34,
   "id": "bf792307-5279-48ba-a249-2de82fd02477",
   "metadata": {},
   "outputs": [
    {
     "data": {
      "text/plain": [
       "[('steak', 0.416),\n",
       " ('pork chop', 0.696),\n",
       " ('cheesecake', 0.708),\n",
       " ('foie gras', 0.728),\n",
       " ('apple pie', 0.744)]"
      ]
     },
     "execution_count": 34,
     "metadata": {},
     "output_type": "execute_result"
    }
   ],
   "source": [
    "get_bottom_5_accuracies(food101_per_class_acc)"
   ]
  },
  {
   "cell_type": "code",
   "execution_count": 35,
   "id": "38e78b1e-3642-4490-a5ba-55e5cbf51dbb",
   "metadata": {},
   "outputs": [
    {
     "data": {
      "image/png": "[encoded data removed]",
      "text/plain": [
       "<Figure size 1000x600 with 1 Axes>"
      ]
     },
     "metadata": {},
     "output_type": "display_data"
    }
   ],
   "source": [
    "plot_per_class_accuracies(\n",
    "    food101_per_class_acc,\n",
    "    'Food-101',\n",
    "    num_bins=20\n",
    ")"
   ]
  },
  {
   "cell_type": "markdown",
   "id": "6dace74f-0fd6-4360-9ce9-d51ee108aca5",
   "metadata": {},
   "source": [
    "#### FER2013"
   ]
  },
  {
   "cell_type": "code",
   "execution_count": 36,
   "id": "4ccac894-0b8f-4175-a12e-fb9ef4aee800",
   "metadata": {},
   "outputs": [
    {
     "name": "stderr",
     "output_type": "stream",
     "text": [
      "Some weights of SwinForImageClassification were not initialized from the model checkpoint at microsoft/swin-base-patch4-window7-224 and are newly initialized because the shapes did not match:\n",
      "- classifier.bias: found shape torch.Size([1000]) in the checkpoint and torch.Size([7]) in the model instantiated\n",
      "- classifier.weight: found shape torch.Size([1000, 1024]) in the checkpoint and torch.Size([7, 1024]) in the model instantiated\n",
      "You should probably TRAIN this model on a down-stream task to be able to use it for predictions and inference.\n"
     ]
    }
   ],
   "source": [
    "swin_fer2013 = Backbone(model_names['Swin'], num_classes=len(fer2013_train.get_labels()))"
   ]
  },
  {
   "cell_type": "code",
   "execution_count": 37,
   "id": "8b8d37f9-c7d0-473d-b851-7083163e54f2",
   "metadata": {},
   "outputs": [
    {
     "name": "stdout",
     "output_type": "stream",
     "text": [
      "Parameters: 86.75M\n"
     ]
    }
   ],
   "source": [
    "get_model_params(swin_fer2013)"
   ]
  },
  {
   "cell_type": "code",
   "execution_count": 38,
   "id": "8b98beb2-14be-468c-af77-17d9070867dc",
   "metadata": {
    "editable": true,
    "slideshow": {
     "slide_type": ""
    },
    "tags": []
   },
   "outputs": [
    {
     "name": "stderr",
     "output_type": "stream",
     "text": [
      "100%|██████████| 3589/3589 [05:43<00:00, 10.46it/s]\n"
     ]
    },
    {
     "name": "stdout",
     "output_type": "stream",
     "text": [
      "Epochs: 1/10 | train_loss: 1.2934 | train_acc: 0.5199\n"
     ]
    },
    {
     "name": "stderr",
     "output_type": "stream",
     "text": [
      "100%|██████████| 3589/3589 [05:43<00:00, 10.46it/s]\n"
     ]
    },
    {
     "name": "stdout",
     "output_type": "stream",
     "text": [
      "Epochs: 2/10 | train_loss: 1.1601 | train_acc: 0.5715\n"
     ]
    },
    {
     "name": "stderr",
     "output_type": "stream",
     "text": [
      "100%|██████████| 3589/3589 [05:42<00:00, 10.48it/s]\n"
     ]
    },
    {
     "name": "stdout",
     "output_type": "stream",
     "text": [
      "Epochs: 3/10 | train_loss: 1.1272 | train_acc: 0.5803\n"
     ]
    },
    {
     "name": "stderr",
     "output_type": "stream",
     "text": [
      "100%|██████████| 3589/3589 [05:42<00:00, 10.48it/s]\n"
     ]
    },
    {
     "name": "stdout",
     "output_type": "stream",
     "text": [
      "Epochs: 4/10 | train_loss: 1.1058 | train_acc: 0.5880\n"
     ]
    },
    {
     "name": "stderr",
     "output_type": "stream",
     "text": [
      "100%|██████████| 3589/3589 [05:42<00:00, 10.49it/s]\n"
     ]
    },
    {
     "name": "stdout",
     "output_type": "stream",
     "text": [
      "Epochs: 5/10 | train_loss: 1.0882 | train_acc: 0.5969\n"
     ]
    },
    {
     "name": "stderr",
     "output_type": "stream",
     "text": [
      "100%|██████████| 3589/3589 [05:42<00:00, 10.48it/s]\n"
     ]
    },
    {
     "name": "stdout",
     "output_type": "stream",
     "text": [
      "Epochs: 6/10 | train_loss: 1.0770 | train_acc: 0.6006\n"
     ]
    },
    {
     "name": "stderr",
     "output_type": "stream",
     "text": [
      "100%|██████████| 3589/3589 [05:43<00:00, 10.46it/s]\n"
     ]
    },
    {
     "name": "stdout",
     "output_type": "stream",
     "text": [
      "Epochs: 7/10 | train_loss: 1.0663 | train_acc: 0.6025\n"
     ]
    },
    {
     "name": "stderr",
     "output_type": "stream",
     "text": [
      "100%|██████████| 3589/3589 [05:41<00:00, 10.50it/s]\n"
     ]
    },
    {
     "name": "stdout",
     "output_type": "stream",
     "text": [
      "Epochs: 8/10 | train_loss: 1.0594 | train_acc: 0.6049\n"
     ]
    },
    {
     "name": "stderr",
     "output_type": "stream",
     "text": [
      "100%|██████████| 3589/3589 [05:43<00:00, 10.46it/s]\n"
     ]
    },
    {
     "name": "stdout",
     "output_type": "stream",
     "text": [
      "Epochs: 9/10 | train_loss: 1.0523 | train_acc: 0.6075\n"
     ]
    },
    {
     "name": "stderr",
     "output_type": "stream",
     "text": [
      "100%|██████████| 3589/3589 [05:42<00:00, 10.47it/s]"
     ]
    },
    {
     "name": "stdout",
     "output_type": "stream",
     "text": [
      "Epochs: 10/10 | train_loss: 1.0474 | train_acc: 0.6125\n"
     ]
    },
    {
     "name": "stderr",
     "output_type": "stream",
     "text": [
      "\n"
     ]
    }
   ],
   "source": [
    "fer2013_loss, fer2013_acc, fer2013_per_class_acc = train_model(\n",
    "    swin_fer2013,\n",
    "    fer2013_train,\n",
    "    config,\n",
    "    'swin',\n",
    "    use_val=False,\n",
    "    fine_tune=False,\n",
    ")"
   ]
  },
  {
   "cell_type": "code",
   "execution_count": 39,
   "id": "ed2c9c07-6f5b-4775-89e1-9a71073d9a8e",
   "metadata": {
    "editable": true,
    "slideshow": {
     "slide_type": ""
    },
    "tags": []
   },
   "outputs": [
    {
     "name": "stderr",
     "output_type": "stream",
     "text": [
      "100%|██████████| 449/449 [00:42<00:00, 10.60it/s]"
     ]
    },
    {
     "name": "stdout",
     "output_type": "stream",
     "text": [
      "test_loss: 1.0380 | test_acc: 0.6121\n"
     ]
    },
    {
     "name": "stderr",
     "output_type": "stream",
     "text": [
      "\n"
     ]
    }
   ],
   "source": [
    "fer2013_loss, fer2013_acc, fer2013_per_class_acc = evaluate_model(\n",
    "    swin_fer2013,\n",
    "    fer2013_test,\n",
    "    config\n",
    ")"
   ]
  },
  {
   "cell_type": "code",
   "execution_count": 40,
   "id": "a1e1fc0e-7d12-42d9-814e-841195168061",
   "metadata": {},
   "outputs": [],
   "source": [
    "fer2013_accs.append(fer2013_acc)"
   ]
  },
  {
   "cell_type": "code",
   "execution_count": 41,
   "id": "77115768-c83e-4d7e-8753-d602ca47bbd3",
   "metadata": {},
   "outputs": [
    {
     "data": {
      "text/plain": [
       "{'angry': 0.3890020366598778,\n",
       " 'disgust': 0.18181818181818182,\n",
       " 'fear': 0.2935606060606061,\n",
       " 'happy': 0.8680318543799772,\n",
       " 'sad': 0.5892255892255892,\n",
       " 'surprise': 0.7427884615384616,\n",
       " 'neutral': 0.6693290734824281}"
      ]
     },
     "execution_count": 41,
     "metadata": {},
     "output_type": "execute_result"
    }
   ],
   "source": [
    "fer2013_per_class_acc"
   ]
  },
  {
   "cell_type": "code",
   "execution_count": 42,
   "id": "b687c37b-c987-45fe-862e-2f85abecef34",
   "metadata": {},
   "outputs": [
    {
     "data": {
      "image/png": "[encoded data removed]",
      "text/plain": [
       "<Figure size 1000x600 with 1 Axes>"
      ]
     },
     "metadata": {},
     "output_type": "display_data"
    }
   ],
   "source": [
    "plot_per_class_accuracies(\n",
    "    fer2013_per_class_acc,\n",
    "    'FER2013',\n",
    "    num_bins=20\n",
    ")"
   ]
  },
  {
   "cell_type": "markdown",
   "id": "ae722f72-87dc-44b7-9342-f69576d9f99a",
   "metadata": {},
   "source": [
    "#### PCam"
   ]
  },
  {
   "cell_type": "code",
   "execution_count": 43,
   "id": "05746506-b93d-4025-90a1-f265d6f82923",
   "metadata": {},
   "outputs": [
    {
     "name": "stderr",
     "output_type": "stream",
     "text": [
      "Some weights of SwinForImageClassification were not initialized from the model checkpoint at microsoft/swin-base-patch4-window7-224 and are newly initialized because the shapes did not match:\n",
      "- classifier.bias: found shape torch.Size([1000]) in the checkpoint and torch.Size([2]) in the model instantiated\n",
      "- classifier.weight: found shape torch.Size([1000, 1024]) in the checkpoint and torch.Size([2, 1024]) in the model instantiated\n",
      "You should probably TRAIN this model on a down-stream task to be able to use it for predictions and inference.\n"
     ]
    }
   ],
   "source": [
    "swin_pcam = Backbone(model_names['Swin'], num_classes=len(pcam_train.get_labels()))"
   ]
  },
  {
   "cell_type": "code",
   "execution_count": 44,
   "id": "46559a21-385f-47b3-b87e-9fa540a44dc4",
   "metadata": {},
   "outputs": [
    {
     "name": "stdout",
     "output_type": "stream",
     "text": [
      "Parameters: 86.75M\n"
     ]
    }
   ],
   "source": [
    "get_model_params(swin_pcam)"
   ]
  },
  {
   "cell_type": "code",
   "execution_count": 45,
   "id": "885ecbb5-354b-4c8f-8562-0ef6b1cd9c61",
   "metadata": {},
   "outputs": [
    {
     "name": "stderr",
     "output_type": "stream",
     "text": [
      "100%|██████████| 32768/32768 [52:48<00:00, 10.34it/s]\n"
     ]
    },
    {
     "name": "stdout",
     "output_type": "stream",
     "text": [
      "Epochs: 1/10 | train_loss: 0.3070 | train_acc: 0.8690\n"
     ]
    },
    {
     "name": "stderr",
     "output_type": "stream",
     "text": [
      "100%|██████████| 32768/32768 [52:47<00:00, 10.34it/s]\n"
     ]
    },
    {
     "name": "stdout",
     "output_type": "stream",
     "text": [
      "Epochs: 2/10 | train_loss: 0.2755 | train_acc: 0.8856\n"
     ]
    },
    {
     "name": "stderr",
     "output_type": "stream",
     "text": [
      "100%|██████████| 32768/32768 [52:46<00:00, 10.35it/s]\n"
     ]
    },
    {
     "name": "stdout",
     "output_type": "stream",
     "text": [
      "Epochs: 3/10 | train_loss: 0.2683 | train_acc: 0.8886\n"
     ]
    },
    {
     "name": "stderr",
     "output_type": "stream",
     "text": [
      "100%|██████████| 32768/32768 [52:46<00:00, 10.35it/s]\n"
     ]
    },
    {
     "name": "stdout",
     "output_type": "stream",
     "text": [
      "Epochs: 4/10 | train_loss: 0.2642 | train_acc: 0.8914\n"
     ]
    },
    {
     "name": "stderr",
     "output_type": "stream",
     "text": [
      "100%|██████████| 32768/32768 [52:45<00:00, 10.35it/s]\n"
     ]
    },
    {
     "name": "stdout",
     "output_type": "stream",
     "text": [
      "Epochs: 5/10 | train_loss: 0.2614 | train_acc: 0.8927\n"
     ]
    },
    {
     "name": "stderr",
     "output_type": "stream",
     "text": [
      "100%|██████████| 32768/32768 [52:43<00:00, 10.36it/s]\n"
     ]
    },
    {
     "name": "stdout",
     "output_type": "stream",
     "text": [
      "Epochs: 6/10 | train_loss: 0.2589 | train_acc: 0.8938\n"
     ]
    },
    {
     "name": "stderr",
     "output_type": "stream",
     "text": [
      "100%|██████████| 32768/32768 [52:43<00:00, 10.36it/s]\n"
     ]
    },
    {
     "name": "stdout",
     "output_type": "stream",
     "text": [
      "Epochs: 7/10 | train_loss: 0.2577 | train_acc: 0.8943\n"
     ]
    },
    {
     "name": "stderr",
     "output_type": "stream",
     "text": [
      "100%|██████████| 32768/32768 [52:44<00:00, 10.35it/s]\n"
     ]
    },
    {
     "name": "stdout",
     "output_type": "stream",
     "text": [
      "Epochs: 8/10 | train_loss: 0.2569 | train_acc: 0.8946\n"
     ]
    },
    {
     "name": "stderr",
     "output_type": "stream",
     "text": [
      "100%|██████████| 32768/32768 [52:45<00:00, 10.35it/s]\n"
     ]
    },
    {
     "name": "stdout",
     "output_type": "stream",
     "text": [
      "Epochs: 9/10 | train_loss: 0.2560 | train_acc: 0.8954\n"
     ]
    },
    {
     "name": "stderr",
     "output_type": "stream",
     "text": [
      "100%|██████████| 32768/32768 [52:49<00:00, 10.34it/s]"
     ]
    },
    {
     "name": "stdout",
     "output_type": "stream",
     "text": [
      "Epochs: 10/10 | train_loss: 0.2567 | train_acc: 0.8953\n"
     ]
    },
    {
     "name": "stderr",
     "output_type": "stream",
     "text": [
      "\n"
     ]
    }
   ],
   "source": [
    "pcam_loss, pcam_acc, pcam_per_class_acc = train_model(\n",
    "    swin_pcam,\n",
    "    pcam_train,\n",
    "    config,\n",
    "    'swin',\n",
    "    use_val=False,\n",
    "    fine_tune=False,\n",
    ")"
   ]
  },
  {
   "cell_type": "code",
   "execution_count": 46,
   "id": "94d4af2c-3bb4-41a2-be2f-a86cccd2b3a1",
   "metadata": {},
   "outputs": [
    {
     "name": "stderr",
     "output_type": "stream",
     "text": [
      "100%|██████████| 4096/4096 [06:31<00:00, 10.45it/s]"
     ]
    },
    {
     "name": "stdout",
     "output_type": "stream",
     "text": [
      "test_loss: 0.3568 | test_acc: 0.8456\n"
     ]
    },
    {
     "name": "stderr",
     "output_type": "stream",
     "text": [
      "\n"
     ]
    }
   ],
   "source": [
    "pcam_loss, pcam_acc, pcam_per_class_acc = evaluate_model(\n",
    "    swin_pcam,\n",
    "    pcam_test,\n",
    "    config\n",
    ")"
   ]
  },
  {
   "cell_type": "code",
   "execution_count": 47,
   "id": "4e18eae0-58f0-456e-a5d3-76565fb5fc2f",
   "metadata": {},
   "outputs": [],
   "source": [
    "pcam_accs.append(pcam_acc)"
   ]
  },
  {
   "cell_type": "code",
   "execution_count": 48,
   "id": "0324390a-1173-4f42-a515-e9a0acf495bc",
   "metadata": {},
   "outputs": [
    {
     "data": {
      "text/plain": [
       "{'healthy lymph node tissue': 0.9158684644011957,\n",
       " 'lymph node tumor tissue': 0.7751724980155096}"
      ]
     },
     "execution_count": 48,
     "metadata": {},
     "output_type": "execute_result"
    }
   ],
   "source": [
    "pcam_per_class_acc"
   ]
  },
  {
   "cell_type": "code",
   "execution_count": 49,
   "id": "6d73cb17-9a79-4fcb-a5bc-1cdc01c34f10",
   "metadata": {},
   "outputs": [
    {
     "data": {
      "image/png": "[encoded data removed]",
      "text/plain": [
       "<Figure size 1000x600 with 1 Axes>"
      ]
     },
     "metadata": {},
     "output_type": "display_data"
    }
   ],
   "source": [
    "plot_per_class_accuracies(\n",
    "    pcam_per_class_acc,\n",
    "    'PatchCamelyon',\n",
    "    num_bins=20\n",
    ")"
   ]
  },
  {
   "cell_type": "markdown",
   "id": "93af562d-1712-465d-bab3-4eeb72d02569",
   "metadata": {},
   "source": [
    "#### SUN397"
   ]
  },
  {
   "cell_type": "code",
   "execution_count": 50,
   "id": "1cf260ec-de4b-473d-8fee-dba06b312f70",
   "metadata": {},
   "outputs": [
    {
     "name": "stderr",
     "output_type": "stream",
     "text": [
      "Some weights of SwinForImageClassification were not initialized from the model checkpoint at microsoft/swin-base-patch4-window7-224 and are newly initialized because the shapes did not match:\n",
      "- classifier.bias: found shape torch.Size([1000]) in the checkpoint and torch.Size([397]) in the model instantiated\n",
      "- classifier.weight: found shape torch.Size([1000, 1024]) in the checkpoint and torch.Size([397, 1024]) in the model instantiated\n",
      "You should probably TRAIN this model on a down-stream task to be able to use it for predictions and inference.\n"
     ]
    }
   ],
   "source": [
    "swin_sun397 = Backbone(model_names['Swin'], num_classes=len(sun397_train.get_labels()))"
   ]
  },
  {
   "cell_type": "code",
   "execution_count": 51,
   "id": "7dbc1cef-fee3-46c9-8d6d-af3eca2a3673",
   "metadata": {},
   "outputs": [
    {
     "name": "stdout",
     "output_type": "stream",
     "text": [
      "Parameters: 87.15M\n"
     ]
    }
   ],
   "source": [
    "get_model_params(swin_sun397)"
   ]
  },
  {
   "cell_type": "code",
   "execution_count": 52,
   "id": "3589b9ef-9a74-4f54-ab29-eb763b77c3db",
   "metadata": {},
   "outputs": [
    {
     "name": "stderr",
     "output_type": "stream",
     "text": [
      "100%|██████████| 9516/9516 [19:41<00:00,  8.05it/s]\n"
     ]
    },
    {
     "name": "stdout",
     "output_type": "stream",
     "text": [
      "Epochs: 1/10 | train_loss: 1.7223 | train_acc: 0.6641\n"
     ]
    },
    {
     "name": "stderr",
     "output_type": "stream",
     "text": [
      "100%|██████████| 9516/9516 [19:13<00:00,  8.25it/s]\n"
     ]
    },
    {
     "name": "stdout",
     "output_type": "stream",
     "text": [
      "Epochs: 2/10 | train_loss: 0.7250 | train_acc: 0.7964\n"
     ]
    },
    {
     "name": "stderr",
     "output_type": "stream",
     "text": [
      "100%|██████████| 9516/9516 [19:13<00:00,  8.25it/s]\n"
     ]
    },
    {
     "name": "stdout",
     "output_type": "stream",
     "text": [
      "Epochs: 3/10 | train_loss: 0.6100 | train_acc: 0.8223\n"
     ]
    },
    {
     "name": "stderr",
     "output_type": "stream",
     "text": [
      "100%|██████████| 9516/9516 [19:13<00:00,  8.25it/s]\n"
     ]
    },
    {
     "name": "stdout",
     "output_type": "stream",
     "text": [
      "Epochs: 4/10 | train_loss: 0.5436 | train_acc: 0.8407\n"
     ]
    },
    {
     "name": "stderr",
     "output_type": "stream",
     "text": [
      "100%|██████████| 9516/9516 [19:14<00:00,  8.25it/s]\n"
     ]
    },
    {
     "name": "stdout",
     "output_type": "stream",
     "text": [
      "Epochs: 5/10 | train_loss: 0.4943 | train_acc: 0.8535\n"
     ]
    },
    {
     "name": "stderr",
     "output_type": "stream",
     "text": [
      "100%|██████████| 9516/9516 [19:12<00:00,  8.26it/s]\n"
     ]
    },
    {
     "name": "stdout",
     "output_type": "stream",
     "text": [
      "Epochs: 6/10 | train_loss: 0.4547 | train_acc: 0.8652\n"
     ]
    },
    {
     "name": "stderr",
     "output_type": "stream",
     "text": [
      "100%|██████████| 9516/9516 [19:12<00:00,  8.26it/s]\n"
     ]
    },
    {
     "name": "stdout",
     "output_type": "stream",
     "text": [
      "Epochs: 7/10 | train_loss: 0.4228 | train_acc: 0.8763\n"
     ]
    },
    {
     "name": "stderr",
     "output_type": "stream",
     "text": [
      "100%|██████████| 9516/9516 [19:14<00:00,  8.24it/s]\n"
     ]
    },
    {
     "name": "stdout",
     "output_type": "stream",
     "text": [
      "Epochs: 8/10 | train_loss: 0.3959 | train_acc: 0.8831\n"
     ]
    },
    {
     "name": "stderr",
     "output_type": "stream",
     "text": [
      "100%|██████████| 9516/9516 [19:14<00:00,  8.24it/s]\n"
     ]
    },
    {
     "name": "stdout",
     "output_type": "stream",
     "text": [
      "Epochs: 9/10 | train_loss: 0.3725 | train_acc: 0.8906\n"
     ]
    },
    {
     "name": "stderr",
     "output_type": "stream",
     "text": [
      "100%|██████████| 9516/9516 [19:14<00:00,  8.25it/s]\n"
     ]
    },
    {
     "name": "stdout",
     "output_type": "stream",
     "text": [
      "Epochs: 10/10 | train_loss: 0.3535 | train_acc: 0.8964\n"
     ]
    }
   ],
   "source": [
    "sun397_loss, sun397_acc, sun397_per_class_acc = train_model(\n",
    "    swin_sun397,\n",
    "    sun397_train,\n",
    "    config,\n",
    "    'swin',\n",
    "    use_val=False,\n",
    "    fine_tune=False,\n",
    ")"
   ]
  },
  {
   "cell_type": "code",
   "execution_count": 53,
   "id": "2792c72b-006f-4fd9-af19-7a23144c2776",
   "metadata": {},
   "outputs": [
    {
     "name": "stderr",
     "output_type": "stream",
     "text": [
      "100%|██████████| 2719/2719 [05:28<00:00,  8.27it/s]\n"
     ]
    },
    {
     "name": "stdout",
     "output_type": "stream",
     "text": [
      "test_loss: 0.6736 | test_acc: 0.8042\n"
     ]
    }
   ],
   "source": [
    "sun397_loss, sun397_acc, sun397_per_class_acc = evaluate_model(\n",
    "    swin_sun397,\n",
    "    sun397_test,\n",
    "    config\n",
    ")"
   ]
  },
  {
   "cell_type": "code",
   "execution_count": 54,
   "id": "d39645d6-fc7d-446a-9981-333b31dd326d",
   "metadata": {},
   "outputs": [],
   "source": [
    "sun397_accs.append(sun397_acc)"
   ]
  },
  {
   "cell_type": "code",
   "execution_count": 55,
   "id": "df14cd76-f403-4702-a9b5-f63991ce04d9",
   "metadata": {},
   "outputs": [
    {
     "data": {
      "text/plain": [
       "[('arrival gate (outdoor)', 1.0),\n",
       " ('boxing ring', 1.0),\n",
       " ('bullring', 1.0),\n",
       " ('dentists office', 1.0),\n",
       " ('electrical substation', 1.0)]"
      ]
     },
     "execution_count": 55,
     "metadata": {},
     "output_type": "execute_result"
    }
   ],
   "source": [
    "get_top_5_accuracies(sun397_per_class_acc)"
   ]
  },
  {
   "cell_type": "code",
   "execution_count": 56,
   "id": "31d9bf8d-a686-4dc0-bad5-7681e66ddb9e",
   "metadata": {},
   "outputs": [
    {
     "data": {
      "text/plain": [
       "[('library (outdoor)', 0.09523809523809523),\n",
       " ('recreation room', 0.1111111111111111),\n",
       " ('monastery (outdoor)', 0.1724137931034483),\n",
       " ('inn (outdoor)', 0.20689655172413793),\n",
       " ('hunting lodge (outdoor)', 0.20833333333333334)]"
      ]
     },
     "execution_count": 56,
     "metadata": {},
     "output_type": "execute_result"
    }
   ],
   "source": [
    "get_bottom_5_accuracies(sun397_per_class_acc)"
   ]
  },
  {
   "cell_type": "code",
   "execution_count": 57,
   "id": "2d78a624-a6fc-4a15-acbd-0b14cb5a51cc",
   "metadata": {},
   "outputs": [
    {
     "data": {
      "image/png": "[encoded data removed]",
      "text/plain": [
       "<Figure size 1000x600 with 1 Axes>"
      ]
     },
     "metadata": {},
     "output_type": "display_data"
    }
   ],
   "source": [
    "plot_per_class_accuracies(\n",
    "    sun397_per_class_acc,\n",
    "    'SUN397',\n",
    "    num_bins=20\n",
    ")"
   ]
  },
  {
   "cell_type": "markdown",
   "id": "f3c9a504-65a4-4bdb-83bf-1f0d86fa8f47",
   "metadata": {},
   "source": [
    "#### DTD"
   ]
  },
  {
   "cell_type": "code",
   "execution_count": 58,
   "id": "5e33a355-31ee-4b2d-83c4-9473daed2d76",
   "metadata": {},
   "outputs": [
    {
     "name": "stderr",
     "output_type": "stream",
     "text": [
      "Some weights of SwinForImageClassification were not initialized from the model checkpoint at microsoft/swin-base-patch4-window7-224 and are newly initialized because the shapes did not match:\n",
      "- classifier.bias: found shape torch.Size([1000]) in the checkpoint and torch.Size([47]) in the model instantiated\n",
      "- classifier.weight: found shape torch.Size([1000, 1024]) in the checkpoint and torch.Size([47, 1024]) in the model instantiated\n",
      "You should probably TRAIN this model on a down-stream task to be able to use it for predictions and inference.\n"
     ]
    }
   ],
   "source": [
    "swin_dtd = Backbone(model_names['Swin'], num_classes=len(dtd_train.get_labels()))"
   ]
  },
  {
   "cell_type": "code",
   "execution_count": 59,
   "id": "1747f40f-63d8-4acd-b971-93e2b4877431",
   "metadata": {},
   "outputs": [
    {
     "name": "stdout",
     "output_type": "stream",
     "text": [
      "Parameters: 86.79M\n"
     ]
    }
   ],
   "source": [
    "get_model_params(swin_dtd)"
   ]
  },
  {
   "cell_type": "code",
   "execution_count": 60,
   "id": "d82e9167-814d-4c4e-816d-3c00ab5ecd96",
   "metadata": {},
   "outputs": [
    {
     "name": "stderr",
     "output_type": "stream",
     "text": [
      "100%|██████████| 470/470 [00:56<00:00,  8.25it/s]\n"
     ]
    },
    {
     "name": "stdout",
     "output_type": "stream",
     "text": [
      "Epochs: 1/10 | train_loss: 3.1738 | train_acc: 0.3604\n"
     ]
    },
    {
     "name": "stderr",
     "output_type": "stream",
     "text": [
      "100%|██████████| 470/470 [00:56<00:00,  8.30it/s]\n"
     ]
    },
    {
     "name": "stdout",
     "output_type": "stream",
     "text": [
      "Epochs: 2/10 | train_loss: 2.0185 | train_acc: 0.6827\n"
     ]
    },
    {
     "name": "stderr",
     "output_type": "stream",
     "text": [
      "100%|██████████| 470/470 [00:56<00:00,  8.25it/s]\n"
     ]
    },
    {
     "name": "stdout",
     "output_type": "stream",
     "text": [
      "Epochs: 3/10 | train_loss: 1.4400 | train_acc: 0.7489\n"
     ]
    },
    {
     "name": "stderr",
     "output_type": "stream",
     "text": [
      "100%|██████████| 470/470 [00:56<00:00,  8.25it/s]\n"
     ]
    },
    {
     "name": "stdout",
     "output_type": "stream",
     "text": [
      "Epochs: 4/10 | train_loss: 1.1408 | train_acc: 0.7814\n"
     ]
    },
    {
     "name": "stderr",
     "output_type": "stream",
     "text": [
      "100%|██████████| 470/470 [00:56<00:00,  8.26it/s]\n"
     ]
    },
    {
     "name": "stdout",
     "output_type": "stream",
     "text": [
      "Epochs: 5/10 | train_loss: 0.9633 | train_acc: 0.8069\n"
     ]
    },
    {
     "name": "stderr",
     "output_type": "stream",
     "text": [
      "100%|██████████| 470/470 [00:57<00:00,  8.21it/s]\n"
     ]
    },
    {
     "name": "stdout",
     "output_type": "stream",
     "text": [
      "Epochs: 6/10 | train_loss: 0.8325 | train_acc: 0.8282\n"
     ]
    },
    {
     "name": "stderr",
     "output_type": "stream",
     "text": [
      "100%|██████████| 470/470 [00:56<00:00,  8.26it/s]\n"
     ]
    },
    {
     "name": "stdout",
     "output_type": "stream",
     "text": [
      "Epochs: 7/10 | train_loss: 0.7395 | train_acc: 0.8434\n"
     ]
    },
    {
     "name": "stderr",
     "output_type": "stream",
     "text": [
      "100%|██████████| 470/470 [00:57<00:00,  8.24it/s]\n"
     ]
    },
    {
     "name": "stdout",
     "output_type": "stream",
     "text": [
      "Epochs: 8/10 | train_loss: 0.6680 | train_acc: 0.8529\n"
     ]
    },
    {
     "name": "stderr",
     "output_type": "stream",
     "text": [
      "100%|██████████| 470/470 [00:56<00:00,  8.27it/s]\n"
     ]
    },
    {
     "name": "stdout",
     "output_type": "stream",
     "text": [
      "Epochs: 9/10 | train_loss: 0.6066 | train_acc: 0.8598\n"
     ]
    },
    {
     "name": "stderr",
     "output_type": "stream",
     "text": [
      "100%|██████████| 470/470 [00:56<00:00,  8.28it/s]"
     ]
    },
    {
     "name": "stdout",
     "output_type": "stream",
     "text": [
      "Epochs: 10/10 | train_loss: 0.5528 | train_acc: 0.8803\n"
     ]
    },
    {
     "name": "stderr",
     "output_type": "stream",
     "text": [
      "\n"
     ]
    }
   ],
   "source": [
    "dtd_loss, dtd_acc, dtd_per_class_acc = train_model(\n",
    "    swin_dtd,\n",
    "    dtd_train,\n",
    "    config,\n",
    "    'swin',\n",
    "    use_val=False,\n",
    "    fine_tune=False,\n",
    ")"
   ]
  },
  {
   "cell_type": "code",
   "execution_count": 61,
   "id": "97a6a937-9c39-4f10-a27b-cf93ac3315f8",
   "metadata": {},
   "outputs": [
    {
     "name": "stderr",
     "output_type": "stream",
     "text": [
      "100%|██████████| 235/235 [00:27<00:00,  8.44it/s]"
     ]
    },
    {
     "name": "stdout",
     "output_type": "stream",
     "text": [
      "test_loss: 0.8229 | test_acc: 0.7824\n"
     ]
    },
    {
     "name": "stderr",
     "output_type": "stream",
     "text": [
      "\n"
     ]
    }
   ],
   "source": [
    "dtd_loss, dtd_acc, dtd_per_class_acc = evaluate_model(\n",
    "    swin_dtd,\n",
    "    dtd_test,\n",
    "    config\n",
    ")"
   ]
  },
  {
   "cell_type": "code",
   "execution_count": 62,
   "id": "ac0707c4-f897-40fd-bc5a-db9a97e120e1",
   "metadata": {},
   "outputs": [],
   "source": [
    "dtd_accs.append(dtd_acc)"
   ]
  },
  {
   "cell_type": "code",
   "execution_count": 63,
   "id": "69376f22-46cd-443f-aea7-c4ab1664ec4e",
   "metadata": {},
   "outputs": [
    {
     "data": {
      "text/plain": [
       "[('scaly', 0.975),\n",
       " ('studded', 0.975),\n",
       " ('bubbly', 0.95),\n",
       " ('crystalline', 0.95),\n",
       " ('knitted', 0.95)]"
      ]
     },
     "execution_count": 63,
     "metadata": {},
     "output_type": "execute_result"
    }
   ],
   "source": [
    "get_top_5_accuracies(dtd_per_class_acc)"
   ]
  },
  {
   "cell_type": "code",
   "execution_count": 64,
   "id": "1d1d0846-38f6-47c9-9648-204c1724dcb2",
   "metadata": {},
   "outputs": [
    {
     "data": {
      "text/plain": [
       "[('blotchy', 0.425),\n",
       " ('stained', 0.475),\n",
       " ('woven', 0.475),\n",
       " ('porous', 0.55),\n",
       " ('pitted', 0.6)]"
      ]
     },
     "execution_count": 64,
     "metadata": {},
     "output_type": "execute_result"
    }
   ],
   "source": [
    "get_bottom_5_accuracies(dtd_per_class_acc)"
   ]
  },
  {
   "cell_type": "code",
   "execution_count": 65,
   "id": "e439f1d9-5b2f-4c9e-b4ba-60661674d540",
   "metadata": {},
   "outputs": [
    {
     "data": {
      "image/png": "[encoded data removed]",
      "text/plain": [
       "<Figure size 1000x600 with 1 Axes>"
      ]
     },
     "metadata": {},
     "output_type": "display_data"
    }
   ],
   "source": [
    "plot_per_class_accuracies(\n",
    "    dtd_per_class_acc,\n",
    "    'DTD',\n",
    "    num_bins=20\n",
    ")"
   ]
  },
  {
   "cell_type": "markdown",
   "id": "a163a182-bbd6-41b8-8a2c-9f8646512d7b",
   "metadata": {},
   "source": [
    "### Results"
   ]
  },
  {
   "cell_type": "markdown",
   "id": "e85011f4-8072-4569-91a3-41ea18a5bf38",
   "metadata": {},
   "source": [
    "Display the results of the analysis in dataframe."
   ]
  },
  {
   "cell_type": "code",
   "execution_count": 66,
   "id": "187e9a38-26b1-4057-8801-563a5df82909",
   "metadata": {},
   "outputs": [],
   "source": [
    "results = [\n",
    "    resisc45_accs,\n",
    "    food101_accs,\n",
    "    fer2013_accs,\n",
    "    pcam_accs,\n",
    "    sun397_accs,\n",
    "    dtd_accs,\n",
    "]"
   ]
  },
  {
   "cell_type": "code",
   "execution_count": 67,
   "id": "df2be8ba-934d-4297-887d-4ac062bd432a",
   "metadata": {},
   "outputs": [],
   "source": [
    "labels = ['RESISC45', 'Food-101', 'FER2013', 'PatchCamelyon', 'SUN397', 'DTD']"
   ]
  },
  {
   "cell_type": "code",
   "execution_count": 68,
   "id": "8a7e4051-5df7-4cfb-bd85-b61b4ef7d62a",
   "metadata": {},
   "outputs": [],
   "source": [
    "acc_dict = create_accuracy_dict(\n",
    "    results,\n",
    "    labels\n",
    ")"
   ]
  },
  {
   "cell_type": "code",
   "execution_count": 69,
   "id": "8246a56c-e386-4dcf-8b66-a233f7918938",
   "metadata": {},
   "outputs": [
    {
     "data": {
      "text/html": [
       "<div>\n",
       "<style scoped>\n",
       "    .dataframe tbody tr th:only-of-type {\n",
       "        vertical-align: middle;\n",
       "    }\n",
       "\n",
       "    .dataframe tbody tr th {\n",
       "        vertical-align: top;\n",
       "    }\n",
       "\n",
       "    .dataframe thead th {\n",
       "        text-align: right;\n",
       "    }\n",
       "</style>\n",
       "<table border=\"1\" class=\"dataframe\">\n",
       "  <thead>\n",
       "    <tr style=\"text-align: right;\">\n",
       "      <th></th>\n",
       "      <th>linear probe</th>\n",
       "    </tr>\n",
       "  </thead>\n",
       "  <tbody>\n",
       "    <tr>\n",
       "      <th>RESISC45</th>\n",
       "      <td>0.885397</td>\n",
       "    </tr>\n",
       "    <tr>\n",
       "      <th>Food-101</th>\n",
       "      <td>0.894733</td>\n",
       "    </tr>\n",
       "    <tr>\n",
       "      <th>FER2013</th>\n",
       "      <td>0.612148</td>\n",
       "    </tr>\n",
       "    <tr>\n",
       "      <th>PatchCamelyon</th>\n",
       "      <td>0.845551</td>\n",
       "    </tr>\n",
       "    <tr>\n",
       "      <th>SUN397</th>\n",
       "      <td>0.804184</td>\n",
       "    </tr>\n",
       "    <tr>\n",
       "      <th>DTD</th>\n",
       "      <td>0.782447</td>\n",
       "    </tr>\n",
       "  </tbody>\n",
       "</table>\n",
       "</div>"
      ],
      "text/plain": [
       "               linear probe\n",
       "RESISC45           0.885397\n",
       "Food-101           0.894733\n",
       "FER2013            0.612148\n",
       "PatchCamelyon      0.845551\n",
       "SUN397             0.804184\n",
       "DTD                0.782447"
      ]
     },
     "execution_count": 69,
     "metadata": {},
     "output_type": "execute_result"
    }
   ],
   "source": [
    "df = pd.DataFrame(results, columns=['linear probe'], index=labels)\n",
    "df"
   ]
  }
 ],
 "metadata": {
  "kernelspec": {
   "display_name": "Python 3 (ipykernel)",
   "language": "python",
   "name": "python3"
  },
  "language_info": {
   "codemirror_mode": {
    "name": "ipython",
    "version": 3
   },
   "file_extension": ".py",
   "mimetype": "text/x-python",
   "name": "python",
   "nbconvert_exporter": "python",
   "pygments_lexer": "ipython3",
   "version": "3.10.12"
  }
 },
 "nbformat": 4,
 "nbformat_minor": 5
}
