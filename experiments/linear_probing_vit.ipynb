{
 "cells": [
  {
   "cell_type": "markdown",
   "id": "22029240-8173-476f-a935-e793e203ab43",
   "metadata": {},
   "source": [
    "# Exploration and Comparison of Transformers for Image Classification"
   ]
  },
  {
   "cell_type": "markdown",
   "id": "fcb7fc41-efc8-4ee0-925e-8130dae98c05",
   "metadata": {},
   "source": [
    "## Linear Probing using Vision Transformer (ViT)"
   ]
  },
  {
   "cell_type": "markdown",
   "id": "2c4f1ce3-2e5f-458c-982e-cda4186420d4",
   "metadata": {},
   "source": [
    "Linear Probing is an experiment that involes training a linear classifier on top of pre-trained frozen features of the model.\n",
    "\n",
    "In this experiment, the whole training set is used."
   ]
  },
  {
   "cell_type": "markdown",
   "id": "79bec6d7-e956-496a-8e41-53df1fa80b7f",
   "metadata": {},
   "source": [
    "### Vision Transformer (ViT)"
   ]
  },
  {
   "cell_type": "markdown",
   "id": "fc620fc6-8239-44cd-ae99-54c6a1098ffe",
   "metadata": {},
   "source": [
    "Vision Transformer (ViT) model pre-trained on ImageNet-21k (14 million images, 21,843 classes) at resolution 224x224, and fine-tuned on ImageNet 2012 (1 million images, 1,000 classes) at resolution 224x224. It was introduced in the paper *An Image is Worth 16x16 Words: Transformers for Image Recognition at Scale by Dosovitskiy et al.*\n",
    "\n",
    "https://arxiv.org/abs/2010.11929"
   ]
  },
  {
   "cell_type": "markdown",
   "id": "771d783b-308b-401d-8742-76c1179c49b4",
   "metadata": {},
   "source": [
    "### Prerequisites"
   ]
  },
  {
   "cell_type": "markdown",
   "id": "8cfe4de0-ba8d-40a9-a85f-6cb41dd0d335",
   "metadata": {},
   "source": [
    "Load necessary packages."
   ]
  },
  {
   "cell_type": "code",
   "execution_count": 75,
   "id": "2497e5e7-475e-4fd7-913a-36cbbd3e8b74",
   "metadata": {},
   "outputs": [],
   "source": [
    "import os\n",
    "os.chdir('..')\n",
    "\n",
    "import torch\n",
    "\n",
    "import pandas as pd\n",
    "\n",
    "from datasets import load_dataset\n",
    "\n",
    "from src.dataset_builder import ImageDataset\n",
    "from src.models import *\n",
    "from src.train import *\n",
    "\n",
    "from utils.config import Config\n",
    "from utils.train_utils import *\n",
    "from utils.models_utils import *\n",
    "from utils.visualization_utils import *\n",
    "from utils.data_utils import *"
   ]
  },
  {
   "cell_type": "markdown",
   "id": "5ebe117a-bd72-4302-acb8-2af9e338ba5d",
   "metadata": {},
   "source": [
    "Check if there is GPU available."
   ]
  },
  {
   "cell_type": "code",
   "execution_count": 3,
   "id": "e9b14f94-5537-485e-abe1-128c433f6737",
   "metadata": {},
   "outputs": [
    {
     "name": "stdout",
     "output_type": "stream",
     "text": [
      "GPU 0: NVIDIA A100 80GB PCIe MIG 2g.20gb\n",
      "VRAM: 19.50 GB\n"
     ]
    }
   ],
   "source": [
    "get_gpu_info()"
   ]
  },
  {
   "cell_type": "markdown",
   "id": "cc7df4b1-71e8-4264-a131-0013d8ced64b",
   "metadata": {},
   "source": [
    "Set manual seed for reproducibility."
   ]
  },
  {
   "cell_type": "code",
   "execution_count": 4,
   "id": "1b512368-db51-46aa-bc7d-ef5c22fb1e8b",
   "metadata": {},
   "outputs": [
    {
     "data": {
      "text/plain": [
       "<torch._C.Generator at 0x7f5d840853f0>"
      ]
     },
     "execution_count": 4,
     "metadata": {},
     "output_type": "execute_result"
    }
   ],
   "source": [
    "id = 10\n",
    "torch.manual_seed(10)"
   ]
  },
  {
   "cell_type": "markdown",
   "id": "1409290d-376b-4eb0-b926-bb533d21364f",
   "metadata": {},
   "source": [
    "Load ViT image processor used for image pre-processing."
   ]
  },
  {
   "cell_type": "code",
   "execution_count": 5,
   "id": "137faca7-e691-48ff-97e1-8a0f4211c80e",
   "metadata": {},
   "outputs": [],
   "source": [
    "processor = get_backbone_processor(model_names['ViT'])"
   ]
  },
  {
   "cell_type": "markdown",
   "id": "e1e47d96-cd90-4227-806b-3cdb2e604a50",
   "metadata": {},
   "source": [
    "Print the pre-processing operations done by the processor."
   ]
  },
  {
   "cell_type": "code",
   "execution_count": 6,
   "id": "2f200acb-631a-4502-ae46-8cf476c02713",
   "metadata": {},
   "outputs": [
    {
     "data": {
      "text/plain": [
       "ViTImageProcessorFast {\n",
       "  \"do_normalize\": true,\n",
       "  \"do_rescale\": true,\n",
       "  \"do_resize\": true,\n",
       "  \"image_mean\": [\n",
       "    0.5,\n",
       "    0.5,\n",
       "    0.5\n",
       "  ],\n",
       "  \"image_processor_type\": \"ViTImageProcessorFast\",\n",
       "  \"image_std\": [\n",
       "    0.5,\n",
       "    0.5,\n",
       "    0.5\n",
       "  ],\n",
       "  \"resample\": 2,\n",
       "  \"rescale_factor\": 0.00392156862745098,\n",
       "  \"size\": {\n",
       "    \"height\": 224,\n",
       "    \"width\": 224\n",
       "  }\n",
       "}"
      ]
     },
     "execution_count": 6,
     "metadata": {},
     "output_type": "execute_result"
    }
   ],
   "source": [
    "processor"
   ]
  },
  {
   "cell_type": "markdown",
   "id": "f25447f6-f11e-4131-9623-09698dbb67d7",
   "metadata": {
    "jp-MarkdownHeadingCollapsed": true
   },
   "source": [
    "### Data Preprocessing"
   ]
  },
  {
   "cell_type": "markdown",
   "id": "ea0b7222-e192-4a7c-acb7-56b0433a7aae",
   "metadata": {},
   "source": [
    "Load each dataset and its splits.\n",
    "\n",
    "Processor is automatically applied to each image."
   ]
  },
  {
   "cell_type": "markdown",
   "id": "99e2b5ff-9586-4917-a24c-3bd93593269e",
   "metadata": {},
   "source": [
    "#### RESISC45"
   ]
  },
  {
   "cell_type": "code",
   "execution_count": 8,
   "id": "6bbedffd-6394-4a1d-b502-88a726b98273",
   "metadata": {},
   "outputs": [],
   "source": [
    "resisc45 = load_dataset('timm/resisc45')\n",
    "clean_labels(resisc45, name='resisc45')\n",
    "resisc45_train = ImageDataset(\n",
    "    dataset=resisc45['train'],\n",
    "    processor=processor,\n",
    ")\n",
    "resisc45_validation = ImageDataset(\n",
    "    dataset=resisc45['validation'],\n",
    "    processor=processor,\n",
    ")\n",
    "resisc45_test = ImageDataset(\n",
    "    dataset=resisc45['test'],\n",
    "    processor=processor,\n",
    ")"
   ]
  },
  {
   "cell_type": "markdown",
   "id": "f579c494-89a8-4eb8-8c7a-5b292475bbad",
   "metadata": {},
   "source": [
    "#### Food-101"
   ]
  },
  {
   "cell_type": "code",
   "execution_count": 10,
   "id": "c4125475-fc23-4de4-a027-9276acfe4c41",
   "metadata": {},
   "outputs": [],
   "source": [
    "food101 = load_dataset('ethz/food101')\n",
    "clean_labels(food101, name='food101')\n",
    "food101_train = ImageDataset(\n",
    "    dataset=food101['train'],\n",
    "    processor=processor,\n",
    ")\n",
    "food101_validation = ImageDataset(\n",
    "    dataset=food101['validation'],\n",
    "    processor=processor,\n",
    ")"
   ]
  },
  {
   "cell_type": "markdown",
   "id": "aa696bc7-cf77-422d-b8b5-aa6d4ba36ecb",
   "metadata": {},
   "source": [
    "#### FER2013"
   ]
  },
  {
   "cell_type": "code",
   "execution_count": 12,
   "id": "ab5359eb-d83f-4f4a-8781-a3c51db8d14e",
   "metadata": {},
   "outputs": [],
   "source": [
    "fer2013 = load_dataset('AutumnQiu/fer2013')\n",
    "clean_labels(fer2013, name='fer2013')\n",
    "fer2013_train = ImageDataset(\n",
    "    dataset=fer2013['train'],\n",
    "    processor=processor,\n",
    ")\n",
    "fer2013_validation = ImageDataset(\n",
    "    dataset=fer2013['valid'],\n",
    "    processor=processor,\n",
    ")\n",
    "fer2013_test = ImageDataset(\n",
    "    dataset=fer2013['test'],\n",
    "    processor=processor,\n",
    ")"
   ]
  },
  {
   "cell_type": "markdown",
   "id": "00be0e0d-d98d-4f23-8354-8c7926da351b",
   "metadata": {},
   "source": [
    "#### PCam"
   ]
  },
  {
   "cell_type": "code",
   "execution_count": 14,
   "id": "a77d5802-a948-4f45-9382-5f47dc26f3f6",
   "metadata": {},
   "outputs": [],
   "source": [
    "pcam = load_dataset('zacharielegault/PatchCamelyon')\n",
    "clean_labels(pcam, name='pcam')\n",
    "pcam_train = ImageDataset(\n",
    "    dataset=pcam['train'],\n",
    "    processor=processor,\n",
    ")\n",
    "pcam_validation = ImageDataset(\n",
    "    dataset=pcam['validation'],\n",
    "    processor=processor,\n",
    ")\n",
    "pcam_test = ImageDataset(\n",
    "    dataset=pcam['test'],\n",
    "    processor=processor,\n",
    ")"
   ]
  },
  {
   "cell_type": "markdown",
   "id": "90851566-5ed0-4092-9de9-df1351eb9044",
   "metadata": {},
   "source": [
    "#### SUN397"
   ]
  },
  {
   "cell_type": "code",
   "execution_count": 16,
   "id": "e6174b7e-4b97-4b43-a6b2-57287060d6b5",
   "metadata": {},
   "outputs": [
    {
     "data": {
      "application/vnd.jupyter.widget-view+json": {
       "model_id": "d13cd1f39c4a406893365546926c746c",
       "version_major": 2,
       "version_minor": 0
      },
      "text/plain": [
       "Resolving data files:   0%|          | 0/28 [00:00<?, ?it/s]"
      ]
     },
     "metadata": {},
     "output_type": "display_data"
    },
    {
     "data": {
      "application/vnd.jupyter.widget-view+json": {
       "model_id": "50c2258f95d14634a84547f75e3a21ae",
       "version_major": 2,
       "version_minor": 0
      },
      "text/plain": [
       "Resolving data files:   0%|          | 0/28 [00:00<?, ?it/s]"
      ]
     },
     "metadata": {},
     "output_type": "display_data"
    },
    {
     "data": {
      "application/vnd.jupyter.widget-view+json": {
       "model_id": "609041f88f884c758dc2022e85fd417c",
       "version_major": 2,
       "version_minor": 0
      },
      "text/plain": [
       "Loading dataset shards:   0%|          | 0/28 [00:00<?, ?it/s]"
      ]
     },
     "metadata": {},
     "output_type": "display_data"
    }
   ],
   "source": [
    "sun397 = load_dataset('dpdl-benchmark/sun397')\n",
    "clean_labels(sun397, name='sun397')\n",
    "sun397_train = ImageDataset(\n",
    "    dataset=sun397['train'],\n",
    "    processor=processor,\n",
    ")\n",
    "sun397_validation = ImageDataset(\n",
    "    dataset=sun397['validation'],\n",
    "    processor=processor,\n",
    ")\n",
    "sun397_test = ImageDataset(\n",
    "    dataset=sun397['test'],\n",
    "    processor=processor,\n",
    ")"
   ]
  },
  {
   "cell_type": "markdown",
   "id": "e46e6787-13e6-4353-98f4-b72b7e30cff8",
   "metadata": {},
   "source": [
    "#### DTD"
   ]
  },
  {
   "cell_type": "code",
   "execution_count": 17,
   "id": "47ad6f60-2240-4d21-b8a5-2d32bb770e14",
   "metadata": {},
   "outputs": [
    {
     "data": {
      "application/vnd.jupyter.widget-view+json": {
       "model_id": "c813299ebc2e43ed8ff261ca8591d24e",
       "version_major": 2,
       "version_minor": 0
      },
      "text/plain": [
       "Casting the dataset:   0%|          | 0/3760 [00:00<?, ? examples/s]"
      ]
     },
     "metadata": {},
     "output_type": "display_data"
    },
    {
     "data": {
      "application/vnd.jupyter.widget-view+json": {
       "model_id": "0edc8b350f694c4d8a76047b9e3997c6",
       "version_major": 2,
       "version_minor": 0
      },
      "text/plain": [
       "Map:   0%|          | 0/3760 [00:00<?, ? examples/s]"
      ]
     },
     "metadata": {},
     "output_type": "display_data"
    },
    {
     "data": {
      "application/vnd.jupyter.widget-view+json": {
       "model_id": "181de2b5cc0240d6b64723f02b681e0b",
       "version_major": 2,
       "version_minor": 0
      },
      "text/plain": [
       "Casting the dataset:   0%|          | 0/1880 [00:00<?, ? examples/s]"
      ]
     },
     "metadata": {},
     "output_type": "display_data"
    },
    {
     "data": {
      "application/vnd.jupyter.widget-view+json": {
       "model_id": "8f968c2ac532445bad085a244587d239",
       "version_major": 2,
       "version_minor": 0
      },
      "text/plain": [
       "Map:   0%|          | 0/1880 [00:00<?, ? examples/s]"
      ]
     },
     "metadata": {},
     "output_type": "display_data"
    }
   ],
   "source": [
    "dtd = load_dataset('tanganke/dtd')\n",
    "clean_labels(dtd, name='dtd')\n",
    "dtd_train = ImageDataset(\n",
    "    dataset=dtd['train'],\n",
    "    processor=processor,\n",
    ")\n",
    "dtd_test = ImageDataset(\n",
    "    dataset=dtd['test'],\n",
    "    processor=processor,\n",
    ")"
   ]
  },
  {
   "cell_type": "markdown",
   "id": "d223a242-8f88-4025-990d-3f41b6866b0e",
   "metadata": {
    "jp-MarkdownHeadingCollapsed": true
   },
   "source": [
    "### Config"
   ]
  },
  {
   "cell_type": "markdown",
   "id": "a58d18e1-e2fd-4f41-ae8c-68f3b2799e9f",
   "metadata": {},
   "source": [
    "Create a config for experiments and print its settings."
   ]
  },
  {
   "cell_type": "code",
   "execution_count": 27,
   "id": "4737afbb-8aab-40d0-a49d-8ba7bbc3d1d4",
   "metadata": {},
   "outputs": [
    {
     "data": {
      "text/plain": [
       "{'device': 'cuda',\n",
       " 'criterion': CrossEntropyLoss(),\n",
       " 'batch_size': 8,\n",
       " 'lr': 0.0001,\n",
       " 'num_epochs': 10,\n",
       " 'optimizer': torch.optim.adamw.AdamW,\n",
       " 'weight_decay': 0.0001}"
      ]
     },
     "execution_count": 27,
     "metadata": {},
     "output_type": "execute_result"
    }
   ],
   "source": [
    "from torch.optim import AdamW\n",
    "\n",
    "config = Config(\n",
    "    num_epochs=10, \n",
    "    lr=1e-4,\n",
    "    optimizer=AdamW\n",
    ")\n",
    "config.get_settings()"
   ]
  },
  {
   "cell_type": "markdown",
   "id": "4cadb2d2-e7b2-49b2-922b-b28aaad1d784",
   "metadata": {},
   "source": [
    "Create empty array to store dataset accuracies for each experiment."
   ]
  },
  {
   "cell_type": "code",
   "execution_count": 111,
   "id": "48fb8d03-6e0e-4f8e-a9e1-4c668e8c2886",
   "metadata": {},
   "outputs": [],
   "source": [
    "resisc45_accs = []\n",
    "food101_accs = []\n",
    "fer2013_accs = []\n",
    "pcam_accs = []\n",
    "sun397_accs = []\n",
    "dtd_accs = []"
   ]
  },
  {
   "cell_type": "markdown",
   "id": "cb4bf859-94d2-41d0-a52d-1262a8a7df98",
   "metadata": {},
   "source": [
    "### Linear Probing\n"
   ]
  },
  {
   "cell_type": "markdown",
   "id": "eec9a894-daf5-4e22-9e7f-ccffc3e231ce",
   "metadata": {},
   "source": [
    "Train a new linear classifier on top of pre-trained model base."
   ]
  },
  {
   "cell_type": "markdown",
   "id": "baee4576-a479-4f39-9b16-52ea6623c52d",
   "metadata": {},
   "source": [
    "#### RESISC45"
   ]
  },
  {
   "cell_type": "code",
   "execution_count": 29,
   "id": "f903ac0f-8e0f-4b9e-ab7b-34728cae7c02",
   "metadata": {},
   "outputs": [
    {
     "name": "stderr",
     "output_type": "stream",
     "text": [
      "Some weights of ViTForImageClassification were not initialized from the model checkpoint at google/vit-base-patch16-224 and are newly initialized because the shapes did not match:\n",
      "- classifier.bias: found shape torch.Size([1000]) in the checkpoint and torch.Size([45]) in the model instantiated\n",
      "- classifier.weight: found shape torch.Size([1000, 768]) in the checkpoint and torch.Size([45, 768]) in the model instantiated\n",
      "You should probably TRAIN this model on a down-stream task to be able to use it for predictions and inference.\n"
     ]
    }
   ],
   "source": [
    "vit_resisc45 = Backbone(model_names['ViT'], num_classes=len(resisc45_train.get_labels()))"
   ]
  },
  {
   "cell_type": "code",
   "execution_count": 30,
   "id": "317d3558-f00b-4100-a17b-e4316653c01c",
   "metadata": {},
   "outputs": [
    {
     "name": "stdout",
     "output_type": "stream",
     "text": [
      "Parameters: 85.83M\n"
     ]
    }
   ],
   "source": [
    "get_model_params(vit_resisc45)"
   ]
  },
  {
   "cell_type": "code",
   "execution_count": 31,
   "id": "0dbdde30-69fe-41a0-92d4-4bbe8c24d6c7",
   "metadata": {},
   "outputs": [
    {
     "name": "stderr",
     "output_type": "stream",
     "text": [
      "100%|██████████| 2363/2363 [03:15<00:00, 12.10it/s]\n"
     ]
    },
    {
     "name": "stdout",
     "output_type": "stream",
     "text": [
      "Epochs: 1/10 | train_loss: 1.7766 | train_acc: 0.6074\n"
     ]
    },
    {
     "name": "stderr",
     "output_type": "stream",
     "text": [
      "100%|██████████| 2363/2363 [03:15<00:00, 12.10it/s]\n"
     ]
    },
    {
     "name": "stdout",
     "output_type": "stream",
     "text": [
      "Epochs: 2/10 | train_loss: 0.8883 | train_acc: 0.7800\n"
     ]
    },
    {
     "name": "stderr",
     "output_type": "stream",
     "text": [
      "100%|██████████| 2363/2363 [03:15<00:00, 12.06it/s]\n"
     ]
    },
    {
     "name": "stdout",
     "output_type": "stream",
     "text": [
      "Epochs: 3/10 | train_loss: 0.6968 | train_acc: 0.8181\n"
     ]
    },
    {
     "name": "stderr",
     "output_type": "stream",
     "text": [
      "100%|██████████| 2363/2363 [03:15<00:00, 12.09it/s]\n"
     ]
    },
    {
     "name": "stdout",
     "output_type": "stream",
     "text": [
      "Epochs: 4/10 | train_loss: 0.5945 | train_acc: 0.8412\n"
     ]
    },
    {
     "name": "stderr",
     "output_type": "stream",
     "text": [
      "100%|██████████| 2363/2363 [03:15<00:00, 12.09it/s]\n"
     ]
    },
    {
     "name": "stdout",
     "output_type": "stream",
     "text": [
      "Epochs: 5/10 | train_loss: 0.5265 | train_acc: 0.8574\n"
     ]
    },
    {
     "name": "stderr",
     "output_type": "stream",
     "text": [
      "100%|██████████| 2363/2363 [03:15<00:00, 12.08it/s]\n"
     ]
    },
    {
     "name": "stdout",
     "output_type": "stream",
     "text": [
      "Epochs: 6/10 | train_loss: 0.4774 | train_acc: 0.8719\n"
     ]
    },
    {
     "name": "stderr",
     "output_type": "stream",
     "text": [
      "100%|██████████| 2363/2363 [03:14<00:00, 12.12it/s]\n"
     ]
    },
    {
     "name": "stdout",
     "output_type": "stream",
     "text": [
      "Epochs: 7/10 | train_loss: 0.4386 | train_acc: 0.8812\n"
     ]
    },
    {
     "name": "stderr",
     "output_type": "stream",
     "text": [
      "100%|██████████| 2363/2363 [03:15<00:00, 12.10it/s]\n"
     ]
    },
    {
     "name": "stdout",
     "output_type": "stream",
     "text": [
      "Epochs: 8/10 | train_loss: 0.4068 | train_acc: 0.8897\n"
     ]
    },
    {
     "name": "stderr",
     "output_type": "stream",
     "text": [
      "100%|██████████| 2363/2363 [03:14<00:00, 12.13it/s]\n"
     ]
    },
    {
     "name": "stdout",
     "output_type": "stream",
     "text": [
      "Epochs: 9/10 | train_loss: 0.3804 | train_acc: 0.8980\n"
     ]
    },
    {
     "name": "stderr",
     "output_type": "stream",
     "text": [
      "100%|██████████| 2363/2363 [03:15<00:00, 12.06it/s]"
     ]
    },
    {
     "name": "stdout",
     "output_type": "stream",
     "text": [
      "Epochs: 10/10 | train_loss: 0.3577 | train_acc: 0.9047\n"
     ]
    },
    {
     "name": "stderr",
     "output_type": "stream",
     "text": [
      "\n"
     ]
    }
   ],
   "source": [
    "resisc45_loss, resisc45_acc, resisc45_per_class_acc = train_model(\n",
    "    vit_resisc45,\n",
    "    resisc45_train,\n",
    "    config,\n",
    "    'vit',\n",
    "    use_val=False,\n",
    "    fine_tune=False,\n",
    ")"
   ]
  },
  {
   "cell_type": "code",
   "execution_count": 32,
   "id": "7c799a30-5c03-44e1-8323-c25f4e8760ee",
   "metadata": {},
   "outputs": [
    {
     "name": "stderr",
     "output_type": "stream",
     "text": [
      "100%|██████████| 788/788 [01:04<00:00, 12.19it/s]"
     ]
    },
    {
     "name": "stdout",
     "output_type": "stream",
     "text": [
      "test_loss: 0.5046 | test_acc: 0.8463\n"
     ]
    },
    {
     "name": "stderr",
     "output_type": "stream",
     "text": [
      "\n"
     ]
    }
   ],
   "source": [
    "resisc45_loss, resisc45_acc, resisc45_per_class_acc = evaluate_model(\n",
    "    vit_resisc45,\n",
    "    resisc45_test,\n",
    "    config\n",
    ")"
   ]
  },
  {
   "cell_type": "code",
   "execution_count": 112,
   "id": "3e2e5a5e-fb90-470e-b9eb-36908a51337c",
   "metadata": {},
   "outputs": [],
   "source": [
    "resisc45_accs.append(resisc45_acc)"
   ]
  },
  {
   "cell_type": "code",
   "execution_count": 34,
   "id": "9adafef3-33e4-4bef-b5db-3b3b4a612b4d",
   "metadata": {},
   "outputs": [
    {
     "data": {
      "text/plain": [
       "[('sea ice', 0.9933774834437086),\n",
       " ('chaparral', 0.9848484848484849),\n",
       " ('mountain', 0.9739130434782609),\n",
       " ('snowberg', 0.9559748427672956),\n",
       " ('beach', 0.9538461538461539)]"
      ]
     },
     "execution_count": 34,
     "metadata": {},
     "output_type": "execute_result"
    }
   ],
   "source": [
    "get_top_5_accuracies(resisc45_per_class_acc)"
   ]
  },
  {
   "cell_type": "code",
   "execution_count": 35,
   "id": "af397207-10e1-43e7-be5a-09d76453f83e",
   "metadata": {},
   "outputs": [
    {
     "data": {
      "text/plain": [
       "[('palace', 0.55),\n",
       " ('tennis court', 0.5625),\n",
       " ('railway station', 0.7077922077922078),\n",
       " ('industrial area', 0.7285714285714285),\n",
       " ('basketball court', 0.753731343283582)]"
      ]
     },
     "execution_count": 35,
     "metadata": {},
     "output_type": "execute_result"
    }
   ],
   "source": [
    "get_bottom_5_accuracies(resisc45_per_class_acc)"
   ]
  },
  {
   "cell_type": "code",
   "execution_count": 36,
   "id": "69e0bdd9-c94d-4ef3-a914-bc4cedf25fb3",
   "metadata": {},
   "outputs": [
    {
     "data": {
      "image/png": "[encoded data removed]",
      "text/plain": [
       "<Figure size 1000x600 with 1 Axes>"
      ]
     },
     "metadata": {},
     "output_type": "display_data"
    }
   ],
   "source": [
    "plot_per_class_accuracies(\n",
    "    resisc45_per_class_acc,\n",
    "    'RESISC45',\n",
    "    num_bins=20\n",
    ")"
   ]
  },
  {
   "cell_type": "markdown",
   "id": "fe3c4b5f-1503-4c5e-986f-74e478b4b9be",
   "metadata": {},
   "source": [
    "#### Food-101"
   ]
  },
  {
   "cell_type": "code",
   "execution_count": 37,
   "id": "09e326fb-98b2-4be6-b8e7-a2f6795a9938",
   "metadata": {},
   "outputs": [
    {
     "name": "stderr",
     "output_type": "stream",
     "text": [
      "Some weights of ViTForImageClassification were not initialized from the model checkpoint at google/vit-base-patch16-224 and are newly initialized because the shapes did not match:\n",
      "- classifier.bias: found shape torch.Size([1000]) in the checkpoint and torch.Size([101]) in the model instantiated\n",
      "- classifier.weight: found shape torch.Size([1000, 768]) in the checkpoint and torch.Size([101, 768]) in the model instantiated\n",
      "You should probably TRAIN this model on a down-stream task to be able to use it for predictions and inference.\n"
     ]
    }
   ],
   "source": [
    "vit_food101 = Backbone(model_names['ViT'], num_classes=len(food101_train.get_labels()))"
   ]
  },
  {
   "cell_type": "code",
   "execution_count": 38,
   "id": "7c72e21c-5156-4f45-aad0-45861117e5bf",
   "metadata": {},
   "outputs": [
    {
     "name": "stdout",
     "output_type": "stream",
     "text": [
      "Parameters: 85.88M\n"
     ]
    }
   ],
   "source": [
    "get_model_params(vit_food101)"
   ]
  },
  {
   "cell_type": "code",
   "execution_count": 39,
   "id": "96573b52-e953-442a-b7d1-f89dcb5fc690",
   "metadata": {
    "editable": true,
    "slideshow": {
     "slide_type": ""
    },
    "tags": []
   },
   "outputs": [
    {
     "name": "stderr",
     "output_type": "stream",
     "text": [
      " 33%|███▎      | 3140/9469 [05:01<09:57, 10.59it/s]/opt/conda/lib/python3.11/site-packages/PIL/TiffImagePlugin.py:868: UserWarning: Truncated File Read\n",
      "  warnings.warn(str(msg))\n",
      "100%|██████████| 9469/9469 [15:03<00:00, 10.48it/s]\n"
     ]
    },
    {
     "name": "stdout",
     "output_type": "stream",
     "text": [
      "Epochs: 1/10 | train_loss: 1.2381 | train_acc: 0.7256\n"
     ]
    },
    {
     "name": "stderr",
     "output_type": "stream",
     "text": [
      "100%|██████████| 9469/9469 [14:51<00:00, 10.62it/s]\n"
     ]
    },
    {
     "name": "stdout",
     "output_type": "stream",
     "text": [
      "Epochs: 2/10 | train_loss: 0.7413 | train_acc: 0.8039\n"
     ]
    },
    {
     "name": "stderr",
     "output_type": "stream",
     "text": [
      "100%|██████████| 9469/9469 [14:52<00:00, 10.61it/s]\n"
     ]
    },
    {
     "name": "stdout",
     "output_type": "stream",
     "text": [
      "Epochs: 3/10 | train_loss: 0.6634 | train_acc: 0.8228\n"
     ]
    },
    {
     "name": "stderr",
     "output_type": "stream",
     "text": [
      "100%|██████████| 9469/9469 [14:54<00:00, 10.58it/s]\n"
     ]
    },
    {
     "name": "stdout",
     "output_type": "stream",
     "text": [
      "Epochs: 4/10 | train_loss: 0.6155 | train_acc: 0.8350\n"
     ]
    },
    {
     "name": "stderr",
     "output_type": "stream",
     "text": [
      "100%|██████████| 9469/9469 [14:53<00:00, 10.60it/s]\n"
     ]
    },
    {
     "name": "stdout",
     "output_type": "stream",
     "text": [
      "Epochs: 5/10 | train_loss: 0.5802 | train_acc: 0.8448\n"
     ]
    },
    {
     "name": "stderr",
     "output_type": "stream",
     "text": [
      "100%|██████████| 9469/9469 [14:50<00:00, 10.63it/s]\n"
     ]
    },
    {
     "name": "stdout",
     "output_type": "stream",
     "text": [
      "Epochs: 6/10 | train_loss: 0.5530 | train_acc: 0.8519\n"
     ]
    },
    {
     "name": "stderr",
     "output_type": "stream",
     "text": [
      "100%|██████████| 9469/9469 [14:51<00:00, 10.62it/s]\n"
     ]
    },
    {
     "name": "stdout",
     "output_type": "stream",
     "text": [
      "Epochs: 7/10 | train_loss: 0.5292 | train_acc: 0.8585\n"
     ]
    },
    {
     "name": "stderr",
     "output_type": "stream",
     "text": [
      "100%|██████████| 9469/9469 [14:50<00:00, 10.64it/s]\n"
     ]
    },
    {
     "name": "stdout",
     "output_type": "stream",
     "text": [
      "Epochs: 8/10 | train_loss: 0.5100 | train_acc: 0.8634\n"
     ]
    },
    {
     "name": "stderr",
     "output_type": "stream",
     "text": [
      "100%|██████████| 9469/9469 [14:50<00:00, 10.63it/s]\n"
     ]
    },
    {
     "name": "stdout",
     "output_type": "stream",
     "text": [
      "Epochs: 9/10 | train_loss: 0.4932 | train_acc: 0.8688\n"
     ]
    },
    {
     "name": "stderr",
     "output_type": "stream",
     "text": [
      "100%|██████████| 9469/9469 [14:51<00:00, 10.63it/s]\n"
     ]
    },
    {
     "name": "stdout",
     "output_type": "stream",
     "text": [
      "Epochs: 10/10 | train_loss: 0.4780 | train_acc: 0.8721\n"
     ]
    }
   ],
   "source": [
    "food101_loss, food101_acc, food101_per_class_acc = train_model(\n",
    "    vit_food101,\n",
    "    food101_train,\n",
    "    config,\n",
    "    'vit',\n",
    "    use_val=False,\n",
    "    fine_tune=False,\n",
    ")"
   ]
  },
  {
   "cell_type": "code",
   "execution_count": 40,
   "id": "1310fde3-0a76-445b-ab97-257c9852d42d",
   "metadata": {},
   "outputs": [
    {
     "name": "stderr",
     "output_type": "stream",
     "text": [
      "100%|██████████| 3157/3157 [04:54<00:00, 10.71it/s]"
     ]
    },
    {
     "name": "stdout",
     "output_type": "stream",
     "text": [
      "test_loss: 0.4950 | test_acc: 0.8596\n"
     ]
    },
    {
     "name": "stderr",
     "output_type": "stream",
     "text": [
      "\n"
     ]
    }
   ],
   "source": [
    "food101_loss, food101_acc, food101_per_class_acc = evaluate_model(\n",
    "    vit_food101,\n",
    "    food101_validation,\n",
    "    config\n",
    ")"
   ]
  },
  {
   "cell_type": "code",
   "execution_count": 113,
   "id": "5908b734-1567-4fe2-869b-29d823a24c95",
   "metadata": {},
   "outputs": [],
   "source": [
    "food101_accs.append(food101_acc)"
   ]
  },
  {
   "cell_type": "code",
   "execution_count": 42,
   "id": "583e61a3-72e3-4dc3-9584-e5f32a03bc9f",
   "metadata": {},
   "outputs": [
    {
     "data": {
      "text/plain": [
       "[('edamame', 0.992),\n",
       " ('oysters', 0.972),\n",
       " ('pho', 0.972),\n",
       " ('pizza', 0.972),\n",
       " ('macarons', 0.968)]"
      ]
     },
     "execution_count": 42,
     "metadata": {},
     "output_type": "execute_result"
    }
   ],
   "source": [
    "get_top_5_accuracies(food101_per_class_acc)"
   ]
  },
  {
   "cell_type": "code",
   "execution_count": 43,
   "id": "bf792307-5279-48ba-a249-2de82fd02477",
   "metadata": {},
   "outputs": [
    {
     "data": {
      "text/plain": [
       "[('pork chop', 0.556),\n",
       " ('steak', 0.568),\n",
       " ('chocolate cake', 0.66),\n",
       " ('ceviche', 0.668),\n",
       " ('scallops', 0.672)]"
      ]
     },
     "execution_count": 43,
     "metadata": {},
     "output_type": "execute_result"
    }
   ],
   "source": [
    "get_bottom_5_accuracies(food101_per_class_acc)"
   ]
  },
  {
   "cell_type": "code",
   "execution_count": 44,
   "id": "38e78b1e-3642-4490-a5ba-55e5cbf51dbb",
   "metadata": {},
   "outputs": [
    {
     "data": {
      "image/png": "[encoded data removed]",
      "text/plain": [
       "<Figure size 1000x600 with 1 Axes>"
      ]
     },
     "metadata": {},
     "output_type": "display_data"
    }
   ],
   "source": [
    "plot_per_class_accuracies(\n",
    "    food101_per_class_acc,\n",
    "    'Food-101',\n",
    "    num_bins=20\n",
    ")"
   ]
  },
  {
   "cell_type": "markdown",
   "id": "6dace74f-0fd6-4360-9ce9-d51ee108aca5",
   "metadata": {},
   "source": [
    "#### FER2013"
   ]
  },
  {
   "cell_type": "code",
   "execution_count": 76,
   "id": "4ccac894-0b8f-4175-a12e-fb9ef4aee800",
   "metadata": {},
   "outputs": [
    {
     "name": "stderr",
     "output_type": "stream",
     "text": [
      "Some weights of ViTForImageClassification were not initialized from the model checkpoint at google/vit-base-patch16-224 and are newly initialized because the shapes did not match:\n",
      "- classifier.bias: found shape torch.Size([1000]) in the checkpoint and torch.Size([7]) in the model instantiated\n",
      "- classifier.weight: found shape torch.Size([1000, 768]) in the checkpoint and torch.Size([7, 768]) in the model instantiated\n",
      "You should probably TRAIN this model on a down-stream task to be able to use it for predictions and inference.\n"
     ]
    }
   ],
   "source": [
    "vit_fer2013 = Backbone(model_names['ViT'], num_classes=len(fer2013_train.get_labels()))"
   ]
  },
  {
   "cell_type": "code",
   "execution_count": 77,
   "id": "8b8d37f9-c7d0-473d-b851-7083163e54f2",
   "metadata": {},
   "outputs": [
    {
     "name": "stdout",
     "output_type": "stream",
     "text": [
      "Parameters: 85.80M\n"
     ]
    }
   ],
   "source": [
    "get_model_params(vit_fer2013)"
   ]
  },
  {
   "cell_type": "code",
   "execution_count": 78,
   "id": "8b98beb2-14be-468c-af77-17d9070867dc",
   "metadata": {
    "editable": true,
    "slideshow": {
     "slide_type": ""
    },
    "tags": []
   },
   "outputs": [
    {
     "name": "stderr",
     "output_type": "stream",
     "text": [
      "100%|██████████| 3589/3589 [04:38<00:00, 12.89it/s]\n"
     ]
    },
    {
     "name": "stdout",
     "output_type": "stream",
     "text": [
      "Epochs: 1/10 | train_loss: 1.3044 | train_acc: 0.5120\n"
     ]
    },
    {
     "name": "stderr",
     "output_type": "stream",
     "text": [
      "100%|██████████| 3589/3589 [04:39<00:00, 12.86it/s]\n"
     ]
    },
    {
     "name": "stdout",
     "output_type": "stream",
     "text": [
      "Epochs: 2/10 | train_loss: 1.1471 | train_acc: 0.5732\n"
     ]
    },
    {
     "name": "stderr",
     "output_type": "stream",
     "text": [
      "100%|██████████| 3589/3589 [04:38<00:00, 12.90it/s]\n"
     ]
    },
    {
     "name": "stdout",
     "output_type": "stream",
     "text": [
      "Epochs: 3/10 | train_loss: 1.1046 | train_acc: 0.5870\n"
     ]
    },
    {
     "name": "stderr",
     "output_type": "stream",
     "text": [
      "100%|██████████| 3589/3589 [04:37<00:00, 12.91it/s]\n"
     ]
    },
    {
     "name": "stdout",
     "output_type": "stream",
     "text": [
      "Epochs: 4/10 | train_loss: 1.0811 | train_acc: 0.5982\n"
     ]
    },
    {
     "name": "stderr",
     "output_type": "stream",
     "text": [
      "100%|██████████| 3589/3589 [04:37<00:00, 12.91it/s]\n"
     ]
    },
    {
     "name": "stdout",
     "output_type": "stream",
     "text": [
      "Epochs: 5/10 | train_loss: 1.0640 | train_acc: 0.6040\n"
     ]
    },
    {
     "name": "stderr",
     "output_type": "stream",
     "text": [
      "100%|██████████| 3589/3589 [04:38<00:00, 12.88it/s]\n"
     ]
    },
    {
     "name": "stdout",
     "output_type": "stream",
     "text": [
      "Epochs: 6/10 | train_loss: 1.0509 | train_acc: 0.6111\n"
     ]
    },
    {
     "name": "stderr",
     "output_type": "stream",
     "text": [
      "100%|██████████| 3589/3589 [04:38<00:00, 12.90it/s]\n"
     ]
    },
    {
     "name": "stdout",
     "output_type": "stream",
     "text": [
      "Epochs: 7/10 | train_loss: 1.0411 | train_acc: 0.6147\n"
     ]
    },
    {
     "name": "stderr",
     "output_type": "stream",
     "text": [
      "100%|██████████| 3589/3589 [04:37<00:00, 12.92it/s]\n"
     ]
    },
    {
     "name": "stdout",
     "output_type": "stream",
     "text": [
      "Epochs: 8/10 | train_loss: 1.0323 | train_acc: 0.6168\n"
     ]
    },
    {
     "name": "stderr",
     "output_type": "stream",
     "text": [
      "100%|██████████| 3589/3589 [04:38<00:00, 12.91it/s]\n"
     ]
    },
    {
     "name": "stdout",
     "output_type": "stream",
     "text": [
      "Epochs: 9/10 | train_loss: 1.0250 | train_acc: 0.6202\n"
     ]
    },
    {
     "name": "stderr",
     "output_type": "stream",
     "text": [
      "100%|██████████| 3589/3589 [04:37<00:00, 12.92it/s]"
     ]
    },
    {
     "name": "stdout",
     "output_type": "stream",
     "text": [
      "Epochs: 10/10 | train_loss: 1.0189 | train_acc: 0.6213\n"
     ]
    },
    {
     "name": "stderr",
     "output_type": "stream",
     "text": [
      "\n"
     ]
    }
   ],
   "source": [
    "fer2013_loss, fer2013_acc, fer2013_per_class_acc = train_model(\n",
    "    vit_fer2013,\n",
    "    fer2013_train,\n",
    "    config,\n",
    "    'vit',,\n",
    "    use_val=False,\n",
    "    fine_tune=False,\n",
    ")"
   ]
  },
  {
   "cell_type": "code",
   "execution_count": 79,
   "id": "ed2c9c07-6f5b-4775-89e1-9a71073d9a8e",
   "metadata": {
    "editable": true,
    "slideshow": {
     "slide_type": ""
    },
    "tags": []
   },
   "outputs": [
    {
     "name": "stderr",
     "output_type": "stream",
     "text": [
      "100%|██████████| 449/449 [00:34<00:00, 12.93it/s]"
     ]
    },
    {
     "name": "stdout",
     "output_type": "stream",
     "text": [
      "test_loss: 1.0559 | test_acc: 0.6018\n"
     ]
    },
    {
     "name": "stderr",
     "output_type": "stream",
     "text": [
      "\n"
     ]
    }
   ],
   "source": [
    "fer2013_loss, fer2013_acc, fer2013_per_class_acc = evaluate_model(\n",
    "    vit_fer2013,\n",
    "    fer2013_test,\n",
    "    config\n",
    ")"
   ]
  },
  {
   "cell_type": "code",
   "execution_count": 114,
   "id": "a1e1fc0e-7d12-42d9-814e-841195168061",
   "metadata": {},
   "outputs": [],
   "source": [
    "fer2013_accs.append(fer2013_acc)"
   ]
  },
  {
   "cell_type": "code",
   "execution_count": 81,
   "id": "77115768-c83e-4d7e-8753-d602ca47bbd3",
   "metadata": {},
   "outputs": [
    {
     "data": {
      "text/plain": [
       "{'angry': 0.46435845213849286,\n",
       " 'disgust': 0.3090909090909091,\n",
       " 'fear': 0.3352272727272727,\n",
       " 'happy': 0.888509670079636,\n",
       " 'sad': 0.5336700336700336,\n",
       " 'surprise': 0.6610576923076923,\n",
       " 'neutral': 0.5830670926517572}"
      ]
     },
     "execution_count": 81,
     "metadata": {},
     "output_type": "execute_result"
    }
   ],
   "source": [
    "fer2013_per_class_acc"
   ]
  },
  {
   "cell_type": "code",
   "execution_count": 82,
   "id": "b687c37b-c987-45fe-862e-2f85abecef34",
   "metadata": {},
   "outputs": [
    {
     "data": {
      "image/png": "[encoded data removed]",
      "text/plain": [
       "<Figure size 1000x600 with 1 Axes>"
      ]
     },
     "metadata": {},
     "output_type": "display_data"
    }
   ],
   "source": [
    "plot_per_class_accuracies(\n",
    "    fer2013_per_class_acc,\n",
    "    'FER2013',\n",
    "    num_bins=20\n",
    ")"
   ]
  },
  {
   "cell_type": "markdown",
   "id": "ae722f72-87dc-44b7-9342-f69576d9f99a",
   "metadata": {},
   "source": [
    "#### PCam"
   ]
  },
  {
   "cell_type": "code",
   "execution_count": 83,
   "id": "05746506-b93d-4025-90a1-f265d6f82923",
   "metadata": {},
   "outputs": [
    {
     "name": "stderr",
     "output_type": "stream",
     "text": [
      "Some weights of ViTForImageClassification were not initialized from the model checkpoint at google/vit-base-patch16-224 and are newly initialized because the shapes did not match:\n",
      "- classifier.bias: found shape torch.Size([1000]) in the checkpoint and torch.Size([2]) in the model instantiated\n",
      "- classifier.weight: found shape torch.Size([1000, 768]) in the checkpoint and torch.Size([2, 768]) in the model instantiated\n",
      "You should probably TRAIN this model on a down-stream task to be able to use it for predictions and inference.\n"
     ]
    }
   ],
   "source": [
    "vit_pcam = Backbone(model_names['ViT'], num_classes=len(pcam_train.get_labels()))"
   ]
  },
  {
   "cell_type": "code",
   "execution_count": 84,
   "id": "46559a21-385f-47b3-b87e-9fa540a44dc4",
   "metadata": {},
   "outputs": [
    {
     "name": "stdout",
     "output_type": "stream",
     "text": [
      "Parameters: 85.80M\n"
     ]
    }
   ],
   "source": [
    "get_model_params(vit_pcam)"
   ]
  },
  {
   "cell_type": "code",
   "execution_count": 85,
   "id": "885ecbb5-354b-4c8f-8562-0ef6b1cd9c61",
   "metadata": {},
   "outputs": [
    {
     "name": "stderr",
     "output_type": "stream",
     "text": [
      "100%|██████████| 32768/32768 [42:55<00:00, 12.72it/s]\n"
     ]
    },
    {
     "name": "stdout",
     "output_type": "stream",
     "text": [
      "Epochs: 1/10 | train_loss: 0.3051 | train_acc: 0.8707\n"
     ]
    },
    {
     "name": "stderr",
     "output_type": "stream",
     "text": [
      "100%|██████████| 32768/32768 [42:53<00:00, 12.73it/s]\n"
     ]
    },
    {
     "name": "stdout",
     "output_type": "stream",
     "text": [
      "Epochs: 2/10 | train_loss: 0.2638 | train_acc: 0.8927\n"
     ]
    },
    {
     "name": "stderr",
     "output_type": "stream",
     "text": [
      "100%|██████████| 32768/32768 [42:55<00:00, 12.73it/s]\n"
     ]
    },
    {
     "name": "stdout",
     "output_type": "stream",
     "text": [
      "Epochs: 3/10 | train_loss: 0.2534 | train_acc: 0.8978\n"
     ]
    },
    {
     "name": "stderr",
     "output_type": "stream",
     "text": [
      "100%|██████████| 32768/32768 [42:54<00:00, 12.73it/s]\n"
     ]
    },
    {
     "name": "stdout",
     "output_type": "stream",
     "text": [
      "Epochs: 4/10 | train_loss: 0.2484 | train_acc: 0.9002\n"
     ]
    },
    {
     "name": "stderr",
     "output_type": "stream",
     "text": [
      "100%|██████████| 32768/32768 [42:55<00:00, 12.72it/s]\n"
     ]
    },
    {
     "name": "stdout",
     "output_type": "stream",
     "text": [
      "Epochs: 5/10 | train_loss: 0.2448 | train_acc: 0.9021\n"
     ]
    },
    {
     "name": "stderr",
     "output_type": "stream",
     "text": [
      "100%|██████████| 32768/32768 [42:54<00:00, 12.73it/s]\n"
     ]
    },
    {
     "name": "stdout",
     "output_type": "stream",
     "text": [
      "Epochs: 6/10 | train_loss: 0.2424 | train_acc: 0.9032\n"
     ]
    },
    {
     "name": "stderr",
     "output_type": "stream",
     "text": [
      "100%|██████████| 32768/32768 [42:54<00:00, 12.73it/s]\n"
     ]
    },
    {
     "name": "stdout",
     "output_type": "stream",
     "text": [
      "Epochs: 7/10 | train_loss: 0.2408 | train_acc: 0.9042\n"
     ]
    },
    {
     "name": "stderr",
     "output_type": "stream",
     "text": [
      "100%|██████████| 32768/32768 [42:56<00:00, 12.72it/s]\n"
     ]
    },
    {
     "name": "stdout",
     "output_type": "stream",
     "text": [
      "Epochs: 8/10 | train_loss: 0.2393 | train_acc: 0.9046\n"
     ]
    },
    {
     "name": "stderr",
     "output_type": "stream",
     "text": [
      "100%|██████████| 32768/32768 [42:54<00:00, 12.73it/s]\n"
     ]
    },
    {
     "name": "stdout",
     "output_type": "stream",
     "text": [
      "Epochs: 9/10 | train_loss: 0.2381 | train_acc: 0.9052\n"
     ]
    },
    {
     "name": "stderr",
     "output_type": "stream",
     "text": [
      "100%|██████████| 32768/32768 [42:55<00:00, 12.72it/s]\n"
     ]
    },
    {
     "name": "stdout",
     "output_type": "stream",
     "text": [
      "Epochs: 10/10 | train_loss: 0.2374 | train_acc: 0.9058\n"
     ]
    }
   ],
   "source": [
    "pcam_loss, pcam_acc, pcam_per_class_acc = train_model(\n",
    "    vit_pcam,\n",
    "    pcam_train,\n",
    "    config,\n",
    "    'vit',\n",
    "    use_val=False,\n",
    "    fine_tune=False,\n",
    ")"
   ]
  },
  {
   "cell_type": "code",
   "execution_count": 86,
   "id": "94d4af2c-3bb4-41a2-be2f-a86cccd2b3a1",
   "metadata": {},
   "outputs": [
    {
     "name": "stderr",
     "output_type": "stream",
     "text": [
      "100%|██████████| 4096/4096 [05:20<00:00, 12.77it/s]"
     ]
    },
    {
     "name": "stdout",
     "output_type": "stream",
     "text": [
      "test_loss: 0.3589 | test_acc: 0.8431\n"
     ]
    },
    {
     "name": "stderr",
     "output_type": "stream",
     "text": [
      "\n"
     ]
    }
   ],
   "source": [
    "pcam_loss, pcam_acc, pcam_per_class_acc = evaluate_model(\n",
    "    vit_pcam,\n",
    "    pcam_test,\n",
    "    config\n",
    ")"
   ]
  },
  {
   "cell_type": "code",
   "execution_count": 115,
   "id": "4e18eae0-58f0-456e-a5d3-76565fb5fc2f",
   "metadata": {},
   "outputs": [],
   "source": [
    "pcam_accs.append(pcam_acc)"
   ]
  },
  {
   "cell_type": "code",
   "execution_count": 88,
   "id": "0324390a-1173-4f42-a515-e9a0acf495bc",
   "metadata": {},
   "outputs": [
    {
     "data": {
      "text/plain": [
       "{'healthy lymph node tissue': 0.9237386370569215,\n",
       " 'lymph node tumor tissue': 0.7623496366855956}"
      ]
     },
     "execution_count": 88,
     "metadata": {},
     "output_type": "execute_result"
    }
   ],
   "source": [
    "pcam_per_class_acc"
   ]
  },
  {
   "cell_type": "code",
   "execution_count": 89,
   "id": "6d73cb17-9a79-4fcb-a5bc-1cdc01c34f10",
   "metadata": {},
   "outputs": [
    {
     "data": {
      "image/png": "[encoded data removed]",
      "text/plain": [
       "<Figure size 1000x600 with 1 Axes>"
      ]
     },
     "metadata": {},
     "output_type": "display_data"
    }
   ],
   "source": [
    "plot_per_class_accuracies(\n",
    "    pcam_per_class_acc,\n",
    "    'PatchCamelyon',\n",
    "    num_bins=20\n",
    ")"
   ]
  },
  {
   "cell_type": "markdown",
   "id": "93af562d-1712-465d-bab3-4eeb72d02569",
   "metadata": {},
   "source": [
    "#### SUN397"
   ]
  },
  {
   "cell_type": "code",
   "execution_count": 90,
   "id": "1cf260ec-de4b-473d-8fee-dba06b312f70",
   "metadata": {},
   "outputs": [
    {
     "name": "stderr",
     "output_type": "stream",
     "text": [
      "Some weights of ViTForImageClassification were not initialized from the model checkpoint at google/vit-base-patch16-224 and are newly initialized because the shapes did not match:\n",
      "- classifier.bias: found shape torch.Size([1000]) in the checkpoint and torch.Size([397]) in the model instantiated\n",
      "- classifier.weight: found shape torch.Size([1000, 768]) in the checkpoint and torch.Size([397, 768]) in the model instantiated\n",
      "You should probably TRAIN this model on a down-stream task to be able to use it for predictions and inference.\n"
     ]
    }
   ],
   "source": [
    "vit_sun397 = Backbone(model_names['ViT'], num_classes=len(sun397_train.get_labels()))"
   ]
  },
  {
   "cell_type": "code",
   "execution_count": 91,
   "id": "7dbc1cef-fee3-46c9-8d6d-af3eca2a3673",
   "metadata": {},
   "outputs": [
    {
     "name": "stdout",
     "output_type": "stream",
     "text": [
      "Parameters: 86.10M\n"
     ]
    }
   ],
   "source": [
    "get_model_params(vit_sun397)"
   ]
  },
  {
   "cell_type": "code",
   "execution_count": 92,
   "id": "3589b9ef-9a74-4f54-ab29-eb763b77c3db",
   "metadata": {},
   "outputs": [
    {
     "name": "stderr",
     "output_type": "stream",
     "text": [
      "100%|██████████| 9516/9516 [16:02<00:00,  9.88it/s]\n"
     ]
    },
    {
     "name": "stdout",
     "output_type": "stream",
     "text": [
      "Epochs: 1/10 | train_loss: 1.5558 | train_acc: 0.6716\n"
     ]
    },
    {
     "name": "stderr",
     "output_type": "stream",
     "text": [
      "100%|██████████| 9516/9516 [15:58<00:00,  9.93it/s]\n"
     ]
    },
    {
     "name": "stdout",
     "output_type": "stream",
     "text": [
      "Epochs: 2/10 | train_loss: 0.7461 | train_acc: 0.7884\n"
     ]
    },
    {
     "name": "stderr",
     "output_type": "stream",
     "text": [
      "100%|██████████| 9516/9516 [16:00<00:00,  9.91it/s]\n"
     ]
    },
    {
     "name": "stdout",
     "output_type": "stream",
     "text": [
      "Epochs: 3/10 | train_loss: 0.6337 | train_acc: 0.8156\n"
     ]
    },
    {
     "name": "stderr",
     "output_type": "stream",
     "text": [
      "100%|██████████| 9516/9516 [16:00<00:00,  9.91it/s]\n"
     ]
    },
    {
     "name": "stdout",
     "output_type": "stream",
     "text": [
      "Epochs: 4/10 | train_loss: 0.5615 | train_acc: 0.8356\n"
     ]
    },
    {
     "name": "stderr",
     "output_type": "stream",
     "text": [
      "100%|██████████| 9516/9516 [16:00<00:00,  9.90it/s]\n"
     ]
    },
    {
     "name": "stdout",
     "output_type": "stream",
     "text": [
      "Epochs: 5/10 | train_loss: 0.5077 | train_acc: 0.8517\n"
     ]
    },
    {
     "name": "stderr",
     "output_type": "stream",
     "text": [
      "100%|██████████| 9516/9516 [15:59<00:00,  9.92it/s]\n"
     ]
    },
    {
     "name": "stdout",
     "output_type": "stream",
     "text": [
      "Epochs: 6/10 | train_loss: 0.4630 | train_acc: 0.8652\n"
     ]
    },
    {
     "name": "stderr",
     "output_type": "stream",
     "text": [
      "100%|██████████| 9516/9516 [16:01<00:00,  9.90it/s]\n"
     ]
    },
    {
     "name": "stdout",
     "output_type": "stream",
     "text": [
      "Epochs: 7/10 | train_loss: 0.4270 | train_acc: 0.8765\n"
     ]
    },
    {
     "name": "stderr",
     "output_type": "stream",
     "text": [
      "100%|██████████| 9516/9516 [16:00<00:00,  9.91it/s]\n"
     ]
    },
    {
     "name": "stdout",
     "output_type": "stream",
     "text": [
      "Epochs: 8/10 | train_loss: 0.3957 | train_acc: 0.8875\n"
     ]
    },
    {
     "name": "stderr",
     "output_type": "stream",
     "text": [
      "100%|██████████| 9516/9516 [15:59<00:00,  9.91it/s]\n"
     ]
    },
    {
     "name": "stdout",
     "output_type": "stream",
     "text": [
      "Epochs: 9/10 | train_loss: 0.3694 | train_acc: 0.8956\n"
     ]
    },
    {
     "name": "stderr",
     "output_type": "stream",
     "text": [
      "100%|██████████| 9516/9516 [16:00<00:00,  9.91it/s]\n"
     ]
    },
    {
     "name": "stdout",
     "output_type": "stream",
     "text": [
      "Epochs: 10/10 | train_loss: 0.3466 | train_acc: 0.9031\n"
     ]
    }
   ],
   "source": [
    "sun397_loss, sun397_acc, sun397_per_class_acc = train_model(\n",
    "    vit_sun397,\n",
    "    sun397_train,\n",
    "    config,\n",
    "    'vit',\n",
    "    use_val=False,\n",
    "    fine_tune=False,\n",
    ")"
   ]
  },
  {
   "cell_type": "code",
   "execution_count": 93,
   "id": "2792c72b-006f-4fd9-af19-7a23144c2776",
   "metadata": {},
   "outputs": [
    {
     "name": "stderr",
     "output_type": "stream",
     "text": [
      "100%|██████████| 2719/2719 [04:35<00:00,  9.85it/s]\n"
     ]
    },
    {
     "name": "stdout",
     "output_type": "stream",
     "text": [
      "test_loss: 0.7897 | test_acc: 0.7745\n"
     ]
    }
   ],
   "source": [
    "sun397_loss, sun397_acc, sun397_per_class_acc = evaluate_model(\n",
    "    vit_sun397,\n",
    "    sun397_test,\n",
    "    config\n",
    ")"
   ]
  },
  {
   "cell_type": "code",
   "execution_count": 116,
   "id": "d39645d6-fc7d-446a-9981-333b31dd326d",
   "metadata": {},
   "outputs": [],
   "source": [
    "sun397_accs.append(sun397_acc)"
   ]
  },
  {
   "cell_type": "code",
   "execution_count": 95,
   "id": "df14cd76-f403-4702-a9b5-f63991ce04d9",
   "metadata": {},
   "outputs": [
    {
     "data": {
      "text/plain": [
       "[('batters box', 1.0),\n",
       " ('bullring', 1.0),\n",
       " ('oast house', 1.0),\n",
       " ('raceway', 1.0),\n",
       " ('raft', 1.0)]"
      ]
     },
     "execution_count": 95,
     "metadata": {},
     "output_type": "execute_result"
    }
   ],
   "source": [
    "get_top_5_accuracies(sun397_per_class_acc)"
   ]
  },
  {
   "cell_type": "code",
   "execution_count": 96,
   "id": "31d9bf8d-a686-4dc0-bad5-7681e66ddb9e",
   "metadata": {},
   "outputs": [
    {
     "data": {
      "text/plain": [
       "[('bistro (indoor)', 0.0),\n",
       " ('recreation room', 0.037037037037037035),\n",
       " ('coffee shop', 0.14814814814814814),\n",
       " ('courtyard', 0.16666666666666666),\n",
       " ('inn (outdoor)', 0.1724137931034483)]"
      ]
     },
     "execution_count": 96,
     "metadata": {},
     "output_type": "execute_result"
    }
   ],
   "source": [
    "get_bottom_5_accuracies(sun397_per_class_acc)"
   ]
  },
  {
   "cell_type": "code",
   "execution_count": 97,
   "id": "2d78a624-a6fc-4a15-acbd-0b14cb5a51cc",
   "metadata": {},
   "outputs": [
    {
     "data": {
      "image/png": "[encoded data removed]",
      "text/plain": [
       "<Figure size 1000x600 with 1 Axes>"
      ]
     },
     "metadata": {},
     "output_type": "display_data"
    }
   ],
   "source": [
    "plot_per_class_accuracies(\n",
    "    sun397_per_class_acc,\n",
    "    'SUN397',\n",
    "    num_bins=20\n",
    ")"
   ]
  },
  {
   "cell_type": "markdown",
   "id": "f3c9a504-65a4-4bdb-83bf-1f0d86fa8f47",
   "metadata": {},
   "source": [
    "#### DTD"
   ]
  },
  {
   "cell_type": "code",
   "execution_count": 98,
   "id": "5e33a355-31ee-4b2d-83c4-9473daed2d76",
   "metadata": {},
   "outputs": [
    {
     "name": "stderr",
     "output_type": "stream",
     "text": [
      "Some weights of ViTForImageClassification were not initialized from the model checkpoint at google/vit-base-patch16-224 and are newly initialized because the shapes did not match:\n",
      "- classifier.bias: found shape torch.Size([1000]) in the checkpoint and torch.Size([47]) in the model instantiated\n",
      "- classifier.weight: found shape torch.Size([1000, 768]) in the checkpoint and torch.Size([47, 768]) in the model instantiated\n",
      "You should probably TRAIN this model on a down-stream task to be able to use it for predictions and inference.\n"
     ]
    }
   ],
   "source": [
    "vit_dtd = Backbone(model_names['ViT'], num_classes=len(dtd_train.get_labels()))"
   ]
  },
  {
   "cell_type": "code",
   "execution_count": 99,
   "id": "1747f40f-63d8-4acd-b971-93e2b4877431",
   "metadata": {},
   "outputs": [
    {
     "name": "stdout",
     "output_type": "stream",
     "text": [
      "Parameters: 85.83M\n"
     ]
    }
   ],
   "source": [
    "get_model_params(vit_dtd)"
   ]
  },
  {
   "cell_type": "code",
   "execution_count": 100,
   "id": "d82e9167-814d-4c4e-816d-3c00ab5ecd96",
   "metadata": {},
   "outputs": [
    {
     "name": "stderr",
     "output_type": "stream",
     "text": [
      "100%|██████████| 470/470 [00:46<00:00, 10.15it/s]\n"
     ]
    },
    {
     "name": "stdout",
     "output_type": "stream",
     "text": [
      "Epochs: 1/10 | train_loss: 3.1578 | train_acc: 0.3019\n"
     ]
    },
    {
     "name": "stderr",
     "output_type": "stream",
     "text": [
      "100%|██████████| 470/470 [00:46<00:00, 10.17it/s]\n"
     ]
    },
    {
     "name": "stdout",
     "output_type": "stream",
     "text": [
      "Epochs: 2/10 | train_loss: 2.0016 | train_acc: 0.6237\n"
     ]
    },
    {
     "name": "stderr",
     "output_type": "stream",
     "text": [
      "100%|██████████| 470/470 [00:46<00:00, 10.21it/s]\n"
     ]
    },
    {
     "name": "stdout",
     "output_type": "stream",
     "text": [
      "Epochs: 3/10 | train_loss: 1.4767 | train_acc: 0.7048\n"
     ]
    },
    {
     "name": "stderr",
     "output_type": "stream",
     "text": [
      "100%|██████████| 470/470 [00:45<00:00, 10.26it/s]\n"
     ]
    },
    {
     "name": "stdout",
     "output_type": "stream",
     "text": [
      "Epochs: 4/10 | train_loss: 1.1999 | train_acc: 0.7481\n"
     ]
    },
    {
     "name": "stderr",
     "output_type": "stream",
     "text": [
      "100%|██████████| 470/470 [00:45<00:00, 10.24it/s]\n"
     ]
    },
    {
     "name": "stdout",
     "output_type": "stream",
     "text": [
      "Epochs: 5/10 | train_loss: 1.0243 | train_acc: 0.7763\n"
     ]
    },
    {
     "name": "stderr",
     "output_type": "stream",
     "text": [
      "100%|██████████| 470/470 [00:45<00:00, 10.29it/s]\n"
     ]
    },
    {
     "name": "stdout",
     "output_type": "stream",
     "text": [
      "Epochs: 6/10 | train_loss: 0.8988 | train_acc: 0.7981\n"
     ]
    },
    {
     "name": "stderr",
     "output_type": "stream",
     "text": [
      "100%|██████████| 470/470 [00:46<00:00, 10.21it/s]\n"
     ]
    },
    {
     "name": "stdout",
     "output_type": "stream",
     "text": [
      "Epochs: 7/10 | train_loss: 0.8008 | train_acc: 0.8218\n"
     ]
    },
    {
     "name": "stderr",
     "output_type": "stream",
     "text": [
      "100%|██████████| 470/470 [00:46<00:00, 10.21it/s]\n"
     ]
    },
    {
     "name": "stdout",
     "output_type": "stream",
     "text": [
      "Epochs: 8/10 | train_loss: 0.7209 | train_acc: 0.8420\n"
     ]
    },
    {
     "name": "stderr",
     "output_type": "stream",
     "text": [
      "100%|██████████| 470/470 [00:45<00:00, 10.23it/s]\n"
     ]
    },
    {
     "name": "stdout",
     "output_type": "stream",
     "text": [
      "Epochs: 9/10 | train_loss: 0.6539 | train_acc: 0.8548\n"
     ]
    },
    {
     "name": "stderr",
     "output_type": "stream",
     "text": [
      "100%|██████████| 470/470 [00:45<00:00, 10.28it/s]"
     ]
    },
    {
     "name": "stdout",
     "output_type": "stream",
     "text": [
      "Epochs: 10/10 | train_loss: 0.5963 | train_acc: 0.8734\n"
     ]
    },
    {
     "name": "stderr",
     "output_type": "stream",
     "text": [
      "\n"
     ]
    }
   ],
   "source": [
    "dtd_loss, dtd_acc, dtd_per_class_acc = train_model(\n",
    "    vit_dtd,\n",
    "    dtd_train,\n",
    "    config,\n",
    "    'vit',\n",
    "    use_val=False,\n",
    "    fine_tune=False,\n",
    ")"
   ]
  },
  {
   "cell_type": "code",
   "execution_count": 101,
   "id": "97a6a937-9c39-4f10-a27b-cf93ac3315f8",
   "metadata": {},
   "outputs": [
    {
     "name": "stderr",
     "output_type": "stream",
     "text": [
      "100%|██████████| 235/235 [00:22<00:00, 10.34it/s]"
     ]
    },
    {
     "name": "stdout",
     "output_type": "stream",
     "text": [
      "test_loss: 0.9745 | test_acc: 0.7303\n"
     ]
    },
    {
     "name": "stderr",
     "output_type": "stream",
     "text": [
      "\n"
     ]
    }
   ],
   "source": [
    "dtd_loss, dtd_acc, dtd_per_class_acc = evaluate_model(\n",
    "    vit_dtd,\n",
    "    dtd_test,\n",
    "    config\n",
    ")"
   ]
  },
  {
   "cell_type": "code",
   "execution_count": 117,
   "id": "ac0707c4-f897-40fd-bc5a-db9a97e120e1",
   "metadata": {},
   "outputs": [],
   "source": [
    "dtd_accs.append(dtd_acc)"
   ]
  },
  {
   "cell_type": "code",
   "execution_count": 103,
   "id": "69376f22-46cd-443f-aea7-c4ab1664ec4e",
   "metadata": {},
   "outputs": [
    {
     "data": {
      "text/plain": [
       "[('crystalline', 0.95),\n",
       " ('frilly', 0.95),\n",
       " ('knitted', 0.95),\n",
       " ('cobwebbed', 0.925),\n",
       " ('stratified', 0.925)]"
      ]
     },
     "execution_count": 103,
     "metadata": {},
     "output_type": "execute_result"
    }
   ],
   "source": [
    "get_top_5_accuracies(dtd_per_class_acc)"
   ]
  },
  {
   "cell_type": "code",
   "execution_count": 104,
   "id": "1d1d0846-38f6-47c9-9648-204c1724dcb2",
   "metadata": {},
   "outputs": [
    {
     "data": {
      "text/plain": [
       "[('blotchy', 0.4),\n",
       " ('stained', 0.45),\n",
       " ('grid', 0.475),\n",
       " ('pitted', 0.475),\n",
       " ('woven', 0.475)]"
      ]
     },
     "execution_count": 104,
     "metadata": {},
     "output_type": "execute_result"
    }
   ],
   "source": [
    "get_bottom_5_accuracies(dtd_per_class_acc)"
   ]
  },
  {
   "cell_type": "code",
   "execution_count": 105,
   "id": "e439f1d9-5b2f-4c9e-b4ba-60661674d540",
   "metadata": {},
   "outputs": [
    {
     "data": {
      "image/png": "[encoded data removed]",
      "text/plain": [
       "<Figure size 1000x600 with 1 Axes>"
      ]
     },
     "metadata": {},
     "output_type": "display_data"
    }
   ],
   "source": [
    "plot_per_class_accuracies(\n",
    "    dtd_per_class_acc,\n",
    "    'DTD',\n",
    "    num_bins=20\n",
    ")"
   ]
  },
  {
   "cell_type": "markdown",
   "id": "a163a182-bbd6-41b8-8a2c-9f8646512d7b",
   "metadata": {},
   "source": [
    "### Results"
   ]
  },
  {
   "cell_type": "markdown",
   "id": "e85011f4-8072-4569-91a3-41ea18a5bf38",
   "metadata": {},
   "source": [
    "Display the results of the analysis in dataframe."
   ]
  },
  {
   "cell_type": "code",
   "execution_count": 118,
   "id": "187e9a38-26b1-4057-8801-563a5df82909",
   "metadata": {},
   "outputs": [],
   "source": [
    "results = [\n",
    "    resisc45_accs,\n",
    "    food101_accs,\n",
    "    fer2013_accs,\n",
    "    pcam_accs,\n",
    "    sun397_accs,\n",
    "    dtd_accs,\n",
    "]"
   ]
  },
  {
   "cell_type": "code",
   "execution_count": 119,
   "id": "df2be8ba-934d-4297-887d-4ac062bd432a",
   "metadata": {},
   "outputs": [],
   "source": [
    "labels = ['RESISC45', 'Food-101', 'FER2013', 'PatchCamelyon', 'SUN397', 'DTD']"
   ]
  },
  {
   "cell_type": "code",
   "execution_count": 120,
   "id": "8a7e4051-5df7-4cfb-bd85-b61b4ef7d62a",
   "metadata": {},
   "outputs": [],
   "source": [
    "acc_dict = create_accuracy_dict(\n",
    "    results,\n",
    "    labels\n",
    ")"
   ]
  },
  {
   "cell_type": "code",
   "execution_count": 125,
   "id": "8246a56c-e386-4dcf-8b66-a233f7918938",
   "metadata": {},
   "outputs": [
    {
     "data": {
      "text/html": [
       "<div>\n",
       "<style scoped>\n",
       "    .dataframe tbody tr th:only-of-type {\n",
       "        vertical-align: middle;\n",
       "    }\n",
       "\n",
       "    .dataframe tbody tr th {\n",
       "        vertical-align: top;\n",
       "    }\n",
       "\n",
       "    .dataframe thead th {\n",
       "        text-align: right;\n",
       "    }\n",
       "</style>\n",
       "<table border=\"1\" class=\"dataframe\">\n",
       "  <thead>\n",
       "    <tr style=\"text-align: right;\">\n",
       "      <th></th>\n",
       "      <th>linear probe</th>\n",
       "    </tr>\n",
       "  </thead>\n",
       "  <tbody>\n",
       "    <tr>\n",
       "      <th>RESISC45</th>\n",
       "      <td>0.846349</td>\n",
       "    </tr>\n",
       "    <tr>\n",
       "      <th>Food-101</th>\n",
       "      <td>0.859644</td>\n",
       "    </tr>\n",
       "    <tr>\n",
       "      <th>FER2013</th>\n",
       "      <td>0.601839</td>\n",
       "    </tr>\n",
       "    <tr>\n",
       "      <th>PatchCamelyon</th>\n",
       "      <td>0.843079</td>\n",
       "    </tr>\n",
       "    <tr>\n",
       "      <th>SUN397</th>\n",
       "      <td>0.774529</td>\n",
       "    </tr>\n",
       "    <tr>\n",
       "      <th>DTD</th>\n",
       "      <td>0.730319</td>\n",
       "    </tr>\n",
       "  </tbody>\n",
       "</table>\n",
       "</div>"
      ],
      "text/plain": [
       "               linear probe\n",
       "RESISC45           0.846349\n",
       "Food-101           0.859644\n",
       "FER2013            0.601839\n",
       "PatchCamelyon      0.843079\n",
       "SUN397             0.774529\n",
       "DTD                0.730319"
      ]
     },
     "execution_count": 125,
     "metadata": {},
     "output_type": "execute_result"
    }
   ],
   "source": [
    "df = pd.DataFrame(results, columns=['linear probe'], index=labels)\n",
    "df"
   ]
  }
 ],
 "metadata": {
  "kernelspec": {
   "display_name": "Python 3 (ipykernel)",
   "language": "python",
   "name": "python3"
  },
  "language_info": {
   "codemirror_mode": {
    "name": "ipython",
    "version": 3
   },
   "file_extension": ".py",
   "mimetype": "text/x-python",
   "name": "python",
   "nbconvert_exporter": "python",
   "pygments_lexer": "ipython3",
   "version": "3.11.10"
  }
 },
 "nbformat": 4,
 "nbformat_minor": 5
}
