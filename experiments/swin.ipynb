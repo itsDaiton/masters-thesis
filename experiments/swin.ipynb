{
 "cells": [
  {
   "cell_type": "markdown",
   "id": "7ea5a682-d599-477b-8841-80da6b64066a",
   "metadata": {},
   "source": [
    "# Exploration and Comparison of Transformers for Image Classification"
   ]
  },
  {
   "cell_type": "markdown",
   "id": "85c3b461-dd77-4dbd-a258-f0494d8cce0d",
   "metadata": {},
   "source": [
    "## Swin (Swin Transformer)\n"
   ]
  },
  {
   "cell_type": "markdown",
   "id": "5a03d49f-fa8f-45f7-a3e9-c44ab91558b1",
   "metadata": {},
   "source": [
    "### Prerequisites"
   ]
  },
  {
   "cell_type": "code",
   "execution_count": 5,
   "id": "5837d13d-1f53-4b5c-988c-542522cb27fe",
   "metadata": {},
   "outputs": [],
   "source": [
    "import os\n",
    "os.chdir('..')\n",
    "\n",
    "import torch\n",
    "import torch.nn as nn\n",
    "\n",
    "from transformers import AutoImageProcessor\n",
    "from datasets import load_dataset, concatenate_datasets\n",
    "\n",
    "from src.dataset_builder import ImageDataset\n",
    "from src.models import Backbone\n",
    "from src.train import train_model, evaluate_model\n",
    "\n",
    "from utils.config import Config\n",
    "from utils.train_utils import *\n",
    "from utils.models_utils import *"
   ]
  },
  {
   "cell_type": "markdown",
   "id": "b909af79-10ae-42b6-b378-5487b372ba7c",
   "metadata": {},
   "source": [
    "### GPU"
   ]
  },
  {
   "cell_type": "code",
   "execution_count": 6,
   "id": "f2e00e91-8620-4579-81e0-2cae9b2f9786",
   "metadata": {},
   "outputs": [
    {
     "name": "stdout",
     "output_type": "stream",
     "text": [
      "GPU 0: NVIDIA A100 80GB PCIe MIG 1g.10gb\n",
      "  VRAM: 9.50 GB\n"
     ]
    }
   ],
   "source": [
    "if torch.cuda.is_available():\n",
    "    for i in range(torch.cuda.device_count()):\n",
    "        print(f\"GPU {i}: {torch.cuda.get_device_name(i)}\")\n",
    "        vram = torch.cuda.get_device_properties(i).total_memory / (1024 ** 3)\n",
    "        print(f\"  VRAM: {vram:.2f} GB\")\n",
    "else:\n",
    "    print(\"CUDA is not available.\")"
   ]
  },
  {
   "cell_type": "markdown",
   "id": "85d10b39-2131-41b3-a035-86748609e34f",
   "metadata": {},
   "source": [
    "#### Data preparation"
   ]
  },
  {
   "cell_type": "code",
   "execution_count": 7,
   "id": "588a0414-f8e2-4e49-bdb5-dbd5209f27a4",
   "metadata": {},
   "outputs": [],
   "source": [
    "train, val, test = load_dataset('timm/resisc45', split=['train', 'validation', 'test'])"
   ]
  },
  {
   "cell_type": "code",
   "execution_count": 8,
   "id": "c32ff2e4-c9ed-497f-898c-bbca9b94ce90",
   "metadata": {},
   "outputs": [
    {
     "data": {
      "application/vnd.jupyter.widget-view+json": {
       "model_id": "60e52e066d964a74a5953dd9260bc2d7",
       "version_major": 2,
       "version_minor": 0
      },
      "text/plain": [
       "preprocessor_config.json:   0%|          | 0.00/255 [00:00<?, ?B/s]"
      ]
     },
     "metadata": {},
     "output_type": "display_data"
    }
   ],
   "source": [
    "processor = AutoImageProcessor.from_pretrained(model_names['Swin'])"
   ]
  },
  {
   "cell_type": "code",
   "execution_count": 9,
   "id": "27bb8b51-1e41-40e4-b818-b4bb25044632",
   "metadata": {},
   "outputs": [],
   "source": [
    "train_split = ImageDataset(dataset=train, processor=processor)\n",
    "val_split = ImageDataset(dataset=val, processor=processor)\n",
    "test_split = ImageDataset(dataset=test, processor=processor)"
   ]
  },
  {
   "cell_type": "code",
   "execution_count": 10,
   "id": "af47c9d6-9e30-4a0e-a6e8-a720f3ffc7c5",
   "metadata": {},
   "outputs": [],
   "source": [
    "num_classes = train_split.get_num_classes()"
   ]
  },
  {
   "cell_type": "markdown",
   "id": "eae66942-80d1-454e-9177-d68bb8e530a0",
   "metadata": {},
   "source": [
    "### Model"
   ]
  },
  {
   "cell_type": "code",
   "execution_count": 11,
   "id": "b9584329-7a11-49ab-b3cb-23d66193e5cb",
   "metadata": {},
   "outputs": [
    {
     "data": {
      "application/vnd.jupyter.widget-view+json": {
       "model_id": "ee1271a19f8b4e42b2947f2835bc4837",
       "version_major": 2,
       "version_minor": 0
      },
      "text/plain": [
       "config.json:   0%|          | 0.00/71.8k [00:00<?, ?B/s]"
      ]
     },
     "metadata": {},
     "output_type": "display_data"
    },
    {
     "data": {
      "application/vnd.jupyter.widget-view+json": {
       "model_id": "9c67089effe7458d8624d2be720586b2",
       "version_major": 2,
       "version_minor": 0
      },
      "text/plain": [
       "model.safetensors:   0%|          | 0.00/113M [00:00<?, ?B/s]"
      ]
     },
     "metadata": {},
     "output_type": "display_data"
    },
    {
     "name": "stderr",
     "output_type": "stream",
     "text": [
      "Some weights of SwinForImageClassification were not initialized from the model checkpoint at microsoft/swin-tiny-patch4-window7-224 and are newly initialized because the shapes did not match:\n",
      "- classifier.bias: found shape torch.Size([1000]) in the checkpoint and torch.Size([45]) in the model instantiated\n",
      "- classifier.weight: found shape torch.Size([1000, 768]) in the checkpoint and torch.Size([45, 768]) in the model instantiated\n",
      "You should probably TRAIN this model on a down-stream task to be able to use it for predictions and inference.\n"
     ]
    }
   ],
   "source": [
    "config = Config()\n",
    "model = Backbone(model_name=model_names['Swin'], num_classes=num_classes)"
   ]
  },
  {
   "cell_type": "code",
   "execution_count": 12,
   "id": "90b52ffc-600e-47c3-ac16-a0ca373465e2",
   "metadata": {},
   "outputs": [
    {
     "name": "stdout",
     "output_type": "stream",
     "text": [
      "Parameters: 27.55M\n"
     ]
    }
   ],
   "source": [
    "get_model_params(model)"
   ]
  },
  {
   "cell_type": "markdown",
   "id": "6c0bdfef-fd01-42bc-a824-57c76adf450e",
   "metadata": {},
   "source": [
    "### Linear probing"
   ]
  },
  {
   "cell_type": "code",
   "execution_count": 13,
   "id": "175c123c-65d2-4271-9d14-a4ce19b2d9e9",
   "metadata": {},
   "outputs": [
    {
     "name": "stderr",
     "output_type": "stream",
     "text": [
      "Train: 100%|██████████| 2363/2363 [03:19<00:00, 11.86it/s]\n",
      "Val: 100%|██████████| 788/788 [01:07<00:00, 11.65it/s]\n"
     ]
    },
    {
     "name": "stdout",
     "output_type": "stream",
     "text": [
      "Epochs: 1/2 | train_loss: 2.5979 | train_acc: 0.4962 | val_loss: 1.6962 | val_acc: 0.7090\n"
     ]
    },
    {
     "name": "stderr",
     "output_type": "stream",
     "text": [
      "Train: 100%|██████████| 2363/2363 [03:25<00:00, 11.52it/s]\n",
      "Val: 100%|██████████| 788/788 [01:05<00:00, 12.04it/s]"
     ]
    },
    {
     "name": "stdout",
     "output_type": "stream",
     "text": [
      "Epochs: 2/2 | train_loss: 1.4358 | train_acc: 0.7276 | val_loss: 1.1213 | val_acc: 0.7663\n"
     ]
    },
    {
     "name": "stderr",
     "output_type": "stream",
     "text": [
      "\n"
     ]
    }
   ],
   "source": [
    "train_model(\n",
    "    model,\n",
    "    train_split,\n",
    "    val_split,\n",
    "    config,\n",
    "    architecture='swin',\n",
    "    fine_tune=False,\n",
    ")"
   ]
  },
  {
   "cell_type": "markdown",
   "id": "7f1a122e-b889-415c-93fa-875f3e6b6869",
   "metadata": {},
   "source": [
    "### Evaluation"
   ]
  },
  {
   "cell_type": "code",
   "execution_count": 14,
   "id": "a771b0d3-7f93-4841-afc5-997010902990",
   "metadata": {},
   "outputs": [
    {
     "name": "stderr",
     "output_type": "stream",
     "text": [
      "Test: 100%|██████████| 788/788 [01:03<00:00, 12.36it/s]"
     ]
    },
    {
     "name": "stdout",
     "output_type": "stream",
     "text": [
      "test_loss: 1.1740 | test_acc: 0.7484\n"
     ]
    },
    {
     "name": "stderr",
     "output_type": "stream",
     "text": [
      "\n"
     ]
    }
   ],
   "source": [
    "evaluate_model(\n",
    "    model,\n",
    "    test_split,\n",
    "    config,\n",
    ")"
   ]
  }
 ],
 "metadata": {
  "kernelspec": {
   "display_name": "Python 3 (ipykernel)",
   "language": "python",
   "name": "python3"
  },
  "language_info": {
   "codemirror_mode": {
    "name": "ipython",
    "version": 3
   },
   "file_extension": ".py",
   "mimetype": "text/x-python",
   "name": "python",
   "nbconvert_exporter": "python",
   "pygments_lexer": "ipython3",
   "version": "3.11.6"
  }
 },
 "nbformat": 4,
 "nbformat_minor": 5
}
